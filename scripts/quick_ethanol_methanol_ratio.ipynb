{
 "cells": [
  {
   "cell_type": "code",
   "execution_count": 1,
   "id": "b0dbbde4-11d3-4afb-973a-8501522ebcf0",
   "metadata": {},
   "outputs": [],
   "source": [
    "from utilities import *\n",
    "from astropy.io import fits\n",
    "import matplotlib.pyplot as plt\n",
    "import matplotlib as mpl"
   ]
  },
  {
   "cell_type": "code",
   "execution_count": 2,
   "id": "7986fce9-3b12-420a-afe9-1f97b8da7dbb",
   "metadata": {},
   "outputs": [],
   "source": [
    "epath='/blue/adamginsburg/d.jeff/SgrB2DSreorg/field10/C2H5OH/DSii/aug2024_2_fixrotdiagloop/ntotmap_allspw_withnans_weighted_useintercept_3sigma.fits'\n",
    "mpath='/blue/adamginsburg/d.jeff/SgrB2DSreorg/field10/CH3OH/DSii/sep2023-2widerrefslab/bootstrap_ntot_intstd_boostrap1000_nonegativeslope.fits'\n",
    "\n",
    "ethanol=fits.getdata(epath)\n",
    "methanol=np.squeeze(fits.getdata(mpath))\n",
    "\n",
    "ratio=ethanol/methanol"
   ]
  },
  {
   "cell_type": "code",
   "execution_count": 3,
   "id": "bb0ab08d-d410-4e17-a13f-d828971eba3e",
   "metadata": {},
   "outputs": [
    {
     "data": {
      "image/png": "[encoded data removed]",
      "text/plain": [
       "<Figure size 640x480 with 2 Axes>"
      ]
     },
     "metadata": {},
     "output_type": "display_data"
    }
   ],
   "source": [
    "plt.imshow(ratio,norm=mpl.colors.LogNorm(vmax=0.3,vmin=0.01),origin='lower')\n",
    "plt.colorbar()\n",
    "plt.show()"
   ]
  },
  {
   "cell_type": "code",
   "execution_count": 12,
   "id": "37bef809-79f2-47ec-8b0b-e9f252d4813b",
   "metadata": {},
   "outputs": [
    {
     "name": "stdout",
     "output_type": "stream",
     "text": [
      "24.73469959536386 K\n"
     ]
    }
   ],
   "source": [
    "contfreq=225*u.GHz\n",
    "ds1=87*u.mJy\n",
    "\n",
    "equiv=u.brightness_temperature(contfreq)\n",
    "bmaj=0.35*u.arcsec\n",
    "beamarea_sr=(np.pi*(bmaj/2)**2).to('sr')\n",
    "mjysr=ds1/beamarea_sr\n",
    "conv=mjysr.to('K',equivalencies=equiv)\n",
    "print(conv)"
   ]
  },
  {
   "cell_type": "code",
   "execution_count": 11,
   "id": "fd661a47-5a17-4490-9e35-78a0727e9f99",
   "metadata": {},
   "outputs": [
    {
     "data": {
      "text/latex": [
       "$2.2613912 \\times 10^{-12} \\; \\mathrm{sr}$"
      ],
      "text/plain": [
       "<Quantity 2.26139123e-12 sr>"
      ]
     },
     "execution_count": 11,
     "metadata": {},
     "output_type": "execute_result"
    }
   ],
   "source": [
    "beamarea_sr"
   ]
  },
  {
   "cell_type": "code",
   "execution_count": null,
   "id": "addb3bad-cb29-407f-bee8-d45b937411c3",
   "metadata": {},
   "outputs": [],
   "source": []
  }
 ],
 "metadata": {
  "kernelspec": {
   "display_name": "Python 3 (ipykernel)",
   "language": "python",
   "name": "python3"
  },
  "language_info": {
   "codemirror_mode": {
    "name": "ipython",
    "version": 3
   },
   "file_extension": ".py",
   "mimetype": "text/x-python",
   "name": "python",
   "nbconvert_exporter": "python",
   "pygments_lexer": "ipython3",
   "version": "3.12.4"
  }
 },
 "nbformat": 4,
 "nbformat_minor": 5
}
