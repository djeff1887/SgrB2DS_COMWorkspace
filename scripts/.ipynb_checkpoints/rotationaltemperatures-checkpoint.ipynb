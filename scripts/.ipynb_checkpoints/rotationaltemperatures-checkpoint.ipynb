{
 "cells": [
  {
   "cell_type": "code",
   "execution_count": 2,
   "id": "899e09a8-1b44-4b15-b3d5-7a7671de4e04",
   "metadata": {},
   "outputs": [
    {
     "name": "stderr",
     "output_type": "stream",
     "text": [
      "/blue/adamginsburg/d.jeff/SgrB2DS_COMAnalysis/scripts/c2h5oh_cubecoretexmap.py:671: SyntaxWarning: invalid escape sequence '\\p'\n",
      "  plt.plot(linemod_euks,fit_lin(linemod_euks),label=(f'{tk}: {int(obsTrot)} $\\pm$ {int(dobsTrot)} K\\n{ntot}: {val_ntot} $\\pm$ {plot_error_Ntot}'))\n",
      "/blue/adamginsburg/d.jeff/SgrB2DS_COMAnalysis/scripts/c2h5oh_cubecoretexmap.py:671: SyntaxWarning: invalid escape sequence '\\p'\n",
      "  plt.plot(linemod_euks,fit_lin(linemod_euks),label=(f'{tk}: {int(obsTrot)} $\\pm$ {int(dobsTrot)} K\\n{ntot}: {val_ntot} $\\pm$ {plot_error_Ntot}'))\n"
     ]
    },
    {
     "name": "stdout",
     "output_type": "stream",
     "text": [
      "Cube-->Core-->Tex start\n",
      "\n",
      "Begin Jy/beam-to-K and region subcube conversion\n",
      "\n",
      "Source: DSVII\n",
      "\n",
      "Begin core cube to Tex map process\n",
      "\n",
      "Setting constants\n"
     ]
    },
    {
     "name": "stderr",
     "output_type": "stream",
     "text": [
      "invalid escape sequence '\\p'\n",
      "invalid escape sequence '\\p'\n"
     ]
    },
    {
     "ename": "KeyError",
     "evalue": "'DSVII'",
     "output_type": "error",
     "traceback": [
      "\u001b[0;31m---------------------------------------------------------------------------\u001b[0m",
      "\u001b[0;31mKeyError\u001b[0m                                  Traceback (most recent call last)",
      "File \u001b[0;32m/blue/adamginsburg/d.jeff/SgrB2DS_COMAnalysis/scripts/c2h5oh_cubecoretexmap.py:79\u001b[0m\n\u001b[1;32m     76\u001b[0m ch3oh_trotpath\u001b[38;5;241m=\u001b[39mreorgpath\u001b[38;5;241m+\u001b[39m\u001b[38;5;124m'\u001b[39m\u001b[38;5;124mbootstrap_texmap_3sigma_allspw_withnans_weighted.fits\u001b[39m\u001b[38;5;124m'\u001b[39m\n\u001b[1;32m     77\u001b[0m pixcoords\u001b[38;5;241m=\u001b[39mpixdict[source]\n\u001b[0;32m---> 79\u001b[0m vlsr\u001b[38;5;241m=\u001b[39m\u001b[43mc2h5oh_dopplershifts\u001b[49m\u001b[43m[\u001b[49m\u001b[43msource\u001b[49m\u001b[43m]\u001b[49m\n\u001b[1;32m     80\u001b[0m z\u001b[38;5;241m=\u001b[39mvlsr\u001b[38;5;241m/\u001b[39m(c\u001b[38;5;241m.\u001b[39mto(\u001b[38;5;124m'\u001b[39m\u001b[38;5;124mkm s-1\u001b[39m\u001b[38;5;124m'\u001b[39m))\n\u001b[1;32m     81\u001b[0m \u001b[38;5;28mprint\u001b[39m(\u001b[38;5;124mf\u001b[39m\u001b[38;5;124m'\u001b[39m\u001b[38;5;124mDoppler shift: \u001b[39m\u001b[38;5;132;01m{\u001b[39;00mz\u001b[38;5;132;01m}\u001b[39;00m\u001b[38;5;124m / \u001b[39m\u001b[38;5;132;01m{\u001b[39;00mvlsr\u001b[38;5;132;01m}\u001b[39;00m\u001b[38;5;130;01m\\n\u001b[39;00m\u001b[38;5;124m'\u001b[39m)\n",
      "\u001b[0;31mKeyError\u001b[0m: 'DSVII'"
     ]
    }
   ],
   "source": [
    "run c2h5oh_cubecoretexmap.py"
   ]
  },
  {
   "cell_type": "code",
   "execution_count": 6,
   "id": "bdf9608a-aa6e-454e-812e-0add276ff7b4",
   "metadata": {},
   "outputs": [
    {
     "data": {
      "text/plain": [
       "True"
      ]
     },
     "execution_count": 6,
     "metadata": {},
     "output_type": "execute_result"
    }
   ],
   "source": [
    "linemodelpath=linemodelhome+f'{linemodelversion}/{source}/'\n",
    "safelinepathbase=linemodelpath+'safelines/'\n",
    "doubletpath=safelinepathbase+f'doublets/*.fits'\n",
    "a=glob.glob(doubletpath)\n",
    "'20(5,16)(2)-20(4,17)(2)' in a[0]"
   ]
  },
  {
   "cell_type": "code",
   "execution_count": 3,
   "id": "60ff9fe6-98ca-43d1-b89a-e3350d985527",
   "metadata": {},
   "outputs": [
    {
     "data": {
      "text/latex": [
       "$4.1324704 \\; \\mathrm{\\frac{km}{s}}$"
      ],
      "text/plain": [
       "<Quantity 4.13247039 km / s>"
      ]
     },
     "execution_count": 3,
     "metadata": {},
     "output_type": "execute_result"
    }
   ],
   "source": [
    "representativelws"
   ]
  },
  {
   "cell_type": "code",
   "execution_count": 4,
   "id": "fba2cc21-74a8-4d32-b8ae-6dce895d1c46",
   "metadata": {},
   "outputs": [
    {
     "data": {
      "text/latex": [
       "$66.22243 \\; \\mathrm{\\frac{km}{s}}$"
      ],
      "text/plain": [
       "<Quantity 66.22243039 km / s>"
      ]
     },
     "execution_count": 4,
     "metadata": {},
     "output_type": "execute_result"
    }
   ],
   "source": [
    "((230.9913834-230.94037)/230.94037)*c.to('km s-1')"
   ]
  },
  {
   "cell_type": "markdown",
   "id": "7336c2a2-d501-4116-af05-bb16cae2640a",
   "metadata": {},
   "source": []
  },
  {
   "cell_type": "code",
   "execution_count": 36,
   "id": "efc17aab-471e-4dcf-9f98-76293cd87d43",
   "metadata": {},
   "outputs": [
    {
     "data": {
      "image/png": "[encoded data removed]",
      "text/plain": [
       "<Figure size 640x480 with 2 Axes>"
      ]
     },
     "metadata": {},
     "output_type": "display_data"
    }
   ],
   "source": [
    "plt.imshow((nupper_gmaps[transition]/error_nupper_gmaps[transition]),origin='lower',vmax=5)\n",
    "plt.colorbar()\n",
    "plt.show()"
   ]
  },
  {
   "cell_type": "code",
   "execution_count": 9,
   "id": "82d39b2b-36a9-4803-94b2-1d22248b4d60",
   "metadata": {},
   "outputs": [
    {
     "data": {
      "text/latex": [
       "$\\mathrm{\\frac{1}{cm^{2}}}$"
      ],
      "text/plain": [
       "Unit(\"1 / cm2\")"
      ]
     },
     "execution_count": 9,
     "metadata": {},
     "output_type": "execute_result"
    }
   ],
   "source": [
    "tempnupper,temperror_nupper=N_u(transition['RestFrequency'],transition['Aij'],mastermom0s[current_qns],\n",
    "                                        mastermom0errors[current_qns]) \n",
    "tempnupper.unit"
   ]
  },
  {
   "cell_type": "code",
   "execution_count": 41,
   "id": "3ef4556a-e270-4524-8d7a-3f71ee279a44",
   "metadata": {},
   "outputs": [
    {
     "name": "stdout",
     "output_type": "stream",
     "text": [
      "odict_values([<Column name='col0' dtype='bytes23' length=1>\n",
      "13(0,13)(1)-12(1,12)(1), <Column name='col1' dtype='bytes23' length=1>\n",
      "21(5,16)(2)-21(4,17)(2), <Column name='col2' dtype='bytes23' length=1>\n",
      "13(2,11)(0)-12(2,10)(0), <Column name='col3' dtype='bytes23' length=1>\n",
      "16(5,11)(2)-16(4,12)(2), <Column name='col4' dtype='bytes23' length=1>\n",
      "14(0,14)(2)-13(1,13)(2), <Column name='col5' dtype='bytes23' length=1>\n",
      "21(5,17)(2)-21(4,18)(2), <Column name='col6' dtype='bytes23' length=1>\n",
      "20(5,16)(2)-20(4,17)(2), <Column name='col7' dtype='bytes23' length=1>\n",
      "14(1,14)(0)-13(1,13)(0), <Column name='col8' dtype='bytes23' length=1>\n",
      "19(5,15)(2)-19(4,16)(2), <Column name='col9' dtype='bytes23' length=1>\n",
      "22(5,18)(2)-22(4,19)(2), <Column name='col10' dtype='bytes23' length=1>\n",
      "18(5,14)(2)-18(4,15)(2), <Column name='col11' dtype='bytes23' length=1>\n",
      "23(5,19)(2)-23(4,20)(2), <Column name='col12' dtype='bytes23' length=1>\n",
      "17(5,13)(2)-17(4,14)(2), <Column name='col13' dtype='bytes23' length=1>\n",
      "14(0,14)(0)-13(0,13)(0), <Column name='col14' dtype='bytes23' length=1>\n",
      "14(1,14)(1)-13(1,13)(1), <Column name='col15' dtype='bytes23' length=1>\n",
      "16(5,12)(2)-16(4,13)(2), <Column name='col16' dtype='bytes23' length=1>\n",
      "13(5,8)(2)-13(4,9)(2), <Column name='col17' dtype='bytes23' length=1>\n",
      "13(5,9)(2)-13(4,10)(2), <Column name='col18' dtype='bytes23' length=1>\n",
      "12(5,7)(2)-12(4,8)(2)])\n"
     ]
    },
    {
     "ename": "AttributeError",
     "evalue": "'function' object has no attribute 'replace'",
     "output_type": "error",
     "traceback": [
      "\u001b[0;31m---------------------------------------------------------------------------\u001b[0m",
      "\u001b[0;31mAttributeError\u001b[0m                            Traceback (most recent call last)",
      "Cell \u001b[0;32mIn[41], line 3\u001b[0m\n\u001b[1;32m      1\u001b[0m a\u001b[38;5;241m=\u001b[39mQTable(safelines[\u001b[38;5;124m'\u001b[39m\u001b[38;5;124mQNs\u001b[39m\u001b[38;5;124m'\u001b[39m])\n\u001b[1;32m      2\u001b[0m \u001b[38;5;28mprint\u001b[39m(a\u001b[38;5;241m.\u001b[39mvalues())\n\u001b[0;32m----> 3\u001b[0m b\u001b[38;5;241m=\u001b[39m\u001b[43ma\u001b[49m\u001b[38;5;241;43m.\u001b[39;49m\u001b[43mvalues\u001b[49m\u001b[38;5;241;43m.\u001b[39;49m\u001b[43mreplace\u001b[49m(\u001b[38;5;124m'\u001b[39m\u001b[38;5;124m(\u001b[39m\u001b[38;5;124m'\u001b[39m,\u001b[38;5;124m'\u001b[39m\u001b[38;5;124m.\u001b[39m\u001b[38;5;124m'\u001b[39m)\n\u001b[1;32m      4\u001b[0m b\u001b[38;5;241m=\u001b[39mb\u001b[38;5;241m.\u001b[39mreplace(\u001b[38;5;124m'\u001b[39m\u001b[38;5;124m,\u001b[39m\u001b[38;5;124m'\u001b[39m,\u001b[38;5;124m'\u001b[39m\u001b[38;5;124m.\u001b[39m\u001b[38;5;124m'\u001b[39m)\n\u001b[1;32m      5\u001b[0m b\u001b[38;5;241m=\u001b[39mb\u001b[38;5;241m.\u001b[39mreplace(\u001b[38;5;124m'\u001b[39m\u001b[38;5;124m)\u001b[39m\u001b[38;5;124m'\u001b[39m,\u001b[38;5;124m'\u001b[39m\u001b[38;5;124m'\u001b[39m)\n",
      "\u001b[0;31mAttributeError\u001b[0m: 'function' object has no attribute 'replace'"
     ]
    }
   ],
   "source": [
    "a=QTable(safelines['QNs'])\n",
    "print(a.values())\n",
    "b=a.values.replace('(','.')\n",
    "b=b.replace(',','.')\n",
    "b=b.replace(')','')\n",
    "b"
   ]
  },
  {
   "cell_type": "code",
   "execution_count": 17,
   "id": "fc4365cf-f24e-4903-b387-fed230ada739",
   "metadata": {},
   "outputs": [
    {
     "name": "stdout",
     "output_type": "stream",
     "text": [
      "          QNs             RestFrequency    ...    ModelNupper    \n",
      "                               GHz         ...      1 / cm2      \n",
      "----------------------- ------------------ ... ------------------\n",
      "13(0,13)(1)-12(1,12)(1) 217.26230230000002 ... 197199733147527.25\n"
     ]
    },
    {
     "data": {
      "text/plain": [
       "\"\\nlines_in_spw=np.where(safelines['ReferenceFrequency']<=max(cube.spectral_axis) and safelines['ReferenceFrequency']>=max(cube.spectral_axis))[0]\\nlines_in_spw\\n\""
      ]
     },
     "execution_count": 17,
     "metadata": {},
     "output_type": "execute_result"
    }
   ],
   "source": [
    "linesbelowmax=safelines['ReferenceFrequency']<=max(cube.spectral_axis)\n",
    "linesabovemin=safelines['ReferenceFrequency']>=min(cube.spectral_axis)\n",
    "lines_in_spw=linesbelowmax*linesabovemin\n",
    "print(safelines[lines_in_spw])\n",
    "'''\n",
    "lines_in_spw=np.where(safelines['ReferenceFrequency']<=max(cube.spectral_axis) and safelines['ReferenceFrequency']>=max(cube.spectral_axis))[0]\n",
    "lines_in_spw\n",
    "'''"
   ]
  },
  {
   "cell_type": "code",
   "execution_count": 10,
   "id": "0870e0c1-2ef5-475f-938f-e0e8532f45b5",
   "metadata": {},
   "outputs": [
    {
     "data": {
      "text/latex": [
       "$2.1829227 \\times 10^{11} \\; \\mathrm{Hz}$"
      ],
      "text/plain": [
       "<Quantity 2.18292273e+11 Hz>"
      ]
     },
     "execution_count": 10,
     "metadata": {},
     "output_type": "execute_result"
    }
   ],
   "source": []
  },
  {
   "cell_type": "code",
   "execution_count": 30,
   "id": "b9274f27-d1d0-4e1b-ab8f-9f45db8ac304",
   "metadata": {},
   "outputs": [
    {
     "data": {
      "text/latex": [
       "$1.6617584 \\times 10^{13} \\; \\mathrm{\\frac{1}{cm^{2}}}$"
      ],
      "text/plain": [
       "<Quantity 1.66175845e+13 1 / cm2>"
      ]
     },
     "execution_count": 30,
     "metadata": {},
     "output_type": "execute_result"
    }
   ],
   "source": [
    "key='5_1&4-4_2&3'\n",
    "lte_molecule.nupper_of_kkms(intensities[key][24,24],216.945521*u.GHz,1.2135844400315345e-05*u.Hz)/44#intensities[key][24,24]"
   ]
  },
  {
   "cell_type": "code",
   "execution_count": 9,
   "id": "b0de75d1-5ba4-4466-a794-c3da97167899",
   "metadata": {},
   "outputs": [
    {
     "data": {
      "text/latex": [
       "$97.002782 \\; \\mathrm{\\frac{K\\,km}{s}}$"
      ],
      "text/plain": [
       "<Quantity 97.00278228 K km / s>"
      ]
     },
     "execution_count": 9,
     "metadata": {},
     "output_type": "execute_result"
    }
   ],
   "source": [
    "intensities[key][24,24]"
   ]
  },
  {
   "cell_type": "code",
   "execution_count": 29,
   "id": "fbdb11dc-55e7-42da-80f9-da115f4e9b90",
   "metadata": {},
   "outputs": [
    {
     "data": {
      "text/plain": [
       "15848931924611.11"
      ]
     },
     "execution_count": 29,
     "metadata": {},
     "output_type": "execute_result"
    }
   ],
   "source": [
    "10**13.2"
   ]
  },
  {
   "cell_type": "code",
   "execution_count": 24,
   "id": "fb3847cc-1b8d-46b2-9929-e6dd7416888e",
   "metadata": {},
   "outputs": [
    {
     "name": "stderr",
     "output_type": "stream",
     "text": [
      "Do not use the average beam for convolution! Use the smallest common beam from `Beams.common_beam()`.\n",
      "Arithmetic beam averaging is being performed.  This is not a mathematically robust operation, but is being permitted because the beams differ by <0.01\n"
     ]
    },
    {
     "data": {
      "text/latex": [
       "$113.82307 \\; \\mathrm{\\frac{K\\,km}{s}}$"
      ],
      "text/plain": [
       "<Quantity 113.82306796 K km / s>"
      ]
     },
     "execution_count": 24,
     "metadata": {},
     "output_type": "execute_result"
    }
   ],
   "source": [
    "maskedslab54=sc.read('/blue/adamginsburg/d.jeff/SgrB2DSreorg/field10/CH3OH/DSiii/sep2024_1_testingnewch3ohprediction/spectralslabs/km_s/CH3OH~5_1&4-4_2&3_maskedslab.fits')\n",
    "withoutcontinuum_moment054=maskedslab54.moment0()+(reprojcont_K*(4*u.km/u.s))#maskedslab54.linewidth_fwhm()\n",
    "withoutcontinuum_moment054[24,24]"
   ]
  },
  {
   "cell_type": "code",
   "execution_count": 23,
   "id": "0facdf49-254b-4b8c-a13a-e8a8602ef493",
   "metadata": {},
   "outputs": [
    {
     "data": {
      "text/latex": [
       "$4.0596837 \\; \\mathrm{\\frac{km}{s}}$"
      ],
      "text/plain": [
       "<Quantity 4.05968367 km / s>"
      ]
     },
     "execution_count": 23,
     "metadata": {},
     "output_type": "execute_result"
    }
   ],
   "source": [
    "linewidth"
   ]
  },
  {
   "cell_type": "code",
   "execution_count": 2,
   "id": "893fb2a0-b6bf-43ee-ada7-6f14fc42f644",
   "metadata": {},
   "outputs": [],
   "source": [
    "from astropy.nddata import Cutout2D"
   ]
  },
  {
   "cell_type": "code",
   "execution_count": 7,
   "id": "578a8003-56ec-45c0-a261-da34eebb8c53",
   "metadata": {},
   "outputs": [],
   "source": [
    "fiducialfwhm=velocitytofreq(4*u.km/u.s,225*u.GHz)"
   ]
  },
  {
   "cell_type": "code",
   "execution_count": 14,
   "id": "066a67c3-bb5e-43b5-86cd-205c30091b82",
   "metadata": {},
   "outputs": [],
   "source": [
    "potentialdoublets=[]\n",
    "for line in eukqns:\n",
    "    freq=line['Reference Frequency']*u.MHz\n",
    "    for testline in eukqns:\n",
    "        testfreq=testline['Reference Frequency']*u.MHz\n",
    "        if freq == testfreq:\n",
    "            continue\n",
    "        if (freq+fiducialfwhm) > testfreq and (freq-fiducialfwhm) < testfreq:\n",
    "            potentialdoublets.append([line,testline])"
   ]
  },
  {
   "cell_type": "code",
   "execution_count": 15,
   "id": "f023c756-f771-48d2-a906-dbae065d0f6a",
   "metadata": {},
   "outputs": [
    {
     "data": {
      "text/plain": [
       "[[<Row index=8>\n",
       "        Eupper                 QNs           Reference Frequency Degeneracy\n",
       "       float64                str23                float64         int64   \n",
       "  ------------------ ----------------------- ------------------- ----------\n",
       "  225.95122187481488 21(5,17)(2)-21(4,18)(2)  231515.86216536476         43,\n",
       "  <Row index=9>\n",
       "        Eupper                 QNs           Reference Frequency Degeneracy\n",
       "       float64                str23                float64         int64   \n",
       "  ------------------ ----------------------- ------------------- ----------\n",
       "  208.21222307878986 20(5,16)(2)-20(4,17)(2)   231518.2154312791         41],\n",
       " [<Row index=9>\n",
       "        Eupper                 QNs           Reference Frequency Degeneracy\n",
       "       float64                str23                float64         int64   \n",
       "  ------------------ ----------------------- ------------------- ----------\n",
       "  208.21222307878986 20(5,16)(2)-20(4,17)(2)   231518.2154312791         41,\n",
       "  <Row index=8>\n",
       "        Eupper                 QNs           Reference Frequency Degeneracy\n",
       "       float64                str23                float64         int64   \n",
       "  ------------------ ----------------------- ------------------- ----------\n",
       "  225.95122187481488 21(5,17)(2)-21(4,18)(2)  231515.86216536476         43]]"
      ]
     },
     "execution_count": 15,
     "metadata": {},
     "output_type": "execute_result"
    }
   ],
   "source": [
    "potentialdoublets"
   ]
  },
  {
   "cell_type": "code",
   "execution_count": 18,
   "id": "61fa2242-e8cb-4ce8-b9d3-84900ce18f83",
   "metadata": {},
   "outputs": [
    {
     "name": "stdout",
     "output_type": "stream",
     "text": [
      "      Eupper      \n",
      "------------------\n",
      " 85.52671483307333\n",
      " 96.92436398510782\n",
      "107.86621480892468\n",
      "107.86681703330214\n",
      " 119.6545972300443\n",
      "119.65582045282288\n",
      "132.29025612351714\n",
      "132.29268070871308\n",
      "135.37352053614035\n",
      "135.54154448503328\n",
      "               ...\n",
      "175.29099616228942\n",
      " 191.3257219747236\n",
      "208.21222307878986\n",
      "225.95122187481488\n",
      "226.01385361044416\n",
      "244.54327170144978\n",
      " 263.0191647545652\n",
      " 263.9880929132633\n",
      "284.28576452901626\n",
      "409.96515378513914\n",
      "Length = 27 rows\n"
     ]
    }
   ],
   "source": [
    "print(eukqns['Eupper'])"
   ]
  },
  {
   "cell_type": "code",
   "execution_count": null,
   "id": "941524ea-1ead-4d09-9701-1dfb827b8424",
   "metadata": {},
   "outputs": [],
   "source": []
  }
 ],
 "metadata": {
  "kernelspec": {
   "display_name": "Python 3 (ipykernel)",
   "language": "python",
   "name": "python3"
  },
  "language_info": {
   "codemirror_mode": {
    "name": "ipython",
    "version": 3
   },
   "file_extension": ".py",
   "mimetype": "text/x-python",
   "name": "python",
   "nbconvert_exporter": "python",
   "pygments_lexer": "ipython3",
   "version": "3.12.4"
  }
 },
 "nbformat": 4,
 "nbformat_minor": 5
}
