{
 "cells": [
  {
   "cell_type": "code",
   "execution_count": 1,
   "id": "suffering-impact",
   "metadata": {},
   "outputs": [
    {
     "name": "stderr",
     "output_type": "stream",
     "text": [
      "block_reduce was moved to the astropy.nddata.blocks module.  Please update your import statement.\n"
     ]
    }
   ],
   "source": [
    "from utilities import *\n",
    "from pyspeckit.spectrum.models import lte_molecule\n",
    "from astroquery.linelists.cdms import CDMS\n",
    "import numpy as np\n",
    "import astropy.units as u\n",
    "from astroquery.splatalogue import Splatalogue\n",
    "import pickle"
   ]
  },
  {
   "cell_type": "code",
   "execution_count": 15,
   "id": "comic-sodium",
   "metadata": {},
   "outputs": [],
   "source": [
    "freq_min=216.47*u.GHz\n",
    "freq_max=218.8*u.GHz\n",
    "def compute_cdms_aij(lgint,nu,g,elower,eupper,q,T=300*u.K):\n",
    "    actualint=10**lgint*u.nm**2*u.MHz\n",
    "    return (actualint/(4.16231e-5*nu*g))*((64*(np.pi**4)*(nu**3)*q)/(3*h*(c**3)))*(np.exp(-elower/(k*T))-np.exp(-eupper/(k*T)))**-1\n",
    "\n",
    "def compute_mu2S(intensity,nu,g,elower,eupper,q,T=300*u.K):\n",
    "    return ((2.40251e4*intensity*q)/g)*(nu**-1)*(np.exp(-elower/(k*T))-np.exp(-eupper/(k*T)))**-1\n",
    "\n",
    "def pickett_aul(intensity,nu,g,elower,eupper,q,T=300*u.K):\n",
    "    return (intensity*(nu**2)*(q/g)*((np.exp(-elower/(k*T))-np.exp(-eupper/(k*T)))**-1)*2.7964e-16).value*u.Hz\n",
    "\n",
    "def absorption_crossection(intensity,nu):#Equation 8 from Pickett et al. 1998 https://www.sciencedirect.com/science/article/pii/S0022407398000910\n",
    "    return (intensity/nu)*2.99792e-9\n",
    "\n",
    "def pickett_aul_approx(intensity,nu,g,eupper,q,T=300*u.K):\n",
    "    return intensity*nu*(q/g)*np.exp(-eupper/(k*T))*1.748e-9"
   ]
  },
  {
   "cell_type": "code",
   "execution_count": 3,
   "id": "separated-newcastle",
   "metadata": {},
   "outputs": [],
   "source": [
    "maintable=CDMS.query_lines(min_frequency=freq_min,max_frequency=freq_max,min_strength=-500,molecule='046524 C2H5OH,v=0',get_query_payload=False)"
   ]
  },
  {
   "cell_type": "code",
   "execution_count": 4,
   "id": "radio-string",
   "metadata": {},
   "outputs": [],
   "source": [
    "testline=maintable[6]\n",
    "testlgint=testline['LGINT']\n",
    "testint=10**testlgint*u.nm**2*u.MHz\n",
    "\n",
    "testnu=testline['FREQ']*u.MHz\n",
    "testg=testline['GUP']\n",
    "\n",
    "testelo_cm=testline['ELO']*u.cm**-1\n",
    "testelo_J=(h*c*testelo_cm).to('J')\n",
    "testdeltae=(h*testnu).to('J')\n",
    "testeup_J=testelo_J+testdeltae"
   ]
  },
  {
   "cell_type": "code",
   "execution_count": 5,
   "id": "vietnamese-venue",
   "metadata": {},
   "outputs": [
    {
     "data": {
      "text/html": [
       "&lt;Column name=&apos;lg(Q(300))&apos; dtype=&apos;float64&apos; length=1&gt;\n",
       "<table>\n",
       "<tr><td>45603.691595129596</td></tr>\n",
       "</table>"
      ],
      "text/plain": [
       "<Column name='lg(Q(300))' dtype='float64' length=1>\n",
       "45603.691595129596"
      ]
     },
     "execution_count": 5,
     "metadata": {},
     "output_type": "execute_result"
    }
   ],
   "source": [
    "catdir=CDMS.get_species_table()\n",
    "c2h5oh=catdir[catdir['TAG'] == 46524]\n",
    "qrot300=10**c2h5oh['lg(Q(300))']\n",
    "qrot300"
   ]
  },
  {
   "cell_type": "code",
   "execution_count": 6,
   "id": "cordless-variable",
   "metadata": {},
   "outputs": [
    {
     "data": {
      "text/latex": [
       "$3.5531916 \\times 10^{-33} \\; \\mathrm{cm^{2}}$"
      ],
      "text/plain": [
       "<Quantity 3.55319162e-33 cm2>"
      ]
     },
     "execution_count": 6,
     "metadata": {},
     "output_type": "execute_result"
    }
   ],
   "source": [
    "sigma_abs=absorption_crossection(testint,testnu)\n",
    "sigma_abs.to('cm2')"
   ]
  },
  {
   "cell_type": "code",
   "execution_count": 11,
   "id": "found-carbon",
   "metadata": {},
   "outputs": [],
   "source": [
    "ints=10**maintable['LGINT']\n",
    "nus=maintable['FREQ']\n",
    "degs=maintable['GUP']\n",
    "elo_cm=maintable['ELO']\n",
    "elo_J=(h*c*elo_cm).to('J')\n",
    "deltae=(h*nus).to('J')\n",
    "eup_J=elo_J+deltae"
   ]
  },
  {
   "cell_type": "code",
   "execution_count": 26,
   "id": "fitted-aluminum",
   "metadata": {},
   "outputs": [
    {
     "data": {
      "text/html": [
       "&lt;Column name=&apos;lg(Q(300))&apos; dtype=&apos;float64&apos; length=1&gt;\n",
       "<table>\n",
       "<tr><td>45603.691595129596</td></tr>\n",
       "</table>"
      ],
      "text/plain": [
       "<Column name='lg(Q(300))' dtype='float64' length=1>\n",
       "45603.691595129596"
      ]
     },
     "execution_count": 26,
     "metadata": {},
     "output_type": "execute_result"
    }
   ],
   "source": [
    "qrot300"
   ]
  },
  {
   "cell_type": "code",
   "execution_count": 16,
   "id": "violent-elements",
   "metadata": {},
   "outputs": [
    {
     "data": {
      "text/latex": [
       "$[2.5539512 \\times 10^{-6},~5.6146986 \\times 10^{-7},~3.1595735 \\times 10^{-6},~\\dots,~3.6881762 \\times 10^{-7},~2.8121207 \\times 10^{-5},~1.3096539 \\times 10^{-5}] \\; \\mathrm{Hz}$"
      ],
      "text/plain": [
       "<Quantity [2.55395124e-06, 5.61469858e-07, 3.15957347e-06, 3.15957347e-06,\n",
       "           9.25107834e-06, 9.25107834e-06, 3.64958318e-05, 1.80210301e-07,\n",
       "           1.64436456e-06, 1.64436456e-06, 1.13409939e-06, 1.13409939e-06,\n",
       "           6.07654572e-07, 2.03350151e-06, 2.03350152e-06, 9.27545622e-06,\n",
       "           9.27545625e-06, 6.00732461e-06, 3.65523016e-05, 1.03801633e-07,\n",
       "           1.23601369e-07, 2.08258133e-06, 2.08258133e-06, 6.11826455e-06,\n",
       "           6.11826455e-06, 6.12507147e-07, 2.08412980e-08, 3.83675567e-06,\n",
       "           1.03268399e-07, 2.27652471e-05, 3.17763417e-07, 1.38779574e-07,\n",
       "           1.51236956e-05, 4.29205472e-08, 1.51260133e-05, 6.94950524e-07,\n",
       "           6.95144949e-07, 1.35914765e-07, 5.36274519e-07, 9.21743553e-05,\n",
       "           1.13905134e-05, 1.14558317e-05, 1.14594870e-05, 1.45157674e-07,\n",
       "           1.46468534e-07, 2.16439595e-06, 2.16441400e-06, 1.51866336e-05,\n",
       "           7.65588716e-06, 6.27214028e-05, 5.12016464e-08, 5.31123215e-07,\n",
       "           1.50457179e-05, 1.50457715e-05, 1.70442532e-05, 1.12683690e-07,\n",
       "           1.67815939e-07, 1.01673288e-07, 1.76561280e-05, 7.43035648e-07,\n",
       "           7.43043168e-07, 6.17159515e-08, 7.64060206e-07, 6.18050286e-08,\n",
       "           1.12689044e-06, 3.60730848e-07, 3.60897302e-07, 1.12664015e-06,\n",
       "           6.86645471e-05, 7.54746356e-06, 7.65292731e-07, 8.21985872e-08,\n",
       "           8.21985872e-08, 3.62891781e-05, 1.40272982e-05, 5.35230706e-07,\n",
       "           5.35230914e-07, 3.96836248e-06, 5.40721229e-06, 5.40721229e-06,\n",
       "           7.03323044e-07, 7.03324454e-07, 2.33627440e-06, 7.07682759e-08,\n",
       "           1.25219331e-07, 5.85662201e-07, 6.04222946e-07, 6.04222946e-07,\n",
       "           9.60081290e-08, 9.60081290e-08, 6.25585183e-08, 1.63500282e-05,\n",
       "           2.93186174e-08, 2.58822600e-07, 6.34046689e-05, 2.48542989e-06,\n",
       "           2.89427382e-05, 1.59005775e-07, 1.59005775e-07, 7.12462867e-08,\n",
       "           2.07761534e-07, 1.26911419e-07, 2.07929651e-07, 7.13705976e-08,\n",
       "           1.69680823e-07, 1.46029228e-07, 3.67195812e-06, 8.01683310e-08,\n",
       "           4.68684123e-06, 4.68684123e-06, 6.56454507e-07, 9.81662376e-08,\n",
       "           1.96129734e-06, 6.71826862e-07, 5.74754579e-07, 5.02183237e-07,\n",
       "           4.98305201e-06, 5.43461578e-06, 1.73099110e-05, 4.73022930e-07,\n",
       "           6.10361669e-06, 6.10361669e-06, 2.47769308e-05, 4.17804224e-08,\n",
       "           4.40294448e-06, 4.40294480e-06, 1.01284671e-05, 1.20986524e-05,\n",
       "           8.11051847e-06, 8.11056503e-06, 4.19197622e-08, 1.95415782e-07,\n",
       "           1.95415782e-07, 1.84355653e-06, 1.84355653e-06, 8.26461302e-07,\n",
       "           6.37836018e-05, 1.53885657e-07, 1.41575841e-07, 9.91268647e-08,\n",
       "           7.18477867e-05, 2.98055092e-06, 2.98055092e-06, 2.68650377e-05,\n",
       "           1.01806211e-06, 8.17071355e-08, 6.40255057e-08, 6.60819677e-06,\n",
       "           6.60820850e-06, 1.31135046e-06, 1.31135046e-06, 3.68817618e-07,\n",
       "           2.81212072e-05, 1.30965390e-05] Hz>"
      ]
     },
     "execution_count": 16,
     "metadata": {},
     "output_type": "execute_result"
    }
   ],
   "source": [
    "pickett_aul(ints,nus.to('MHz'),degs,elo_J,eup_J,qrot300,300*u.K)"
   ]
  },
  {
   "cell_type": "code",
   "execution_count": 17,
   "id": "ambient-bulletin",
   "metadata": {},
   "outputs": [
    {
     "data": {
      "text/latex": [
       "$[1.8281326 \\times 10^{-5}] \\; \\mathrm{MHz^{2}\\,nm^{2}}$"
      ],
      "text/plain": [
       "<Quantity [1.82813256e-05] MHz2 nm2>"
      ]
     },
     "execution_count": 17,
     "metadata": {},
     "output_type": "execute_result"
    }
   ],
   "source": [
    "pickett_aul_approx(testint,testnu.to('MHz'),testg,testeup_J,qrot300,300*u.K)"
   ]
  },
  {
   "cell_type": "code",
   "execution_count": 19,
   "id": "material-factor",
   "metadata": {},
   "outputs": [
    {
     "data": {
      "text/latex": [
       "$[3.6495832 \\times 10^{-5}] \\; \\mathrm{\\frac{1}{s}}$"
      ],
      "text/plain": [
       "<Quantity [3.64958318e-05] 1 / s>"
      ]
     },
     "execution_count": 19,
     "metadata": {},
     "output_type": "execute_result"
    }
   ],
   "source": [
    "a=pickett_aul(testint,testnu.to('MHz'),testg,testelo_J,testeup_J,qrot300,300*u.K)\n",
    "a.decompose()"
   ]
  },
  {
   "cell_type": "code",
   "execution_count": 37,
   "id": "drawn-external",
   "metadata": {},
   "outputs": [
    {
     "data": {
      "text/plain": [
       "{'8_4&4-7_3&4&g+': {'freq': <Quantity 2.16521691e+11 Hz>,\n",
       "  'flux': <Projection [[0.4863091 , 0.85207975, 0.4318698 , ..., 1.9904716 ,\n",
       "                       nan,        nan],\n",
       "               [0.49557889,        nan,        nan, ...,        nan,\n",
       "                       nan,        nan],\n",
       "               [2.3502598 ,        nan,        nan, ...,        nan,\n",
       "                2.1291647 ,        nan],\n",
       "               ...,\n",
       "               [       nan,        nan,        nan, ...,        nan,\n",
       "                       nan, 0.39898998],\n",
       "               [       nan,        nan, 0.9190112 , ...,        nan,\n",
       "                       nan,        nan],\n",
       "               [       nan,        nan, 1.0553234 , ...,        nan,\n",
       "                       nan,        nan]] K km / s>,\n",
       "  'stddev': <Quantity 0.5901029 K>,\n",
       "  'beam': <Quantity 2.21572103e-12 sr>,\n",
       "  'euk': <Quantity 106.30154 K>,\n",
       "  'eujs': <Quantity 1.46765115e-21 J>,\n",
       "  'degen': 17.0,\n",
       "  'aij': <Quantity 3.64938767e-05 Hz>,\n",
       "  'filename': '/blue/adamginsburg/d.jeff/SgrB2DSreorg/field10/C2H5OH/DSi//chisquare_goodnessoffit_2_fwhmslabs/mom0/C2H5OH~8_4&4-7_3&4&g+_raw.fits',\n",
       "  'shift_freq': <Quantity 2.16481759e+11 Hz>,\n",
       "  'mom0err': <Projection [[0.10962475, 0.27273204, 0.23841971, ..., 0.89459913,\n",
       "                0.11823724, 0.13072023],\n",
       "               [0.14392514, 0.3751949 ,        nan, ..., 0.14062941,\n",
       "                       nan,        nan],\n",
       "               [0.76278641, 0.65219419, 0.2298007 , ..., 0.        ,\n",
       "                1.59486948, 0.        ],\n",
       "               ...,\n",
       "               [0.17300025, 0.45841848, 0.50810672, ...,        nan,\n",
       "                       nan, 0.09437611],\n",
       "               [0.4557237 , 0.55577087, 0.58472339, ...,        nan,\n",
       "                0.        ,        nan],\n",
       "               [0.38935964, 0.53863241, 0.62796027, ..., 0.4066771 ,\n",
       "                0.11298102, 0.15099245]] K km / s>},\n",
       " '8_4&5-7_3&5&g+': {'freq': <Quantity 2.16659684e+11 Hz>,\n",
       "  'flux': <Projection [[0.407348  , 0.9220593 , 0.41844985, ..., 0.57018894,\n",
       "                       nan,        nan],\n",
       "               [0.5646721 , 0.45781404,        nan, ..., 1.1434059 ,\n",
       "                       nan,        nan],\n",
       "               [       nan, 1.119014  , 1.174625  , ...,        nan,\n",
       "                2.5609448 ,        nan],\n",
       "               ...,\n",
       "               [       nan,        nan,        nan, ...,        nan,\n",
       "                       nan,        nan],\n",
       "               [       nan,        nan,        nan, ...,        nan,\n",
       "                       nan,        nan],\n",
       "               [       nan,        nan,        nan, ...,        nan,\n",
       "                       nan, 0.37112918]] K km / s>,\n",
       "  'stddev': <Quantity 0.5901029 K>,\n",
       "  'beam': <Quantity 2.21440743e-12 sr>,\n",
       "  'euk': <Quantity 106.30126 K>,\n",
       "  'eujs': <Quantity 1.46764728e-21 J>,\n",
       "  'degen': 17.0,\n",
       "  'aij': <Quantity 3.65502204e-05 Hz>,\n",
       "  'filename': '/blue/adamginsburg/d.jeff/SgrB2DSreorg/field10/C2H5OH/DSi//chisquare_goodnessoffit_2_fwhmslabs/mom0/C2H5OH~8_4&5-7_3&5&g+_raw.fits',\n",
       "  'shift_freq': <Quantity 2.16619726e+11 Hz>,\n",
       "  'mom0err': <Projection [[0.10962475, 0.27273204, 0.23841971, ..., 0.89459913,\n",
       "                0.11823724, 0.13072023],\n",
       "               [0.14392514, 0.3751949 ,        nan, ..., 0.14062941,\n",
       "                       nan,        nan],\n",
       "               [0.76278641, 0.65219419, 0.2298007 , ..., 0.        ,\n",
       "                1.59486948, 0.        ],\n",
       "               ...,\n",
       "               [0.17300025, 0.45841848, 0.50810672, ...,        nan,\n",
       "                       nan, 0.09437611],\n",
       "               [0.4557237 , 0.55577087, 0.58472339, ...,        nan,\n",
       "                0.        ,        nan],\n",
       "               [0.38935964, 0.53863241, 0.62796027, ..., 0.4066771 ,\n",
       "                0.11298102, 0.15099245]] K km / s>},\n",
       " '13_0&13-12_1&12&g-': {'freq': <Quantity 2.17262302e+11 Hz>,\n",
       "  'flux': <Quantity [[0.61950594, 0.7422986 , 0.8257883 , ..., 0.79433423,\n",
       "              0.6749534 , 0.4838078 ],\n",
       "             [0.81894433, 0.8010299 , 0.81251836, ..., 0.7948655 ,\n",
       "              0.65889186, 0.716055  ],\n",
       "             [0.86442226, 0.9362835 , 0.79703987, ..., 0.6418    ,\n",
       "              0.7912966 , 0.80302054],\n",
       "             ...,\n",
       "             [0.6229373 , 0.6836749 , 0.7112557 , ..., 0.7766871 ,\n",
       "              0.7194572 , 0.53498507],\n",
       "             [0.64371115, 0.6933965 , 0.6132427 , ..., 0.5477017 ,\n",
       "              0.5772299 , 0.64637274],\n",
       "             [0.68330544, 0.67650837, 0.7097979 , ..., 0.7229459 ,\n",
       "              0.6401026 , 0.5434103 ]] K km / s>,\n",
       "  'stddev': <Quantity 0.5901029 K>,\n",
       "  'beam': <Beams [2.2088264e-12, 2.2088312e-12, 2.2088358e-12, 2.2088403e-12,\n",
       "          2.2088451e-12, 2.2088499e-12, 2.2088544e-12, 2.2088594e-12,\n",
       "          2.2088642e-12, 2.2088692e-12, 2.2088737e-12, 2.2088785e-12,\n",
       "          2.2088832e-12, 2.2088880e-12] sr>,\n",
       "  'euk': <Quantity 135.54243 K>,\n",
       "  'eujs': <Quantity 1.8713652e-21 J>,\n",
       "  'degen': 27.0,\n",
       "  'aij': <Quantity 6.27176822e-05 Hz>,\n",
       "  'filename': '/blue/adamginsburg/d.jeff/SgrB2DSreorg/field10/C2H5OH/DSi//chisquare_goodnessoffit_2_fwhmslabs/mom0/C2H5OH~13_0&13-12_1&12&g-_raw.fits',\n",
       "  'shift_freq': <Quantity 2.17222233e+11 Hz>,\n",
       "  'mom0err': <Quantity [[0.61950594, 0.7422986 , 0.8257883 , ..., 0.79433423,\n",
       "              0.6749534 , 0.4838078 ],\n",
       "             [0.81894433, 0.8010299 , 0.81251836, ..., 0.7948655 ,\n",
       "              0.65889186, 0.716055  ],\n",
       "             [0.86442226, 0.9362835 , 0.79703987, ..., 0.6418    ,\n",
       "              0.7912966 , 0.80302054],\n",
       "             ...,\n",
       "             [0.6229373 , 0.6836749 , 0.7112557 , ..., 0.7766871 ,\n",
       "              0.7194572 , 0.53498507],\n",
       "             [0.64371115, 0.6933965 , 0.6132427 , ..., 0.5477017 ,\n",
       "              0.5772299 , 0.64637274],\n",
       "             [0.68330544, 0.67650837, 0.7097979 , ..., 0.7229459 ,\n",
       "              0.6401026 , 0.5434103 ]] K km / s>},\n",
       " '13_1&13-12_0&12&g-': {'freq': <Quantity 2.17496665e+11 Hz>,\n",
       "  'flux': <Quantity [[0.61950594, 0.7422986 , 0.8257883 , ..., 0.79433423,\n",
       "              0.6749534 , 0.4838078 ],\n",
       "             [0.81894433, 0.8010299 , 0.81251836, ..., 0.7948655 ,\n",
       "              0.65889186, 0.716055  ],\n",
       "             [0.86442226, 0.9362835 , 0.79703987, ..., 0.6418    ,\n",
       "              0.7912966 , 0.80302054],\n",
       "             ...,\n",
       "             [0.6229373 , 0.6836749 , 0.7112557 , ..., 0.7766871 ,\n",
       "              0.7194572 , 0.53498507],\n",
       "             [0.64371115, 0.6933965 , 0.6132427 , ..., 0.5477017 ,\n",
       "              0.5772299 , 0.64637274],\n",
       "             [0.68330544, 0.67650837, 0.7097979 , ..., 0.7229459 ,\n",
       "              0.6401026 , 0.5434103 ]] K km / s>,\n",
       "  'stddev': <Quantity 0.5901029 K>,\n",
       "  'beam': <Beams [2.2065951e-12, 2.2065999e-12, 2.2066047e-12, 2.2066092e-12,\n",
       "          2.2066142e-12, 2.2066188e-12, 2.2066233e-12, 2.2066279e-12,\n",
       "          2.2066331e-12, 2.2066379e-12, 2.2066424e-12, 2.2066470e-12,\n",
       "          2.2066522e-12, 2.2066569e-12] sr>,\n",
       "  'euk': <Quantity 135.37441 K>,\n",
       "  'eujs': <Quantity 1.86904544e-21 J>,\n",
       "  'degen': 27.0,\n",
       "  'aij': <Quantity 6.86609803e-05 Hz>,\n",
       "  'filename': '/blue/adamginsburg/d.jeff/SgrB2DSreorg/field10/C2H5OH/DSi//chisquare_goodnessoffit_2_fwhmslabs/mom0/C2H5OH~13_1&13-12_0&12&g-_raw.fits',\n",
       "  'shift_freq': <Quantity 2.17456553e+11 Hz>,\n",
       "  'mom0err': <Quantity [[0.61950594, 0.7422986 , 0.8257883 , ..., 0.79433423,\n",
       "              0.6749534 , 0.4838078 ],\n",
       "             [0.81894433, 0.8010299 , 0.81251836, ..., 0.7948655 ,\n",
       "              0.65889186, 0.716055  ],\n",
       "             [0.86442226, 0.9362835 , 0.79703987, ..., 0.6418    ,\n",
       "              0.7912966 , 0.80302054],\n",
       "             ...,\n",
       "             [0.6229373 , 0.6836749 , 0.7112557 , ..., 0.7766871 ,\n",
       "              0.7194572 , 0.53498507],\n",
       "             [0.64371115, 0.6933965 , 0.6132427 , ..., 0.5477017 ,\n",
       "              0.5772299 , 0.64637274],\n",
       "             [0.68330544, 0.67650837, 0.7097979 , ..., 0.7229459 ,\n",
       "              0.6401026 , 0.5434103 ]] K km / s>},\n",
       " '5_1&4-4_0&4&g-': {'freq': <Quantity 2.17548152e+11 Hz>,\n",
       "  'flux': <Projection [[0.38804635, 0.42324817, 0.40688714, ..., 0.39421597,\n",
       "                       nan,        nan],\n",
       "               [       nan,        nan,        nan, ...,        nan,\n",
       "                       nan,        nan],\n",
       "               [2.654392  , 1.102907  , 0.45333   , ...,        nan,\n",
       "                0.4123212 ,        nan],\n",
       "               ...,\n",
       "               [       nan,        nan,        nan, ...,        nan,\n",
       "                       nan,        nan],\n",
       "               [0.7725401 ,        nan,        nan, ...,        nan,\n",
       "                       nan,        nan],\n",
       "               [       nan, 0.35155228,        nan, ...,        nan,\n",
       "                       nan,        nan]] K km / s>,\n",
       "  'stddev': <Quantity 0.5901029 K>,\n",
       "  'beam': <Quantity 2.20616233e-12 sr>,\n",
       "  'euk': <Quantity 75.60293 K>,\n",
       "  'eujs': <Quantity 1.0438111e-21 J>,\n",
       "  'degen': 11.0,\n",
       "  'aij': <Quantity 3.6286911e-05 Hz>,\n",
       "  'filename': '/blue/adamginsburg/d.jeff/SgrB2DSreorg/field10/C2H5OH/DSi//chisquare_goodnessoffit_2_fwhmslabs/mom0/C2H5OH~5_1&4-4_0&4&g-_raw.fits',\n",
       "  'shift_freq': <Quantity 2.17508031e+11 Hz>,\n",
       "  'mom0err': <Projection [[0.10962475, 0.27273204, 0.23841971, ..., 0.89459913,\n",
       "                0.11823724, 0.13072023],\n",
       "               [0.14392514, 0.3751949 ,        nan, ..., 0.14062941,\n",
       "                       nan,        nan],\n",
       "               [0.76278641, 0.65219419, 0.2298007 , ..., 0.        ,\n",
       "                1.59486948, 0.        ],\n",
       "               ...,\n",
       "               [0.17300025, 0.45841848, 0.50810672, ...,        nan,\n",
       "                       nan, 0.09437611],\n",
       "               [0.4557237 , 0.55577087, 0.58472339, ...,        nan,\n",
       "                0.        ,        nan],\n",
       "               [0.38935964, 0.53863241, 0.62796027, ..., 0.4066771 ,\n",
       "                0.11298102, 0.15099245]] K km / s>},\n",
       " '5_3&3-4_2&2&anti': {'freq': <Quantity 2.17803743e+11 Hz>,\n",
       "  'flux': <Projection [[       nan,        nan,        nan, ...,        nan,\n",
       "                       nan,        nan],\n",
       "               [       nan, 0.45343152,        nan, ...,        nan,\n",
       "                       nan,        nan],\n",
       "               [0.8959539 , 0.99296534, 1.2679408 , ...,        nan,\n",
       "                       nan,        nan],\n",
       "               ...,\n",
       "               [       nan, 1.6214697 , 1.7755818 , ...,        nan,\n",
       "                       nan, 0.2905895 ],\n",
       "               [       nan, 0.49772212, 2.8494456 , ...,        nan,\n",
       "                       nan,        nan],\n",
       "               [       nan, 0.48997876, 2.4231894 , ..., 1.6406289 ,\n",
       "                       nan, 1.0286826 ]] K km / s>,\n",
       "  'stddev': <Quantity 0.5901029 K>,\n",
       "  'beam': <Quantity 2.20380341e-12 sr>,\n",
       "  'euk': <Quantity 23.89328 K>,\n",
       "  'eujs': <Quantity 3.29882331e-22 J>,\n",
       "  'degen': 11.0,\n",
       "  'aij': <Quantity 6.34015682e-05 Hz>,\n",
       "  'filename': '/blue/adamginsburg/d.jeff/SgrB2DSreorg/field10/C2H5OH/DSi//chisquare_goodnessoffit_2_fwhmslabs/mom0/C2H5OH~5_3&3-4_2&2&anti_raw.fits',\n",
       "  'shift_freq': <Quantity 2.17763574e+11 Hz>,\n",
       "  'mom0err': <Projection [[0.10962475, 0.27273204, 0.23841971, ..., 0.89459913,\n",
       "                0.11823724, 0.13072023],\n",
       "               [0.14392514, 0.3751949 ,        nan, ..., 0.14062941,\n",
       "                       nan,        nan],\n",
       "               [0.76278641, 0.65219419, 0.2298007 , ..., 0.        ,\n",
       "                1.59486948, 0.        ],\n",
       "               ...,\n",
       "               [0.17300025, 0.45841848, 0.50810672, ...,        nan,\n",
       "                       nan, 0.09437611],\n",
       "               [0.4557237 , 0.55577087, 0.58472339, ...,        nan,\n",
       "                0.        ,        nan],\n",
       "               [0.38935964, 0.53863241, 0.62796027, ..., 0.4066771 ,\n",
       "                0.11298102, 0.15099245]] K km / s>},\n",
       " '30_7&24-30_6&24&g+': {'freq': <Quantity 2.17847162e+11 Hz>,\n",
       "  'flux': <Projection [[       nan,        nan,        nan, ...,        nan,\n",
       "                       nan,        nan],\n",
       "               [       nan,        nan,        nan, ...,        nan,\n",
       "                       nan,        nan],\n",
       "               [       nan,        nan,        nan, ...,        nan,\n",
       "                       nan,        nan],\n",
       "               ...,\n",
       "               [0.83923507, 0.37276533,        nan, ...,        nan,\n",
       "                       nan,        nan],\n",
       "               [       nan,        nan,        nan, ...,        nan,\n",
       "                       nan,        nan],\n",
       "               [       nan,        nan,        nan, ...,        nan,\n",
       "                       nan, 0.5639758 ]] K km / s>,\n",
       "  'stddev': <Quantity 0.5901029 K>,\n",
       "  'beam': <Quantity 2.20338452e-12 sr>,\n",
       "  'euk': <Quantity 503.75779 K>,\n",
       "  'eujs': <Quantity 6.95512689e-21 J>,\n",
       "  'degen': 61.0,\n",
       "  'aij': <Quantity 2.89414309e-05 Hz>,\n",
       "  'filename': '/blue/adamginsburg/d.jeff/SgrB2DSreorg/field10/C2H5OH/DSi//chisquare_goodnessoffit_2_fwhmslabs/mom0/C2H5OH~30_7&24-30_6&24&g+_raw.fits',\n",
       "  'shift_freq': <Quantity 2.17806985e+11 Hz>,\n",
       "  'mom0err': <Projection [[0.10962475, 0.27273204, 0.23841971, ..., 0.89459913,\n",
       "                0.11823724, 0.13072023],\n",
       "               [0.14392514, 0.3751949 ,        nan, ..., 0.14062941,\n",
       "                       nan,        nan],\n",
       "               [0.76278641, 0.65219419, 0.2298007 , ..., 0.        ,\n",
       "                1.59486948, 0.        ],\n",
       "               ...,\n",
       "               [0.17300025, 0.45841848, 0.50810672, ...,        nan,\n",
       "                       nan, 0.09437611],\n",
       "               [0.4557237 , 0.55577087, 0.58472339, ...,        nan,\n",
       "                0.        ,        nan],\n",
       "               [0.38935964, 0.53863241, 0.62796027, ..., 0.4066771 ,\n",
       "                0.11298102, 0.15099245]] K km / s>}}"
      ]
     },
     "execution_count": 37,
     "metadata": {},
     "output_type": "execute_result"
    }
   ],
   "source": [
    "picklepath='/blue/adamginsburg/d.jeff/SgrB2DSreorg/field10/C2H5OH/DSi/chisquare_goodnessoffit_2_fwhmslabs/C2H5OHlinesdict.obj'\n",
    "a=open(picklepath,'rb')\n",
    "pick=pickle.load(a)\n",
    "pick['spw0']\n",
    "#testline"
   ]
  },
  {
   "cell_type": "code",
   "execution_count": 28,
   "id": "brutal-brother",
   "metadata": {},
   "outputs": [
    {
     "data": {
      "text/latex": [
       "$[3.7285703 \\times 10^{22}] \\; \\mathrm{\\frac{MHz^{3}\\,nm^{2}\\,s^{2}}{J\\,m^{3}}}$"
      ],
      "text/plain": [
       "<Quantity [3.72857027e+22] MHz3 nm2 s2 / (J m3)>"
      ]
     },
     "execution_count": 28,
     "metadata": {},
     "output_type": "execute_result"
    }
   ],
   "source": [
    "compute_cdms_aij(testlgint,testnu,testg,testelo_J,testeup_J,qrot300,300*u.K)"
   ]
  },
  {
   "cell_type": "code",
   "execution_count": 32,
   "id": "removed-channels",
   "metadata": {},
   "outputs": [],
   "source": [
    "mu2S=compute_mu2S(testint,testnu,testg,testelo_J,testeup_J,qrot300,300*u.K)"
   ]
  },
  {
   "cell_type": "code",
   "execution_count": 37,
   "id": "introductory-dream",
   "metadata": {},
   "outputs": [
    {
     "data": {
      "text/latex": [
       "$[3.7285671 \\times 10^{22}] \\; \\mathrm{\\frac{s}{kg\\,m^{3}}}$"
      ],
      "text/plain": [
       "<Quantity [3.72856706e+22] s / (kg m3)>"
      ]
     },
     "execution_count": 37,
     "metadata": {},
     "output_type": "execute_result"
    }
   ],
   "source": [
    "(mu2S*((64*(np.pi**4)*(testnu**3))/(3*h*(c**3)))).decompose()"
   ]
  },
  {
   "cell_type": "code",
   "execution_count": 40,
   "id": "permanent-casting",
   "metadata": {},
   "outputs": [
    {
     "data": {
      "text/latex": [
       "$\\mathrm{1.1111111 \\times 10^{-59}\\,A^{2}\\,m^{2}\\,s^{2}}$"
      ],
      "text/plain": [
       "Unit(\"1.11111e-59 A2 m2 s2\")"
      ]
     },
     "execution_count": 40,
     "metadata": {},
     "output_type": "execute_result"
    }
   ],
   "source": [
    "(u.Debye**2).decompose()"
   ]
  },
  {
   "cell_type": "code",
   "execution_count": 42,
   "id": "human-ensemble",
   "metadata": {},
   "outputs": [
    {
     "data": {
      "text/latex": [
       "$1.1815288 \\times 10^{40} \\; \\mathrm{\\frac{1}{kg\\,m^{5}}}$"
      ],
      "text/plain": [
       "<Quantity 1.18152878e+40 1 / (kg m5)>"
      ]
     },
     "execution_count": 42,
     "metadata": {},
     "output_type": "execute_result"
    }
   ],
   "source": [
    "((64*(np.pi**4)*(testnu**3)*1e-5*u.Hz)/(3*h*(c**3))).decompose()"
   ]
  },
  {
   "cell_type": "code",
   "execution_count": null,
   "id": "together-preserve",
   "metadata": {},
   "outputs": [],
   "source": []
  }
 ],
 "metadata": {
  "kernelspec": {
   "display_name": "Python 3",
   "language": "python",
   "name": "python3"
  },
  "language_info": {
   "codemirror_mode": {
    "name": "ipython",
    "version": 3
   },
   "file_extension": ".py",
   "mimetype": "text/x-python",
   "name": "python",
   "nbconvert_exporter": "python",
   "pygments_lexer": "ipython3",
   "version": "3.7.9"
  }
 },
 "nbformat": 4,
 "nbformat_minor": 5
}
