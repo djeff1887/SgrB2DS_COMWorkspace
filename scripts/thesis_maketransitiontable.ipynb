{
 "cells": [
  {
   "cell_type": "code",
   "execution_count": 36,
   "id": "f377898a-ce20-4231-af2e-4aafb353eb12",
   "metadata": {},
   "outputs": [],
   "source": [
    "from utilities import *\n",
    "from astropy.table import QTable, hstack\n",
    "\n",
    "source='DSVI'\n",
    "fnum=fields[source]\n",
    "ethanol_directory=c2h5oh_sourcelocs[source]"
   ]
  },
  {
   "cell_type": "code",
   "execution_count": 37,
   "id": "37cca397-ba1b-4aea-ad56-e63471edfa0e",
   "metadata": {},
   "outputs": [],
   "source": [
    "path_table=f'/blue/adamginsburg/d.jeff/SgrB2DSreorg/field{fnum}/C2H5OH/{source}/{ethanol_directory}/table_of_used_lines_and_parameters.fits'\n",
    "fulltable=QTable.read(path_table)"
   ]
  },
  {
   "cell_type": "code",
   "execution_count": 38,
   "id": "1a0173ee-f167-4da1-a88c-b939a09882f5",
   "metadata": {},
   "outputs": [
    {
     "data": {
      "text/html": [
       "<div><i>QTable length=14</i>\n",
       "<table id=\"table23135369307024\" class=\"table-striped table-bordered table-condensed\">\n",
       "<thead><tr><th>Transition</th><th>Rest Frequency (GHz)</th><th>$E_{upper}$ (K)</th></tr></thead>\n",
       "<thead><tr><th>bytes25</th><th>float64</th><th>int64</th></tr></thead>\n",
       "<tr><td>13(0,13)(1)-12(1,12)(1)</td><td>217.225</td><td>136</td></tr>\n",
       "<tr><td>21(5,16)(2)-21(4,17)(2)</td><td>218.517</td><td>226</td></tr>\n",
       "<tr><td>35(4,31)(2)-35(3,32)(2)</td><td>218.906</td><td>560</td></tr>\n",
       "<tr><td>16(5,11)(2)-16(4,12)(2)</td><td>230.915</td><td>146</td></tr>\n",
       "<tr><td>14(0,14)(2)-13(1,13)(2)</td><td>230.952</td><td>86</td></tr>\n",
       "<tr><td>14(1,14)(0)-13(1,13)(0)</td><td>231.629</td><td>142</td></tr>\n",
       "<tr><td>18(5,14)(2)-18(4,15)(2)</td><td>231.995</td><td>175</td></tr>\n",
       "<tr><td>23(5,19)(2)-23(4,20)(2)</td><td>232.279</td><td>264</td></tr>\n",
       "<tr><td>17(5,13)(2)-17(4,14)(2)</td><td>232.365</td><td>160</td></tr>\n",
       "<tr><td>14(0,14)(0)-13(0,13)(0)</td><td>232.452</td><td>142</td></tr>\n",
       "<tr><td>14(1,14)(1)-13(1,13)(1)</td><td>232.557</td><td>147</td></tr>\n",
       "<tr><td>16(5,12)(2)-16(4,13)(2)</td><td>232.769</td><td>146</td></tr>\n",
       "<tr><td>13(5,9)(2)-13(4,10)(2)</td><td>233.911</td><td>108</td></tr>\n",
       "<tr><td>12(5,7)(2)-12(4,8)(2)</td><td>234.011</td><td>97</td></tr>\n",
       "</table></div>"
      ],
      "text/plain": [
       "<QTable length=14>\n",
       "       Transition       Rest Frequency (GHz) $E_{upper}$ (K)\n",
       "        bytes25               float64             int64     \n",
       "----------------------- -------------------- ---------------\n",
       "13(0,13)(1)-12(1,12)(1)              217.225             136\n",
       "21(5,16)(2)-21(4,17)(2)              218.517             226\n",
       "35(4,31)(2)-35(3,32)(2)              218.906             560\n",
       "16(5,11)(2)-16(4,12)(2)              230.915             146\n",
       "14(0,14)(2)-13(1,13)(2)              230.952              86\n",
       "14(1,14)(0)-13(1,13)(0)              231.629             142\n",
       "18(5,14)(2)-18(4,15)(2)              231.995             175\n",
       "23(5,19)(2)-23(4,20)(2)              232.279             264\n",
       "17(5,13)(2)-17(4,14)(2)              232.365             160\n",
       "14(0,14)(0)-13(0,13)(0)              232.452             142\n",
       "14(1,14)(1)-13(1,13)(1)              232.557             147\n",
       "16(5,12)(2)-16(4,13)(2)              232.769             146\n",
       " 13(5,9)(2)-13(4,10)(2)              233.911             108\n",
       "  12(5,7)(2)-12(4,8)(2)              234.011              97"
      ]
     },
     "execution_count": 38,
     "metadata": {},
     "output_type": "execute_result"
    }
   ],
   "source": [
    "qns=QTable([fulltable['QNs']],names=['Transition'])\n",
    "restfrequencies=QTable([[round(x.value,3) for x in fulltable['ReferenceFrequency']]],names=['Rest Frequency (GHz)'])\n",
    "euppers=QTable([[round(x.value) for x in fulltable['Eupper']]],names=[r'$E_{upper}$ (K)'])\n",
    "desired_properties_table=hstack([qns,restfrequencies,euppers])\n",
    "desired_properties_table"
   ]
  },
  {
   "cell_type": "code",
   "execution_count": 39,
   "id": "d05b7c6e-8e93-4006-904f-17967f6359c5",
   "metadata": {},
   "outputs": [
    {
     "name": "stderr",
     "output_type": "stream",
     "text": [
      "WARNING: VerifyWarning: It is strongly recommended that column names contain only upper and lower-case ASCII letters, digits, or underscores for maximum compatibility with other software (got '$E_{upper}$ (K)'). [astropy.io.fits.column]\n"
     ]
    }
   ],
   "source": [
    "tex_saveoutputtablepath=f'../tables/thesis_ethanolmethanol_results/{source}/table_of_used_lines.tex'\n",
    "fits_saveoutputtablepath=f'../tables/thesis_ethanolmethanol_results/{source}/table_of_used_lines.fits'\n",
    "desired_properties_table.write(tex_saveoutputtablepath)\n",
    "desired_properties_table.write(fits_saveoutputtablepath)"
   ]
  },
  {
   "cell_type": "code",
   "execution_count": null,
   "id": "9ca7909b-3ddb-4590-b94d-3ce061c87983",
   "metadata": {},
   "outputs": [],
   "source": []
  }
 ],
 "metadata": {
  "kernelspec": {
   "display_name": "py312",
   "language": "python",
   "name": "py312"
  },
  "language_info": {
   "codemirror_mode": {
    "name": "ipython",
    "version": 3
   },
   "file_extension": ".py",
   "mimetype": "text/x-python",
   "name": "python",
   "nbconvert_exporter": "python",
   "pygments_lexer": "ipython3",
   "version": "3.12.4"
  }
 },
 "nbformat": 4,
 "nbformat_minor": 5
}
