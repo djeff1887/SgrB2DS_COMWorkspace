{
 "cells": [
  {
   "cell_type": "code",
   "execution_count": 1,
   "id": "04de4940",
   "metadata": {},
   "outputs": [],
   "source": [
    "from utilities import *\n",
    "from manualspeciesabundances import *"
   ]
  },
  {
   "cell_type": "code",
   "execution_count": 2,
   "id": "98657edd",
   "metadata": {},
   "outputs": [
    {
     "data": {
      "text/plain": [
       "{' CH3OH ': <Quantity 1.48e+18 1 / cm2>,\n",
       " ' CH3OCHO ': <Quantity 2.e+17 1 / cm2>,\n",
       " ' CH3CHO ': <Quantity 8.e+16 1 / cm2>,\n",
       " ' C2H5OH ': <Quantity 4.e+17 1 / cm2>,\n",
       " ' CH3OCH3 ': <Quantity 9.e+16 1 / cm2>,\n",
       " ' DCN ': <Quantity 6.e+14 1 / cm2>,\n",
       " ' OCS ': <Quantity 6.e+16 1 / cm2>,\n",
       " ' 13CH3OH ': <Quantity 4.e+17 1 / cm2>,\n",
       " ' H2CO ': <Quantity 9.e+16 1 / cm2>,\n",
       " ' HC3N ': <Quantity 2.e+15 1 / cm2>,\n",
       " ' C(18)O ': <Quantity 1.e+18 1 / cm2>,\n",
       " ' 13CS ': <Quantity 4.e+15 1 / cm2>,\n",
       " ' SO2 ': <Quantity 3.e+16 1 / cm2>,\n",
       " ' NH2CHO ': <Quantity 1.e+16 1 / cm2>,\n",
       " ' HNCO ': <Quantity 3.e+16 1 / cm2>,\n",
       " ' SO ': <Quantity 1.e+16 1 / cm2>,\n",
       " ' SiO ': <Quantity 1.e+15 1 / cm2>,\n",
       " ' H2S ': <Quantity 9.e+16 1 / cm2>,\n",
       " ' c-HCCCH ': <Quantity 5.e+15 1 / cm2>,\n",
       " 'HC3N v7=1': <Quantity 2.e+15 1 / cm2>,\n",
       " ' H213CO ': <Quantity 7.e+15 1 / cm2>,\n",
       " ' 13CH3CN ': <Quantity 4.e+15 1 / cm2>,\n",
       " ' CH2CHCN ': <Quantity 2.e+16 1 / cm2>,\n",
       " ' 18OCS ': <Quantity 5.e+15 1 / cm2>,\n",
       " ' CH3NCO, vb = 0 ': <Quantity 6.e+16 1 / cm2>,\n",
       " ' CH3CH2CN ': <Quantity 3.e+16 1 / cm2>,\n",
       " ' CH3COCH3 ': <Quantity 3.e+17 1 / cm2>}"
      ]
     },
     "execution_count": 2,
     "metadata": {},
     "output_type": "execute_result"
    }
   ],
   "source": [
    "source='DSi'\n",
    "columndict=sourcecolumns[source]\n",
    "columndict"
   ]
  },
  {
   "cell_type": "code",
   "execution_count": 3,
   "id": "9ffd5e4c-70fe-438a-b701-a8839fbd2d88",
   "metadata": {},
   "outputs": [],
   "source": [
    "from astropy.table import QTable\n",
    "sources=['DSi','DSii']\n",
    "modelversion='firstrelease'"
   ]
  },
  {
   "cell_type": "code",
   "execution_count": 9,
   "id": "2ab45788-9a62-4317-8aad-49ed14979eb0",
   "metadata": {},
   "outputs": [
    {
     "name": "stderr",
     "output_type": "stream",
     "text": [
      "WARNING: VerifyWarning: It is strongly recommended that column names contain only upper and lower-case ASCII letters, digits, or underscores for maximum compatibility with other software (got '$N_{tot}$'). [astropy.io.fits.column]\n",
      "WARNING: VerifyWarning: It is strongly recommended that column names contain only upper and lower-case ASCII letters, digits, or underscores for maximum compatibility with other software (got '$N_{tot}$'). [astropy.io.fits.column]\n"
     ]
    }
   ],
   "source": [
    "for source in sources:\n",
    "    columndict=sourcecolumns[source]\n",
    "    data=list(columndict.values())\n",
    "    datafortable=np.array([x.value for x in data])\n",
    "    columntable=QTable([list(columndict.keys()),np.log10(datafortable)],names=['Species','log10(Ntot)'])\n",
    "    textable=QTable([list(columndict.keys()),list(columndict.values())],names=['Species',r'$N_{tot}$'])\n",
    "    savetexpath=f'../tables/{modelversion}/{source}_estcomcolumns.tex'\n",
    "    savefitspath=f'../tables/{modelversion}/{source}_estcomcolumns.fits'\n",
    "    savetxtpath=f'../tables/{modelversion}/{source}_estcomcolumns.txt'\n",
    "    columntable.write(savetexpath,overwrite=True)\n",
    "    textable.write(savefitspath,overwrite=True)\n",
    "    columntable.write(savetxtpath,format='ascii',overwrite=True)"
   ]
  },
  {
   "cell_type": "code",
   "execution_count": 7,
   "id": "80fe50c6-13da-482c-a3b0-50c3ab767a1d",
   "metadata": {},
   "outputs": [],
   "source": [
    "columntable=QTable([list(columndict.keys()),np.log10(datafortable)],names=['Species','log10(Ntot)'])\n",
    "savetxtpath=f'../tables/{modelversion}/{source}_estcomcolumns.txt'\n",
    "columntable.write(savetxtpath,format='ascii')"
   ]
  },
  {
   "cell_type": "code",
   "execution_count": null,
   "id": "77256e77-0819-4637-9e1a-e692147ca29d",
   "metadata": {},
   "outputs": [],
   "source": []
  }
 ],
 "metadata": {
  "kernelspec": {
   "display_name": "Python 3 (ipykernel)",
   "language": "python",
   "name": "python3"
  },
  "language_info": {
   "codemirror_mode": {
    "name": "ipython",
    "version": 3
   },
   "file_extension": ".py",
   "mimetype": "text/x-python",
   "name": "python",
   "nbconvert_exporter": "python",
   "pygments_lexer": "ipython3",
   "version": "3.12.4"
  }
 },
 "nbformat": 4,
 "nbformat_minor": 5
}
