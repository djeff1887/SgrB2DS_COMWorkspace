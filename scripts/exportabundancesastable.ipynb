{
 "cells": [
  {
   "cell_type": "code",
   "execution_count": 2,
   "id": "04de4940",
   "metadata": {},
   "outputs": [],
   "source": [
    "from utilities import *\n",
    "from manualspeciesabundances import *"
   ]
  },
  {
   "cell_type": "code",
   "execution_count": 6,
   "id": "98657edd",
   "metadata": {},
   "outputs": [
    {
     "data": {
      "text/plain": [
       "{' CH3OH ': <Quantity 1.48e+18 1 / cm2>,\n",
       " ' CH3OCHO ': <Quantity 2.e+17 1 / cm2>,\n",
       " ' CH3CHO ': <Quantity 8.e+16 1 / cm2>,\n",
       " ' C2H5OH ': <Quantity 4.e+17 1 / cm2>,\n",
       " ' CH3OCH3 ': <Quantity 9.e+16 1 / cm2>,\n",
       " ' DCN ': <Quantity 4.e+14 1 / cm2>,\n",
       " ' OCS ': <Quantity 6.e+16 1 / cm2>,\n",
       " ' 13CH3OH ': <Quantity 9.e+16 1 / cm2>,\n",
       " ' H2CO ': <Quantity 9.e+16 1 / cm2>,\n",
       " ' HC3N ': <Quantity 1.e+15 1 / cm2>,\n",
       " ' C(18)O ': <Quantity 1.e+18 1 / cm2>,\n",
       " ' 13CS ': <Quantity 4.e+15 1 / cm2>,\n",
       " ' SO2 ': <Quantity 3.e+16 1 / cm2>,\n",
       " ' NH2CHO ': <Quantity 8.e+15 1 / cm2>,\n",
       " ' HNCO ': <Quantity 1.5e+16 1 / cm2>,\n",
       " ' SO ': <Quantity 1.e+16 1 / cm2>,\n",
       " ' SiO ': <Quantity 1.e+16 1 / cm2>,\n",
       " ' H2S ': <Quantity 6.e+16 1 / cm2>,\n",
       " ' c-HCCCH ': <Quantity 2.e+15 1 / cm2>,\n",
       " 'HC3N v7=1': <Quantity 2.e+15 1 / cm2>,\n",
       " ' H213CO ': <Quantity 7.e+15 1 / cm2>,\n",
       " ' 13CH3CN ': <Quantity 4.e+15 1 / cm2>,\n",
       " ' CH2CHCN ': <Quantity 6.e+14 1 / cm2>,\n",
       " ' 18OCS ': <Quantity 5.e+15 1 / cm2>,\n",
       " ' CH3NCO, vb = 0 ': <Quantity 9.e+14 1 / cm2>,\n",
       " ' CH3CH2CN ': <Quantity 3.e+16 1 / cm2>,\n",
       " ' CH3COCH3 ': <Quantity 3.e+17 1 / cm2>}"
      ]
     },
     "execution_count": 6,
     "metadata": {},
     "output_type": "execute_result"
    }
   ],
   "source": [
    "source='DSi'\n",
    "columndict=sourcecolumns[source]\n",
    "columndict"
   ]
  },
  {
   "cell_type": "code",
   "execution_count": 22,
   "id": "9ffd5e4c-70fe-438a-b701-a8839fbd2d88",
   "metadata": {},
   "outputs": [],
   "source": [
    "from astropy.table import QTable\n",
    "sources=['DSi','DSii']"
   ]
  },
  {
   "cell_type": "code",
   "execution_count": 48,
   "id": "2ab45788-9a62-4317-8aad-49ed14979eb0",
   "metadata": {},
   "outputs": [
    {
     "name": "stderr",
     "output_type": "stream",
     "text": [
      "WARNING: VerifyWarning: It is strongly recommended that column names contain only upper and lower-case ASCII letters, digits, or underscores for maximum compatibility with other software (got '$N_{tot}$'). [astropy.io.fits.column]\n",
      "WARNING: VerifyWarning: It is strongly recommended that column names contain only upper and lower-case ASCII letters, digits, or underscores for maximum compatibility with other software (got '$N_{tot}$'). [astropy.io.fits.column]\n"
     ]
    }
   ],
   "source": [
    "for source in sources:\n",
    "    columndict=sourcecolumns[source]\n",
    "    data=list(columndict.values())\n",
    "    datafortable=np.array([x.value for x in data])\n",
    "    columntable=QTable([list(columndict.keys()),np.log10(datafortable)],names=['Species','log10(Ntot)'])\n",
    "    textable=QTable([list(columndict.keys()),list(columndict.values())],names=['Species',r'$N_{tot}$'])\n",
    "    savetexpath=f'../tables/{source}_estcomcolumns.tex'\n",
    "    savefitspath=f'../tables/{source}_estcomcolumns.fits'\n",
    "    columntable.write(savetexpath,overwrite=True)\n",
    "    textable.write(savefitspath,overwrite=True)"
   ]
  },
  {
   "cell_type": "code",
   "execution_count": 49,
   "id": "80fe50c6-13da-482c-a3b0-50c3ab767a1d",
   "metadata": {},
   "outputs": [
    {
     "data": {
      "text/html": [
       "<i>QTable length=27</i>\n",
       "<table id=\"table1592600277872\" class=\"table-striped table-bordered table-condensed\">\n",
       "<thead><tr><th>Species</th><th>log10(Ntot)</th></tr></thead>\n",
       "<thead><tr><th>str16</th><th>float64</th></tr></thead>\n",
       "<tr><td>CH3OH</td><td>17.778151250383644</td></tr>\n",
       "<tr><td>CH3OCHO</td><td>16.778151250383644</td></tr>\n",
       "<tr><td>CH3CHO</td><td>16.477121254719663</td></tr>\n",
       "<tr><td>C2H5OH</td><td>16.954242509439325</td></tr>\n",
       "<tr><td>CH3OCH3</td><td>17.0</td></tr>\n",
       "<tr><td>DCN</td><td>14.698970004336019</td></tr>\n",
       "<tr><td>OCS</td><td>16.477121254719663</td></tr>\n",
       "<tr><td>13CH3OH</td><td>16.903089986991944</td></tr>\n",
       "<tr><td>H2CO</td><td>17.0</td></tr>\n",
       "<tr><td>HC3N</td><td>15.301029995663981</td></tr>\n",
       "<tr><td>...</td><td>...</td></tr>\n",
       "<tr><td>H2S</td><td>16.778151250383644</td></tr>\n",
       "<tr><td>c-HCCCH</td><td>15.602059991327963</td></tr>\n",
       "<tr><td>HC3N v7=1</td><td>15.477121254719663</td></tr>\n",
       "<tr><td>H213CO</td><td>15.845098040014257</td></tr>\n",
       "<tr><td>13CH3CN</td><td>15.301029995663981</td></tr>\n",
       "<tr><td>CH2CHCN</td><td>15.903089986991944</td></tr>\n",
       "<tr><td>18OCS</td><td>15.778151250383644</td></tr>\n",
       "<tr><td>CH3NCO, vb = 0</td><td>16.0</td></tr>\n",
       "<tr><td>CH3CH2CN</td><td>15.845098040014257</td></tr>\n",
       "<tr><td>CH3COCH3</td><td>16.69897000433602</td></tr>\n",
       "</table>"
      ],
      "text/plain": [
       "<QTable length=27>\n",
       "    Species         log10(Ntot)    \n",
       "     str16            float64      \n",
       "---------------- ------------------\n",
       "          CH3OH  17.778151250383644\n",
       "        CH3OCHO  16.778151250383644\n",
       "         CH3CHO  16.477121254719663\n",
       "         C2H5OH  16.954242509439325\n",
       "        CH3OCH3                17.0\n",
       "            DCN  14.698970004336019\n",
       "            OCS  16.477121254719663\n",
       "        13CH3OH  16.903089986991944\n",
       "           H2CO                17.0\n",
       "           HC3N  15.301029995663981\n",
       "             ...                ...\n",
       "            H2S  16.778151250383644\n",
       "        c-HCCCH  15.602059991327963\n",
       "       HC3N v7=1 15.477121254719663\n",
       "         H213CO  15.845098040014257\n",
       "        13CH3CN  15.301029995663981\n",
       "        CH2CHCN  15.903089986991944\n",
       "          18OCS  15.778151250383644\n",
       " CH3NCO, vb = 0                16.0\n",
       "       CH3CH2CN  15.845098040014257\n",
       "       CH3COCH3   16.69897000433602"
      ]
     },
     "execution_count": 49,
     "metadata": {},
     "output_type": "execute_result"
    }
   ],
   "source": [
    "columntable"
   ]
  },
  {
   "cell_type": "code",
   "execution_count": null,
   "id": "77256e77-0819-4637-9e1a-e692147ca29d",
   "metadata": {},
   "outputs": [],
   "source": []
  }
 ],
 "metadata": {
  "kernelspec": {
   "display_name": "Python 3",
   "language": "python",
   "name": "python3"
  },
  "language_info": {
   "codemirror_mode": {
    "name": "ipython",
    "version": 3
   },
   "file_extension": ".py",
   "mimetype": "text/x-python",
   "name": "python",
   "nbconvert_exporter": "python",
   "pygments_lexer": "ipython3",
   "version": "3.8.8"
  }
 },
 "nbformat": 4,
 "nbformat_minor": 5
}
