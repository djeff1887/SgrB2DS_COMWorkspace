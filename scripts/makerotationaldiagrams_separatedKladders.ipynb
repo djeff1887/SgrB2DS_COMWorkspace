{
 "cells": [
  {
   "cell_type": "code",
   "execution_count": 164,
   "id": "2725bb97-ff9b-408f-bdd4-3ac373abb97f",
   "metadata": {},
   "outputs": [
    {
     "name": "stdout",
     "output_type": "stream",
     "text": [
      "Making rotational diagram folder /blue/adamginsburg/d.jeff/repos/C2H5OH_SgrB2DS/figures/DSVI/nov2024_1_removesDS2exclusions/Kladdered_pixelwiserotationaldiagrams/\n",
      "Directory created.\n",
      "\n"
     ]
    },
    {
     "data": {
      "text/latex": [
       "$267.6272 \\; \\mathrm{K}$"
      ],
      "text/plain": [
       "<Quantity 267.62719951 K>"
      ]
     },
     "execution_count": 164,
     "metadata": {},
     "output_type": "execute_result"
    }
   ],
   "source": [
    "from spectral_cube import SpectralCube as sc\n",
    "import matplotlib.pyplot as plt\n",
    "from astropy.io import fits\n",
    "import glob\n",
    "import radio_beam\n",
    "import os\n",
    "from astropy.modeling import models, fitting\n",
    "import time\n",
    "import pdb\n",
    "import matplotlib as mpl\n",
    "from math import log10, floor\n",
    "from astropy.stats import bootstrap\n",
    "import astropy.stats\n",
    "from pyspeckit.spectrum.models.lte_molecule import get_molecular_parameters\n",
    "from utilities import *\n",
    "from astropy.table import QTable, hstack\n",
    "import matplotlib.patheffects as pe\n",
    "\n",
    "mpl.interactive(True)\n",
    "plt.rcParams[\"figure.dpi\"]=150\n",
    "plt.close('all')\n",
    "\n",
    "def round_to_1(x):\n",
    "    return round(x, -int(floor(log10(abs(x)))))\n",
    "\n",
    "source='DSVI'\n",
    "molecule=' C2H5OH '\n",
    "molname=cdmsnamelist[molecule]\n",
    "fnum=fields[source]\n",
    "#c2h5oh_sourcelocs={'SgrB2S':'/mar2025_1_removesDS2exclusions/','DSi':'/oct2024_1_removesDS2exclusions/','DSii':'/oct2024_1_removeproblemlines/',\n",
    "#                   'DSiii':'/dec2024_3_try-close-to-FWZI/','DSiv':'/nov2024_1_firstrun_removesDS2exclusions/','DSVI':'/nov2024_1_removesDS2exclusions/'}\n",
    "sourcepath=c2h5oh_sourcelocs[source]\n",
    "pixel=pixdict[source]\n",
    "home=f'/blue/adamginsburg/d.jeff/SgrB2DSreorg/field{fnum}/C2H5OH/{source}/{sourcepath}'\n",
    "cCfreqs, cCaij, cCdeg, cCEU, qrot = get_molecular_parameters(molname,catalog='CDMS', fmin=150*u.GHz, fmax=155*u.GHz,)\n",
    "z=(c2h5oh_dopplershifts[source]/c).to('')\n",
    "\n",
    "savefigbase=f'/blue/adamginsburg/d.jeff/repos/C2H5OH_SgrB2DS/figures/{source}'\n",
    "savefighome=savefigbase+sourcepath\n",
    "\n",
    "debuglabel='ds2exclusions'#sourcepath.replace('/','')\n",
    "rotdiagpath=savefighome+f'Kladdered_pixelwiserotationaldiagrams/'\n",
    "\n",
    "if os.path.isdir(rotdiagpath):\n",
    "    print(f'Rotational diagram folder {rotdiagpath} already exists.')\n",
    "    pass\n",
    "else:\n",
    "    print(f'Making rotational diagram folder {rotdiagpath}')\n",
    "    os.makedirs(rotdiagpath)\n",
    "    print('Directory created.\\n')\n",
    "\n",
    "fulltexmap=fits.getdata(home+'texmap_3sigma_allspw_withnans_weighted.fits')\n",
    "measTrot=fulltexmap[pixel[0],pixel[1]]*u.K\n",
    "measTrot"
   ]
  },
  {
   "cell_type": "code",
   "execution_count": 165,
   "id": "a07004d6-1378-4ed8-9bb9-d65786200749",
   "metadata": {},
   "outputs": [],
   "source": [
    "transition_table=QTable.read(home+'table_of_used_lines_and_parameters.fits')#'mastereuksqnsfreqsdegens.fits')\n",
    "nupperpaths=transition_table['MeasuredNupperPath'].data\n",
    "errornupperpaths=transition_table['MeasuredNupperErrorPath'].data\n",
    "nuppergs=QTable([np.array([fits.getdata(x) for x in nupperpaths])[:,pixel[0],pixel[1]]],names=['Measured Nupper/g'])\n",
    "error_nuppergs=QTable([np.array([fits.getdata(x) for x in errornupperpaths])[:,pixel[0],pixel[1]]],names=['Error_Nupper/g'])\n",
    "\n",
    "everythingtable=hstack([transition_table,nuppergs,error_nuppergs])\n",
    "euppers=everythingtable['Eupper'].value\n",
    "qns=everythingtable['QNs']\n",
    "reffreqs=everythingtable['ReferenceFrequency']"
   ]
  },
  {
   "cell_type": "code",
   "execution_count": 166,
   "id": "91a92669-00fc-43cc-8fa7-955a99180c5e",
   "metadata": {},
   "outputs": [
    {
     "data": {
      "text/html": [
       "<div><i>QTable length=1</i>\n",
       "<table id=\"table22417626846496\" class=\"table-striped table-bordered table-condensed\">\n",
       "<thead><tr><th>QNs</th><th>RestFrequency</th><th>ReferenceFrequency</th><th>Eupper</th><th>Degeneracy</th><th>Aij</th><th>ModelBrightness</th><th>ModelNupper</th><th>MeasuredNupperPath</th><th>MeasuredNupperErrorPath</th><th>Measured Nupper/g</th><th>Error_Nupper/g</th></tr></thead>\n",
       "<thead><tr><th></th><th>GHz</th><th>GHz</th><th>K</th><th></th><th>Hz</th><th>K</th><th>1 / cm2</th><th></th><th></th><th></th><th></th></tr></thead>\n",
       "<thead><tr><th>bytes25</th><th>float64</th><th>float64</th><th>float64</th><th>int64</th><th>float64</th><th>float64</th><th>float64</th><th>bytes133</th><th>bytes134</th><th>float64</th><th>float64</th></tr></thead>\n",
       "<tr><td>35(4,31)(2)-35(3,32)(2)</td><td>218.9432887</td><td>218.90604890894974</td><td>559.6887547607863</td><td>71</td><td>7.382877809861699e-05</td><td>24.32356758855269</td><td>187832726920599.0</td><td>/blue/adamginsburg/d.jeff/SgrB2DSreorg/field2/C2H5OH/DSVI//nov2024_1_removesDS2exclusions/nuppers/C2H5OH~35.4.31.2-35.3.32.2data.fits</td><td>/blue/adamginsburg/d.jeff/SgrB2DSreorg/field2/C2H5OH/DSVI//nov2024_1_removesDS2exclusions/nuppers/C2H5OH~35.4.31.2-35.3.32.2error.fits</td><td>1019116774364.4802</td><td>20456436908.956497</td></tr>\n",
       "</table></div>"
      ],
      "text/plain": [
       "<QTable length=1>\n",
       "          QNs           RestFrequency ... Measured Nupper/g    Error_Nupper/g  \n",
       "                             GHz      ...                                      \n",
       "        bytes25            float64    ...      float64            float64      \n",
       "----------------------- ------------- ... ------------------ ------------------\n",
       "35(4,31)(2)-35(3,32)(2)   218.9432887 ... 1019116774364.4802 20456436908.956497"
      ]
     },
     "execution_count": 166,
     "metadata": {},
     "output_type": "execute_result"
    }
   ],
   "source": [
    "transitionks=[x[3] for x in transition_table['QNs']]\n",
    "transitionks[1]=500\n",
    "k0lines=[everythingtable[x] for x in np.where([int(x) == 0 for x in transitionks])][0]\n",
    "k1lines=[everythingtable[x] for x in np.where([int(x) == 1 for x in transitionks])][0]\n",
    "k5lines=[everythingtable[x] for x in np.where([int(x) == 5 for x in transitionks])][0]#Either no or only 1 transition for K=2,3,4\n",
    "k4lines=[everythingtable[x] for x in np.where([int(x) == 4 for x in transitionks])][0]\n",
    "k4lines"
   ]
  },
  {
   "cell_type": "code",
   "execution_count": 167,
   "id": "ebd72d7d-5f41-4ce2-a6e1-c3cfe6190c89",
   "metadata": {},
   "outputs": [
    {
     "name": "stdout",
     "output_type": "stream",
     "text": [
      " C2H5OH  has an incomplete partition function\n",
      "Estimating by linear fit to log-log Qrot/T relation\n"
     ]
    }
   ],
   "source": [
    "if molecule in incompleteqrot:\n",
    "    print(f'{molecule} has an incomplete partition function')\n",
    "    print('Estimating by linear fit to log-log Qrot/T relation')\n",
    "    poly=Linear1D(slope=150, intercept=10)\n",
    "    fitter=fitting.LinearLSQFitter()\n",
    "    fitinput_xvalues=np.linspace(3,300,1000)*u.K\n",
    "    power_law_fit=fitter(poly,np.log10(fitinput_xvalues.value),np.log10(qrot(fitinput_xvalues)))\n",
    "    logintercept=10**power_law_fit.intercept\n",
    "    logTs=logintercept*fitinput_xvalues.value**power_law_fit.slope\n",
    "\n",
    "qrot_partfunc=fit_qrot(logintercept,measTrot,power_law_fit)\n"
   ]
  },
  {
   "cell_type": "code",
   "execution_count": 176,
   "id": "f1d53f28-118a-4d3a-ac55-32cf1434813f",
   "metadata": {},
   "outputs": [
    {
     "name": "stderr",
     "output_type": "stream",
     "text": [
      "Mean of empty slice.\n",
      "invalid value encountered in scalar divide\n"
     ]
    }
   ],
   "source": [
    "excludedlines={'SgrB2S':['41(5,36)(2)-41(4,37)(2)'],'DSi':['13(5,8)(2)-13(4,9)(2)','21(5,17)(2)-21(4,18)(2)','20(5,16)(2)-20(4,17)(2)','22(5,18)(2)-22(4,19)(2)'],\n",
    "               'DSii':['13(5,8)(2)-13(4,9)(2)','21(5,17)(2)-21(4,18)(2)','20(5,16)(2)-20(4,17)(2)','22(5,18)(2)-22(4,19)(2)'],\n",
    "               'DSiv':['13(5,8)(2)-13(4,9)(2)','21(5,17)(2)-21(4,18)(2)','20(5,16)(2)-20(4,17)(2)','22(5,18)(2)-22(4,19)(2)','13(2,11)(0)-12(2,10)(0)'],\n",
    "              'DSv':['13(5,8)(2)-13(4,9)(2)','21(5,17)(2)-21(4,18)(2)','20(5,16)(2)-20(4,17)(2)','22(5,18)(2)-22(4,19)(2)','35(4,31)(2)-35(3,32)(2)'],\n",
    "               'DSVI':['13(5,8)(2)-13(4,9)(2)','21(5,17)(2)-21(4,18)(2)','20(5,16)(2)-20(4,17)(2)','22(5,18)(2)-22(4,19)(2)']}\n",
    "kladders={0:k0lines,1:k1lines,5:k5lines}\n",
    "knumber=1\n",
    "target_kladder=kladders[knumber]\n",
    "exclusions=excludedlines[source]\n",
    "linemod=models.Linear1D(slope=1.0,intercept=14)\n",
    "fit=fitting.LinearLSQFitter()\n",
    "nuppergstofit=[]\n",
    "eukstofit=[]\n",
    "nuppergerrorstofit=[]\n",
    "qnstofit=[]\n",
    "freqsfitted=[]\n",
    "bootstraps=True\n",
    "for line in target_kladder:\n",
    "    nupperg=line['Measured Nupper/g']\n",
    "    error_nupperg=line['Error_Nupper/g']\n",
    "    eupper=line['Eupper'].value\n",
    "    qn=line['QNs']\n",
    "    freq=line['RestFrequency']\n",
    "    if nupperg >= 0 and np.isfinite(nupperg) and qn not in exclusions:#or (nupper_gmaps[transition][y,x]/error_nupper_gmaps[transition][y,x]) < snr:\n",
    "        nuppergstofit.append(nupperg)\n",
    "        eukstofit.append(eupper)\n",
    "        nuppergerrorstofit.append(error_nupperg)\n",
    "        qnstofit.append(qn)\n",
    "        freqsfitted.append(freq.value)\n",
    "if len(nuppergstofit)==0:\n",
    "    print('No transitions have significant Nupper/g measurements')\n",
    "else:\n",
    "    log10nuerr=[]\n",
    "    weightstofit=[]\n",
    "    log10variances=[]\n",
    "    for nuppergtofit,nuppergerrortofit in zip(nuppergstofit,nuppergerrorstofit):\n",
    "        convert_linear_error_to_log10_error=nuppergerrortofit/nuppergtofit\n",
    "        tempweight=1/convert_linear_error_to_log10_error#SNR\n",
    "        log10nuerr.append(convert_linear_error_to_log10_error)\n",
    "        weightstofit.append(tempweight)\n",
    "        log10variances.append(convert_linear_error_to_log10_error**2)\n",
    "    \n",
    "    fit_lin=fit(linemod,eukstofit,np.log10(nuppergstofit),weights=weightstofit)\n",
    "    linemod_euks=np.linspace(min(euppers),max(euppers),100)#Goes out to the max Eupper because these values are used for plotting\n",
    "    obsTrot=-np.log10(np.e)/(fit_lin.slope)\n",
    "    obsNtot=qrot_partfunc*10**(fit_lin.intercept)\n",
    "\n",
    "    if bootstraps:\n",
    "        bslist=[]\n",
    "        for nug,euk,weight,var in zip(np.log10(nuppergstofit),eukstofit,weightstofit,log10variances):#10\n",
    "            bslist.append((nug,euk,weight,var))\n",
    "        \n",
    "        numboots=1000\n",
    "        bootresult=bootstrap(np.array(bslist),numboots)\n",
    "        \n",
    "        bootlines=[]\n",
    "        bootTrots=[]\n",
    "        bootInts=[]#The fitted ntots\n",
    "        bootNums=[]#The fitted interecepts\n",
    "        bootSlopes=[]\n",
    "        for boot in bootresult:\n",
    "            tempfit=fit(linemod,boot[:,1],boot[:,0],weights=boot[:,2])\n",
    "            bootlines.append(tempfit)\n",
    "        for line in bootlines:\n",
    "            tempbootTrot=-np.log10(np.e)/(line.slope)\n",
    "            tempbootslope=line.slope.value\n",
    "            tempbootNtot=qrot_partfunc*10**(line.intercept)\n",
    "            tempbootintNtot=line.intercept.value\n",
    "            if line.slope >= 0:#tempbootTrot >= 1000 or tempbootTrot <= 0:\n",
    "                continue\n",
    "            else:\n",
    "                bootTrots.append(tempbootTrot)\n",
    "                bootInts.append(tempbootNtot)\n",
    "                bootNums.append(tempbootintNtot)\n",
    "                bootSlopes.append(tempbootslope)\n",
    "        \n",
    "        bootstrap_error_Trot=astropy.stats.mad_std(bootTrots)\n",
    "        slope_bootstd=astropy.stats.mad_std(bootSlopes)\n",
    "        madstd_interceptfits=astropy.stats.mad_std(bootNums)\n",
    "        #interimfactor=fit_lin.intercept.value*(1-madstd_interceptfits)\n",
    "        #oldpossiblemessedup_bootNstd=qrot_partfunc*10**(interimfactor)\n",
    "        bootstrap_error_Ntot=astropy.stats.mad_std(bootInts)#((qrot_partfunc*10**(madstd_interceptfits))*np.log(10))\n",
    "    \n",
    "    A=np.stack((eukstofit,np.ones_like(eukstofit)),axis=1)\n",
    "    C=np.diagflat(log10variances)\n",
    "    atc_1a=np.dot(np.dot(A.T, np.linalg.inv(C)), A)\n",
    "    if np.linalg.det(atc_1a) == 0:\n",
    "        #print(f'Singular C matrix detected in pixel {y,x}')\n",
    "        m_unc=np.nan\n",
    "    else:\n",
    "        covmat = np.linalg.inv(atc_1a)\n",
    "        m_unc = covmat[0,0]**0.5\n",
    "        b_unc = covmat[1,1]**0.5\n",
    "    \n",
    "    dobsTrot=np.abs(np.abs(m_unc/fit_lin.slope)*obsTrot*u.K)\n",
    "    dobsNtot=np.abs(qrot_partfunc*10**(fit_lin.intercept)*(np.log(10)*b_unc))*u.cm**-2\n",
    "    sigTrot=(obsTrot*u.K/dobsTrot).to('')\n",
    "    sigNtot=(obsNtot*u.cm**-2/dobsNtot).to('')\n",
    "\n",
    "    tk='$T_{rot}$'\n",
    "    ntot='log$_{10}(N_{tot})$'\n",
    "    cm2='cm$^{-2}$'\n",
    "    #strdobsntot=str(dobsNtot.value)[0]\n",
    "    if not np.isfinite(dobsNtot.value) or dobsNtot <= 0 or obsNtot == 0:\n",
    "        val_dntot='nan'#np.nan\n",
    "        if not np.isfinite(obsNtot) or obsNtot <= 0:\n",
    "            val_ntot=np.nan\n",
    "        else:\n",
    "            val_ntot=round(np.log10(obsNtot),2)\n",
    "    else:\n",
    "        val_dntot=round_to_1(dobsNtot.value/(1*10**int(np.log10(obsNtot))))\n",
    "        val_ntot=round(np.log10(obsNtot),1)\n",
    "\n",
    "    if not np.isfinite(dobsTrot.value):\n",
    "        dobsTrot=1e5*u.K"
   ]
  },
  {
   "cell_type": "code",
   "execution_count": 177,
   "id": "a30a06a5-f48e-4870-841c-7203607731d2",
   "metadata": {},
   "outputs": [
    {
     "name": "stdout",
     "output_type": "stream",
     "text": [
      "nan\n",
      "nan\n"
     ]
    }
   ],
   "source": [
    "restfreqsfitted=(freqsfitted*(1+z))*u.GHz\n",
    "print(obsTrot/bootstrap_error_Trot)\n",
    "print(obsNtot/bootstrap_error_Ntot)"
   ]
  },
  {
   "cell_type": "code",
   "execution_count": 178,
   "id": "a0f94092-4ef1-4cdc-8232-ef121d4e0c59",
   "metadata": {},
   "outputs": [
    {
     "name": "stderr",
     "output_type": "stream",
     "text": [
      "invalid escape sequence '\\p'\n",
      "invalid escape sequence '\\p'\n",
      "invalid escape sequence '\\p'\n",
      "invalid escape sequence '\\p'\n",
      "invalid escape sequence '\\p'\n",
      "invalid escape sequence '\\p'\n"
     ]
    },
    {
     "ename": "ValueError",
     "evalue": "cannot convert float NaN to integer",
     "output_type": "error",
     "traceback": [
      "\u001b[0;31m---------------------------------------------------------------------------\u001b[0m",
      "\u001b[0;31mValueError\u001b[0m                                Traceback (most recent call last)",
      "Cell \u001b[0;32mIn[178], line 4\u001b[0m\n\u001b[1;32m      1\u001b[0m dots\u001b[38;5;241m=\u001b[39mplt\u001b[38;5;241m.\u001b[39merrorbar(eukstofit,np\u001b[38;5;241m.\u001b[39mlog10(nuppergstofit),yerr\u001b[38;5;241m=\u001b[39mlog10nuerr,fmt\u001b[38;5;241m=\u001b[39m\u001b[38;5;124m'\u001b[39m\u001b[38;5;124mo\u001b[39m\u001b[38;5;124m'\u001b[39m)\n\u001b[1;32m      2\u001b[0m plot_error_Ntot\u001b[38;5;241m=\u001b[39m(bootstrap_error_Ntot\u001b[38;5;241m/\u001b[39mobsNtot)\n\u001b[1;32m      3\u001b[0m plt\u001b[38;5;241m.\u001b[39mplot(linemod_euks,fit_lin(linemod_euks),\n\u001b[0;32m----> 4\u001b[0m          label\u001b[38;5;241m=\u001b[39m(\u001b[38;5;124mf\u001b[39m\u001b[38;5;124m'\u001b[39m\u001b[38;5;132;01m{\u001b[39;00mtk\u001b[38;5;132;01m}\u001b[39;00m\u001b[38;5;124m: \u001b[39m\u001b[38;5;132;01m{\u001b[39;00m\u001b[38;5;28mint\u001b[39m(obsTrot)\u001b[38;5;132;01m}\u001b[39;00m\u001b[38;5;124m $\u001b[39m\u001b[38;5;124m\\\u001b[39m\u001b[38;5;124mpm$ \u001b[39m\u001b[38;5;132;01m{\u001b[39;00m\u001b[38;5;28;43mint\u001b[39;49m\u001b[43m(\u001b[49m\u001b[43mbootstrap_error_Trot\u001b[49m\u001b[43m)\u001b[49m\u001b[38;5;132;01m}\u001b[39;00m\u001b[38;5;124m K\u001b[39m\u001b[38;5;130;01m\\n\u001b[39;00m\u001b[38;5;132;01m{\u001b[39;00mntot\u001b[38;5;132;01m}\u001b[39;00m\u001b[38;5;124m: \u001b[39m\u001b[38;5;132;01m{\u001b[39;00mval_ntot\u001b[38;5;132;01m}\u001b[39;00m\u001b[38;5;124m $\u001b[39m\u001b[38;5;124m\\\u001b[39m\u001b[38;5;124mpm$ \u001b[39m\u001b[38;5;132;01m{\u001b[39;00m\u001b[38;5;28mround\u001b[39m(plot_error_Ntot,\u001b[38;5;241m1\u001b[39m)\u001b[38;5;132;01m}\u001b[39;00m\u001b[38;5;124m'\u001b[39m))\n\u001b[1;32m      6\u001b[0m \u001b[38;5;28;01mfor\u001b[39;00m linmod \u001b[38;5;129;01min\u001b[39;00m bootlines:\n\u001b[1;32m      7\u001b[0m     plt\u001b[38;5;241m.\u001b[39mplot(linemod_euks,linmod(linemod_euks),color\u001b[38;5;241m=\u001b[39m\u001b[38;5;124m'\u001b[39m\u001b[38;5;124mblack\u001b[39m\u001b[38;5;124m'\u001b[39m,alpha\u001b[38;5;241m=\u001b[39m\u001b[38;5;241m0.03\u001b[39m,zorder\u001b[38;5;241m=\u001b[39m\u001b[38;5;241m0\u001b[39m)\n",
      "\u001b[0;31mValueError\u001b[0m: cannot convert float NaN to integer"
     ]
    },
    {
     "data": {
      "image/png": "[encoded data removed]",
      "text/plain": [
       "<Figure size 960x720 with 1 Axes>"
      ]
     },
     "metadata": {},
     "output_type": "display_data"
    }
   ],
   "source": [
    "dots=plt.errorbar(eukstofit,np.log10(nuppergstofit),yerr=log10nuerr,fmt='o')\n",
    "plot_error_Ntot=(bootstrap_error_Ntot/obsNtot)\n",
    "plt.plot(linemod_euks,fit_lin(linemod_euks),\n",
    "         label=(f'{tk}: {int(obsTrot)} $\\pm$ {int(bootstrap_error_Trot)} K\\n{ntot}: {val_ntot} $\\pm$ {round(plot_error_Ntot,1)}'))\n",
    "\n",
    "for linmod in bootlines:\n",
    "    plt.plot(linemod_euks,linmod(linemod_euks),color='black',alpha=0.03,zorder=0)\n",
    "\n",
    "plt.xlabel(r'E$_u$ (K)')\n",
    "plt.ylabel(r'log$_{10}$(N$_u$/g$_u$)')\n",
    "plt.legend()\n",
    "#plt.savefig(f'debuggingrotationaldiagrams/{source}_{debuglabel}_bootstrap_interr_{y}_{x}.png')\n",
    "plt.savefig(rotdiagpath+f'k{knumber}_bootstrap_interr_{pixel[0]}_{pixel[1]}.png')\n",
    "#qnlegend.write(rotdiagpath+f'qnlegend_{pixel[0]}_{pixel[1]}.fits',overwrite=True)\n",
    "plt.show()"
   ]
  },
  {
   "cell_type": "code",
   "execution_count": 179,
   "id": "fd094765-fa7a-4d16-b0dd-6b70fc9618a9",
   "metadata": {},
   "outputs": [
    {
     "name": "stdout",
     "output_type": "stream",
     "text": [
      "Label           QNs           ...   RestFrequency          Eupper      \n",
      "                              ...        GHz                 K         \n",
      "----- ----------------------- ... ------------------ ------------------\n",
      "    1 14(1,14)(0)-13(1,13)(0) ... 231.70815285088156 141.90345196927348\n",
      "    2 14(1,14)(1)-13(1,13)(1) ... 232.63613699054713 146.53638394875688\n"
     ]
    },
    {
     "name": "stderr",
     "output_type": "stream",
     "text": [
      "invalid escape sequence '\\p'\n",
      "invalid escape sequence '\\p'\n",
      "invalid escape sequence '\\p'\n",
      "invalid escape sequence '\\p'\n",
      "invalid escape sequence '\\p'\n",
      "invalid escape sequence '\\p'\n"
     ]
    },
    {
     "ename": "ValueError",
     "evalue": "cannot convert float NaN to integer",
     "output_type": "error",
     "traceback": [
      "\u001b[0;31m---------------------------------------------------------------------------\u001b[0m",
      "\u001b[0;31mValueError\u001b[0m                                Traceback (most recent call last)",
      "Cell \u001b[0;32mIn[179], line 10\u001b[0m\n\u001b[1;32m      6\u001b[0m qnlegend\u001b[38;5;241m=\u001b[39mQTable([(np\u001b[38;5;241m.\u001b[39marange(\u001b[38;5;28mlen\u001b[39m(qnstofit))\u001b[38;5;241m+\u001b[39m\u001b[38;5;241m1\u001b[39m),qnstofit,freqsfitted,restfreqsfitted,eukstofit],units\u001b[38;5;241m=\u001b[39m[\u001b[38;5;124m'\u001b[39m\u001b[38;5;124m'\u001b[39m,\u001b[38;5;124m'\u001b[39m\u001b[38;5;124m'\u001b[39m,\u001b[38;5;124m'\u001b[39m\u001b[38;5;124mGHz\u001b[39m\u001b[38;5;124m'\u001b[39m,\u001b[38;5;124m'\u001b[39m\u001b[38;5;124mGHz\u001b[39m\u001b[38;5;124m'\u001b[39m,\u001b[38;5;124m'\u001b[39m\u001b[38;5;124mK\u001b[39m\u001b[38;5;124m'\u001b[39m],\n\u001b[1;32m      7\u001b[0m                 names\u001b[38;5;241m=\u001b[39m[\u001b[38;5;124m'\u001b[39m\u001b[38;5;124mLabel\u001b[39m\u001b[38;5;124m'\u001b[39m,\u001b[38;5;124m'\u001b[39m\u001b[38;5;124mQNs\u001b[39m\u001b[38;5;124m'\u001b[39m,\u001b[38;5;124m'\u001b[39m\u001b[38;5;124mReferenceFrequency\u001b[39m\u001b[38;5;124m'\u001b[39m,\u001b[38;5;124m'\u001b[39m\u001b[38;5;124mRestFrequency\u001b[39m\u001b[38;5;124m'\u001b[39m,\u001b[38;5;124m'\u001b[39m\u001b[38;5;124mEupper\u001b[39m\u001b[38;5;124m'\u001b[39m])\n\u001b[1;32m      8\u001b[0m \u001b[38;5;28mprint\u001b[39m(qnlegend)\n\u001b[1;32m      9\u001b[0m plt\u001b[38;5;241m.\u001b[39mplot(linemod_euks,fit_lin(linemod_euks),\n\u001b[0;32m---> 10\u001b[0m          label\u001b[38;5;241m=\u001b[39m(\u001b[38;5;124mf\u001b[39m\u001b[38;5;124m'\u001b[39m\u001b[38;5;132;01m{\u001b[39;00mtk\u001b[38;5;132;01m}\u001b[39;00m\u001b[38;5;124m: \u001b[39m\u001b[38;5;132;01m{\u001b[39;00m\u001b[38;5;28mint\u001b[39m(obsTrot)\u001b[38;5;132;01m}\u001b[39;00m\u001b[38;5;124m $\u001b[39m\u001b[38;5;124m\\\u001b[39m\u001b[38;5;124mpm$ \u001b[39m\u001b[38;5;132;01m{\u001b[39;00m\u001b[38;5;28;43mint\u001b[39;49m\u001b[43m(\u001b[49m\u001b[43mbootstrap_error_Trot\u001b[49m\u001b[43m)\u001b[49m\u001b[38;5;132;01m}\u001b[39;00m\u001b[38;5;124m K\u001b[39m\u001b[38;5;130;01m\\n\u001b[39;00m\u001b[38;5;132;01m{\u001b[39;00mntot\u001b[38;5;132;01m}\u001b[39;00m\u001b[38;5;124m: \u001b[39m\u001b[38;5;132;01m{\u001b[39;00mval_ntot\u001b[38;5;132;01m}\u001b[39;00m\u001b[38;5;124m $\u001b[39m\u001b[38;5;124m\\\u001b[39m\u001b[38;5;124mpm$ \u001b[39m\u001b[38;5;132;01m{\u001b[39;00m\u001b[38;5;28mround\u001b[39m(plot_error_Ntot,\u001b[38;5;241m1\u001b[39m)\u001b[38;5;132;01m}\u001b[39;00m\u001b[38;5;124m'\u001b[39m))\n\u001b[1;32m     12\u001b[0m \u001b[38;5;28;01mfor\u001b[39;00m linmod \u001b[38;5;129;01min\u001b[39;00m bootlines:\n\u001b[1;32m     13\u001b[0m     plt\u001b[38;5;241m.\u001b[39mplot(linemod_euks,linmod(linemod_euks),color\u001b[38;5;241m=\u001b[39m\u001b[38;5;124m'\u001b[39m\u001b[38;5;124mblack\u001b[39m\u001b[38;5;124m'\u001b[39m,alpha\u001b[38;5;241m=\u001b[39m\u001b[38;5;241m0.03\u001b[39m,zorder\u001b[38;5;241m=\u001b[39m\u001b[38;5;241m0\u001b[39m)\n",
      "\u001b[0;31mValueError\u001b[0m: cannot convert float NaN to integer"
     ]
    },
    {
     "data": {
      "image/png": "[encoded data removed]",
      "text/plain": [
       "<Figure size 960x720 with 1 Axes>"
      ]
     },
     "metadata": {},
     "output_type": "display_data"
    }
   ],
   "source": [
    "dots=plt.errorbar(eukstofit,np.log10(nuppergstofit),yerr=log10nuerr,fmt='o')\n",
    "plot_error_Ntot=(bootstrap_error_Ntot/obsNtot)\n",
    "for eupper,nupper,qn,num in zip(eukstofit,nuppergstofit,qnstofit,np.arange(len(qnstofit))):\n",
    "    txt=plt.text(eupper,np.log10(nupper),(num+1),fontsize=7,label=qn)\n",
    "    txt.set_path_effects([pe.withStroke(linewidth=1,foreground='w')])\n",
    "qnlegend=QTable([(np.arange(len(qnstofit))+1),qnstofit,freqsfitted,restfreqsfitted,eukstofit],units=['','','GHz','GHz','K'],\n",
    "                names=['Label','QNs','ReferenceFrequency','RestFrequency','Eupper'])\n",
    "print(qnlegend)\n",
    "plt.plot(linemod_euks,fit_lin(linemod_euks),\n",
    "         label=(f'{tk}: {int(obsTrot)} $\\pm$ {int(bootstrap_error_Trot)} K\\n{ntot}: {val_ntot} $\\pm$ {round(plot_error_Ntot,1)}'))\n",
    "\n",
    "for linmod in bootlines:\n",
    "    plt.plot(linemod_euks,linmod(linemod_euks),color='black',alpha=0.03,zorder=0)\n",
    "\n",
    "plt.xlabel(r'E$_u$ (K)')\n",
    "plt.ylabel(r'log$_{10}$(N$_u$/g$_u$)')\n",
    "plt.legend()\n",
    "#plt.savefig(f'debuggingrotationaldiagrams/{source}_{debuglabel}_bootstrap_interr_{y}_{x}.png')\n",
    "plt.savefig(rotdiagpath+f'k{knumber}_labeled_bootstrap_interr_{pixel[0]}_{pixel[1]}.png')\n",
    "#qnlegend.write(rotdiagpath+f'qnlegend_{pixel[0]}_{pixel[1]}.fits',overwrite=True)\n",
    "plt.show()"
   ]
  },
  {
   "cell_type": "code",
   "execution_count": 115,
   "id": "fb3d1279-8a89-44eb-a861-60a0e99c1760",
   "metadata": {},
   "outputs": [
    {
     "data": {
      "text/html": [
       "<div><i>QTable length=11</i>\n",
       "<table id=\"table22417622139488\" class=\"table-striped table-bordered table-condensed\">\n",
       "<thead><tr><th>Label</th><th>QNs</th><th>ReferenceFrequency</th><th>RestFrequency</th><th>Eupper</th></tr></thead>\n",
       "<thead><tr><th></th><th></th><th>GHz</th><th>GHz</th><th>K</th></tr></thead>\n",
       "<thead><tr><th>int64</th><th>str23</th><th>float64</th><th>float64</th><th>float64</th></tr></thead>\n",
       "<tr><td>1</td><td>21(5,16)(2)-21(4,17)(2)</td><td>218.5545074</td><td>218.59584279800248</td><td>226.01385361044416</td></tr>\n",
       "<tr><td>2</td><td>16(5,11)(2)-16(4,12)(2)</td><td>230.9537832</td><td>230.99746368347445</td><td>145.77872777262775</td></tr>\n",
       "<tr><td>3</td><td>19(5,15)(2)-19(4,16)(2)</td><td>231.7376214</td><td>231.78145013145317</td><td>191.3257219747236</td></tr>\n",
       "<tr><td>4</td><td>18(5,14)(2)-18(4,15)(2)</td><td>232.0346421</td><td>232.07852700722827</td><td>175.29099616228942</td></tr>\n",
       "<tr><td>5</td><td>23(5,19)(2)-23(4,20)(2)</td><td>232.3185139</td><td>232.3624524961408</td><td>263.9880929132633</td></tr>\n",
       "<tr><td>6</td><td>17(5,13)(2)-17(4,14)(2)</td><td>232.404841</td><td>232.44879592325793</td><td>160.10750968577526</td></tr>\n",
       "<tr><td>7</td><td>16(5,12)(2)-16(4,13)(2)</td><td>232.8088625</td><td>232.8528938361844</td><td>145.7742370404007</td></tr>\n",
       "<tr><td>8</td><td>14(5,9)(2)-14(4,10)(2)</td><td>232.92852580000002</td><td>232.9725797682051</td><td>119.65582045282288</td></tr>\n",
       "<tr><td>9</td><td>14(5,10)(2)-14(4,11)(2)</td><td>233.6015544</td><td>233.64573565867087</td><td>119.6545972300443</td></tr>\n",
       "<tr><td>10</td><td>13(5,9)(2)-13(4,10)(2)</td><td>233.9512316</td><td>233.9954789934141</td><td>107.86621480892468</td></tr>\n",
       "<tr><td>11</td><td>12(5,7)(2)-12(4,8)(2)</td><td>234.0511493</td><td>234.09541559093284</td><td>96.92436398510782</td></tr>\n",
       "</table></div>"
      ],
      "text/plain": [
       "<QTable length=11>\n",
       "Label           QNs           ...   RestFrequency          Eupper      \n",
       "                              ...        GHz                 K         \n",
       "int64          str23          ...      float64            float64      \n",
       "----- ----------------------- ... ------------------ ------------------\n",
       "    1 21(5,16)(2)-21(4,17)(2) ... 218.59584279800248 226.01385361044416\n",
       "    2 16(5,11)(2)-16(4,12)(2) ... 230.99746368347445 145.77872777262775\n",
       "    3 19(5,15)(2)-19(4,16)(2) ... 231.78145013145317  191.3257219747236\n",
       "    4 18(5,14)(2)-18(4,15)(2) ... 232.07852700722827 175.29099616228942\n",
       "    5 23(5,19)(2)-23(4,20)(2) ...  232.3624524961408  263.9880929132633\n",
       "    6 17(5,13)(2)-17(4,14)(2) ... 232.44879592325793 160.10750968577526\n",
       "    7 16(5,12)(2)-16(4,13)(2) ...  232.8528938361844  145.7742370404007\n",
       "    8  14(5,9)(2)-14(4,10)(2) ...  232.9725797682051 119.65582045282288\n",
       "    9 14(5,10)(2)-14(4,11)(2) ... 233.64573565867087  119.6545972300443\n",
       "   10  13(5,9)(2)-13(4,10)(2) ...  233.9954789934141 107.86621480892468\n",
       "   11   12(5,7)(2)-12(4,8)(2) ... 234.09541559093284  96.92436398510782"
      ]
     },
     "execution_count": 115,
     "metadata": {},
     "output_type": "execute_result"
    }
   ],
   "source": [
    "qnlegend"
   ]
  },
  {
   "cell_type": "markdown",
   "id": "fd7e4be0-160e-4694-a364-5f3fc8795047",
   "metadata": {},
   "source": [
    "### transition_table"
   ]
  },
  {
   "cell_type": "code",
   "execution_count": null,
   "id": "23329d28-5e3d-4153-a0ed-107f8d673e11",
   "metadata": {},
   "outputs": [],
   "source": []
  }
 ],
 "metadata": {
  "kernelspec": {
   "display_name": "py312",
   "language": "python",
   "name": "py312"
  },
  "language_info": {
   "codemirror_mode": {
    "name": "ipython",
    "version": 3
   },
   "file_extension": ".py",
   "mimetype": "text/x-python",
   "name": "python",
   "nbconvert_exporter": "python",
   "pygments_lexer": "ipython3",
   "version": "3.12.4"
  }
 },
 "nbformat": 4,
 "nbformat_minor": 5
}
