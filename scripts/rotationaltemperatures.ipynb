{
 "cells": [
  {
   "cell_type": "code",
   "execution_count": 1,
   "id": "c7b470e5",
   "metadata": {},
   "outputs": [
    {
     "data": {
      "text/plain": [
       "'ufrc:jupyter/6.5.4:screen/4.9.1:gcc/9.3.0:gsl/2.6'"
      ]
     },
     "execution_count": 1,
     "metadata": {},
     "output_type": "execute_result"
    }
   ],
   "source": [
    "import os\n",
    "\n",
    "os.getenv('LOADEDMODULES')"
   ]
  },
  {
   "cell_type": "code",
   "execution_count": null,
   "id": "899e09a8-1b44-4b15-b3d5-7a7671de4e04",
   "metadata": {},
   "outputs": [
    {
     "name": "stderr",
     "output_type": "stream",
     "text": [
      "invalid escape sequence '\\p'\n",
      "invalid escape sequence '\\p'\n"
     ]
    },
    {
     "name": "stdout",
     "output_type": "stream",
     "text": [
      "Cube-->Core-->Tex start\n",
      "\n",
      "Begin Jy/beam-to-K and region subcube conversion\n",
      "\n",
      "Source: DSi\n",
      "\n",
      "Begin core cube to Tex map process\n",
      "\n",
      "Setting constants\n",
      "Doppler shift: 0.0001844609446445781 / 55.3 km / s\n",
      "\n",
      "Setting input LTE parameters\n",
      " C2H5OH  has an incomplete partition function\n",
      "Estimating by linear fit to log-log Qrot/T relation\n",
      "Source path directory tree /blue/adamginsburg/d.jeff/SgrB2DSreorg/field10/C2H5OH/DSi/COPILOTREFACTORING_first_attempt_at_generalizing_script already exists.\n",
      "\n",
      "Moment 1 and 2 directories already exist.\n",
      "Using CDMS linelist for  C2H5OH \n",
      "Catdir tag: 46524\n",
      "DSi representative line objects already exist.\n",
      "Grabbing spectralslab from /blue/adamginsburg/d.jeff/SgrB2DSreorg/field10/C2H5OH/DSi/COPILOTREFACTORING_first_attempt_at_generalizing_script/14.0.14_2-13.1.13_2repline_slab.fits\n",
      "Grabbing mom1 from /blue/adamginsburg/d.jeff/SgrB2DSreorg/field10/C2H5OH/DSi/COPILOTREFACTORING_first_attempt_at_generalizing_script/14.0.14_2-13.1.13_2repline_mom1.fits\n",
      "Grabbing fwhm from /blue/adamginsburg/d.jeff/SgrB2DSreorg/field10/C2H5OH/DSi/COPILOTREFACTORING_first_attempt_at_generalizing_script/14.0.14_2-13.1.13_2repline_fwhm.fits\n",
      "\n",
      "Accessing data cube /orange/adamginsburg/sgrb2/2017.1.00114.S/desmond/SgrB2DSminicubes/DSi/field10originals_K/spw0minimize.image.pbcor_line.fits\n",
      "Acquiring cube rest frequency and computing target pixel coordinates\n",
      "Corrected decreasing frequency axis\n",
      "Passed increasing spectral axis check\n",
      "Stddev position - x: 338/y: 324\n",
      "Flux position - x: 39/y: 38\n",
      "\n",
      "linelooperLTE...\n",
      "\n",
      "Start 13(0,13)(1)-12(1,12)(1) moment0 procedure\n",
      "Make spectral slab between 217.22008823610253 GHz and 217.2234926360648 GHz\n",
      "Slicing quantum numbers\n",
      "/blue/adamginsburg/d.jeff/SgrB2DSreorg/field10/C2H5OH/DSi/COPILOTREFACTORING_first_attempt_at_generalizing_script/mom0/C2H5OH~13.0.13.1-12.1.12.1_raw.fits already exists.\n",
      "\n",
      "Dictionaries populated for this transition.\n",
      "lines looped.\n",
      "\n",
      "Finished loop for spw0\n",
      "\n",
      "Accessing data cube /orange/adamginsburg/sgrb2/2017.1.00114.S/desmond/SgrB2DSminicubes/DSi/field10originals_K/spw1minimize.image.pbcor_line.fits\n",
      "Acquiring cube rest frequency and computing target pixel coordinates\n",
      "Corrected decreasing frequency axis\n",
      "Passed increasing spectral axis check\n",
      "Stddev position - x: 335/y: 321\n",
      "Flux position - x: 39/y: 38\n",
      "\n",
      "linelooperLTE...\n",
      "\n",
      "Start 21(5,16)(2)-21(4,17)(2) moment0 procedure\n",
      "Make spectral slab between 218.51204226066014 GHz and 218.5154669088797 GHz\n",
      "Slicing quantum numbers\n",
      "/blue/adamginsburg/d.jeff/SgrB2DSreorg/field10/C2H5OH/DSi/COPILOTREFACTORING_first_attempt_at_generalizing_script/mom0/C2H5OH~21.5.16.2-21.4.17.2_raw.fits already exists.\n",
      "\n",
      "Dictionaries populated for this transition.\n",
      "lines looped.\n",
      "\n",
      "Finished loop for spw1\n",
      "\n",
      "Accessing data cube /orange/adamginsburg/sgrb2/2017.1.00114.S/desmond/SgrB2DSminicubes/DSi/field10originals_K/spw2minimize.image.pbcor_line.fits\n",
      "Acquiring cube rest frequency and computing target pixel coordinates\n",
      "Passed increasing spectral axis check\n",
      "Stddev position - x: 314/y: 300\n",
      "Flux position - x: 39/y: 38\n",
      "\n",
      "linelooperLTE...\n",
      "Skipping excluded line: 13(2,11)(0)-12(2,10)(0)\n",
      "\n",
      "Start 16(5,11)(2)-16(4,12)(2) moment0 procedure\n",
      "Make spectral slab between 230.90890888145435 GHz and 230.9125278206007 GHz\n",
      "Slicing quantum numbers\n",
      "/blue/adamginsburg/d.jeff/SgrB2DSreorg/field10/C2H5OH/DSi/COPILOTREFACTORING_first_attempt_at_generalizing_script/mom0/C2H5OH~16.5.11.2-16.4.12.2_raw.fits already exists.\n",
      "\n",
      "Dictionaries populated for this transition.\n",
      "\n",
      "Start 14(0,14)(2)-13(1,13)(2) moment0 procedure\n",
      "Make spectral slab between 230.94650177573573 GHz and 230.95012130405985 GHz\n",
      "Slicing quantum numbers\n",
      "/blue/adamginsburg/d.jeff/SgrB2DSreorg/field10/C2H5OH/DSi/COPILOTREFACTORING_first_attempt_at_generalizing_script/mom0/C2H5OH~14.0.14.2-13.1.13.2_raw.fits already exists.\n",
      "\n",
      "Dictionaries populated for this transition.\n",
      "Skipping excluded line: 21(5,17)(2)-21(4,18)(2)\n",
      "Skipping excluded line: 20(5,16)(2)-20(4,17)(2)\n",
      "\n",
      "Start 14(1,14)(0)-13(1,13)(0) moment0 procedure\n",
      "Make spectral slab between 231.62372866498367 GHz and 231.6273588072027 GHz\n",
      "Slicing quantum numbers\n",
      "/blue/adamginsburg/d.jeff/SgrB2DSreorg/field10/C2H5OH/DSi/COPILOTREFACTORING_first_attempt_at_generalizing_script/mom0/C2H5OH~14.1.14.0-13.1.13.0_raw.fits already exists.\n",
      "\n",
      "Dictionaries populated for this transition.\n",
      "\n",
      "Start 19(5,15)(2)-19(4,16)(2) moment0 procedure\n",
      "Make spectral slab between 231.69259478169727 GHz and 231.6962260032263 GHz\n",
      "Slicing quantum numbers\n",
      "/blue/adamginsburg/d.jeff/SgrB2DSreorg/field10/C2H5OH/DSi/COPILOTREFACTORING_first_attempt_at_generalizing_script/mom0/C2H5OH~19.5.15.2-19.4.16.2_raw.fits already exists.\n",
      "\n",
      "Dictionaries populated for this transition.\n",
      "Skipping excluded line: 22(5,18)(2)-22(4,19)(2)\n",
      "\n",
      "Start 18(5,14)(2)-18(4,15)(2) moment0 procedure\n",
      "Make spectral slab between 231.98955777057725 GHz and 231.99319364628352 GHz\n",
      "Slicing quantum numbers\n",
      "/blue/adamginsburg/d.jeff/SgrB2DSreorg/field10/C2H5OH/DSi/COPILOTREFACTORING_first_attempt_at_generalizing_script/mom0/C2H5OH~18.5.14.2-18.4.15.2_raw.fits already exists.\n",
      "\n",
      "Dictionaries populated for this transition.\n",
      "lines looped.\n",
      "\n",
      "Finished loop for spw2\n",
      "\n",
      "Accessing data cube /orange/adamginsburg/sgrb2/2017.1.00114.S/desmond/SgrB2DSminicubes/DSi/field10originals_K/spw3minimize.image.pbcor_line.fits\n",
      "Acquiring cube rest frequency and computing target pixel coordinates\n",
      "Passed increasing spectral axis check\n",
      "Stddev position - x: 311/y: 297\n",
      "Flux position - x: 39/y: 38\n",
      "\n",
      "linelooperLTE...\n",
      "\n",
      "Start 23(5,19)(2)-23(4,20)(2) moment0 procedure\n",
      "Make spectral slab between 232.27337441428836 GHz and 232.27701473813465 GHz\n",
      "Slicing quantum numbers\n",
      "/blue/adamginsburg/d.jeff/SgrB2DSreorg/field10/C2H5OH/DSi/COPILOTREFACTORING_first_attempt_at_generalizing_script/mom0/C2H5OH~23.5.19.2-23.4.20.2_raw.fits already exists.\n",
      "\n",
      "Dictionaries populated for this transition.\n",
      "\n",
      "Start 17(5,13)(2)-17(4,14)(2) moment0 procedure\n",
      "Make spectral slab between 232.3596847409334 GHz and 232.3633264174855 GHz\n",
      "Slicing quantum numbers\n",
      "/blue/adamginsburg/d.jeff/SgrB2DSreorg/field10/C2H5OH/DSi/COPILOTREFACTORING_first_attempt_at_generalizing_script/mom0/C2H5OH~17.5.13.2-17.4.14.2_raw.fits already exists.\n",
      "\n",
      "Dictionaries populated for this transition.\n",
      "\n",
      "Start 14(0,14)(0)-13(0,13)(0) moment0 procedure\n",
      "Make spectral slab between 232.4461449384529 GHz and 232.44978797005962 GHz\n",
      "Slicing quantum numbers\n",
      "/blue/adamginsburg/d.jeff/SgrB2DSreorg/field10/C2H5OH/DSi/COPILOTREFACTORING_first_attempt_at_generalizing_script/mom0/C2H5OH~14.0.14.0-13.0.13.0_raw.fits already exists.\n",
      "\n",
      "Dictionaries populated for this transition.\n",
      "\n",
      "Start 14(1,14)(1)-13(1,13)(1) moment0 procedure\n",
      "Make spectral slab between 232.55137468833976 GHz and 232.55501936916852 GHz\n",
      "Slicing quantum numbers\n",
      "/blue/adamginsburg/d.jeff/SgrB2DSreorg/field10/C2H5OH/DSi/COPILOTREFACTORING_first_attempt_at_generalizing_script/mom0/C2H5OH~14.1.14.1-13.1.13.1_raw.fits already exists.\n",
      "\n",
      "Dictionaries populated for this transition.\n",
      "\n",
      "Start 16(5,12)(2)-16(4,13)(2) moment0 procedure\n",
      "Make spectral slab between 232.76362773955864 GHz and 232.76727574694107 GHz\n",
      "Slicing quantum numbers\n",
      "/blue/adamginsburg/d.jeff/SgrB2DSreorg/field10/C2H5OH/DSi/COPILOTREFACTORING_first_attempt_at_generalizing_script/mom0/C2H5OH~16.5.12.2-16.4.13.2_raw.fits already exists.\n",
      "\n",
      "Dictionaries populated for this transition.\n",
      "Skipping excluded line: 13(5,8)(2)-13(4,9)(2)\n",
      "\n",
      "Start 13(5,9)(2)-13(4,10)(2) moment0 procedure\n",
      "Make spectral slab between 233.90577487725008 GHz and 233.90944078502886 GHz\n",
      "Slicing quantum numbers\n",
      "/blue/adamginsburg/d.jeff/SgrB2DSreorg/field10/C2H5OH/DSi/COPILOTREFACTORING_first_attempt_at_generalizing_script/mom0/C2H5OH~13.5.9.2-13.4.10.2_raw.fits already exists.\n",
      "\n",
      "Dictionaries populated for this transition.\n",
      "\n",
      "Start 12(5,7)(2)-12(4,8)(2) moment0 procedure\n",
      "Make spectral slab between 234.00567316324165 GHz and 234.00934063668464 GHz\n",
      "Slicing quantum numbers\n",
      "/blue/adamginsburg/d.jeff/SgrB2DSreorg/field10/C2H5OH/DSi/COPILOTREFACTORING_first_attempt_at_generalizing_script/mom0/C2H5OH~12.5.7.2-12.4.8.2_raw.fits already exists.\n",
      "\n",
      "Dictionaries populated for this transition.\n",
      "lines looped.\n",
      "\n",
      "Finished loop for spw3\n",
      "\n",
      "Begin fitting routines\n",
      "Compute N_uppers\n",
      "Transition: 13(0,13)(1)-12(1,12)(1)\n",
      "/blue/adamginsburg/d.jeff/SgrB2DSreorg/field10/C2H5OH/DSi/COPILOTREFACTORING_first_attempt_at_generalizing_script/nuppers/C2H5OH~13.0.13.1-12.1.12.1data.fits already exists. Populating Nupper/g dictionary.\n",
      "\n",
      "Transition: 21(5,16)(2)-21(4,17)(2)\n",
      "/blue/adamginsburg/d.jeff/SgrB2DSreorg/field10/C2H5OH/DSi/COPILOTREFACTORING_first_attempt_at_generalizing_script/nuppers/C2H5OH~21.5.16.2-21.4.17.2data.fits already exists. Populating Nupper/g dictionary.\n",
      "\n",
      "Transition: 16(5,11)(2)-16(4,12)(2)\n",
      "/blue/adamginsburg/d.jeff/SgrB2DSreorg/field10/C2H5OH/DSi/COPILOTREFACTORING_first_attempt_at_generalizing_script/nuppers/C2H5OH~16.5.11.2-16.4.12.2data.fits already exists. Populating Nupper/g dictionary.\n",
      "\n",
      "Transition: 14(0,14)(2)-13(1,13)(2)\n",
      "/blue/adamginsburg/d.jeff/SgrB2DSreorg/field10/C2H5OH/DSi/COPILOTREFACTORING_first_attempt_at_generalizing_script/nuppers/C2H5OH~14.0.14.2-13.1.13.2data.fits already exists. Populating Nupper/g dictionary.\n",
      "\n",
      "Transition: 14(1,14)(0)-13(1,13)(0)\n",
      "/blue/adamginsburg/d.jeff/SgrB2DSreorg/field10/C2H5OH/DSi/COPILOTREFACTORING_first_attempt_at_generalizing_script/nuppers/C2H5OH~14.1.14.0-13.1.13.0data.fits already exists. Populating Nupper/g dictionary.\n",
      "\n",
      "Transition: 19(5,15)(2)-19(4,16)(2)\n",
      "/blue/adamginsburg/d.jeff/SgrB2DSreorg/field10/C2H5OH/DSi/COPILOTREFACTORING_first_attempt_at_generalizing_script/nuppers/C2H5OH~19.5.15.2-19.4.16.2data.fits already exists. Populating Nupper/g dictionary.\n",
      "\n",
      "Transition: 18(5,14)(2)-18(4,15)(2)\n",
      "/blue/adamginsburg/d.jeff/SgrB2DSreorg/field10/C2H5OH/DSi/COPILOTREFACTORING_first_attempt_at_generalizing_script/nuppers/C2H5OH~18.5.14.2-18.4.15.2data.fits already exists. Populating Nupper/g dictionary.\n",
      "\n",
      "Transition: 23(5,19)(2)-23(4,20)(2)\n",
      "/blue/adamginsburg/d.jeff/SgrB2DSreorg/field10/C2H5OH/DSi/COPILOTREFACTORING_first_attempt_at_generalizing_script/nuppers/C2H5OH~23.5.19.2-23.4.20.2data.fits already exists. Populating Nupper/g dictionary.\n",
      "\n",
      "Transition: 17(5,13)(2)-17(4,14)(2)\n",
      "/blue/adamginsburg/d.jeff/SgrB2DSreorg/field10/C2H5OH/DSi/COPILOTREFACTORING_first_attempt_at_generalizing_script/nuppers/C2H5OH~17.5.13.2-17.4.14.2data.fits already exists. Populating Nupper/g dictionary.\n",
      "\n",
      "Transition: 14(0,14)(0)-13(0,13)(0)\n",
      "/blue/adamginsburg/d.jeff/SgrB2DSreorg/field10/C2H5OH/DSi/COPILOTREFACTORING_first_attempt_at_generalizing_script/nuppers/C2H5OH~14.0.14.0-13.0.13.0data.fits already exists. Populating Nupper/g dictionary.\n",
      "\n",
      "Transition: 14(1,14)(1)-13(1,13)(1)\n",
      "/blue/adamginsburg/d.jeff/SgrB2DSreorg/field10/C2H5OH/DSi/COPILOTREFACTORING_first_attempt_at_generalizing_script/nuppers/C2H5OH~14.1.14.1-13.1.13.1data.fits already exists. Populating Nupper/g dictionary.\n",
      "\n",
      "Transition: 16(5,12)(2)-16(4,13)(2)\n",
      "/blue/adamginsburg/d.jeff/SgrB2DSreorg/field10/C2H5OH/DSi/COPILOTREFACTORING_first_attempt_at_generalizing_script/nuppers/C2H5OH~16.5.12.2-16.4.13.2data.fits already exists. Populating Nupper/g dictionary.\n",
      "\n",
      "Transition: 13(5,9)(2)-13(4,10)(2)\n",
      "/blue/adamginsburg/d.jeff/SgrB2DSreorg/field10/C2H5OH/DSi/COPILOTREFACTORING_first_attempt_at_generalizing_script/nuppers/C2H5OH~13.5.9.2-13.4.10.2data.fits already exists. Populating Nupper/g dictionary.\n",
      "\n",
      "Transition: 12(5,7)(2)-12(4,8)(2)\n",
      "/blue/adamginsburg/d.jeff/SgrB2DSreorg/field10/C2H5OH/DSi/COPILOTREFACTORING_first_attempt_at_generalizing_script/nuppers/C2H5OH~12.5.7.2-12.4.8.2data.fits already exists. Populating Nupper/g dictionary.\n",
      "\n",
      "Nupper calcs complete\n",
      "\n",
      "Setting up and executing model fit\n",
      "Starting rotational  C2H5OH  diagram loops\n",
      "Starting row 0 of 76\n"
     ]
    },
    {
     "name": "stderr",
     "output_type": "stream",
     "text": [
      "overflow encountered in scalar power\n",
      "Mean of empty slice.\n",
      "invalid value encountered in scalar divide\n",
      "divide by zero encountered in scalar divide\n",
      "divide by zero encountered in scalar divide\n"
     ]
    },
    {
     "name": "stdout",
     "output_type": "stream",
     "text": [
      "Starting row 1 of 76\n",
      "Starting row 2 of 76\n",
      "Starting row 3 of 76\n",
      "Starting row 4 of 76\n",
      "Starting row 5 of 76\n",
      "Starting row 6 of 76\n",
      "Starting row 7 of 76\n",
      "Starting row 8 of 76\n",
      "Starting row 9 of 76\n",
      "Starting row 10 of 76\n",
      "Starting row 11 of 76\n",
      "Starting row 12 of 76\n",
      "Starting row 13 of 76\n",
      "Starting row 14 of 76\n",
      "Starting row 15 of 76\n",
      "Starting row 16 of 76\n",
      "Starting row 17 of 76\n",
      "Starting row 18 of 76\n",
      "Starting row 19 of 76\n",
      "Starting row 20 of 76\n",
      "Starting row 21 of 76\n",
      "Starting row 22 of 76\n",
      "Starting row 23 of 76\n",
      "Starting row 24 of 76\n",
      "Starting row 25 of 76\n",
      "Starting row 26 of 76\n",
      "Starting row 27 of 76\n",
      "Starting row 28 of 76\n",
      "Starting row 29 of 76\n",
      "Starting row 30 of 76\n",
      "Starting row 31 of 76\n",
      "Starting row 32 of 76\n",
      "Starting row 33 of 76\n",
      "Starting row 34 of 76\n",
      "Starting row 35 of 76\n",
      "Diagram saved to /blue/adamginsburg/d.jeff/SgrB2DSreorg/field10/C2H5OH/DSi/COPILOTREFACTORING_first_attempt_at_generalizing_script/pixelwiserotationaldiagrams/rotdiag_pixel_35-35.png\n",
      "Diagram saved to /blue/adamginsburg/d.jeff/SgrB2DSreorg/field10/C2H5OH/DSi/COPILOTREFACTORING_first_attempt_at_generalizing_script/pixelwiserotationaldiagrams/rotdiag_pixel_35-36.png\n",
      "Diagram saved to /blue/adamginsburg/d.jeff/SgrB2DSreorg/field10/C2H5OH/DSi/COPILOTREFACTORING_first_attempt_at_generalizing_script/pixelwiserotationaldiagrams/rotdiag_pixel_35-37.png\n",
      "Diagram saved to /blue/adamginsburg/d.jeff/SgrB2DSreorg/field10/C2H5OH/DSi/COPILOTREFACTORING_first_attempt_at_generalizing_script/pixelwiserotationaldiagrams/rotdiag_pixel_35-38.png\n",
      "Diagram saved to /blue/adamginsburg/d.jeff/SgrB2DSreorg/field10/C2H5OH/DSi/COPILOTREFACTORING_first_attempt_at_generalizing_script/pixelwiserotationaldiagrams/rotdiag_pixel_35-39.png\n",
      "Diagram saved to /blue/adamginsburg/d.jeff/SgrB2DSreorg/field10/C2H5OH/DSi/COPILOTREFACTORING_first_attempt_at_generalizing_script/pixelwiserotationaldiagrams/rotdiag_pixel_35-40.png\n",
      "Diagram saved to /blue/adamginsburg/d.jeff/SgrB2DSreorg/field10/C2H5OH/DSi/COPILOTREFACTORING_first_attempt_at_generalizing_script/pixelwiserotationaldiagrams/rotdiag_pixel_35-41.png\n",
      "Diagram saved to /blue/adamginsburg/d.jeff/SgrB2DSreorg/field10/C2H5OH/DSi/COPILOTREFACTORING_first_attempt_at_generalizing_script/pixelwiserotationaldiagrams/rotdiag_pixel_35-42.png\n",
      "Diagram saved to /blue/adamginsburg/d.jeff/SgrB2DSreorg/field10/C2H5OH/DSi/COPILOTREFACTORING_first_attempt_at_generalizing_script/pixelwiserotationaldiagrams/rotdiag_pixel_35-43.png\n",
      "Diagram saved to /blue/adamginsburg/d.jeff/SgrB2DSreorg/field10/C2H5OH/DSi/COPILOTREFACTORING_first_attempt_at_generalizing_script/pixelwiserotationaldiagrams/rotdiag_pixel_35-44.png\n",
      "Diagram saved to /blue/adamginsburg/d.jeff/SgrB2DSreorg/field10/C2H5OH/DSi/COPILOTREFACTORING_first_attempt_at_generalizing_script/pixelwiserotationaldiagrams/rotdiag_pixel_35-45.png\n",
      "Diagram saved to /blue/adamginsburg/d.jeff/SgrB2DSreorg/field10/C2H5OH/DSi/COPILOTREFACTORING_first_attempt_at_generalizing_script/pixelwiserotationaldiagrams/rotdiag_pixel_35-46.png\n",
      "Diagram saved to /blue/adamginsburg/d.jeff/SgrB2DSreorg/field10/C2H5OH/DSi/COPILOTREFACTORING_first_attempt_at_generalizing_script/pixelwiserotationaldiagrams/rotdiag_pixel_35-47.png\n",
      "Diagram saved to /blue/adamginsburg/d.jeff/SgrB2DSreorg/field10/C2H5OH/DSi/COPILOTREFACTORING_first_attempt_at_generalizing_script/pixelwiserotationaldiagrams/rotdiag_pixel_35-48.png\n",
      "Diagram saved to /blue/adamginsburg/d.jeff/SgrB2DSreorg/field10/C2H5OH/DSi/COPILOTREFACTORING_first_attempt_at_generalizing_script/pixelwiserotationaldiagrams/rotdiag_pixel_35-49.png\n",
      "Diagram saved to /blue/adamginsburg/d.jeff/SgrB2DSreorg/field10/C2H5OH/DSi/COPILOTREFACTORING_first_attempt_at_generalizing_script/pixelwiserotationaldiagrams/rotdiag_pixel_35-50.png\n",
      "Starting row 36 of 76\n",
      "Diagram saved to /blue/adamginsburg/d.jeff/SgrB2DSreorg/field10/C2H5OH/DSi/COPILOTREFACTORING_first_attempt_at_generalizing_script/pixelwiserotationaldiagrams/rotdiag_pixel_36-35.png\n",
      "Diagram saved to /blue/adamginsburg/d.jeff/SgrB2DSreorg/field10/C2H5OH/DSi/COPILOTREFACTORING_first_attempt_at_generalizing_script/pixelwiserotationaldiagrams/rotdiag_pixel_36-36.png\n",
      "Diagram saved to /blue/adamginsburg/d.jeff/SgrB2DSreorg/field10/C2H5OH/DSi/COPILOTREFACTORING_first_attempt_at_generalizing_script/pixelwiserotationaldiagrams/rotdiag_pixel_36-37.png\n",
      "Diagram saved to /blue/adamginsburg/d.jeff/SgrB2DSreorg/field10/C2H5OH/DSi/COPILOTREFACTORING_first_attempt_at_generalizing_script/pixelwiserotationaldiagrams/rotdiag_pixel_36-38.png\n",
      "Diagram saved to /blue/adamginsburg/d.jeff/SgrB2DSreorg/field10/C2H5OH/DSi/COPILOTREFACTORING_first_attempt_at_generalizing_script/pixelwiserotationaldiagrams/rotdiag_pixel_36-39.png\n",
      "Diagram saved to /blue/adamginsburg/d.jeff/SgrB2DSreorg/field10/C2H5OH/DSi/COPILOTREFACTORING_first_attempt_at_generalizing_script/pixelwiserotationaldiagrams/rotdiag_pixel_36-40.png\n",
      "Diagram saved to /blue/adamginsburg/d.jeff/SgrB2DSreorg/field10/C2H5OH/DSi/COPILOTREFACTORING_first_attempt_at_generalizing_script/pixelwiserotationaldiagrams/rotdiag_pixel_36-41.png\n",
      "Diagram saved to /blue/adamginsburg/d.jeff/SgrB2DSreorg/field10/C2H5OH/DSi/COPILOTREFACTORING_first_attempt_at_generalizing_script/pixelwiserotationaldiagrams/rotdiag_pixel_36-42.png\n",
      "Diagram saved to /blue/adamginsburg/d.jeff/SgrB2DSreorg/field10/C2H5OH/DSi/COPILOTREFACTORING_first_attempt_at_generalizing_script/pixelwiserotationaldiagrams/rotdiag_pixel_36-43.png\n",
      "Diagram saved to /blue/adamginsburg/d.jeff/SgrB2DSreorg/field10/C2H5OH/DSi/COPILOTREFACTORING_first_attempt_at_generalizing_script/pixelwiserotationaldiagrams/rotdiag_pixel_36-44.png\n",
      "Diagram saved to /blue/adamginsburg/d.jeff/SgrB2DSreorg/field10/C2H5OH/DSi/COPILOTREFACTORING_first_attempt_at_generalizing_script/pixelwiserotationaldiagrams/rotdiag_pixel_36-45.png\n",
      "Diagram saved to /blue/adamginsburg/d.jeff/SgrB2DSreorg/field10/C2H5OH/DSi/COPILOTREFACTORING_first_attempt_at_generalizing_script/pixelwiserotationaldiagrams/rotdiag_pixel_36-46.png\n",
      "Diagram saved to /blue/adamginsburg/d.jeff/SgrB2DSreorg/field10/C2H5OH/DSi/COPILOTREFACTORING_first_attempt_at_generalizing_script/pixelwiserotationaldiagrams/rotdiag_pixel_36-47.png\n",
      "Diagram saved to /blue/adamginsburg/d.jeff/SgrB2DSreorg/field10/C2H5OH/DSi/COPILOTREFACTORING_first_attempt_at_generalizing_script/pixelwiserotationaldiagrams/rotdiag_pixel_36-48.png\n",
      "Diagram saved to /blue/adamginsburg/d.jeff/SgrB2DSreorg/field10/C2H5OH/DSi/COPILOTREFACTORING_first_attempt_at_generalizing_script/pixelwiserotationaldiagrams/rotdiag_pixel_36-49.png\n",
      "Diagram saved to /blue/adamginsburg/d.jeff/SgrB2DSreorg/field10/C2H5OH/DSi/COPILOTREFACTORING_first_attempt_at_generalizing_script/pixelwiserotationaldiagrams/rotdiag_pixel_36-50.png\n",
      "Starting row 37 of 76\n",
      "Diagram saved to /blue/adamginsburg/d.jeff/SgrB2DSreorg/field10/C2H5OH/DSi/COPILOTREFACTORING_first_attempt_at_generalizing_script/pixelwiserotationaldiagrams/rotdiag_pixel_37-35.png\n",
      "Diagram saved to /blue/adamginsburg/d.jeff/SgrB2DSreorg/field10/C2H5OH/DSi/COPILOTREFACTORING_first_attempt_at_generalizing_script/pixelwiserotationaldiagrams/rotdiag_pixel_37-36.png\n",
      "Diagram saved to /blue/adamginsburg/d.jeff/SgrB2DSreorg/field10/C2H5OH/DSi/COPILOTREFACTORING_first_attempt_at_generalizing_script/pixelwiserotationaldiagrams/rotdiag_pixel_37-37.png\n",
      "Diagram saved to /blue/adamginsburg/d.jeff/SgrB2DSreorg/field10/C2H5OH/DSi/COPILOTREFACTORING_first_attempt_at_generalizing_script/pixelwiserotationaldiagrams/rotdiag_pixel_37-38.png\n",
      "Diagram saved to /blue/adamginsburg/d.jeff/SgrB2DSreorg/field10/C2H5OH/DSi/COPILOTREFACTORING_first_attempt_at_generalizing_script/pixelwiserotationaldiagrams/rotdiag_pixel_37-39.png\n",
      "Diagram saved to /blue/adamginsburg/d.jeff/SgrB2DSreorg/field10/C2H5OH/DSi/COPILOTREFACTORING_first_attempt_at_generalizing_script/pixelwiserotationaldiagrams/rotdiag_pixel_37-40.png\n",
      "Diagram saved to /blue/adamginsburg/d.jeff/SgrB2DSreorg/field10/C2H5OH/DSi/COPILOTREFACTORING_first_attempt_at_generalizing_script/pixelwiserotationaldiagrams/rotdiag_pixel_37-41.png\n",
      "Diagram saved to /blue/adamginsburg/d.jeff/SgrB2DSreorg/field10/C2H5OH/DSi/COPILOTREFACTORING_first_attempt_at_generalizing_script/pixelwiserotationaldiagrams/rotdiag_pixel_37-42.png\n",
      "Diagram saved to /blue/adamginsburg/d.jeff/SgrB2DSreorg/field10/C2H5OH/DSi/COPILOTREFACTORING_first_attempt_at_generalizing_script/pixelwiserotationaldiagrams/rotdiag_pixel_37-43.png\n",
      "Diagram saved to /blue/adamginsburg/d.jeff/SgrB2DSreorg/field10/C2H5OH/DSi/COPILOTREFACTORING_first_attempt_at_generalizing_script/pixelwiserotationaldiagrams/rotdiag_pixel_37-44.png\n",
      "Diagram saved to /blue/adamginsburg/d.jeff/SgrB2DSreorg/field10/C2H5OH/DSi/COPILOTREFACTORING_first_attempt_at_generalizing_script/pixelwiserotationaldiagrams/rotdiag_pixel_37-45.png\n",
      "Diagram saved to /blue/adamginsburg/d.jeff/SgrB2DSreorg/field10/C2H5OH/DSi/COPILOTREFACTORING_first_attempt_at_generalizing_script/pixelwiserotationaldiagrams/rotdiag_pixel_37-46.png\n",
      "Diagram saved to /blue/adamginsburg/d.jeff/SgrB2DSreorg/field10/C2H5OH/DSi/COPILOTREFACTORING_first_attempt_at_generalizing_script/pixelwiserotationaldiagrams/rotdiag_pixel_37-47.png\n",
      "Diagram saved to /blue/adamginsburg/d.jeff/SgrB2DSreorg/field10/C2H5OH/DSi/COPILOTREFACTORING_first_attempt_at_generalizing_script/pixelwiserotationaldiagrams/rotdiag_pixel_37-48.png\n",
      "Diagram saved to /blue/adamginsburg/d.jeff/SgrB2DSreorg/field10/C2H5OH/DSi/COPILOTREFACTORING_first_attempt_at_generalizing_script/pixelwiserotationaldiagrams/rotdiag_pixel_37-49.png\n",
      "Diagram saved to /blue/adamginsburg/d.jeff/SgrB2DSreorg/field10/C2H5OH/DSi/COPILOTREFACTORING_first_attempt_at_generalizing_script/pixelwiserotationaldiagrams/rotdiag_pixel_37-50.png\n",
      "Starting row 38 of 76\n",
      "Diagram saved to /blue/adamginsburg/d.jeff/SgrB2DSreorg/field10/C2H5OH/DSi/COPILOTREFACTORING_first_attempt_at_generalizing_script/pixelwiserotationaldiagrams/rotdiag_pixel_38-35.png\n",
      "Diagram saved to /blue/adamginsburg/d.jeff/SgrB2DSreorg/field10/C2H5OH/DSi/COPILOTREFACTORING_first_attempt_at_generalizing_script/pixelwiserotationaldiagrams/rotdiag_pixel_38-36.png\n",
      "Diagram saved to /blue/adamginsburg/d.jeff/SgrB2DSreorg/field10/C2H5OH/DSi/COPILOTREFACTORING_first_attempt_at_generalizing_script/pixelwiserotationaldiagrams/rotdiag_pixel_38-37.png\n",
      "Diagram saved to /blue/adamginsburg/d.jeff/SgrB2DSreorg/field10/C2H5OH/DSi/COPILOTREFACTORING_first_attempt_at_generalizing_script/pixelwiserotationaldiagrams/rotdiag_pixel_38-38.png\n",
      "Diagram saved to /blue/adamginsburg/d.jeff/SgrB2DSreorg/field10/C2H5OH/DSi/COPILOTREFACTORING_first_attempt_at_generalizing_script/pixelwiserotationaldiagrams/rotdiag_pixel_38-39.png\n",
      "Diagram saved to /blue/adamginsburg/d.jeff/SgrB2DSreorg/field10/C2H5OH/DSi/COPILOTREFACTORING_first_attempt_at_generalizing_script/pixelwiserotationaldiagrams/rotdiag_pixel_38-40.png\n",
      "Diagram saved to /blue/adamginsburg/d.jeff/SgrB2DSreorg/field10/C2H5OH/DSi/COPILOTREFACTORING_first_attempt_at_generalizing_script/pixelwiserotationaldiagrams/rotdiag_pixel_38-41.png\n",
      "Diagram saved to /blue/adamginsburg/d.jeff/SgrB2DSreorg/field10/C2H5OH/DSi/COPILOTREFACTORING_first_attempt_at_generalizing_script/pixelwiserotationaldiagrams/rotdiag_pixel_38-42.png\n",
      "Diagram saved to /blue/adamginsburg/d.jeff/SgrB2DSreorg/field10/C2H5OH/DSi/COPILOTREFACTORING_first_attempt_at_generalizing_script/pixelwiserotationaldiagrams/rotdiag_pixel_38-43.png\n",
      "Diagram saved to /blue/adamginsburg/d.jeff/SgrB2DSreorg/field10/C2H5OH/DSi/COPILOTREFACTORING_first_attempt_at_generalizing_script/pixelwiserotationaldiagrams/rotdiag_pixel_38-44.png\n",
      "Diagram saved to /blue/adamginsburg/d.jeff/SgrB2DSreorg/field10/C2H5OH/DSi/COPILOTREFACTORING_first_attempt_at_generalizing_script/pixelwiserotationaldiagrams/rotdiag_pixel_38-45.png\n",
      "Diagram saved to /blue/adamginsburg/d.jeff/SgrB2DSreorg/field10/C2H5OH/DSi/COPILOTREFACTORING_first_attempt_at_generalizing_script/pixelwiserotationaldiagrams/rotdiag_pixel_38-46.png\n",
      "Diagram saved to /blue/adamginsburg/d.jeff/SgrB2DSreorg/field10/C2H5OH/DSi/COPILOTREFACTORING_first_attempt_at_generalizing_script/pixelwiserotationaldiagrams/rotdiag_pixel_38-47.png\n",
      "Diagram saved to /blue/adamginsburg/d.jeff/SgrB2DSreorg/field10/C2H5OH/DSi/COPILOTREFACTORING_first_attempt_at_generalizing_script/pixelwiserotationaldiagrams/rotdiag_pixel_38-48.png\n",
      "Diagram saved to /blue/adamginsburg/d.jeff/SgrB2DSreorg/field10/C2H5OH/DSi/COPILOTREFACTORING_first_attempt_at_generalizing_script/pixelwiserotationaldiagrams/rotdiag_pixel_38-49.png\n",
      "Diagram saved to /blue/adamginsburg/d.jeff/SgrB2DSreorg/field10/C2H5OH/DSi/COPILOTREFACTORING_first_attempt_at_generalizing_script/pixelwiserotationaldiagrams/rotdiag_pixel_38-50.png\n",
      "Starting row 39 of 76\n",
      "Diagram saved to /blue/adamginsburg/d.jeff/SgrB2DSreorg/field10/C2H5OH/DSi/COPILOTREFACTORING_first_attempt_at_generalizing_script/pixelwiserotationaldiagrams/rotdiag_pixel_39-35.png\n",
      "Diagram saved to /blue/adamginsburg/d.jeff/SgrB2DSreorg/field10/C2H5OH/DSi/COPILOTREFACTORING_first_attempt_at_generalizing_script/pixelwiserotationaldiagrams/rotdiag_pixel_39-36.png\n",
      "Diagram saved to /blue/adamginsburg/d.jeff/SgrB2DSreorg/field10/C2H5OH/DSi/COPILOTREFACTORING_first_attempt_at_generalizing_script/pixelwiserotationaldiagrams/rotdiag_pixel_39-37.png\n",
      "Diagram saved to /blue/adamginsburg/d.jeff/SgrB2DSreorg/field10/C2H5OH/DSi/COPILOTREFACTORING_first_attempt_at_generalizing_script/pixelwiserotationaldiagrams/rotdiag_pixel_39-38.png\n",
      "Diagram saved to /blue/adamginsburg/d.jeff/SgrB2DSreorg/field10/C2H5OH/DSi/COPILOTREFACTORING_first_attempt_at_generalizing_script/pixelwiserotationaldiagrams/rotdiag_pixel_39-39.png\n",
      "Diagram saved to /blue/adamginsburg/d.jeff/SgrB2DSreorg/field10/C2H5OH/DSi/COPILOTREFACTORING_first_attempt_at_generalizing_script/pixelwiserotationaldiagrams/rotdiag_pixel_39-40.png\n",
      "Diagram saved to /blue/adamginsburg/d.jeff/SgrB2DSreorg/field10/C2H5OH/DSi/COPILOTREFACTORING_first_attempt_at_generalizing_script/pixelwiserotationaldiagrams/rotdiag_pixel_39-41.png\n",
      "Diagram saved to /blue/adamginsburg/d.jeff/SgrB2DSreorg/field10/C2H5OH/DSi/COPILOTREFACTORING_first_attempt_at_generalizing_script/pixelwiserotationaldiagrams/rotdiag_pixel_39-42.png\n",
      "Diagram saved to /blue/adamginsburg/d.jeff/SgrB2DSreorg/field10/C2H5OH/DSi/COPILOTREFACTORING_first_attempt_at_generalizing_script/pixelwiserotationaldiagrams/rotdiag_pixel_39-43.png\n",
      "Diagram saved to /blue/adamginsburg/d.jeff/SgrB2DSreorg/field10/C2H5OH/DSi/COPILOTREFACTORING_first_attempt_at_generalizing_script/pixelwiserotationaldiagrams/rotdiag_pixel_39-44.png\n",
      "Diagram saved to /blue/adamginsburg/d.jeff/SgrB2DSreorg/field10/C2H5OH/DSi/COPILOTREFACTORING_first_attempt_at_generalizing_script/pixelwiserotationaldiagrams/rotdiag_pixel_39-45.png\n",
      "Diagram saved to /blue/adamginsburg/d.jeff/SgrB2DSreorg/field10/C2H5OH/DSi/COPILOTREFACTORING_first_attempt_at_generalizing_script/pixelwiserotationaldiagrams/rotdiag_pixel_39-46.png\n",
      "Diagram saved to /blue/adamginsburg/d.jeff/SgrB2DSreorg/field10/C2H5OH/DSi/COPILOTREFACTORING_first_attempt_at_generalizing_script/pixelwiserotationaldiagrams/rotdiag_pixel_39-47.png\n",
      "Diagram saved to /blue/adamginsburg/d.jeff/SgrB2DSreorg/field10/C2H5OH/DSi/COPILOTREFACTORING_first_attempt_at_generalizing_script/pixelwiserotationaldiagrams/rotdiag_pixel_39-48.png\n",
      "Diagram saved to /blue/adamginsburg/d.jeff/SgrB2DSreorg/field10/C2H5OH/DSi/COPILOTREFACTORING_first_attempt_at_generalizing_script/pixelwiserotationaldiagrams/rotdiag_pixel_39-49.png\n",
      "Diagram saved to /blue/adamginsburg/d.jeff/SgrB2DSreorg/field10/C2H5OH/DSi/COPILOTREFACTORING_first_attempt_at_generalizing_script/pixelwiserotationaldiagrams/rotdiag_pixel_39-50.png\n",
      "Starting row 40 of 76\n",
      "Diagram saved to /blue/adamginsburg/d.jeff/SgrB2DSreorg/field10/C2H5OH/DSi/COPILOTREFACTORING_first_attempt_at_generalizing_script/pixelwiserotationaldiagrams/rotdiag_pixel_40-35.png\n",
      "Diagram saved to /blue/adamginsburg/d.jeff/SgrB2DSreorg/field10/C2H5OH/DSi/COPILOTREFACTORING_first_attempt_at_generalizing_script/pixelwiserotationaldiagrams/rotdiag_pixel_40-36.png\n",
      "Diagram saved to /blue/adamginsburg/d.jeff/SgrB2DSreorg/field10/C2H5OH/DSi/COPILOTREFACTORING_first_attempt_at_generalizing_script/pixelwiserotationaldiagrams/rotdiag_pixel_40-37.png\n",
      "Diagram saved to /blue/adamginsburg/d.jeff/SgrB2DSreorg/field10/C2H5OH/DSi/COPILOTREFACTORING_first_attempt_at_generalizing_script/pixelwiserotationaldiagrams/rotdiag_pixel_40-38.png\n",
      "Diagram saved to /blue/adamginsburg/d.jeff/SgrB2DSreorg/field10/C2H5OH/DSi/COPILOTREFACTORING_first_attempt_at_generalizing_script/pixelwiserotationaldiagrams/rotdiag_pixel_40-39.png\n",
      "Diagram saved to /blue/adamginsburg/d.jeff/SgrB2DSreorg/field10/C2H5OH/DSi/COPILOTREFACTORING_first_attempt_at_generalizing_script/pixelwiserotationaldiagrams/rotdiag_pixel_40-40.png\n",
      "Diagram saved to /blue/adamginsburg/d.jeff/SgrB2DSreorg/field10/C2H5OH/DSi/COPILOTREFACTORING_first_attempt_at_generalizing_script/pixelwiserotationaldiagrams/rotdiag_pixel_40-41.png\n",
      "Diagram saved to /blue/adamginsburg/d.jeff/SgrB2DSreorg/field10/C2H5OH/DSi/COPILOTREFACTORING_first_attempt_at_generalizing_script/pixelwiserotationaldiagrams/rotdiag_pixel_40-42.png\n",
      "Diagram saved to /blue/adamginsburg/d.jeff/SgrB2DSreorg/field10/C2H5OH/DSi/COPILOTREFACTORING_first_attempt_at_generalizing_script/pixelwiserotationaldiagrams/rotdiag_pixel_40-43.png\n",
      "Diagram saved to /blue/adamginsburg/d.jeff/SgrB2DSreorg/field10/C2H5OH/DSi/COPILOTREFACTORING_first_attempt_at_generalizing_script/pixelwiserotationaldiagrams/rotdiag_pixel_40-44.png\n",
      "Diagram saved to /blue/adamginsburg/d.jeff/SgrB2DSreorg/field10/C2H5OH/DSi/COPILOTREFACTORING_first_attempt_at_generalizing_script/pixelwiserotationaldiagrams/rotdiag_pixel_40-45.png\n",
      "Diagram saved to /blue/adamginsburg/d.jeff/SgrB2DSreorg/field10/C2H5OH/DSi/COPILOTREFACTORING_first_attempt_at_generalizing_script/pixelwiserotationaldiagrams/rotdiag_pixel_40-46.png\n",
      "Diagram saved to /blue/adamginsburg/d.jeff/SgrB2DSreorg/field10/C2H5OH/DSi/COPILOTREFACTORING_first_attempt_at_generalizing_script/pixelwiserotationaldiagrams/rotdiag_pixel_40-47.png\n",
      "Diagram saved to /blue/adamginsburg/d.jeff/SgrB2DSreorg/field10/C2H5OH/DSi/COPILOTREFACTORING_first_attempt_at_generalizing_script/pixelwiserotationaldiagrams/rotdiag_pixel_40-48.png\n",
      "Diagram saved to /blue/adamginsburg/d.jeff/SgrB2DSreorg/field10/C2H5OH/DSi/COPILOTREFACTORING_first_attempt_at_generalizing_script/pixelwiserotationaldiagrams/rotdiag_pixel_40-49.png\n",
      "Diagram saved to /blue/adamginsburg/d.jeff/SgrB2DSreorg/field10/C2H5OH/DSi/COPILOTREFACTORING_first_attempt_at_generalizing_script/pixelwiserotationaldiagrams/rotdiag_pixel_40-50.png\n",
      "Starting row 41 of 76\n",
      "Diagram saved to /blue/adamginsburg/d.jeff/SgrB2DSreorg/field10/C2H5OH/DSi/COPILOTREFACTORING_first_attempt_at_generalizing_script/pixelwiserotationaldiagrams/rotdiag_pixel_41-35.png\n",
      "Diagram saved to /blue/adamginsburg/d.jeff/SgrB2DSreorg/field10/C2H5OH/DSi/COPILOTREFACTORING_first_attempt_at_generalizing_script/pixelwiserotationaldiagrams/rotdiag_pixel_41-36.png\n",
      "Diagram saved to /blue/adamginsburg/d.jeff/SgrB2DSreorg/field10/C2H5OH/DSi/COPILOTREFACTORING_first_attempt_at_generalizing_script/pixelwiserotationaldiagrams/rotdiag_pixel_41-37.png\n",
      "Diagram saved to /blue/adamginsburg/d.jeff/SgrB2DSreorg/field10/C2H5OH/DSi/COPILOTREFACTORING_first_attempt_at_generalizing_script/pixelwiserotationaldiagrams/rotdiag_pixel_41-38.png\n",
      "Diagram saved to /blue/adamginsburg/d.jeff/SgrB2DSreorg/field10/C2H5OH/DSi/COPILOTREFACTORING_first_attempt_at_generalizing_script/pixelwiserotationaldiagrams/rotdiag_pixel_41-39.png\n",
      "Diagram saved to /blue/adamginsburg/d.jeff/SgrB2DSreorg/field10/C2H5OH/DSi/COPILOTREFACTORING_first_attempt_at_generalizing_script/pixelwiserotationaldiagrams/rotdiag_pixel_41-40.png\n",
      "Diagram saved to /blue/adamginsburg/d.jeff/SgrB2DSreorg/field10/C2H5OH/DSi/COPILOTREFACTORING_first_attempt_at_generalizing_script/pixelwiserotationaldiagrams/rotdiag_pixel_41-41.png\n",
      "Diagram saved to /blue/adamginsburg/d.jeff/SgrB2DSreorg/field10/C2H5OH/DSi/COPILOTREFACTORING_first_attempt_at_generalizing_script/pixelwiserotationaldiagrams/rotdiag_pixel_41-42.png\n",
      "Diagram saved to /blue/adamginsburg/d.jeff/SgrB2DSreorg/field10/C2H5OH/DSi/COPILOTREFACTORING_first_attempt_at_generalizing_script/pixelwiserotationaldiagrams/rotdiag_pixel_41-43.png\n",
      "Diagram saved to /blue/adamginsburg/d.jeff/SgrB2DSreorg/field10/C2H5OH/DSi/COPILOTREFACTORING_first_attempt_at_generalizing_script/pixelwiserotationaldiagrams/rotdiag_pixel_41-44.png\n",
      "Diagram saved to /blue/adamginsburg/d.jeff/SgrB2DSreorg/field10/C2H5OH/DSi/COPILOTREFACTORING_first_attempt_at_generalizing_script/pixelwiserotationaldiagrams/rotdiag_pixel_41-45.png\n",
      "Diagram saved to /blue/adamginsburg/d.jeff/SgrB2DSreorg/field10/C2H5OH/DSi/COPILOTREFACTORING_first_attempt_at_generalizing_script/pixelwiserotationaldiagrams/rotdiag_pixel_41-46.png\n",
      "Diagram saved to /blue/adamginsburg/d.jeff/SgrB2DSreorg/field10/C2H5OH/DSi/COPILOTREFACTORING_first_attempt_at_generalizing_script/pixelwiserotationaldiagrams/rotdiag_pixel_41-47.png\n",
      "Diagram saved to /blue/adamginsburg/d.jeff/SgrB2DSreorg/field10/C2H5OH/DSi/COPILOTREFACTORING_first_attempt_at_generalizing_script/pixelwiserotationaldiagrams/rotdiag_pixel_41-48.png\n",
      "Diagram saved to /blue/adamginsburg/d.jeff/SgrB2DSreorg/field10/C2H5OH/DSi/COPILOTREFACTORING_first_attempt_at_generalizing_script/pixelwiserotationaldiagrams/rotdiag_pixel_41-49.png\n",
      "Diagram saved to /blue/adamginsburg/d.jeff/SgrB2DSreorg/field10/C2H5OH/DSi/COPILOTREFACTORING_first_attempt_at_generalizing_script/pixelwiserotationaldiagrams/rotdiag_pixel_41-50.png\n",
      "Starting row 42 of 76\n",
      "Diagram saved to /blue/adamginsburg/d.jeff/SgrB2DSreorg/field10/C2H5OH/DSi/COPILOTREFACTORING_first_attempt_at_generalizing_script/pixelwiserotationaldiagrams/rotdiag_pixel_42-35.png\n",
      "Diagram saved to /blue/adamginsburg/d.jeff/SgrB2DSreorg/field10/C2H5OH/DSi/COPILOTREFACTORING_first_attempt_at_generalizing_script/pixelwiserotationaldiagrams/rotdiag_pixel_42-36.png\n",
      "Diagram saved to /blue/adamginsburg/d.jeff/SgrB2DSreorg/field10/C2H5OH/DSi/COPILOTREFACTORING_first_attempt_at_generalizing_script/pixelwiserotationaldiagrams/rotdiag_pixel_42-37.png\n",
      "Diagram saved to /blue/adamginsburg/d.jeff/SgrB2DSreorg/field10/C2H5OH/DSi/COPILOTREFACTORING_first_attempt_at_generalizing_script/pixelwiserotationaldiagrams/rotdiag_pixel_42-38.png\n",
      "Diagram saved to /blue/adamginsburg/d.jeff/SgrB2DSreorg/field10/C2H5OH/DSi/COPILOTREFACTORING_first_attempt_at_generalizing_script/pixelwiserotationaldiagrams/rotdiag_pixel_42-39.png\n",
      "Diagram saved to /blue/adamginsburg/d.jeff/SgrB2DSreorg/field10/C2H5OH/DSi/COPILOTREFACTORING_first_attempt_at_generalizing_script/pixelwiserotationaldiagrams/rotdiag_pixel_42-40.png\n",
      "Diagram saved to /blue/adamginsburg/d.jeff/SgrB2DSreorg/field10/C2H5OH/DSi/COPILOTREFACTORING_first_attempt_at_generalizing_script/pixelwiserotationaldiagrams/rotdiag_pixel_42-41.png\n",
      "Diagram saved to /blue/adamginsburg/d.jeff/SgrB2DSreorg/field10/C2H5OH/DSi/COPILOTREFACTORING_first_attempt_at_generalizing_script/pixelwiserotationaldiagrams/rotdiag_pixel_42-42.png\n",
      "Diagram saved to /blue/adamginsburg/d.jeff/SgrB2DSreorg/field10/C2H5OH/DSi/COPILOTREFACTORING_first_attempt_at_generalizing_script/pixelwiserotationaldiagrams/rotdiag_pixel_42-43.png\n",
      "Diagram saved to /blue/adamginsburg/d.jeff/SgrB2DSreorg/field10/C2H5OH/DSi/COPILOTREFACTORING_first_attempt_at_generalizing_script/pixelwiserotationaldiagrams/rotdiag_pixel_42-44.png\n",
      "Diagram saved to /blue/adamginsburg/d.jeff/SgrB2DSreorg/field10/C2H5OH/DSi/COPILOTREFACTORING_first_attempt_at_generalizing_script/pixelwiserotationaldiagrams/rotdiag_pixel_42-45.png\n",
      "Diagram saved to /blue/adamginsburg/d.jeff/SgrB2DSreorg/field10/C2H5OH/DSi/COPILOTREFACTORING_first_attempt_at_generalizing_script/pixelwiserotationaldiagrams/rotdiag_pixel_42-46.png\n",
      "Diagram saved to /blue/adamginsburg/d.jeff/SgrB2DSreorg/field10/C2H5OH/DSi/COPILOTREFACTORING_first_attempt_at_generalizing_script/pixelwiserotationaldiagrams/rotdiag_pixel_42-47.png\n",
      "Diagram saved to /blue/adamginsburg/d.jeff/SgrB2DSreorg/field10/C2H5OH/DSi/COPILOTREFACTORING_first_attempt_at_generalizing_script/pixelwiserotationaldiagrams/rotdiag_pixel_42-48.png\n",
      "Diagram saved to /blue/adamginsburg/d.jeff/SgrB2DSreorg/field10/C2H5OH/DSi/COPILOTREFACTORING_first_attempt_at_generalizing_script/pixelwiserotationaldiagrams/rotdiag_pixel_42-49.png\n",
      "Diagram saved to /blue/adamginsburg/d.jeff/SgrB2DSreorg/field10/C2H5OH/DSi/COPILOTREFACTORING_first_attempt_at_generalizing_script/pixelwiserotationaldiagrams/rotdiag_pixel_42-50.png\n",
      "Starting row 43 of 76\n",
      "Diagram saved to /blue/adamginsburg/d.jeff/SgrB2DSreorg/field10/C2H5OH/DSi/COPILOTREFACTORING_first_attempt_at_generalizing_script/pixelwiserotationaldiagrams/rotdiag_pixel_43-35.png\n",
      "Diagram saved to /blue/adamginsburg/d.jeff/SgrB2DSreorg/field10/C2H5OH/DSi/COPILOTREFACTORING_first_attempt_at_generalizing_script/pixelwiserotationaldiagrams/rotdiag_pixel_43-36.png\n",
      "Diagram saved to /blue/adamginsburg/d.jeff/SgrB2DSreorg/field10/C2H5OH/DSi/COPILOTREFACTORING_first_attempt_at_generalizing_script/pixelwiserotationaldiagrams/rotdiag_pixel_43-37.png\n",
      "Diagram saved to /blue/adamginsburg/d.jeff/SgrB2DSreorg/field10/C2H5OH/DSi/COPILOTREFACTORING_first_attempt_at_generalizing_script/pixelwiserotationaldiagrams/rotdiag_pixel_43-38.png\n",
      "Diagram saved to /blue/adamginsburg/d.jeff/SgrB2DSreorg/field10/C2H5OH/DSi/COPILOTREFACTORING_first_attempt_at_generalizing_script/pixelwiserotationaldiagrams/rotdiag_pixel_43-39.png\n",
      "Diagram saved to /blue/adamginsburg/d.jeff/SgrB2DSreorg/field10/C2H5OH/DSi/COPILOTREFACTORING_first_attempt_at_generalizing_script/pixelwiserotationaldiagrams/rotdiag_pixel_43-40.png\n",
      "Diagram saved to /blue/adamginsburg/d.jeff/SgrB2DSreorg/field10/C2H5OH/DSi/COPILOTREFACTORING_first_attempt_at_generalizing_script/pixelwiserotationaldiagrams/rotdiag_pixel_43-41.png\n",
      "Diagram saved to /blue/adamginsburg/d.jeff/SgrB2DSreorg/field10/C2H5OH/DSi/COPILOTREFACTORING_first_attempt_at_generalizing_script/pixelwiserotationaldiagrams/rotdiag_pixel_43-42.png\n",
      "Diagram saved to /blue/adamginsburg/d.jeff/SgrB2DSreorg/field10/C2H5OH/DSi/COPILOTREFACTORING_first_attempt_at_generalizing_script/pixelwiserotationaldiagrams/rotdiag_pixel_43-43.png\n",
      "Diagram saved to /blue/adamginsburg/d.jeff/SgrB2DSreorg/field10/C2H5OH/DSi/COPILOTREFACTORING_first_attempt_at_generalizing_script/pixelwiserotationaldiagrams/rotdiag_pixel_43-44.png\n",
      "Diagram saved to /blue/adamginsburg/d.jeff/SgrB2DSreorg/field10/C2H5OH/DSi/COPILOTREFACTORING_first_attempt_at_generalizing_script/pixelwiserotationaldiagrams/rotdiag_pixel_43-45.png\n",
      "Diagram saved to /blue/adamginsburg/d.jeff/SgrB2DSreorg/field10/C2H5OH/DSi/COPILOTREFACTORING_first_attempt_at_generalizing_script/pixelwiserotationaldiagrams/rotdiag_pixel_43-46.png\n",
      "Diagram saved to /blue/adamginsburg/d.jeff/SgrB2DSreorg/field10/C2H5OH/DSi/COPILOTREFACTORING_first_attempt_at_generalizing_script/pixelwiserotationaldiagrams/rotdiag_pixel_43-47.png\n",
      "Diagram saved to /blue/adamginsburg/d.jeff/SgrB2DSreorg/field10/C2H5OH/DSi/COPILOTREFACTORING_first_attempt_at_generalizing_script/pixelwiserotationaldiagrams/rotdiag_pixel_43-48.png\n",
      "Diagram saved to /blue/adamginsburg/d.jeff/SgrB2DSreorg/field10/C2H5OH/DSi/COPILOTREFACTORING_first_attempt_at_generalizing_script/pixelwiserotationaldiagrams/rotdiag_pixel_43-49.png\n",
      "Diagram saved to /blue/adamginsburg/d.jeff/SgrB2DSreorg/field10/C2H5OH/DSi/COPILOTREFACTORING_first_attempt_at_generalizing_script/pixelwiserotationaldiagrams/rotdiag_pixel_43-50.png\n",
      "Starting row 44 of 76\n",
      "Diagram saved to /blue/adamginsburg/d.jeff/SgrB2DSreorg/field10/C2H5OH/DSi/COPILOTREFACTORING_first_attempt_at_generalizing_script/pixelwiserotationaldiagrams/rotdiag_pixel_44-35.png\n",
      "Diagram saved to /blue/adamginsburg/d.jeff/SgrB2DSreorg/field10/C2H5OH/DSi/COPILOTREFACTORING_first_attempt_at_generalizing_script/pixelwiserotationaldiagrams/rotdiag_pixel_44-36.png\n",
      "Diagram saved to /blue/adamginsburg/d.jeff/SgrB2DSreorg/field10/C2H5OH/DSi/COPILOTREFACTORING_first_attempt_at_generalizing_script/pixelwiserotationaldiagrams/rotdiag_pixel_44-37.png\n",
      "Diagram saved to /blue/adamginsburg/d.jeff/SgrB2DSreorg/field10/C2H5OH/DSi/COPILOTREFACTORING_first_attempt_at_generalizing_script/pixelwiserotationaldiagrams/rotdiag_pixel_44-38.png\n",
      "Diagram saved to /blue/adamginsburg/d.jeff/SgrB2DSreorg/field10/C2H5OH/DSi/COPILOTREFACTORING_first_attempt_at_generalizing_script/pixelwiserotationaldiagrams/rotdiag_pixel_44-39.png\n",
      "Diagram saved to /blue/adamginsburg/d.jeff/SgrB2DSreorg/field10/C2H5OH/DSi/COPILOTREFACTORING_first_attempt_at_generalizing_script/pixelwiserotationaldiagrams/rotdiag_pixel_44-40.png\n",
      "Diagram saved to /blue/adamginsburg/d.jeff/SgrB2DSreorg/field10/C2H5OH/DSi/COPILOTREFACTORING_first_attempt_at_generalizing_script/pixelwiserotationaldiagrams/rotdiag_pixel_44-41.png\n",
      "Diagram saved to /blue/adamginsburg/d.jeff/SgrB2DSreorg/field10/C2H5OH/DSi/COPILOTREFACTORING_first_attempt_at_generalizing_script/pixelwiserotationaldiagrams/rotdiag_pixel_44-42.png\n",
      "Diagram saved to /blue/adamginsburg/d.jeff/SgrB2DSreorg/field10/C2H5OH/DSi/COPILOTREFACTORING_first_attempt_at_generalizing_script/pixelwiserotationaldiagrams/rotdiag_pixel_44-43.png\n",
      "Diagram saved to /blue/adamginsburg/d.jeff/SgrB2DSreorg/field10/C2H5OH/DSi/COPILOTREFACTORING_first_attempt_at_generalizing_script/pixelwiserotationaldiagrams/rotdiag_pixel_44-44.png\n",
      "Diagram saved to /blue/adamginsburg/d.jeff/SgrB2DSreorg/field10/C2H5OH/DSi/COPILOTREFACTORING_first_attempt_at_generalizing_script/pixelwiserotationaldiagrams/rotdiag_pixel_44-45.png\n",
      "Diagram saved to /blue/adamginsburg/d.jeff/SgrB2DSreorg/field10/C2H5OH/DSi/COPILOTREFACTORING_first_attempt_at_generalizing_script/pixelwiserotationaldiagrams/rotdiag_pixel_44-46.png\n",
      "Diagram saved to /blue/adamginsburg/d.jeff/SgrB2DSreorg/field10/C2H5OH/DSi/COPILOTREFACTORING_first_attempt_at_generalizing_script/pixelwiserotationaldiagrams/rotdiag_pixel_44-47.png\n",
      "Diagram saved to /blue/adamginsburg/d.jeff/SgrB2DSreorg/field10/C2H5OH/DSi/COPILOTREFACTORING_first_attempt_at_generalizing_script/pixelwiserotationaldiagrams/rotdiag_pixel_44-48.png\n",
      "Diagram saved to /blue/adamginsburg/d.jeff/SgrB2DSreorg/field10/C2H5OH/DSi/COPILOTREFACTORING_first_attempt_at_generalizing_script/pixelwiserotationaldiagrams/rotdiag_pixel_44-49.png\n",
      "Diagram saved to /blue/adamginsburg/d.jeff/SgrB2DSreorg/field10/C2H5OH/DSi/COPILOTREFACTORING_first_attempt_at_generalizing_script/pixelwiserotationaldiagrams/rotdiag_pixel_44-50.png\n",
      "Starting row 45 of 76\n",
      "Diagram saved to /blue/adamginsburg/d.jeff/SgrB2DSreorg/field10/C2H5OH/DSi/COPILOTREFACTORING_first_attempt_at_generalizing_script/pixelwiserotationaldiagrams/rotdiag_pixel_45-35.png\n",
      "Diagram saved to /blue/adamginsburg/d.jeff/SgrB2DSreorg/field10/C2H5OH/DSi/COPILOTREFACTORING_first_attempt_at_generalizing_script/pixelwiserotationaldiagrams/rotdiag_pixel_45-36.png\n",
      "Diagram saved to /blue/adamginsburg/d.jeff/SgrB2DSreorg/field10/C2H5OH/DSi/COPILOTREFACTORING_first_attempt_at_generalizing_script/pixelwiserotationaldiagrams/rotdiag_pixel_45-37.png\n",
      "Diagram saved to /blue/adamginsburg/d.jeff/SgrB2DSreorg/field10/C2H5OH/DSi/COPILOTREFACTORING_first_attempt_at_generalizing_script/pixelwiserotationaldiagrams/rotdiag_pixel_45-38.png\n",
      "Diagram saved to /blue/adamginsburg/d.jeff/SgrB2DSreorg/field10/C2H5OH/DSi/COPILOTREFACTORING_first_attempt_at_generalizing_script/pixelwiserotationaldiagrams/rotdiag_pixel_45-39.png\n",
      "Diagram saved to /blue/adamginsburg/d.jeff/SgrB2DSreorg/field10/C2H5OH/DSi/COPILOTREFACTORING_first_attempt_at_generalizing_script/pixelwiserotationaldiagrams/rotdiag_pixel_45-40.png\n",
      "Diagram saved to /blue/adamginsburg/d.jeff/SgrB2DSreorg/field10/C2H5OH/DSi/COPILOTREFACTORING_first_attempt_at_generalizing_script/pixelwiserotationaldiagrams/rotdiag_pixel_45-41.png\n",
      "Diagram saved to /blue/adamginsburg/d.jeff/SgrB2DSreorg/field10/C2H5OH/DSi/COPILOTREFACTORING_first_attempt_at_generalizing_script/pixelwiserotationaldiagrams/rotdiag_pixel_45-42.png\n",
      "Diagram saved to /blue/adamginsburg/d.jeff/SgrB2DSreorg/field10/C2H5OH/DSi/COPILOTREFACTORING_first_attempt_at_generalizing_script/pixelwiserotationaldiagrams/rotdiag_pixel_45-43.png\n",
      "Diagram saved to /blue/adamginsburg/d.jeff/SgrB2DSreorg/field10/C2H5OH/DSi/COPILOTREFACTORING_first_attempt_at_generalizing_script/pixelwiserotationaldiagrams/rotdiag_pixel_45-44.png\n",
      "Diagram saved to /blue/adamginsburg/d.jeff/SgrB2DSreorg/field10/C2H5OH/DSi/COPILOTREFACTORING_first_attempt_at_generalizing_script/pixelwiserotationaldiagrams/rotdiag_pixel_45-45.png\n",
      "Diagram saved to /blue/adamginsburg/d.jeff/SgrB2DSreorg/field10/C2H5OH/DSi/COPILOTREFACTORING_first_attempt_at_generalizing_script/pixelwiserotationaldiagrams/rotdiag_pixel_45-46.png\n",
      "Diagram saved to /blue/adamginsburg/d.jeff/SgrB2DSreorg/field10/C2H5OH/DSi/COPILOTREFACTORING_first_attempt_at_generalizing_script/pixelwiserotationaldiagrams/rotdiag_pixel_45-47.png\n",
      "Diagram saved to /blue/adamginsburg/d.jeff/SgrB2DSreorg/field10/C2H5OH/DSi/COPILOTREFACTORING_first_attempt_at_generalizing_script/pixelwiserotationaldiagrams/rotdiag_pixel_45-48.png\n",
      "Diagram saved to /blue/adamginsburg/d.jeff/SgrB2DSreorg/field10/C2H5OH/DSi/COPILOTREFACTORING_first_attempt_at_generalizing_script/pixelwiserotationaldiagrams/rotdiag_pixel_45-49.png\n",
      "Diagram saved to /blue/adamginsburg/d.jeff/SgrB2DSreorg/field10/C2H5OH/DSi/COPILOTREFACTORING_first_attempt_at_generalizing_script/pixelwiserotationaldiagrams/rotdiag_pixel_45-50.png\n",
      "Starting row 46 of 76\n",
      "Diagram saved to /blue/adamginsburg/d.jeff/SgrB2DSreorg/field10/C2H5OH/DSi/COPILOTREFACTORING_first_attempt_at_generalizing_script/pixelwiserotationaldiagrams/rotdiag_pixel_46-35.png\n",
      "Diagram saved to /blue/adamginsburg/d.jeff/SgrB2DSreorg/field10/C2H5OH/DSi/COPILOTREFACTORING_first_attempt_at_generalizing_script/pixelwiserotationaldiagrams/rotdiag_pixel_46-36.png\n",
      "Diagram saved to /blue/adamginsburg/d.jeff/SgrB2DSreorg/field10/C2H5OH/DSi/COPILOTREFACTORING_first_attempt_at_generalizing_script/pixelwiserotationaldiagrams/rotdiag_pixel_46-37.png\n",
      "Diagram saved to /blue/adamginsburg/d.jeff/SgrB2DSreorg/field10/C2H5OH/DSi/COPILOTREFACTORING_first_attempt_at_generalizing_script/pixelwiserotationaldiagrams/rotdiag_pixel_46-38.png\n",
      "Diagram saved to /blue/adamginsburg/d.jeff/SgrB2DSreorg/field10/C2H5OH/DSi/COPILOTREFACTORING_first_attempt_at_generalizing_script/pixelwiserotationaldiagrams/rotdiag_pixel_46-39.png\n",
      "Diagram saved to /blue/adamginsburg/d.jeff/SgrB2DSreorg/field10/C2H5OH/DSi/COPILOTREFACTORING_first_attempt_at_generalizing_script/pixelwiserotationaldiagrams/rotdiag_pixel_46-40.png\n",
      "Diagram saved to /blue/adamginsburg/d.jeff/SgrB2DSreorg/field10/C2H5OH/DSi/COPILOTREFACTORING_first_attempt_at_generalizing_script/pixelwiserotationaldiagrams/rotdiag_pixel_46-41.png\n",
      "Diagram saved to /blue/adamginsburg/d.jeff/SgrB2DSreorg/field10/C2H5OH/DSi/COPILOTREFACTORING_first_attempt_at_generalizing_script/pixelwiserotationaldiagrams/rotdiag_pixel_46-42.png\n",
      "Diagram saved to /blue/adamginsburg/d.jeff/SgrB2DSreorg/field10/C2H5OH/DSi/COPILOTREFACTORING_first_attempt_at_generalizing_script/pixelwiserotationaldiagrams/rotdiag_pixel_46-43.png\n",
      "Diagram saved to /blue/adamginsburg/d.jeff/SgrB2DSreorg/field10/C2H5OH/DSi/COPILOTREFACTORING_first_attempt_at_generalizing_script/pixelwiserotationaldiagrams/rotdiag_pixel_46-44.png\n",
      "Diagram saved to /blue/adamginsburg/d.jeff/SgrB2DSreorg/field10/C2H5OH/DSi/COPILOTREFACTORING_first_attempt_at_generalizing_script/pixelwiserotationaldiagrams/rotdiag_pixel_46-45.png\n",
      "Diagram saved to /blue/adamginsburg/d.jeff/SgrB2DSreorg/field10/C2H5OH/DSi/COPILOTREFACTORING_first_attempt_at_generalizing_script/pixelwiserotationaldiagrams/rotdiag_pixel_46-46.png\n",
      "Diagram saved to /blue/adamginsburg/d.jeff/SgrB2DSreorg/field10/C2H5OH/DSi/COPILOTREFACTORING_first_attempt_at_generalizing_script/pixelwiserotationaldiagrams/rotdiag_pixel_46-47.png\n",
      "Diagram saved to /blue/adamginsburg/d.jeff/SgrB2DSreorg/field10/C2H5OH/DSi/COPILOTREFACTORING_first_attempt_at_generalizing_script/pixelwiserotationaldiagrams/rotdiag_pixel_46-48.png\n",
      "Starting row 47 of 76\n",
      "Diagram saved to /blue/adamginsburg/d.jeff/SgrB2DSreorg/field10/C2H5OH/DSi/COPILOTREFACTORING_first_attempt_at_generalizing_script/pixelwiserotationaldiagrams/rotdiag_pixel_47-35.png\n",
      "Diagram saved to /blue/adamginsburg/d.jeff/SgrB2DSreorg/field10/C2H5OH/DSi/COPILOTREFACTORING_first_attempt_at_generalizing_script/pixelwiserotationaldiagrams/rotdiag_pixel_47-36.png\n",
      "Diagram saved to /blue/adamginsburg/d.jeff/SgrB2DSreorg/field10/C2H5OH/DSi/COPILOTREFACTORING_first_attempt_at_generalizing_script/pixelwiserotationaldiagrams/rotdiag_pixel_47-37.png\n",
      "Diagram saved to /blue/adamginsburg/d.jeff/SgrB2DSreorg/field10/C2H5OH/DSi/COPILOTREFACTORING_first_attempt_at_generalizing_script/pixelwiserotationaldiagrams/rotdiag_pixel_47-38.png\n",
      "Diagram saved to /blue/adamginsburg/d.jeff/SgrB2DSreorg/field10/C2H5OH/DSi/COPILOTREFACTORING_first_attempt_at_generalizing_script/pixelwiserotationaldiagrams/rotdiag_pixel_47-39.png\n",
      "Diagram saved to /blue/adamginsburg/d.jeff/SgrB2DSreorg/field10/C2H5OH/DSi/COPILOTREFACTORING_first_attempt_at_generalizing_script/pixelwiserotationaldiagrams/rotdiag_pixel_47-40.png\n",
      "Diagram saved to /blue/adamginsburg/d.jeff/SgrB2DSreorg/field10/C2H5OH/DSi/COPILOTREFACTORING_first_attempt_at_generalizing_script/pixelwiserotationaldiagrams/rotdiag_pixel_47-41.png\n",
      "Diagram saved to /blue/adamginsburg/d.jeff/SgrB2DSreorg/field10/C2H5OH/DSi/COPILOTREFACTORING_first_attempt_at_generalizing_script/pixelwiserotationaldiagrams/rotdiag_pixel_47-42.png\n",
      "Diagram saved to /blue/adamginsburg/d.jeff/SgrB2DSreorg/field10/C2H5OH/DSi/COPILOTREFACTORING_first_attempt_at_generalizing_script/pixelwiserotationaldiagrams/rotdiag_pixel_47-43.png\n",
      "Diagram saved to /blue/adamginsburg/d.jeff/SgrB2DSreorg/field10/C2H5OH/DSi/COPILOTREFACTORING_first_attempt_at_generalizing_script/pixelwiserotationaldiagrams/rotdiag_pixel_47-44.png\n",
      "Diagram saved to /blue/adamginsburg/d.jeff/SgrB2DSreorg/field10/C2H5OH/DSi/COPILOTREFACTORING_first_attempt_at_generalizing_script/pixelwiserotationaldiagrams/rotdiag_pixel_47-45.png\n",
      "Diagram saved to /blue/adamginsburg/d.jeff/SgrB2DSreorg/field10/C2H5OH/DSi/COPILOTREFACTORING_first_attempt_at_generalizing_script/pixelwiserotationaldiagrams/rotdiag_pixel_47-46.png\n",
      "Diagram saved to /blue/adamginsburg/d.jeff/SgrB2DSreorg/field10/C2H5OH/DSi/COPILOTREFACTORING_first_attempt_at_generalizing_script/pixelwiserotationaldiagrams/rotdiag_pixel_47-50.png\n",
      "Starting row 48 of 76\n",
      "Diagram saved to /blue/adamginsburg/d.jeff/SgrB2DSreorg/field10/C2H5OH/DSi/COPILOTREFACTORING_first_attempt_at_generalizing_script/pixelwiserotationaldiagrams/rotdiag_pixel_48-35.png\n",
      "Diagram saved to /blue/adamginsburg/d.jeff/SgrB2DSreorg/field10/C2H5OH/DSi/COPILOTREFACTORING_first_attempt_at_generalizing_script/pixelwiserotationaldiagrams/rotdiag_pixel_48-36.png\n",
      "Diagram saved to /blue/adamginsburg/d.jeff/SgrB2DSreorg/field10/C2H5OH/DSi/COPILOTREFACTORING_first_attempt_at_generalizing_script/pixelwiserotationaldiagrams/rotdiag_pixel_48-37.png\n",
      "Diagram saved to /blue/adamginsburg/d.jeff/SgrB2DSreorg/field10/C2H5OH/DSi/COPILOTREFACTORING_first_attempt_at_generalizing_script/pixelwiserotationaldiagrams/rotdiag_pixel_48-38.png\n",
      "Diagram saved to /blue/adamginsburg/d.jeff/SgrB2DSreorg/field10/C2H5OH/DSi/COPILOTREFACTORING_first_attempt_at_generalizing_script/pixelwiserotationaldiagrams/rotdiag_pixel_48-39.png\n",
      "Diagram saved to /blue/adamginsburg/d.jeff/SgrB2DSreorg/field10/C2H5OH/DSi/COPILOTREFACTORING_first_attempt_at_generalizing_script/pixelwiserotationaldiagrams/rotdiag_pixel_48-40.png\n",
      "Diagram saved to /blue/adamginsburg/d.jeff/SgrB2DSreorg/field10/C2H5OH/DSi/COPILOTREFACTORING_first_attempt_at_generalizing_script/pixelwiserotationaldiagrams/rotdiag_pixel_48-41.png\n",
      "Diagram saved to /blue/adamginsburg/d.jeff/SgrB2DSreorg/field10/C2H5OH/DSi/COPILOTREFACTORING_first_attempt_at_generalizing_script/pixelwiserotationaldiagrams/rotdiag_pixel_48-42.png\n",
      "Diagram saved to /blue/adamginsburg/d.jeff/SgrB2DSreorg/field10/C2H5OH/DSi/COPILOTREFACTORING_first_attempt_at_generalizing_script/pixelwiserotationaldiagrams/rotdiag_pixel_48-43.png\n",
      "Diagram saved to /blue/adamginsburg/d.jeff/SgrB2DSreorg/field10/C2H5OH/DSi/COPILOTREFACTORING_first_attempt_at_generalizing_script/pixelwiserotationaldiagrams/rotdiag_pixel_48-44.png\n",
      "Diagram saved to /blue/adamginsburg/d.jeff/SgrB2DSreorg/field10/C2H5OH/DSi/COPILOTREFACTORING_first_attempt_at_generalizing_script/pixelwiserotationaldiagrams/rotdiag_pixel_48-45.png\n",
      "Diagram saved to /blue/adamginsburg/d.jeff/SgrB2DSreorg/field10/C2H5OH/DSi/COPILOTREFACTORING_first_attempt_at_generalizing_script/pixelwiserotationaldiagrams/rotdiag_pixel_48-46.png\n",
      "Diagram saved to /blue/adamginsburg/d.jeff/SgrB2DSreorg/field10/C2H5OH/DSi/COPILOTREFACTORING_first_attempt_at_generalizing_script/pixelwiserotationaldiagrams/rotdiag_pixel_48-50.png\n",
      "Starting row 49 of 76\n",
      "Diagram saved to /blue/adamginsburg/d.jeff/SgrB2DSreorg/field10/C2H5OH/DSi/COPILOTREFACTORING_first_attempt_at_generalizing_script/pixelwiserotationaldiagrams/rotdiag_pixel_49-35.png\n",
      "Diagram saved to /blue/adamginsburg/d.jeff/SgrB2DSreorg/field10/C2H5OH/DSi/COPILOTREFACTORING_first_attempt_at_generalizing_script/pixelwiserotationaldiagrams/rotdiag_pixel_49-36.png\n",
      "Diagram saved to /blue/adamginsburg/d.jeff/SgrB2DSreorg/field10/C2H5OH/DSi/COPILOTREFACTORING_first_attempt_at_generalizing_script/pixelwiserotationaldiagrams/rotdiag_pixel_49-37.png\n",
      "Diagram saved to /blue/adamginsburg/d.jeff/SgrB2DSreorg/field10/C2H5OH/DSi/COPILOTREFACTORING_first_attempt_at_generalizing_script/pixelwiserotationaldiagrams/rotdiag_pixel_49-38.png\n",
      "Diagram saved to /blue/adamginsburg/d.jeff/SgrB2DSreorg/field10/C2H5OH/DSi/COPILOTREFACTORING_first_attempt_at_generalizing_script/pixelwiserotationaldiagrams/rotdiag_pixel_49-39.png\n",
      "Diagram saved to /blue/adamginsburg/d.jeff/SgrB2DSreorg/field10/C2H5OH/DSi/COPILOTREFACTORING_first_attempt_at_generalizing_script/pixelwiserotationaldiagrams/rotdiag_pixel_49-40.png\n",
      "Diagram saved to /blue/adamginsburg/d.jeff/SgrB2DSreorg/field10/C2H5OH/DSi/COPILOTREFACTORING_first_attempt_at_generalizing_script/pixelwiserotationaldiagrams/rotdiag_pixel_49-42.png\n",
      "Diagram saved to /blue/adamginsburg/d.jeff/SgrB2DSreorg/field10/C2H5OH/DSi/COPILOTREFACTORING_first_attempt_at_generalizing_script/pixelwiserotationaldiagrams/rotdiag_pixel_49-43.png\n",
      "Diagram saved to /blue/adamginsburg/d.jeff/SgrB2DSreorg/field10/C2H5OH/DSi/COPILOTREFACTORING_first_attempt_at_generalizing_script/pixelwiserotationaldiagrams/rotdiag_pixel_49-44.png\n",
      "Diagram saved to /blue/adamginsburg/d.jeff/SgrB2DSreorg/field10/C2H5OH/DSi/COPILOTREFACTORING_first_attempt_at_generalizing_script/pixelwiserotationaldiagrams/rotdiag_pixel_49-45.png\n",
      "Diagram saved to /blue/adamginsburg/d.jeff/SgrB2DSreorg/field10/C2H5OH/DSi/COPILOTREFACTORING_first_attempt_at_generalizing_script/pixelwiserotationaldiagrams/rotdiag_pixel_49-46.png\n",
      "Diagram saved to /blue/adamginsburg/d.jeff/SgrB2DSreorg/field10/C2H5OH/DSi/COPILOTREFACTORING_first_attempt_at_generalizing_script/pixelwiserotationaldiagrams/rotdiag_pixel_49-47.png\n",
      "Starting row 50 of 76\n",
      "Diagram saved to /blue/adamginsburg/d.jeff/SgrB2DSreorg/field10/C2H5OH/DSi/COPILOTREFACTORING_first_attempt_at_generalizing_script/pixelwiserotationaldiagrams/rotdiag_pixel_50-35.png\n",
      "Diagram saved to /blue/adamginsburg/d.jeff/SgrB2DSreorg/field10/C2H5OH/DSi/COPILOTREFACTORING_first_attempt_at_generalizing_script/pixelwiserotationaldiagrams/rotdiag_pixel_50-36.png\n",
      "Diagram saved to /blue/adamginsburg/d.jeff/SgrB2DSreorg/field10/C2H5OH/DSi/COPILOTREFACTORING_first_attempt_at_generalizing_script/pixelwiserotationaldiagrams/rotdiag_pixel_50-37.png\n",
      "Diagram saved to /blue/adamginsburg/d.jeff/SgrB2DSreorg/field10/C2H5OH/DSi/COPILOTREFACTORING_first_attempt_at_generalizing_script/pixelwiserotationaldiagrams/rotdiag_pixel_50-38.png\n",
      "Diagram saved to /blue/adamginsburg/d.jeff/SgrB2DSreorg/field10/C2H5OH/DSi/COPILOTREFACTORING_first_attempt_at_generalizing_script/pixelwiserotationaldiagrams/rotdiag_pixel_50-39.png\n",
      "Diagram saved to /blue/adamginsburg/d.jeff/SgrB2DSreorg/field10/C2H5OH/DSi/COPILOTREFACTORING_first_attempt_at_generalizing_script/pixelwiserotationaldiagrams/rotdiag_pixel_50-40.png\n",
      "Diagram saved to /blue/adamginsburg/d.jeff/SgrB2DSreorg/field10/C2H5OH/DSi/COPILOTREFACTORING_first_attempt_at_generalizing_script/pixelwiserotationaldiagrams/rotdiag_pixel_50-41.png\n",
      "Diagram saved to /blue/adamginsburg/d.jeff/SgrB2DSreorg/field10/C2H5OH/DSi/COPILOTREFACTORING_first_attempt_at_generalizing_script/pixelwiserotationaldiagrams/rotdiag_pixel_50-42.png\n",
      "Diagram saved to /blue/adamginsburg/d.jeff/SgrB2DSreorg/field10/C2H5OH/DSi/COPILOTREFACTORING_first_attempt_at_generalizing_script/pixelwiserotationaldiagrams/rotdiag_pixel_50-43.png\n",
      "Diagram saved to /blue/adamginsburg/d.jeff/SgrB2DSreorg/field10/C2H5OH/DSi/COPILOTREFACTORING_first_attempt_at_generalizing_script/pixelwiserotationaldiagrams/rotdiag_pixel_50-44.png\n",
      "Diagram saved to /blue/adamginsburg/d.jeff/SgrB2DSreorg/field10/C2H5OH/DSi/COPILOTREFACTORING_first_attempt_at_generalizing_script/pixelwiserotationaldiagrams/rotdiag_pixel_50-45.png\n",
      "Diagram saved to /blue/adamginsburg/d.jeff/SgrB2DSreorg/field10/C2H5OH/DSi/COPILOTREFACTORING_first_attempt_at_generalizing_script/pixelwiserotationaldiagrams/rotdiag_pixel_50-46.png\n",
      "Diagram saved to /blue/adamginsburg/d.jeff/SgrB2DSreorg/field10/C2H5OH/DSi/COPILOTREFACTORING_first_attempt_at_generalizing_script/pixelwiserotationaldiagrams/rotdiag_pixel_50-47.png\n",
      "Starting row 51 of 76\n",
      "Starting row 52 of 76\n",
      "Starting row 53 of 76\n",
      "Starting row 54 of 76\n",
      "Starting row 55 of 76\n",
      "Starting row 56 of 76\n"
     ]
    },
    {
     "name": "stderr",
     "output_type": "stream",
     "text": [
      "invalid value encountered in subtract\n"
     ]
    },
    {
     "name": "stdout",
     "output_type": "stream",
     "text": [
      "Starting row 57 of 76\n",
      "Starting row 58 of 76\n",
      "Starting row 59 of 76\n",
      "Starting row 60 of 76\n",
      "Starting row 61 of 76\n",
      "Starting row 62 of 76\n",
      "Starting row 63 of 76\n",
      "Starting row 64 of 76\n",
      "Starting row 65 of 76\n",
      "Starting row 66 of 76\n",
      "Starting row 67 of 76\n",
      "Starting row 68 of 76\n",
      "Starting row 69 of 76\n",
      "Starting row 70 of 76\n",
      "Starting row 71 of 76\n",
      "Starting row 72 of 76\n",
      "Starting row 73 of 76\n",
      "Starting row 74 of 76\n",
      "Starting row 75 of 76\n",
      "Saving raw temperature map at /blue/adamginsburg/d.jeff/SgrB2DSreorg/field10/C2H5OH/DSi/COPILOTREFACTORING_first_attempt_at_generalizing_script/texmap_allspw_withnans_weighted.fits\n",
      "\n",
      "Saving raw ntot map at /blue/adamginsburg/d.jeff/SgrB2DSreorg/field10/C2H5OH/DSi/COPILOTREFACTORING_first_attempt_at_generalizing_script/ntotmap_allspw_withnans_weighted_useintercept.fits\n",
      "\n",
      "Saving temperature error map at /blue/adamginsburg/d.jeff/SgrB2DSreorg/field10/C2H5OH/DSi/COPILOTREFACTORING_first_attempt_at_generalizing_script/texmap_error_allspw_withnans_weighted.fits\n",
      "\n",
      "Saving 3sigma temperature map at /blue/adamginsburg/d.jeff/SgrB2DSreorg/field10/C2H5OH/DSi/COPILOTREFACTORING_first_attempt_at_generalizing_script/texmap_3sigma_allspw_withnans_weighted.fits\n",
      "Saving 3sigma temperature map at /blue/adamginsburg/d.jeff/SgrB2DSreorg/field10/C2H5OH/DSi/COPILOTREFACTORING_first_attempt_at_generalizing_scripttexmap_snr_allspw_weighted.fits\n",
      "\n",
      "Saving number of 3sigma detected CH3OH lines map at /blue/adamginsburg/d.jeff/SgrB2DSreorg/field10/C2H5OH/DSi/COPILOTREFACTORING_first_attempt_at_generalizing_script/ch3ohdetections_{snr}sigma_allspw_withnans_weighted.fits\n",
      "\n",
      "Saving ntoterr map at /blue/adamginsburg/d.jeff/SgrB2DSreorg/field10/C2H5OH/DSi/COPILOTREFACTORING_first_attempt_at_generalizing_script/ntoterrmap_allspw_withnans_weighted_useintercept.fits\n",
      "\n",
      "Saving sigmaclip ntot map at /blue/adamginsburg/d.jeff/SgrB2DSreorg/field10/C2H5OH/DSi/COPILOTREFACTORING_first_attempt_at_generalizing_script/ntotmap_allspw_withnans_weighted_useintercept_3sigma.fits\n",
      "\n",
      "Saving ntot snr map at /blue/adamginsburg/d.jeff/SgrB2DSreorg/field10/C2H5OH/DSi/COPILOTREFACTORING_first_attempt_at_generalizing_script/ntotmap_snr_allspw_withnans_weighted_useintercept.fits\n",
      "\n",
      "Saving table of used lines\n",
      "\n",
      "Begin plotting procedure.\n",
      "\n",
      "Creating figure directory /blue/adamginsburg/d.jeff/repos/C2H5OH_SgrB2DS/figures/DSi/COPILOTREFACTORING_first_attempt_at_generalizing_script\n"
     ]
    },
    {
     "name": "stderr",
     "output_type": "stream",
     "text": [
      "The get_cmap function was deprecated in Matplotlib 3.7 and will be removed two minor releases later. Use ``matplotlib.colormaps[name]`` or ``matplotlib.colormaps.get_cmap(obj)`` instead.\n"
     ]
    },
    {
     "name": "stdout",
     "output_type": "stream",
     "text": [
      "Scalebar source : DSi\n"
     ]
    },
    {
     "data": {
      "image/png": "[encoded data removed]",
      "text/plain": [
       "<Figure size 640x480 with 2 Axes>"
      ]
     },
     "metadata": {},
     "output_type": "display_data"
    },
    {
     "name": "stdout",
     "output_type": "stream",
     "text": [
      "Cube-->core-->Texmap complete.\n"
     ]
    }
   ],
   "source": [
    "run allmolecule_cubecoretexmap.py"
   ]
  },
  {
   "cell_type": "code",
   "execution_count": 26,
   "id": "302ff19c-d4e8-4b5b-bd33-a9af66043585",
   "metadata": {},
   "outputs": [
    {
     "data": {
      "text/html": [
       "<div><i>QTable length=14</i>\n",
       "<table id=\"table23198650337184\" class=\"table-striped table-bordered table-condensed\">\n",
       "<thead><tr><th>QNs</th><th>RestFrequency</th><th>ReferenceFrequency</th><th>Eupper</th><th>Degeneracy</th><th>Aij</th><th>ModelBrightness</th><th>ModelNupper</th><th>MeasuredNupperPath</th><th>MeasuredNupperErrorPath</th></tr></thead>\n",
       "<thead><tr><th></th><th>GHz</th><th>GHz</th><th>K</th><th></th><th>Hz</th><th>K</th><th>1 / cm2</th><th></th><th></th></tr></thead>\n",
       "<thead><tr><th>bytes23</th><th>float64</th><th>float64</th><th>float64</th><th>int64</th><th>float64</th><th>float64</th><th>float64</th><th>object</th><th>object</th></tr></thead>\n",
       "<tr><td>13(0,13)(1)-12(1,12)(1)</td><td>217.26230230000002</td><td>217.22179043608367</td><td>135.54154448503328</td><td>27</td><td>6.272140276018215e-05</td><td>20.820657756679275</td><td>197199733147527.25</td><td>/blue/adamginsburg/d.jeff/SgrB2DSreorg/field10/C2H5OH/DSi/COPILOTREFACTORING_first_attempt_at_generalizing_script/nuppers/C2H5OH~13.0.13.1-12.1.12.1data.fits</td><td>/blue/adamginsburg/d.jeff/SgrB2DSreorg/field10/C2H5OH/DSi/COPILOTREFACTORING_first_attempt_at_generalizing_script/nuppers/C2H5OH~13.0.13.1-12.1.12.1error.fits</td></tr>\n",
       "<tr><td>21(5,16)(2)-21(4,17)(2)</td><td>218.5545074</td><td>218.5137545847699</td><td>226.01385361044416</td><td>43</td><td>7.18477867162649e-05</td><td>25.76230369601626</td><td>217953381619191.06</td><td>/blue/adamginsburg/d.jeff/SgrB2DSreorg/field10/C2H5OH/DSi/COPILOTREFACTORING_first_attempt_at_generalizing_script/nuppers/C2H5OH~21.5.16.2-21.4.17.2data.fits</td><td>/blue/adamginsburg/d.jeff/SgrB2DSreorg/field10/C2H5OH/DSi/COPILOTREFACTORING_first_attempt_at_generalizing_script/nuppers/C2H5OH~21.5.16.2-21.4.17.2error.fits</td></tr>\n",
       "<tr><td>16(5,11)(2)-16(4,12)(2)</td><td>230.9537832</td><td>230.91071835102753</td><td>145.77872777262775</td><td>33</td><td>7.765111093374898e-05</td><td>26.41910520259571</td><td>231262449606165.12</td><td>/blue/adamginsburg/d.jeff/SgrB2DSreorg/field10/C2H5OH/DSi/COPILOTREFACTORING_first_attempt_at_generalizing_script/nuppers/C2H5OH~16.5.11.2-16.4.12.2data.fits</td><td>/blue/adamginsburg/d.jeff/SgrB2DSreorg/field10/C2H5OH/DSi/COPILOTREFACTORING_first_attempt_at_generalizing_script/nuppers/C2H5OH~16.5.11.2-16.4.12.2error.fits</td></tr>\n",
       "<tr><td>14(0,14)(2)-13(1,13)(2)</td><td>230.9913834</td><td>230.9483115398978</td><td>85.52671483307333</td><td>29</td><td>0.00011962150933731016</td><td>43.77508197342374</td><td>259205305799112.06</td><td>/blue/adamginsburg/d.jeff/SgrB2DSreorg/field10/C2H5OH/DSi/COPILOTREFACTORING_first_attempt_at_generalizing_script/nuppers/C2H5OH~14.0.14.2-13.1.13.2data.fits</td><td>/blue/adamginsburg/d.jeff/SgrB2DSreorg/field10/C2H5OH/DSi/COPILOTREFACTORING_first_attempt_at_generalizing_script/nuppers/C2H5OH~14.0.14.2-13.1.13.2error.fits</td></tr>\n",
       "<tr><td>14(1,14)(0)-13(1,13)(0)</td><td>231.6687419</td><td>231.6255437360932</td><td>141.90345196927348</td><td>29</td><td>0.00011080795735279709</td><td>32.94625833796421</td><td>206435629497225.06</td><td>/blue/adamginsburg/d.jeff/SgrB2DSreorg/field10/C2H5OH/DSi/COPILOTREFACTORING_first_attempt_at_generalizing_script/nuppers/C2H5OH~14.1.14.0-13.1.13.0data.fits</td><td>/blue/adamginsburg/d.jeff/SgrB2DSreorg/field10/C2H5OH/DSi/COPILOTREFACTORING_first_attempt_at_generalizing_script/nuppers/C2H5OH~14.1.14.0-13.1.13.0error.fits</td></tr>\n",
       "<tr><td>19(5,15)(2)-19(4,16)(2)</td><td>231.7376214</td><td>231.69441039246178</td><td>191.3257219747236</td><td>39</td><td>8.184216342761818e-05</td><td>27.149727926023278</td><td>227398196279961.84</td><td>/blue/adamginsburg/d.jeff/SgrB2DSreorg/field10/C2H5OH/DSi/COPILOTREFACTORING_first_attempt_at_generalizing_script/nuppers/C2H5OH~19.5.15.2-19.4.16.2data.fits</td><td>/blue/adamginsburg/d.jeff/SgrB2DSreorg/field10/C2H5OH/DSi/COPILOTREFACTORING_first_attempt_at_generalizing_script/nuppers/C2H5OH~19.5.15.2-19.4.16.2error.fits</td></tr>\n",
       "<tr><td>18(5,14)(2)-18(4,15)(2)</td><td>232.0346421</td><td>231.99137570843038</td><td>175.29099616228942</td><td>37</td><td>8.103511314514348e-05</td><td>27.14025307929979</td><td>230166317950967.5</td><td>/blue/adamginsburg/d.jeff/SgrB2DSreorg/field10/C2H5OH/DSi/COPILOTREFACTORING_first_attempt_at_generalizing_script/nuppers/C2H5OH~18.5.14.2-18.4.15.2data.fits</td><td>/blue/adamginsburg/d.jeff/SgrB2DSreorg/field10/C2H5OH/DSi/COPILOTREFACTORING_first_attempt_at_generalizing_script/nuppers/C2H5OH~18.5.14.2-18.4.15.2error.fits</td></tr>\n",
       "<tr><td>23(5,19)(2)-23(4,20)(2)</td><td>232.3185139</td><td>232.2751945762115</td><td>263.9880929132633</td><td>47</td><td>8.586187695243426e-05</td><td>25.562313491027226</td><td>204363540894016.62</td><td>/blue/adamginsburg/d.jeff/SgrB2DSreorg/field10/C2H5OH/DSi/COPILOTREFACTORING_first_attempt_at_generalizing_script/nuppers/C2H5OH~23.5.19.2-23.4.20.2data.fits</td><td>/blue/adamginsburg/d.jeff/SgrB2DSreorg/field10/C2H5OH/DSi/COPILOTREFACTORING_first_attempt_at_generalizing_script/nuppers/C2H5OH~23.5.19.2-23.4.20.2error.fits</td></tr>\n",
       "<tr><td>17(5,13)(2)-17(4,14)(2)</td><td>232.404841</td><td>232.36150557920945</td><td>160.10750968577526</td><td>35</td><td>8.022430742000472e-05</td><td>26.9490501411002</td><td>231490429310477.53</td><td>/blue/adamginsburg/d.jeff/SgrB2DSreorg/field10/C2H5OH/DSi/COPILOTREFACTORING_first_attempt_at_generalizing_script/nuppers/C2H5OH~17.5.13.2-17.4.14.2data.fits</td><td>/blue/adamginsburg/d.jeff/SgrB2DSreorg/field10/C2H5OH/DSi/COPILOTREFACTORING_first_attempt_at_generalizing_script/nuppers/C2H5OH~17.5.13.2-17.4.14.2error.fits</td></tr>\n",
       "<tr><td>14(0,14)(0)-13(0,13)(0)</td><td>232.491318</td><td>232.44796645425626</td><td>141.78595883844022</td><td>29</td><td>0.00011210149596845895</td><td>33.099402199367084</td><td>206533585968417.78</td><td>/blue/adamginsburg/d.jeff/SgrB2DSreorg/field10/C2H5OH/DSi/COPILOTREFACTORING_first_attempt_at_generalizing_script/nuppers/C2H5OH~14.0.14.0-13.0.13.0data.fits</td><td>/blue/adamginsburg/d.jeff/SgrB2DSreorg/field10/C2H5OH/DSi/COPILOTREFACTORING_first_attempt_at_generalizing_script/nuppers/C2H5OH~14.0.14.0-13.0.13.0error.fits</td></tr>\n",
       "<tr><td>14(1,14)(1)-13(1,13)(1)</td><td>232.5965682</td><td>232.55319702875414</td><td>146.53638394875688</td><td>29</td><td>8.072001561517091e-05</td><td>23.860033253059278</td><td>202609868270799.06</td><td>/blue/adamginsburg/d.jeff/SgrB2DSreorg/field10/C2H5OH/DSi/COPILOTREFACTORING_first_attempt_at_generalizing_script/nuppers/C2H5OH~14.1.14.1-13.1.13.1data.fits</td><td>/blue/adamginsburg/d.jeff/SgrB2DSreorg/field10/C2H5OH/DSi/COPILOTREFACTORING_first_attempt_at_generalizing_script/nuppers/C2H5OH~14.1.14.1-13.1.13.1error.fits</td></tr>\n",
       "<tr><td>16(5,12)(2)-16(4,13)(2)</td><td>232.8088625</td><td>232.76545174324986</td><td>145.7742370404007</td><td>33</td><td>7.933243057115109e-05</td><td>26.55523313464</td><td>231266642937687.53</td><td>/blue/adamginsburg/d.jeff/SgrB2DSreorg/field10/C2H5OH/DSi/COPILOTREFACTORING_first_attempt_at_generalizing_script/nuppers/C2H5OH~16.5.12.2-16.4.13.2data.fits</td><td>/blue/adamginsburg/d.jeff/SgrB2DSreorg/field10/C2H5OH/DSi/COPILOTREFACTORING_first_attempt_at_generalizing_script/nuppers/C2H5OH~16.5.12.2-16.4.13.2error.fits</td></tr>\n",
       "<tr><td>13(5,9)(2)-13(4,10)(2)</td><td>233.9512316</td><td>233.90760783113947</td><td>107.86621480892468</td><td>27</td><td>7.570234791786502e-05</td><td>24.06225295177363</td><td>220514067907018.4</td><td>/blue/adamginsburg/d.jeff/SgrB2DSreorg/field10/C2H5OH/DSi/COPILOTREFACTORING_first_attempt_at_generalizing_script/nuppers/C2H5OH~13.5.9.2-13.4.10.2data.fits</td><td>/blue/adamginsburg/d.jeff/SgrB2DSreorg/field10/C2H5OH/DSi/COPILOTREFACTORING_first_attempt_at_generalizing_script/nuppers/C2H5OH~13.5.9.2-13.4.10.2error.fits</td></tr>\n",
       "<tr><td>12(5,7)(2)-12(4,8)(2)</td><td>234.0511493</td><td>234.00750689996315</td><td>96.92436398510782</td><td>25</td><td>7.376920498857385e-05</td><td>22.739801072730742</td><td>213402542748808.25</td><td>/blue/adamginsburg/d.jeff/SgrB2DSreorg/field10/C2H5OH/DSi/COPILOTREFACTORING_first_attempt_at_generalizing_script/nuppers/C2H5OH~12.5.7.2-12.4.8.2data.fits</td><td>/blue/adamginsburg/d.jeff/SgrB2DSreorg/field10/C2H5OH/DSi/COPILOTREFACTORING_first_attempt_at_generalizing_script/nuppers/C2H5OH~12.5.7.2-12.4.8.2error.fits</td></tr>\n",
       "</table></div>"
      ],
      "text/plain": [
       "<QTable length=14>\n",
       "          QNs           ...\n",
       "                        ...\n",
       "        bytes23         ...\n",
       "----------------------- ...\n",
       "13(0,13)(1)-12(1,12)(1) ...\n",
       "21(5,16)(2)-21(4,17)(2) ...\n",
       "16(5,11)(2)-16(4,12)(2) ...\n",
       "14(0,14)(2)-13(1,13)(2) ...\n",
       "14(1,14)(0)-13(1,13)(0) ...\n",
       "19(5,15)(2)-19(4,16)(2) ...\n",
       "18(5,14)(2)-18(4,15)(2) ...\n",
       "23(5,19)(2)-23(4,20)(2) ...\n",
       "17(5,13)(2)-17(4,14)(2) ...\n",
       "14(0,14)(0)-13(0,13)(0) ...\n",
       "14(1,14)(1)-13(1,13)(1) ...\n",
       "16(5,12)(2)-16(4,13)(2) ...\n",
       " 13(5,9)(2)-13(4,10)(2) ...\n",
       "  12(5,7)(2)-12(4,8)(2) ..."
      ]
     },
     "execution_count": 26,
     "metadata": {},
     "output_type": "execute_result"
    }
   ],
   "source": [
    "eukqns"
   ]
  },
  {
   "cell_type": "code",
   "execution_count": 6,
   "id": "bdf9608a-aa6e-454e-812e-0add276ff7b4",
   "metadata": {},
   "outputs": [
    {
     "data": {
      "text/plain": [
       "True"
      ]
     },
     "execution_count": 6,
     "metadata": {},
     "output_type": "execute_result"
    }
   ],
   "source": [
    "linemodelpath=linemodelhome+f'{linemodelversion}/{source}/'\n",
    "safelinepathbase=linemodelpath+'safelines/'\n",
    "doubletpath=safelinepathbase+f'doublets/*.fits'\n",
    "a=glob.glob(doubletpath)\n",
    "'20(5,16)(2)-20(4,17)(2)' in a[0]"
   ]
  },
  {
   "cell_type": "code",
   "execution_count": 3,
   "id": "60ff9fe6-98ca-43d1-b89a-e3350d985527",
   "metadata": {},
   "outputs": [
    {
     "data": {
      "text/latex": [
       "$4.1324704 \\; \\mathrm{\\frac{km}{s}}$"
      ],
      "text/plain": [
       "<Quantity 4.13247039 km / s>"
      ]
     },
     "execution_count": 3,
     "metadata": {},
     "output_type": "execute_result"
    }
   ],
   "source": [
    "representativelws"
   ]
  },
  {
   "cell_type": "code",
   "execution_count": 4,
   "id": "fba2cc21-74a8-4d32-b8ae-6dce895d1c46",
   "metadata": {},
   "outputs": [
    {
     "data": {
      "text/latex": [
       "$66.22243 \\; \\mathrm{\\frac{km}{s}}$"
      ],
      "text/plain": [
       "<Quantity 66.22243039 km / s>"
      ]
     },
     "execution_count": 4,
     "metadata": {},
     "output_type": "execute_result"
    }
   ],
   "source": [
    "((230.9913834-230.94037)/230.94037)*c.to('km s-1')"
   ]
  },
  {
   "cell_type": "markdown",
   "id": "7336c2a2-d501-4116-af05-bb16cae2640a",
   "metadata": {},
   "source": []
  },
  {
   "cell_type": "code",
   "execution_count": 36,
   "id": "efc17aab-471e-4dcf-9f98-76293cd87d43",
   "metadata": {},
   "outputs": [
    {
     "data": {
      "image/png": "[encoded data removed]",
      "text/plain": [
       "<Figure size 640x480 with 2 Axes>"
      ]
     },
     "metadata": {},
     "output_type": "display_data"
    }
   ],
   "source": [
    "plt.imshow((nupper_gmaps[transition]/error_nupper_gmaps[transition]),origin='lower',vmax=5)\n",
    "plt.colorbar()\n",
    "plt.show()"
   ]
  },
  {
   "cell_type": "code",
   "execution_count": 9,
   "id": "82d39b2b-36a9-4803-94b2-1d22248b4d60",
   "metadata": {},
   "outputs": [
    {
     "data": {
      "text/latex": [
       "$\\mathrm{\\frac{1}{cm^{2}}}$"
      ],
      "text/plain": [
       "Unit(\"1 / cm2\")"
      ]
     },
     "execution_count": 9,
     "metadata": {},
     "output_type": "execute_result"
    }
   ],
   "source": [
    "tempnupper,temperror_nupper=N_u(transition['RestFrequency'],transition['Aij'],mastermom0s[current_qns],\n",
    "                                        mastermom0errors[current_qns]) \n",
    "tempnupper.unit"
   ]
  },
  {
   "cell_type": "code",
   "execution_count": 41,
   "id": "3ef4556a-e270-4524-8d7a-3f71ee279a44",
   "metadata": {},
   "outputs": [
    {
     "name": "stdout",
     "output_type": "stream",
     "text": [
      "odict_values([<Column name='col0' dtype='bytes23' length=1>\n",
      "13(0,13)(1)-12(1,12)(1), <Column name='col1' dtype='bytes23' length=1>\n",
      "21(5,16)(2)-21(4,17)(2), <Column name='col2' dtype='bytes23' length=1>\n",
      "13(2,11)(0)-12(2,10)(0), <Column name='col3' dtype='bytes23' length=1>\n",
      "16(5,11)(2)-16(4,12)(2), <Column name='col4' dtype='bytes23' length=1>\n",
      "14(0,14)(2)-13(1,13)(2), <Column name='col5' dtype='bytes23' length=1>\n",
      "21(5,17)(2)-21(4,18)(2), <Column name='col6' dtype='bytes23' length=1>\n",
      "20(5,16)(2)-20(4,17)(2), <Column name='col7' dtype='bytes23' length=1>\n",
      "14(1,14)(0)-13(1,13)(0), <Column name='col8' dtype='bytes23' length=1>\n",
      "19(5,15)(2)-19(4,16)(2), <Column name='col9' dtype='bytes23' length=1>\n",
      "22(5,18)(2)-22(4,19)(2), <Column name='col10' dtype='bytes23' length=1>\n",
      "18(5,14)(2)-18(4,15)(2), <Column name='col11' dtype='bytes23' length=1>\n",
      "23(5,19)(2)-23(4,20)(2), <Column name='col12' dtype='bytes23' length=1>\n",
      "17(5,13)(2)-17(4,14)(2), <Column name='col13' dtype='bytes23' length=1>\n",
      "14(0,14)(0)-13(0,13)(0), <Column name='col14' dtype='bytes23' length=1>\n",
      "14(1,14)(1)-13(1,13)(1), <Column name='col15' dtype='bytes23' length=1>\n",
      "16(5,12)(2)-16(4,13)(2), <Column name='col16' dtype='bytes23' length=1>\n",
      "13(5,8)(2)-13(4,9)(2), <Column name='col17' dtype='bytes23' length=1>\n",
      "13(5,9)(2)-13(4,10)(2), <Column name='col18' dtype='bytes23' length=1>\n",
      "12(5,7)(2)-12(4,8)(2)])\n"
     ]
    },
    {
     "ename": "AttributeError",
     "evalue": "'function' object has no attribute 'replace'",
     "output_type": "error",
     "traceback": [
      "\u001b[0;31m---------------------------------------------------------------------------\u001b[0m",
      "\u001b[0;31mAttributeError\u001b[0m                            Traceback (most recent call last)",
      "Cell \u001b[0;32mIn[41], line 3\u001b[0m\n\u001b[1;32m      1\u001b[0m a\u001b[38;5;241m=\u001b[39mQTable(safelines[\u001b[38;5;124m'\u001b[39m\u001b[38;5;124mQNs\u001b[39m\u001b[38;5;124m'\u001b[39m])\n\u001b[1;32m      2\u001b[0m \u001b[38;5;28mprint\u001b[39m(a\u001b[38;5;241m.\u001b[39mvalues())\n\u001b[0;32m----> 3\u001b[0m b\u001b[38;5;241m=\u001b[39m\u001b[43ma\u001b[49m\u001b[38;5;241;43m.\u001b[39;49m\u001b[43mvalues\u001b[49m\u001b[38;5;241;43m.\u001b[39;49m\u001b[43mreplace\u001b[49m(\u001b[38;5;124m'\u001b[39m\u001b[38;5;124m(\u001b[39m\u001b[38;5;124m'\u001b[39m,\u001b[38;5;124m'\u001b[39m\u001b[38;5;124m.\u001b[39m\u001b[38;5;124m'\u001b[39m)\n\u001b[1;32m      4\u001b[0m b\u001b[38;5;241m=\u001b[39mb\u001b[38;5;241m.\u001b[39mreplace(\u001b[38;5;124m'\u001b[39m\u001b[38;5;124m,\u001b[39m\u001b[38;5;124m'\u001b[39m,\u001b[38;5;124m'\u001b[39m\u001b[38;5;124m.\u001b[39m\u001b[38;5;124m'\u001b[39m)\n\u001b[1;32m      5\u001b[0m b\u001b[38;5;241m=\u001b[39mb\u001b[38;5;241m.\u001b[39mreplace(\u001b[38;5;124m'\u001b[39m\u001b[38;5;124m)\u001b[39m\u001b[38;5;124m'\u001b[39m,\u001b[38;5;124m'\u001b[39m\u001b[38;5;124m'\u001b[39m)\n",
      "\u001b[0;31mAttributeError\u001b[0m: 'function' object has no attribute 'replace'"
     ]
    }
   ],
   "source": [
    "a=QTable(safelines['QNs'])\n",
    "print(a.values())\n",
    "b=a.values.replace('(','.')\n",
    "b=b.replace(',','.')\n",
    "b=b.replace(')','')\n",
    "b"
   ]
  },
  {
   "cell_type": "code",
   "execution_count": 17,
   "id": "fc4365cf-f24e-4903-b387-fed230ada739",
   "metadata": {},
   "outputs": [
    {
     "name": "stdout",
     "output_type": "stream",
     "text": [
      "          QNs             RestFrequency    ...    ModelNupper    \n",
      "                               GHz         ...      1 / cm2      \n",
      "----------------------- ------------------ ... ------------------\n",
      "13(0,13)(1)-12(1,12)(1) 217.26230230000002 ... 197199733147527.25\n"
     ]
    },
    {
     "data": {
      "text/plain": [
       "\"\\nlines_in_spw=np.where(safelines['ReferenceFrequency']<=max(cube.spectral_axis) and safelines['ReferenceFrequency']>=max(cube.spectral_axis))[0]\\nlines_in_spw\\n\""
      ]
     },
     "execution_count": 17,
     "metadata": {},
     "output_type": "execute_result"
    }
   ],
   "source": [
    "linesbelowmax=safelines['ReferenceFrequency']<=max(cube.spectral_axis)\n",
    "linesabovemin=safelines['ReferenceFrequency']>=min(cube.spectral_axis)\n",
    "lines_in_spw=linesbelowmax*linesabovemin\n",
    "print(safelines[lines_in_spw])\n",
    "'''\n",
    "lines_in_spw=np.where(safelines['ReferenceFrequency']<=max(cube.spectral_axis) and safelines['ReferenceFrequency']>=max(cube.spectral_axis))[0]\n",
    "lines_in_spw\n",
    "'''"
   ]
  },
  {
   "cell_type": "code",
   "execution_count": 10,
   "id": "0870e0c1-2ef5-475f-938f-e0e8532f45b5",
   "metadata": {},
   "outputs": [
    {
     "data": {
      "text/latex": [
       "$2.1829227 \\times 10^{11} \\; \\mathrm{Hz}$"
      ],
      "text/plain": [
       "<Quantity 2.18292273e+11 Hz>"
      ]
     },
     "execution_count": 10,
     "metadata": {},
     "output_type": "execute_result"
    }
   ],
   "source": []
  },
  {
   "cell_type": "code",
   "execution_count": 30,
   "id": "b9274f27-d1d0-4e1b-ab8f-9f45db8ac304",
   "metadata": {},
   "outputs": [
    {
     "data": {
      "text/latex": [
       "$1.6617584 \\times 10^{13} \\; \\mathrm{\\frac{1}{cm^{2}}}$"
      ],
      "text/plain": [
       "<Quantity 1.66175845e+13 1 / cm2>"
      ]
     },
     "execution_count": 30,
     "metadata": {},
     "output_type": "execute_result"
    }
   ],
   "source": [
    "key='5_1&4-4_2&3'\n",
    "lte_molecule.nupper_of_kkms(intensities[key][24,24],216.945521*u.GHz,1.2135844400315345e-05*u.Hz)/44#intensities[key][24,24]"
   ]
  },
  {
   "cell_type": "code",
   "execution_count": 9,
   "id": "b0de75d1-5ba4-4466-a794-c3da97167899",
   "metadata": {},
   "outputs": [
    {
     "data": {
      "text/latex": [
       "$97.002782 \\; \\mathrm{\\frac{K\\,km}{s}}$"
      ],
      "text/plain": [
       "<Quantity 97.00278228 K km / s>"
      ]
     },
     "execution_count": 9,
     "metadata": {},
     "output_type": "execute_result"
    }
   ],
   "source": [
    "intensities[key][24,24]"
   ]
  },
  {
   "cell_type": "code",
   "execution_count": 29,
   "id": "fbdb11dc-55e7-42da-80f9-da115f4e9b90",
   "metadata": {},
   "outputs": [
    {
     "data": {
      "text/plain": [
       "15848931924611.11"
      ]
     },
     "execution_count": 29,
     "metadata": {},
     "output_type": "execute_result"
    }
   ],
   "source": [
    "10**13.2"
   ]
  },
  {
   "cell_type": "code",
   "execution_count": 24,
   "id": "fb3847cc-1b8d-46b2-9929-e6dd7416888e",
   "metadata": {},
   "outputs": [
    {
     "name": "stderr",
     "output_type": "stream",
     "text": [
      "Do not use the average beam for convolution! Use the smallest common beam from `Beams.common_beam()`.\n",
      "Arithmetic beam averaging is being performed.  This is not a mathematically robust operation, but is being permitted because the beams differ by <0.01\n"
     ]
    },
    {
     "data": {
      "text/latex": [
       "$113.82307 \\; \\mathrm{\\frac{K\\,km}{s}}$"
      ],
      "text/plain": [
       "<Quantity 113.82306796 K km / s>"
      ]
     },
     "execution_count": 24,
     "metadata": {},
     "output_type": "execute_result"
    }
   ],
   "source": [
    "maskedslab54=sc.read('/blue/adamginsburg/d.jeff/SgrB2DSreorg/field10/CH3OH/DSiii/sep2024_1_testingnewch3ohprediction/spectralslabs/km_s/CH3OH~5_1&4-4_2&3_maskedslab.fits')\n",
    "withoutcontinuum_moment054=maskedslab54.moment0()+(reprojcont_K*(4*u.km/u.s))#maskedslab54.linewidth_fwhm()\n",
    "withoutcontinuum_moment054[24,24]"
   ]
  },
  {
   "cell_type": "code",
   "execution_count": 23,
   "id": "0facdf49-254b-4b8c-a13a-e8a8602ef493",
   "metadata": {},
   "outputs": [
    {
     "data": {
      "text/latex": [
       "$4.0596837 \\; \\mathrm{\\frac{km}{s}}$"
      ],
      "text/plain": [
       "<Quantity 4.05968367 km / s>"
      ]
     },
     "execution_count": 23,
     "metadata": {},
     "output_type": "execute_result"
    }
   ],
   "source": [
    "linewidth"
   ]
  },
  {
   "cell_type": "code",
   "execution_count": 2,
   "id": "893fb2a0-b6bf-43ee-ada7-6f14fc42f644",
   "metadata": {},
   "outputs": [],
   "source": [
    "from astropy.nddata import Cutout2D"
   ]
  },
  {
   "cell_type": "code",
   "execution_count": 7,
   "id": "578a8003-56ec-45c0-a261-da34eebb8c53",
   "metadata": {},
   "outputs": [],
   "source": [
    "fiducialfwhm=velocitytofreq(4*u.km/u.s,225*u.GHz)"
   ]
  },
  {
   "cell_type": "code",
   "execution_count": 14,
   "id": "066a67c3-bb5e-43b5-86cd-205c30091b82",
   "metadata": {},
   "outputs": [],
   "source": [
    "potentialdoublets=[]\n",
    "for line in eukqns:\n",
    "    freq=line['Reference Frequency']*u.MHz\n",
    "    for testline in eukqns:\n",
    "        testfreq=testline['Reference Frequency']*u.MHz\n",
    "        if freq == testfreq:\n",
    "            continue\n",
    "        if (freq+fiducialfwhm) > testfreq and (freq-fiducialfwhm) < testfreq:\n",
    "            potentialdoublets.append([line,testline])"
   ]
  },
  {
   "cell_type": "code",
   "execution_count": 15,
   "id": "f023c756-f771-48d2-a906-dbae065d0f6a",
   "metadata": {},
   "outputs": [
    {
     "data": {
      "text/plain": [
       "[[<Row index=8>\n",
       "        Eupper                 QNs           Reference Frequency Degeneracy\n",
       "       float64                str23                float64         int64   \n",
       "  ------------------ ----------------------- ------------------- ----------\n",
       "  225.95122187481488 21(5,17)(2)-21(4,18)(2)  231515.86216536476         43,\n",
       "  <Row index=9>\n",
       "        Eupper                 QNs           Reference Frequency Degeneracy\n",
       "       float64                str23                float64         int64   \n",
       "  ------------------ ----------------------- ------------------- ----------\n",
       "  208.21222307878986 20(5,16)(2)-20(4,17)(2)   231518.2154312791         41],\n",
       " [<Row index=9>\n",
       "        Eupper                 QNs           Reference Frequency Degeneracy\n",
       "       float64                str23                float64         int64   \n",
       "  ------------------ ----------------------- ------------------- ----------\n",
       "  208.21222307878986 20(5,16)(2)-20(4,17)(2)   231518.2154312791         41,\n",
       "  <Row index=8>\n",
       "        Eupper                 QNs           Reference Frequency Degeneracy\n",
       "       float64                str23                float64         int64   \n",
       "  ------------------ ----------------------- ------------------- ----------\n",
       "  225.95122187481488 21(5,17)(2)-21(4,18)(2)  231515.86216536476         43]]"
      ]
     },
     "execution_count": 15,
     "metadata": {},
     "output_type": "execute_result"
    }
   ],
   "source": [
    "potentialdoublets"
   ]
  },
  {
   "cell_type": "code",
   "execution_count": 18,
   "id": "61fa2242-e8cb-4ce8-b9d3-84900ce18f83",
   "metadata": {},
   "outputs": [
    {
     "name": "stdout",
     "output_type": "stream",
     "text": [
      "      Eupper      \n",
      "------------------\n",
      " 85.52671483307333\n",
      " 96.92436398510782\n",
      "107.86621480892468\n",
      "107.86681703330214\n",
      " 119.6545972300443\n",
      "119.65582045282288\n",
      "132.29025612351714\n",
      "132.29268070871308\n",
      "135.37352053614035\n",
      "135.54154448503328\n",
      "               ...\n",
      "175.29099616228942\n",
      " 191.3257219747236\n",
      "208.21222307878986\n",
      "225.95122187481488\n",
      "226.01385361044416\n",
      "244.54327170144978\n",
      " 263.0191647545652\n",
      " 263.9880929132633\n",
      "284.28576452901626\n",
      "409.96515378513914\n",
      "Length = 27 rows\n"
     ]
    }
   ],
   "source": [
    "print(eukqns['Eupper'])"
   ]
  },
  {
   "cell_type": "code",
   "execution_count": null,
   "id": "941524ea-1ead-4d09-9701-1dfb827b8424",
   "metadata": {},
   "outputs": [],
   "source": []
  }
 ],
 "metadata": {
  "kernelspec": {
   "display_name": "Python 3",
   "language": "python",
   "name": "python3"
  },
  "language_info": {
   "codemirror_mode": {
    "name": "ipython",
    "version": 3
   },
   "file_extension": ".py",
   "mimetype": "text/x-python",
   "name": "python",
   "nbconvert_exporter": "python",
   "pygments_lexer": "ipython3",
   "version": "3.12.4"
  }
 },
 "nbformat": 4,
 "nbformat_minor": 5
}
