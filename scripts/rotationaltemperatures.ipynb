{
 "cells": [
  {
   "cell_type": "code",
   "execution_count": 5,
   "id": "899e09a8-1b44-4b15-b3d5-7a7671de4e04",
   "metadata": {},
   "outputs": [
    {
     "name": "stderr",
     "output_type": "stream",
     "text": [
      "invalid escape sequence '\\p'\n",
      "invalid escape sequence '\\p'\n"
     ]
    },
    {
     "name": "stdout",
     "output_type": "stream",
     "text": [
      "Cube-->Core-->Tex start\n",
      "\n",
      "Begin Jy/beam-to-K and region subcube conversion\n",
      "\n",
      "Source: DSiii\n",
      "\n",
      "Begin core cube to Tex map process\n",
      "\n",
      "Setting constants\n",
      "Doppler shift: 0.00017434394563721814 / 52.267 km / s\n",
      "\n",
      "Setting input LTE parameters\n",
      "Input Tex: 350.40647421729545 K\n",
      "Input Ntot: 5e+17 1 / cm2\n",
      " C2H5OH  has an incomplete partition function\n",
      "Estimating by linear fit to log-log Qrot/T relation\n",
      "Making source path /blue/adamginsburg/d.jeff/SgrB2DSreorg/field10/C2H5OH/DSiii//dec2024_3_try-close-to-FWZI/\n",
      "Making nupper folder /blue/adamginsburg/d.jeff/SgrB2DSreorg/field10/C2H5OH/DSiii//dec2024_3_try-close-to-FWZI/nuppers/\n",
      "Making error folder /blue/adamginsburg/d.jeff/SgrB2DSreorg/field10/C2H5OH/DSiii//dec2024_3_try-close-to-FWZI/errorimgs/std/\n",
      "Making spectral slab folder /blue/adamginsburg/d.jeff/SgrB2DSreorg/field10/C2H5OH/DSiii//dec2024_3_try-close-to-FWZI/spectralslabs/km_s/\n",
      "\n",
      "Creating moment 0 directory at /blue/adamginsburg/d.jeff/SgrB2DSreorg/field10/C2H5OH/DSiii//dec2024_3_try-close-to-FWZI/mom0/\n",
      "Creating moment 1 directory at /blue/adamginsburg/d.jeff/SgrB2DSreorg/field10/C2H5OH/DSiii//dec2024_3_try-close-to-FWZI/mom1/\n",
      "Creating moment 2 directory at /blue/adamginsburg/d.jeff/SgrB2DSreorg/field10/C2H5OH/DSiii//dec2024_3_try-close-to-FWZI/mom2/\n",
      "Making rotational diagram folder\n",
      "Making figures folder\n",
      "14.0.14_2-13.1.13_2 representative line objects will be computed for DSiii.\n",
      "\n",
      "Accessing data cube /orange/adamginsburg/sgrb2/2017.1.00114.S/desmond/SgrB2DSminicubes/DSiii/field10originals_K/spw0minimize.image.pbcor_line.fits\n",
      "Acquiring cube rest frequency and computing target pixel coordinates\n",
      "Corrected decreasing frequency axis\n",
      "Passed increasing spectral axis check\n",
      "Stddev position - x: 233/y: 344\n",
      "Flux position - x: 25/y: 26\n",
      "Creating 14.0.14_2-13.1.13_2 representative line data objects for DSiii\n",
      "Opening file /orange/adamginsburg/sgrb2/2017.1.00114.S/desmond/SgrB2DSminicubes/DSiii/field10originals_K/spw2minimize.image.pbcor_line.fits\n",
      "Creating spectral slab between 230.9479349395083 GHz and 230.95430200200468 GHz\n",
      "\n",
      "Computing moment1\n",
      "\n",
      "Computing fwhm\n",
      "Writing objects to file\n"
     ]
    },
    {
     "name": "stderr",
     "output_type": "stream",
     "text": [
      "Do not use the average beam for convolution! Use the smallest common beam from `Beams.common_beam()`.\n",
      "WARNING: BeamAverageWarning: Arithmetic beam averaging is being performed.  This is not a mathematically robust operation, but is being permitted because the beams differ by <0.01 [spectral_cube.base_class]\n",
      "invalid value encountered in divide\n",
      "Do not use the average beam for convolution! Use the smallest common beam from `Beams.common_beam()`.\n",
      "WARNING: BeamAverageWarning: Arithmetic beam averaging is being performed.  This is not a mathematically robust operation, but is being permitted because the beams differ by <0.01 [spectral_cube.base_class]\n"
     ]
    },
    {
     "name": "stdout",
     "output_type": "stream",
     "text": [
      "Continuing to line loops\n",
      "\n",
      "\n",
      "linelooperLTE...\n",
      "lines looped.\n",
      "\n",
      "Finished loop for spw0\n",
      "\n",
      "Accessing data cube /orange/adamginsburg/sgrb2/2017.1.00114.S/desmond/SgrB2DSminicubes/DSiii/field10originals_K/spw1minimize.image.pbcor_line.fits\n",
      "Acquiring cube rest frequency and computing target pixel coordinates\n",
      "Corrected decreasing frequency axis\n",
      "Passed increasing spectral axis check\n",
      "Stddev position - x: 230/y: 341\n",
      "Flux position - x: 25/y: 26\n",
      "\n",
      "linelooperLTE...\n",
      "\n",
      "Start 21(5,16)(2)-21(4,17)(2) moment0 procedure\n",
      "Make spectral slab between 218.5129128259324 GHz and 218.51962013615923 GHz\n",
      "Slicing quantum numbers\n",
      "Commence moment0 procedure\n",
      "\n",
      "Create 21(5,16)(2)-21(4,17)(2) spatial-velocity mask\n"
     ]
    },
    {
     "name": "stderr",
     "output_type": "stream",
     "text": [
      "Do not use the average beam for convolution! Use the smallest common beam from `Beams.common_beam()`.\n",
      "WARNING: BeamAverageWarning: Arithmetic beam averaging is being performed.  This is not a mathematically robust operation, but is being permitted because the beams differ by <0.01 [spectral_cube.base_class]\n",
      "invalid value encountered in divide\n",
      "Do not use the average beam for convolution! Use the smallest common beam from `Beams.common_beam()`.\n",
      "WARNING: BeamAverageWarning: Arithmetic beam averaging is being performed.  This is not a mathematically robust operation, but is being permitted because the beams differ by <0.01 [spectral_cube.base_class]\n",
      "WARNING: VarianceWarning: Note that the second moment returned will be a variance map. To get a linewidth map, use the SpectralCube.linewidth_fwhm() or SpectralCube.linewidth_sigma() methods instead. [spectral_cube.spectral_cube]\n",
      "invalid value encountered in divide\n",
      "invalid value encountered in divide\n",
      "Do not use the average beam for convolution! Use the smallest common beam from `Beams.common_beam()`.\n",
      "WARNING: BeamAverageWarning: Arithmetic beam averaging is being performed.  This is not a mathematically robust operation, but is being permitted because the beams differ by <0.01 [spectral_cube.base_class]\n",
      "WARNING: SliceWarning: Slice (None, slice(None, None, None), slice(None, None, None)) cannot be used on this 2-dimensional array's WCS.  If this is intentional, you  should use this <class 'spectral_cube.lower_dimensional_structures.Projection'>'s ``array``  or ``quantity`` attribute. [spectral_cube.lower_dimensional_structures]\n",
      "Do not use the average beam for convolution! Use the smallest common beam from `Beams.common_beam()`.\n",
      "WARNING: BeamAverageWarning: Arithmetic beam averaging is being performed.  This is not a mathematically robust operation, but is being permitted because the beams differ by <0.01 [spectral_cube.base_class]\n",
      "Do not use the average beam for convolution! Use the smallest common beam from `Beams.common_beam()`.\n",
      "WARNING: BeamAverageWarning: Arithmetic beam averaging is being performed.  This is not a mathematically robust operation, but is being permitted because the beams differ by <0.01 [spectral_cube.base_class]\n",
      "WARNING: PossiblySlowWarning: This function (<function BaseSpectralCube.max at 0x145ee7a987c0>) requires loading the entire cube into memory and may therefore be slow. [spectral_cube.utils]\n",
      "Do not use the average beam for convolution! Use the smallest common beam from `Beams.common_beam()`.\n",
      "WARNING: BeamAverageWarning: Arithmetic beam averaging is being performed.  This is not a mathematically robust operation, but is being permitted because the beams differ by <0.01 [spectral_cube.base_class]\n",
      "All-NaN slice encountered\n"
     ]
    },
    {
     "name": "stdout",
     "output_type": "stream",
     "text": [
      "Masking spectral slab\n",
      "Computing unmasked moment0...\n",
      "\n",
      "Computing masked moment0...\n",
      "\n",
      "Computing peak intensity\n",
      "\n",
      "Saving...\n",
      "Slab written to /blue/adamginsburg/d.jeff/SgrB2DSreorg/field10/C2H5OH/DSiii//dec2024_3_try-close-to-FWZI/spectralslabs/km_s/C2H5OH~21.5.16.2-21.4.17.2_slab.fits.\n",
      "Masked slab written to /blue/adamginsburg/d.jeff/SgrB2DSreorg/field10/C2H5OH/DSiii//dec2024_3_try-close-to-FWZI/spectralslabs/km_s/C2H5OH~21.5.16.2-21.4.17.2_maskedslab.fits.\n",
      "\n",
      "Creating moment0 error Primary HDU\n",
      "Wrapping moment0 error Primary HDU in HDUList\n",
      "Writing moment0 error to /blue/adamginsburg/d.jeff/SgrB2DSreorg/field10/C2H5OH/DSiii//dec2024_3_try-close-to-FWZI/mom0/C2H5OH~21.5.16.2-21.4.17.2_error.fits\n",
      "Saving moment1 to /blue/adamginsburg/d.jeff/SgrB2DSreorg/field10/C2H5OH/DSiii//dec2024_3_try-close-to-FWZI/mom1/C2H5OH~21.5.16.2-21.4.17.2.fits\n",
      "\n",
      "Saving moment 2s to /blue/adamginsburg/d.jeff/SgrB2DSreorg/field10/C2H5OH/DSiii//dec2024_3_try-close-to-FWZI/mom2/C2H5OH~21.5.16.2-21.4.17.2_var.fits and /blue/adamginsburg/d.jeff/SgrB2DSreorg/field10/C2H5OH/DSiii//dec2024_3_try-close-to-FWZI/mom2/C2H5OH~21.5.16.2-21.4.17.2_fwhm.fits\n",
      "\n",
      "Saving peak intensity to /blue/adamginsburg/d.jeff/SgrB2DSreorg/field10/C2H5OH/DSiii//dec2024_3_try-close-to-FWZI/mom0/C2H5OH~21.5.16.2-21.4.17.2_peakint.fits\n",
      "21(5,16)(2)-21(4,17)(2) calculations complete.\n",
      "\n",
      "lines looped.\n",
      "\n",
      "Finished loop for spw1\n",
      "\n",
      "Accessing data cube /orange/adamginsburg/sgrb2/2017.1.00114.S/desmond/SgrB2DSminicubes/DSiii/field10originals_K/spw2minimize.image.pbcor_line.fits\n",
      "Acquiring cube rest frequency and computing target pixel coordinates\n",
      "Passed increasing spectral axis check\n",
      "Stddev position - x: 209/y: 320\n",
      "Flux position - x: 25/y: 26\n",
      "\n",
      "linelooperLTE...\n",
      "Skipping excluded line: 13(2,11)(0)-12(2,10)(0)\n",
      "\n",
      "Start 16(5,11)(2)-16(4,12)(2) moment0 procedure\n",
      "Make spectral slab between 230.90982883659757 GHz and 230.91691667335925 GHz\n",
      "Slicing quantum numbers\n",
      "Commence moment0 procedure\n",
      "\n",
      "Create 16(5,11)(2)-16(4,12)(2) spatial-velocity mask\n"
     ]
    },
    {
     "name": "stderr",
     "output_type": "stream",
     "text": [
      "Do not use the average beam for convolution! Use the smallest common beam from `Beams.common_beam()`.\n",
      "WARNING: BeamAverageWarning: Arithmetic beam averaging is being performed.  This is not a mathematically robust operation, but is being permitted because the beams differ by <0.01 [spectral_cube.base_class]\n",
      "invalid value encountered in divide\n",
      "Do not use the average beam for convolution! Use the smallest common beam from `Beams.common_beam()`.\n",
      "WARNING: BeamAverageWarning: Arithmetic beam averaging is being performed.  This is not a mathematically robust operation, but is being permitted because the beams differ by <0.01 [spectral_cube.base_class]\n",
      "WARNING: VarianceWarning: Note that the second moment returned will be a variance map. To get a linewidth map, use the SpectralCube.linewidth_fwhm() or SpectralCube.linewidth_sigma() methods instead. [spectral_cube.spectral_cube]\n",
      "invalid value encountered in divide\n",
      "invalid value encountered in divide\n",
      "Do not use the average beam for convolution! Use the smallest common beam from `Beams.common_beam()`.\n",
      "WARNING: BeamAverageWarning: Arithmetic beam averaging is being performed.  This is not a mathematically robust operation, but is being permitted because the beams differ by <0.01 [spectral_cube.base_class]\n",
      "WARNING: SliceWarning: Slice (None, slice(None, None, None), slice(None, None, None)) cannot be used on this 2-dimensional array's WCS.  If this is intentional, you  should use this <class 'spectral_cube.lower_dimensional_structures.Projection'>'s ``array``  or ``quantity`` attribute. [spectral_cube.lower_dimensional_structures]\n",
      "Do not use the average beam for convolution! Use the smallest common beam from `Beams.common_beam()`.\n",
      "WARNING: BeamAverageWarning: Arithmetic beam averaging is being performed.  This is not a mathematically robust operation, but is being permitted because the beams differ by <0.01 [spectral_cube.base_class]\n",
      "Do not use the average beam for convolution! Use the smallest common beam from `Beams.common_beam()`.\n",
      "WARNING: BeamAverageWarning: Arithmetic beam averaging is being performed.  This is not a mathematically robust operation, but is being permitted because the beams differ by <0.01 [spectral_cube.base_class]\n",
      "WARNING: PossiblySlowWarning: This function (<function BaseSpectralCube.max at 0x145ee7a987c0>) requires loading the entire cube into memory and may therefore be slow. [spectral_cube.utils]\n",
      "Do not use the average beam for convolution! Use the smallest common beam from `Beams.common_beam()`.\n",
      "WARNING: BeamAverageWarning: Arithmetic beam averaging is being performed.  This is not a mathematically robust operation, but is being permitted because the beams differ by <0.01 [spectral_cube.base_class]\n",
      "All-NaN slice encountered\n"
     ]
    },
    {
     "name": "stdout",
     "output_type": "stream",
     "text": [
      "Masking spectral slab\n",
      "Computing unmasked moment0...\n",
      "\n",
      "Computing masked moment0...\n",
      "\n",
      "Computing peak intensity\n",
      "\n",
      "Saving...\n",
      "Slab written to /blue/adamginsburg/d.jeff/SgrB2DSreorg/field10/C2H5OH/DSiii//dec2024_3_try-close-to-FWZI/spectralslabs/km_s/C2H5OH~16.5.11.2-16.4.12.2_slab.fits.\n",
      "Masked slab written to /blue/adamginsburg/d.jeff/SgrB2DSreorg/field10/C2H5OH/DSiii//dec2024_3_try-close-to-FWZI/spectralslabs/km_s/C2H5OH~16.5.11.2-16.4.12.2_maskedslab.fits.\n",
      "\n",
      "Creating moment0 error Primary HDU\n",
      "Wrapping moment0 error Primary HDU in HDUList\n",
      "Writing moment0 error to /blue/adamginsburg/d.jeff/SgrB2DSreorg/field10/C2H5OH/DSiii//dec2024_3_try-close-to-FWZI/mom0/C2H5OH~16.5.11.2-16.4.12.2_error.fits\n",
      "Saving moment1 to /blue/adamginsburg/d.jeff/SgrB2DSreorg/field10/C2H5OH/DSiii//dec2024_3_try-close-to-FWZI/mom1/C2H5OH~16.5.11.2-16.4.12.2.fits\n",
      "\n",
      "Saving moment 2s to /blue/adamginsburg/d.jeff/SgrB2DSreorg/field10/C2H5OH/DSiii//dec2024_3_try-close-to-FWZI/mom2/C2H5OH~16.5.11.2-16.4.12.2_var.fits and /blue/adamginsburg/d.jeff/SgrB2DSreorg/field10/C2H5OH/DSiii//dec2024_3_try-close-to-FWZI/mom2/C2H5OH~16.5.11.2-16.4.12.2_fwhm.fits\n",
      "\n",
      "Saving peak intensity to /blue/adamginsburg/d.jeff/SgrB2DSreorg/field10/C2H5OH/DSiii//dec2024_3_try-close-to-FWZI/mom0/C2H5OH~16.5.11.2-16.4.12.2_peakint.fits\n",
      "16(5,11)(2)-16(4,12)(2) calculations complete.\n",
      "\n",
      "\n",
      "Start 14(0,14)(2)-13(1,13)(2) moment0 procedure\n",
      "Make spectral slab between 230.94742188065132 GHz and 230.95451087134117 GHz\n",
      "Slicing quantum numbers\n",
      "Commence moment0 procedure\n",
      "\n",
      "Create 14(0,14)(2)-13(1,13)(2) spatial-velocity mask\n"
     ]
    },
    {
     "name": "stderr",
     "output_type": "stream",
     "text": [
      "Do not use the average beam for convolution! Use the smallest common beam from `Beams.common_beam()`.\n",
      "WARNING: BeamAverageWarning: Arithmetic beam averaging is being performed.  This is not a mathematically robust operation, but is being permitted because the beams differ by <0.01 [spectral_cube.base_class]\n",
      "invalid value encountered in divide\n",
      "Do not use the average beam for convolution! Use the smallest common beam from `Beams.common_beam()`.\n",
      "WARNING: BeamAverageWarning: Arithmetic beam averaging is being performed.  This is not a mathematically robust operation, but is being permitted because the beams differ by <0.01 [spectral_cube.base_class]\n",
      "WARNING: VarianceWarning: Note that the second moment returned will be a variance map. To get a linewidth map, use the SpectralCube.linewidth_fwhm() or SpectralCube.linewidth_sigma() methods instead. [spectral_cube.spectral_cube]\n",
      "invalid value encountered in divide\n",
      "invalid value encountered in divide\n",
      "Do not use the average beam for convolution! Use the smallest common beam from `Beams.common_beam()`.\n",
      "WARNING: BeamAverageWarning: Arithmetic beam averaging is being performed.  This is not a mathematically robust operation, but is being permitted because the beams differ by <0.01 [spectral_cube.base_class]\n",
      "WARNING: SliceWarning: Slice (None, slice(None, None, None), slice(None, None, None)) cannot be used on this 2-dimensional array's WCS.  If this is intentional, you  should use this <class 'spectral_cube.lower_dimensional_structures.Projection'>'s ``array``  or ``quantity`` attribute. [spectral_cube.lower_dimensional_structures]\n",
      "Do not use the average beam for convolution! Use the smallest common beam from `Beams.common_beam()`.\n",
      "WARNING: BeamAverageWarning: Arithmetic beam averaging is being performed.  This is not a mathematically robust operation, but is being permitted because the beams differ by <0.01 [spectral_cube.base_class]\n",
      "Do not use the average beam for convolution! Use the smallest common beam from `Beams.common_beam()`.\n",
      "WARNING: BeamAverageWarning: Arithmetic beam averaging is being performed.  This is not a mathematically robust operation, but is being permitted because the beams differ by <0.01 [spectral_cube.base_class]\n",
      "WARNING: PossiblySlowWarning: This function (<function BaseSpectralCube.max at 0x145ee7a987c0>) requires loading the entire cube into memory and may therefore be slow. [spectral_cube.utils]\n",
      "Do not use the average beam for convolution! Use the smallest common beam from `Beams.common_beam()`.\n",
      "WARNING: BeamAverageWarning: Arithmetic beam averaging is being performed.  This is not a mathematically robust operation, but is being permitted because the beams differ by <0.01 [spectral_cube.base_class]\n",
      "All-NaN slice encountered\n"
     ]
    },
    {
     "name": "stdout",
     "output_type": "stream",
     "text": [
      "Masking spectral slab\n",
      "Computing unmasked moment0...\n",
      "\n",
      "Computing masked moment0...\n",
      "\n",
      "Computing peak intensity\n",
      "\n",
      "Saving...\n",
      "Slab written to /blue/adamginsburg/d.jeff/SgrB2DSreorg/field10/C2H5OH/DSiii//dec2024_3_try-close-to-FWZI/spectralslabs/km_s/C2H5OH~14.0.14.2-13.1.13.2_slab.fits.\n",
      "Masked slab written to /blue/adamginsburg/d.jeff/SgrB2DSreorg/field10/C2H5OH/DSiii//dec2024_3_try-close-to-FWZI/spectralslabs/km_s/C2H5OH~14.0.14.2-13.1.13.2_maskedslab.fits.\n",
      "\n",
      "Creating moment0 error Primary HDU\n",
      "Wrapping moment0 error Primary HDU in HDUList\n",
      "Writing moment0 error to /blue/adamginsburg/d.jeff/SgrB2DSreorg/field10/C2H5OH/DSiii//dec2024_3_try-close-to-FWZI/mom0/C2H5OH~14.0.14.2-13.1.13.2_error.fits\n",
      "Saving moment1 to /blue/adamginsburg/d.jeff/SgrB2DSreorg/field10/C2H5OH/DSiii//dec2024_3_try-close-to-FWZI/mom1/C2H5OH~14.0.14.2-13.1.13.2.fits\n",
      "\n",
      "Saving moment 2s to /blue/adamginsburg/d.jeff/SgrB2DSreorg/field10/C2H5OH/DSiii//dec2024_3_try-close-to-FWZI/mom2/C2H5OH~14.0.14.2-13.1.13.2_var.fits and /blue/adamginsburg/d.jeff/SgrB2DSreorg/field10/C2H5OH/DSiii//dec2024_3_try-close-to-FWZI/mom2/C2H5OH~14.0.14.2-13.1.13.2_fwhm.fits\n",
      "\n",
      "Saving peak intensity to /blue/adamginsburg/d.jeff/SgrB2DSreorg/field10/C2H5OH/DSiii//dec2024_3_try-close-to-FWZI/mom0/C2H5OH~14.0.14.2-13.1.13.2_peakint.fits\n",
      "14(0,14)(2)-13(1,13)(2) calculations complete.\n",
      "\n",
      "Skipping excluded line: 21(5,17)(2)-21(4,18)(2)\n",
      "Skipping excluded line: 20(5,16)(2)-20(4,17)(2)\n",
      "\n",
      "Start 14(1,14)(0)-13(1,13)(0) moment0 procedure\n",
      "Make spectral slab between 231.6246514680124 GHz and 231.63176124643914 GHz\n",
      "Slicing quantum numbers\n",
      "Commence moment0 procedure\n",
      "\n",
      "Create 14(1,14)(0)-13(1,13)(0) spatial-velocity mask\n"
     ]
    },
    {
     "name": "stderr",
     "output_type": "stream",
     "text": [
      "Do not use the average beam for convolution! Use the smallest common beam from `Beams.common_beam()`.\n",
      "WARNING: BeamAverageWarning: Arithmetic beam averaging is being performed.  This is not a mathematically robust operation, but is being permitted because the beams differ by <0.01 [spectral_cube.base_class]\n",
      "invalid value encountered in divide\n",
      "Do not use the average beam for convolution! Use the smallest common beam from `Beams.common_beam()`.\n",
      "WARNING: BeamAverageWarning: Arithmetic beam averaging is being performed.  This is not a mathematically robust operation, but is being permitted because the beams differ by <0.01 [spectral_cube.base_class]\n",
      "WARNING: VarianceWarning: Note that the second moment returned will be a variance map. To get a linewidth map, use the SpectralCube.linewidth_fwhm() or SpectralCube.linewidth_sigma() methods instead. [spectral_cube.spectral_cube]\n",
      "invalid value encountered in divide\n",
      "invalid value encountered in divide\n",
      "Do not use the average beam for convolution! Use the smallest common beam from `Beams.common_beam()`.\n",
      "WARNING: BeamAverageWarning: Arithmetic beam averaging is being performed.  This is not a mathematically robust operation, but is being permitted because the beams differ by <0.01 [spectral_cube.base_class]\n",
      "WARNING: SliceWarning: Slice (None, slice(None, None, None), slice(None, None, None)) cannot be used on this 2-dimensional array's WCS.  If this is intentional, you  should use this <class 'spectral_cube.lower_dimensional_structures.Projection'>'s ``array``  or ``quantity`` attribute. [spectral_cube.lower_dimensional_structures]\n",
      "Do not use the average beam for convolution! Use the smallest common beam from `Beams.common_beam()`.\n",
      "WARNING: BeamAverageWarning: Arithmetic beam averaging is being performed.  This is not a mathematically robust operation, but is being permitted because the beams differ by <0.01 [spectral_cube.base_class]\n",
      "Do not use the average beam for convolution! Use the smallest common beam from `Beams.common_beam()`.\n",
      "WARNING: BeamAverageWarning: Arithmetic beam averaging is being performed.  This is not a mathematically robust operation, but is being permitted because the beams differ by <0.01 [spectral_cube.base_class]\n",
      "WARNING: PossiblySlowWarning: This function (<function BaseSpectralCube.max at 0x145ee7a987c0>) requires loading the entire cube into memory and may therefore be slow. [spectral_cube.utils]\n",
      "Do not use the average beam for convolution! Use the smallest common beam from `Beams.common_beam()`.\n",
      "WARNING: BeamAverageWarning: Arithmetic beam averaging is being performed.  This is not a mathematically robust operation, but is being permitted because the beams differ by <0.01 [spectral_cube.base_class]\n",
      "All-NaN slice encountered\n"
     ]
    },
    {
     "name": "stdout",
     "output_type": "stream",
     "text": [
      "Masking spectral slab\n",
      "Computing unmasked moment0...\n",
      "\n",
      "Computing masked moment0...\n",
      "\n",
      "Computing peak intensity\n",
      "\n",
      "Saving...\n",
      "Slab written to /blue/adamginsburg/d.jeff/SgrB2DSreorg/field10/C2H5OH/DSiii//dec2024_3_try-close-to-FWZI/spectralslabs/km_s/C2H5OH~14.1.14.0-13.1.13.0_slab.fits.\n",
      "Masked slab written to /blue/adamginsburg/d.jeff/SgrB2DSreorg/field10/C2H5OH/DSiii//dec2024_3_try-close-to-FWZI/spectralslabs/km_s/C2H5OH~14.1.14.0-13.1.13.0_maskedslab.fits.\n",
      "\n",
      "Creating moment0 error Primary HDU\n",
      "Wrapping moment0 error Primary HDU in HDUList\n",
      "Writing moment0 error to /blue/adamginsburg/d.jeff/SgrB2DSreorg/field10/C2H5OH/DSiii//dec2024_3_try-close-to-FWZI/mom0/C2H5OH~14.1.14.0-13.1.13.0_error.fits\n",
      "Saving moment1 to /blue/adamginsburg/d.jeff/SgrB2DSreorg/field10/C2H5OH/DSiii//dec2024_3_try-close-to-FWZI/mom1/C2H5OH~14.1.14.0-13.1.13.0.fits\n",
      "\n",
      "Saving moment 2s to /blue/adamginsburg/d.jeff/SgrB2DSreorg/field10/C2H5OH/DSiii//dec2024_3_try-close-to-FWZI/mom2/C2H5OH~14.1.14.0-13.1.13.0_var.fits and /blue/adamginsburg/d.jeff/SgrB2DSreorg/field10/C2H5OH/DSiii//dec2024_3_try-close-to-FWZI/mom2/C2H5OH~14.1.14.0-13.1.13.0_fwhm.fits\n",
      "\n",
      "Saving peak intensity to /blue/adamginsburg/d.jeff/SgrB2DSreorg/field10/C2H5OH/DSiii//dec2024_3_try-close-to-FWZI/mom0/C2H5OH~14.1.14.0-13.1.13.0_peakint.fits\n",
      "14(1,14)(0)-13(1,13)(0) calculations complete.\n",
      "\n",
      "\n",
      "Start 18(5,14)(2)-18(4,15)(2) moment0 procedure\n",
      "Make spectral slab between 231.99048203109135 GHz and 231.99760303878162 GHz\n",
      "Slicing quantum numbers\n",
      "Commence moment0 procedure\n",
      "\n",
      "Create 18(5,14)(2)-18(4,15)(2) spatial-velocity mask\n"
     ]
    },
    {
     "name": "stderr",
     "output_type": "stream",
     "text": [
      "Do not use the average beam for convolution! Use the smallest common beam from `Beams.common_beam()`.\n",
      "WARNING: BeamAverageWarning: Arithmetic beam averaging is being performed.  This is not a mathematically robust operation, but is being permitted because the beams differ by <0.01 [spectral_cube.base_class]\n",
      "invalid value encountered in divide\n",
      "Do not use the average beam for convolution! Use the smallest common beam from `Beams.common_beam()`.\n",
      "WARNING: BeamAverageWarning: Arithmetic beam averaging is being performed.  This is not a mathematically robust operation, but is being permitted because the beams differ by <0.01 [spectral_cube.base_class]\n",
      "WARNING: VarianceWarning: Note that the second moment returned will be a variance map. To get a linewidth map, use the SpectralCube.linewidth_fwhm() or SpectralCube.linewidth_sigma() methods instead. [spectral_cube.spectral_cube]\n",
      "invalid value encountered in divide\n",
      "invalid value encountered in divide\n",
      "Do not use the average beam for convolution! Use the smallest common beam from `Beams.common_beam()`.\n",
      "WARNING: BeamAverageWarning: Arithmetic beam averaging is being performed.  This is not a mathematically robust operation, but is being permitted because the beams differ by <0.01 [spectral_cube.base_class]\n",
      "WARNING: SliceWarning: Slice (None, slice(None, None, None), slice(None, None, None)) cannot be used on this 2-dimensional array's WCS.  If this is intentional, you  should use this <class 'spectral_cube.lower_dimensional_structures.Projection'>'s ``array``  or ``quantity`` attribute. [spectral_cube.lower_dimensional_structures]\n",
      "Do not use the average beam for convolution! Use the smallest common beam from `Beams.common_beam()`.\n",
      "WARNING: BeamAverageWarning: Arithmetic beam averaging is being performed.  This is not a mathematically robust operation, but is being permitted because the beams differ by <0.01 [spectral_cube.base_class]\n",
      "Do not use the average beam for convolution! Use the smallest common beam from `Beams.common_beam()`.\n",
      "WARNING: BeamAverageWarning: Arithmetic beam averaging is being performed.  This is not a mathematically robust operation, but is being permitted because the beams differ by <0.01 [spectral_cube.base_class]\n",
      "WARNING: PossiblySlowWarning: This function (<function BaseSpectralCube.max at 0x145ee7a987c0>) requires loading the entire cube into memory and may therefore be slow. [spectral_cube.utils]\n",
      "Do not use the average beam for convolution! Use the smallest common beam from `Beams.common_beam()`.\n",
      "WARNING: BeamAverageWarning: Arithmetic beam averaging is being performed.  This is not a mathematically robust operation, but is being permitted because the beams differ by <0.01 [spectral_cube.base_class]\n",
      "All-NaN slice encountered\n"
     ]
    },
    {
     "name": "stdout",
     "output_type": "stream",
     "text": [
      "Masking spectral slab\n",
      "Computing unmasked moment0...\n",
      "\n",
      "Computing masked moment0...\n",
      "\n",
      "Computing peak intensity\n",
      "\n",
      "Saving...\n",
      "Slab written to /blue/adamginsburg/d.jeff/SgrB2DSreorg/field10/C2H5OH/DSiii//dec2024_3_try-close-to-FWZI/spectralslabs/km_s/C2H5OH~18.5.14.2-18.4.15.2_slab.fits.\n",
      "Masked slab written to /blue/adamginsburg/d.jeff/SgrB2DSreorg/field10/C2H5OH/DSiii//dec2024_3_try-close-to-FWZI/spectralslabs/km_s/C2H5OH~18.5.14.2-18.4.15.2_maskedslab.fits.\n",
      "\n",
      "Creating moment0 error Primary HDU\n",
      "Wrapping moment0 error Primary HDU in HDUList\n",
      "Writing moment0 error to /blue/adamginsburg/d.jeff/SgrB2DSreorg/field10/C2H5OH/DSiii//dec2024_3_try-close-to-FWZI/mom0/C2H5OH~18.5.14.2-18.4.15.2_error.fits\n",
      "Saving moment1 to /blue/adamginsburg/d.jeff/SgrB2DSreorg/field10/C2H5OH/DSiii//dec2024_3_try-close-to-FWZI/mom1/C2H5OH~18.5.14.2-18.4.15.2.fits\n",
      "\n",
      "Saving moment 2s to /blue/adamginsburg/d.jeff/SgrB2DSreorg/field10/C2H5OH/DSiii//dec2024_3_try-close-to-FWZI/mom2/C2H5OH~18.5.14.2-18.4.15.2_var.fits and /blue/adamginsburg/d.jeff/SgrB2DSreorg/field10/C2H5OH/DSiii//dec2024_3_try-close-to-FWZI/mom2/C2H5OH~18.5.14.2-18.4.15.2_fwhm.fits\n",
      "\n",
      "Saving peak intensity to /blue/adamginsburg/d.jeff/SgrB2DSreorg/field10/C2H5OH/DSiii//dec2024_3_try-close-to-FWZI/mom0/C2H5OH~18.5.14.2-18.4.15.2_peakint.fits\n",
      "18(5,14)(2)-18(4,15)(2) calculations complete.\n",
      "\n",
      "lines looped.\n",
      "\n",
      "Finished loop for spw2\n",
      "\n",
      "Accessing data cube /orange/adamginsburg/sgrb2/2017.1.00114.S/desmond/SgrB2DSminicubes/DSiii/field10originals_K/spw3minimize.image.pbcor_line.fits\n",
      "Acquiring cube rest frequency and computing target pixel coordinates\n",
      "Passed increasing spectral axis check\n",
      "Stddev position - x: 206/y: 317\n",
      "Flux position - x: 25/y: 26\n",
      "\n",
      "linelooperLTE...\n",
      "\n",
      "Start 23(5,19)(2)-23(4,20)(2) moment0 procedure\n",
      "Make spectral slab between 232.2742998055453 GHz and 232.28142952509535 GHz\n",
      "Slicing quantum numbers\n",
      "Commence moment0 procedure\n",
      "\n",
      "Create 23(5,19)(2)-23(4,20)(2) spatial-velocity mask\n"
     ]
    },
    {
     "name": "stderr",
     "output_type": "stream",
     "text": [
      "Do not use the average beam for convolution! Use the smallest common beam from `Beams.common_beam()`.\n",
      "WARNING: BeamAverageWarning: Arithmetic beam averaging is being performed.  This is not a mathematically robust operation, but is being permitted because the beams differ by <0.01 [spectral_cube.base_class]\n",
      "invalid value encountered in divide\n",
      "Do not use the average beam for convolution! Use the smallest common beam from `Beams.common_beam()`.\n",
      "WARNING: BeamAverageWarning: Arithmetic beam averaging is being performed.  This is not a mathematically robust operation, but is being permitted because the beams differ by <0.01 [spectral_cube.base_class]\n",
      "WARNING: VarianceWarning: Note that the second moment returned will be a variance map. To get a linewidth map, use the SpectralCube.linewidth_fwhm() or SpectralCube.linewidth_sigma() methods instead. [spectral_cube.spectral_cube]\n",
      "invalid value encountered in divide\n",
      "invalid value encountered in divide\n",
      "Do not use the average beam for convolution! Use the smallest common beam from `Beams.common_beam()`.\n",
      "WARNING: BeamAverageWarning: Arithmetic beam averaging is being performed.  This is not a mathematically robust operation, but is being permitted because the beams differ by <0.01 [spectral_cube.base_class]\n",
      "WARNING: SliceWarning: Slice (None, slice(None, None, None), slice(None, None, None)) cannot be used on this 2-dimensional array's WCS.  If this is intentional, you  should use this <class 'spectral_cube.lower_dimensional_structures.Projection'>'s ``array``  or ``quantity`` attribute. [spectral_cube.lower_dimensional_structures]\n",
      "Do not use the average beam for convolution! Use the smallest common beam from `Beams.common_beam()`.\n",
      "WARNING: BeamAverageWarning: Arithmetic beam averaging is being performed.  This is not a mathematically robust operation, but is being permitted because the beams differ by <0.01 [spectral_cube.base_class]\n",
      "Do not use the average beam for convolution! Use the smallest common beam from `Beams.common_beam()`.\n",
      "WARNING: BeamAverageWarning: Arithmetic beam averaging is being performed.  This is not a mathematically robust operation, but is being permitted because the beams differ by <0.01 [spectral_cube.base_class]\n",
      "WARNING: PossiblySlowWarning: This function (<function BaseSpectralCube.max at 0x145ee7a987c0>) requires loading the entire cube into memory and may therefore be slow. [spectral_cube.utils]\n",
      "Do not use the average beam for convolution! Use the smallest common beam from `Beams.common_beam()`.\n",
      "WARNING: BeamAverageWarning: Arithmetic beam averaging is being performed.  This is not a mathematically robust operation, but is being permitted because the beams differ by <0.01 [spectral_cube.base_class]\n",
      "All-NaN slice encountered\n"
     ]
    },
    {
     "name": "stdout",
     "output_type": "stream",
     "text": [
      "Masking spectral slab\n",
      "Computing unmasked moment0...\n",
      "\n",
      "Computing masked moment0...\n",
      "\n",
      "Computing peak intensity\n",
      "\n",
      "Saving...\n",
      "Slab written to /blue/adamginsburg/d.jeff/SgrB2DSreorg/field10/C2H5OH/DSiii//dec2024_3_try-close-to-FWZI/spectralslabs/km_s/C2H5OH~23.5.19.2-23.4.20.2_slab.fits.\n",
      "Masked slab written to /blue/adamginsburg/d.jeff/SgrB2DSreorg/field10/C2H5OH/DSiii//dec2024_3_try-close-to-FWZI/spectralslabs/km_s/C2H5OH~23.5.19.2-23.4.20.2_maskedslab.fits.\n",
      "\n",
      "Creating moment0 error Primary HDU\n",
      "Wrapping moment0 error Primary HDU in HDUList\n",
      "Writing moment0 error to /blue/adamginsburg/d.jeff/SgrB2DSreorg/field10/C2H5OH/DSiii//dec2024_3_try-close-to-FWZI/mom0/C2H5OH~23.5.19.2-23.4.20.2_error.fits\n",
      "Saving moment1 to /blue/adamginsburg/d.jeff/SgrB2DSreorg/field10/C2H5OH/DSiii//dec2024_3_try-close-to-FWZI/mom1/C2H5OH~23.5.19.2-23.4.20.2.fits\n",
      "\n",
      "Saving moment 2s to /blue/adamginsburg/d.jeff/SgrB2DSreorg/field10/C2H5OH/DSiii//dec2024_3_try-close-to-FWZI/mom2/C2H5OH~23.5.19.2-23.4.20.2_var.fits and /blue/adamginsburg/d.jeff/SgrB2DSreorg/field10/C2H5OH/DSiii//dec2024_3_try-close-to-FWZI/mom2/C2H5OH~23.5.19.2-23.4.20.2_fwhm.fits\n",
      "\n",
      "Saving peak intensity to /blue/adamginsburg/d.jeff/SgrB2DSreorg/field10/C2H5OH/DSiii//dec2024_3_try-close-to-FWZI/mom0/C2H5OH~23.5.19.2-23.4.20.2_peakint.fits\n",
      "23(5,19)(2)-23(4,20)(2) calculations complete.\n",
      "\n",
      "\n",
      "Start 17(5,13)(2)-17(4,14)(2) moment0 procedure\n",
      "Make spectral slab between 232.3606104760559 GHz and 232.36774284493424 GHz\n",
      "Slicing quantum numbers\n",
      "Commence moment0 procedure\n",
      "\n",
      "Create 17(5,13)(2)-17(4,14)(2) spatial-velocity mask\n"
     ]
    },
    {
     "name": "stderr",
     "output_type": "stream",
     "text": [
      "Do not use the average beam for convolution! Use the smallest common beam from `Beams.common_beam()`.\n",
      "WARNING: BeamAverageWarning: Arithmetic beam averaging is being performed.  This is not a mathematically robust operation, but is being permitted because the beams differ by <0.01 [spectral_cube.base_class]\n",
      "invalid value encountered in divide\n",
      "Do not use the average beam for convolution! Use the smallest common beam from `Beams.common_beam()`.\n",
      "WARNING: BeamAverageWarning: Arithmetic beam averaging is being performed.  This is not a mathematically robust operation, but is being permitted because the beams differ by <0.01 [spectral_cube.base_class]\n",
      "WARNING: VarianceWarning: Note that the second moment returned will be a variance map. To get a linewidth map, use the SpectralCube.linewidth_fwhm() or SpectralCube.linewidth_sigma() methods instead. [spectral_cube.spectral_cube]\n",
      "invalid value encountered in divide\n",
      "invalid value encountered in divide\n",
      "Do not use the average beam for convolution! Use the smallest common beam from `Beams.common_beam()`.\n",
      "WARNING: BeamAverageWarning: Arithmetic beam averaging is being performed.  This is not a mathematically robust operation, but is being permitted because the beams differ by <0.01 [spectral_cube.base_class]\n",
      "WARNING: SliceWarning: Slice (None, slice(None, None, None), slice(None, None, None)) cannot be used on this 2-dimensional array's WCS.  If this is intentional, you  should use this <class 'spectral_cube.lower_dimensional_structures.Projection'>'s ``array``  or ``quantity`` attribute. [spectral_cube.lower_dimensional_structures]\n",
      "Do not use the average beam for convolution! Use the smallest common beam from `Beams.common_beam()`.\n",
      "WARNING: BeamAverageWarning: Arithmetic beam averaging is being performed.  This is not a mathematically robust operation, but is being permitted because the beams differ by <0.01 [spectral_cube.base_class]\n",
      "Do not use the average beam for convolution! Use the smallest common beam from `Beams.common_beam()`.\n",
      "WARNING: BeamAverageWarning: Arithmetic beam averaging is being performed.  This is not a mathematically robust operation, but is being permitted because the beams differ by <0.01 [spectral_cube.base_class]\n",
      "WARNING: PossiblySlowWarning: This function (<function BaseSpectralCube.max at 0x145ee7a987c0>) requires loading the entire cube into memory and may therefore be slow. [spectral_cube.utils]\n",
      "Do not use the average beam for convolution! Use the smallest common beam from `Beams.common_beam()`.\n",
      "WARNING: BeamAverageWarning: Arithmetic beam averaging is being performed.  This is not a mathematically robust operation, but is being permitted because the beams differ by <0.01 [spectral_cube.base_class]\n",
      "All-NaN slice encountered\n"
     ]
    },
    {
     "name": "stdout",
     "output_type": "stream",
     "text": [
      "Masking spectral slab\n",
      "Computing unmasked moment0...\n",
      "\n",
      "Computing masked moment0...\n",
      "\n",
      "Computing peak intensity\n",
      "\n",
      "Saving...\n",
      "Slab written to /blue/adamginsburg/d.jeff/SgrB2DSreorg/field10/C2H5OH/DSiii//dec2024_3_try-close-to-FWZI/spectralslabs/km_s/C2H5OH~17.5.13.2-17.4.14.2_slab.fits.\n",
      "Masked slab written to /blue/adamginsburg/d.jeff/SgrB2DSreorg/field10/C2H5OH/DSiii//dec2024_3_try-close-to-FWZI/spectralslabs/km_s/C2H5OH~17.5.13.2-17.4.14.2_maskedslab.fits.\n",
      "\n",
      "Creating moment0 error Primary HDU\n",
      "Wrapping moment0 error Primary HDU in HDUList\n",
      "Writing moment0 error to /blue/adamginsburg/d.jeff/SgrB2DSreorg/field10/C2H5OH/DSiii//dec2024_3_try-close-to-FWZI/mom0/C2H5OH~17.5.13.2-17.4.14.2_error.fits\n",
      "Saving moment1 to /blue/adamginsburg/d.jeff/SgrB2DSreorg/field10/C2H5OH/DSiii//dec2024_3_try-close-to-FWZI/mom1/C2H5OH~17.5.13.2-17.4.14.2.fits\n",
      "\n",
      "Saving moment 2s to /blue/adamginsburg/d.jeff/SgrB2DSreorg/field10/C2H5OH/DSiii//dec2024_3_try-close-to-FWZI/mom2/C2H5OH~17.5.13.2-17.4.14.2_var.fits and /blue/adamginsburg/d.jeff/SgrB2DSreorg/field10/C2H5OH/DSiii//dec2024_3_try-close-to-FWZI/mom2/C2H5OH~17.5.13.2-17.4.14.2_fwhm.fits\n",
      "\n",
      "Saving peak intensity to /blue/adamginsburg/d.jeff/SgrB2DSreorg/field10/C2H5OH/DSiii//dec2024_3_try-close-to-FWZI/mom0/C2H5OH~17.5.13.2-17.4.14.2_peakint.fits\n",
      "17(5,13)(2)-17(4,14)(2) calculations complete.\n",
      "\n",
      "\n",
      "Start 14(0,14)(0)-13(0,13)(0) moment0 procedure\n",
      "Make spectral slab between 232.4470710180381 GHz and 232.4542060408451 GHz\n",
      "Slicing quantum numbers\n",
      "Commence moment0 procedure\n",
      "\n",
      "Create 14(0,14)(0)-13(0,13)(0) spatial-velocity mask\n"
     ]
    },
    {
     "name": "stderr",
     "output_type": "stream",
     "text": [
      "Do not use the average beam for convolution! Use the smallest common beam from `Beams.common_beam()`.\n",
      "WARNING: BeamAverageWarning: Arithmetic beam averaging is being performed.  This is not a mathematically robust operation, but is being permitted because the beams differ by <0.01 [spectral_cube.base_class]\n",
      "invalid value encountered in divide\n",
      "Do not use the average beam for convolution! Use the smallest common beam from `Beams.common_beam()`.\n",
      "WARNING: BeamAverageWarning: Arithmetic beam averaging is being performed.  This is not a mathematically robust operation, but is being permitted because the beams differ by <0.01 [spectral_cube.base_class]\n",
      "WARNING: VarianceWarning: Note that the second moment returned will be a variance map. To get a linewidth map, use the SpectralCube.linewidth_fwhm() or SpectralCube.linewidth_sigma() methods instead. [spectral_cube.spectral_cube]\n",
      "invalid value encountered in divide\n",
      "invalid value encountered in divide\n",
      "Do not use the average beam for convolution! Use the smallest common beam from `Beams.common_beam()`.\n",
      "WARNING: BeamAverageWarning: Arithmetic beam averaging is being performed.  This is not a mathematically robust operation, but is being permitted because the beams differ by <0.01 [spectral_cube.base_class]\n",
      "WARNING: SliceWarning: Slice (None, slice(None, None, None), slice(None, None, None)) cannot be used on this 2-dimensional array's WCS.  If this is intentional, you  should use this <class 'spectral_cube.lower_dimensional_structures.Projection'>'s ``array``  or ``quantity`` attribute. [spectral_cube.lower_dimensional_structures]\n",
      "Do not use the average beam for convolution! Use the smallest common beam from `Beams.common_beam()`.\n",
      "WARNING: BeamAverageWarning: Arithmetic beam averaging is being performed.  This is not a mathematically robust operation, but is being permitted because the beams differ by <0.01 [spectral_cube.base_class]\n",
      "Do not use the average beam for convolution! Use the smallest common beam from `Beams.common_beam()`.\n",
      "WARNING: BeamAverageWarning: Arithmetic beam averaging is being performed.  This is not a mathematically robust operation, but is being permitted because the beams differ by <0.01 [spectral_cube.base_class]\n",
      "WARNING: PossiblySlowWarning: This function (<function BaseSpectralCube.max at 0x145ee7a987c0>) requires loading the entire cube into memory and may therefore be slow. [spectral_cube.utils]\n",
      "Do not use the average beam for convolution! Use the smallest common beam from `Beams.common_beam()`.\n",
      "WARNING: BeamAverageWarning: Arithmetic beam averaging is being performed.  This is not a mathematically robust operation, but is being permitted because the beams differ by <0.01 [spectral_cube.base_class]\n",
      "All-NaN slice encountered\n"
     ]
    },
    {
     "name": "stdout",
     "output_type": "stream",
     "text": [
      "Masking spectral slab\n",
      "Computing unmasked moment0...\n",
      "\n",
      "Computing masked moment0...\n",
      "\n",
      "Computing peak intensity\n",
      "\n",
      "Saving...\n",
      "Slab written to /blue/adamginsburg/d.jeff/SgrB2DSreorg/field10/C2H5OH/DSiii//dec2024_3_try-close-to-FWZI/spectralslabs/km_s/C2H5OH~14.0.14.0-13.0.13.0_slab.fits.\n",
      "Masked slab written to /blue/adamginsburg/d.jeff/SgrB2DSreorg/field10/C2H5OH/DSiii//dec2024_3_try-close-to-FWZI/spectralslabs/km_s/C2H5OH~14.0.14.0-13.0.13.0_maskedslab.fits.\n",
      "\n",
      "Creating moment0 error Primary HDU\n",
      "Wrapping moment0 error Primary HDU in HDUList\n",
      "Writing moment0 error to /blue/adamginsburg/d.jeff/SgrB2DSreorg/field10/C2H5OH/DSiii//dec2024_3_try-close-to-FWZI/mom0/C2H5OH~14.0.14.0-13.0.13.0_error.fits\n",
      "Saving moment1 to /blue/adamginsburg/d.jeff/SgrB2DSreorg/field10/C2H5OH/DSiii//dec2024_3_try-close-to-FWZI/mom1/C2H5OH~14.0.14.0-13.0.13.0.fits\n",
      "\n",
      "Saving moment 2s to /blue/adamginsburg/d.jeff/SgrB2DSreorg/field10/C2H5OH/DSiii//dec2024_3_try-close-to-FWZI/mom2/C2H5OH~14.0.14.0-13.0.13.0_var.fits and /blue/adamginsburg/d.jeff/SgrB2DSreorg/field10/C2H5OH/DSiii//dec2024_3_try-close-to-FWZI/mom2/C2H5OH~14.0.14.0-13.0.13.0_fwhm.fits\n",
      "\n",
      "Saving peak intensity to /blue/adamginsburg/d.jeff/SgrB2DSreorg/field10/C2H5OH/DSiii//dec2024_3_try-close-to-FWZI/mom0/C2H5OH~14.0.14.0-13.0.13.0_peakint.fits\n",
      "14(0,14)(0)-13(0,13)(0) calculations complete.\n",
      "\n",
      "\n",
      "Start 14(1,14)(1)-13(1,13)(1) moment0 procedure\n",
      "Make spectral slab between 232.55230118716665 GHz and 232.55943944004085 GHz\n",
      "Slicing quantum numbers\n",
      "Commence moment0 procedure\n",
      "\n",
      "Create 14(1,14)(1)-13(1,13)(1) spatial-velocity mask\n"
     ]
    },
    {
     "name": "stderr",
     "output_type": "stream",
     "text": [
      "Do not use the average beam for convolution! Use the smallest common beam from `Beams.common_beam()`.\n",
      "WARNING: BeamAverageWarning: Arithmetic beam averaging is being performed.  This is not a mathematically robust operation, but is being permitted because the beams differ by <0.01 [spectral_cube.base_class]\n",
      "invalid value encountered in divide\n",
      "Do not use the average beam for convolution! Use the smallest common beam from `Beams.common_beam()`.\n",
      "WARNING: BeamAverageWarning: Arithmetic beam averaging is being performed.  This is not a mathematically robust operation, but is being permitted because the beams differ by <0.01 [spectral_cube.base_class]\n",
      "WARNING: VarianceWarning: Note that the second moment returned will be a variance map. To get a linewidth map, use the SpectralCube.linewidth_fwhm() or SpectralCube.linewidth_sigma() methods instead. [spectral_cube.spectral_cube]\n",
      "invalid value encountered in divide\n",
      "invalid value encountered in divide\n",
      "Do not use the average beam for convolution! Use the smallest common beam from `Beams.common_beam()`.\n",
      "WARNING: BeamAverageWarning: Arithmetic beam averaging is being performed.  This is not a mathematically robust operation, but is being permitted because the beams differ by <0.01 [spectral_cube.base_class]\n",
      "WARNING: SliceWarning: Slice (None, slice(None, None, None), slice(None, None, None)) cannot be used on this 2-dimensional array's WCS.  If this is intentional, you  should use this <class 'spectral_cube.lower_dimensional_structures.Projection'>'s ``array``  or ``quantity`` attribute. [spectral_cube.lower_dimensional_structures]\n",
      "Do not use the average beam for convolution! Use the smallest common beam from `Beams.common_beam()`.\n",
      "WARNING: BeamAverageWarning: Arithmetic beam averaging is being performed.  This is not a mathematically robust operation, but is being permitted because the beams differ by <0.01 [spectral_cube.base_class]\n",
      "Do not use the average beam for convolution! Use the smallest common beam from `Beams.common_beam()`.\n",
      "WARNING: BeamAverageWarning: Arithmetic beam averaging is being performed.  This is not a mathematically robust operation, but is being permitted because the beams differ by <0.01 [spectral_cube.base_class]\n",
      "WARNING: PossiblySlowWarning: This function (<function BaseSpectralCube.max at 0x145ee7a987c0>) requires loading the entire cube into memory and may therefore be slow. [spectral_cube.utils]\n",
      "Do not use the average beam for convolution! Use the smallest common beam from `Beams.common_beam()`.\n",
      "WARNING: BeamAverageWarning: Arithmetic beam averaging is being performed.  This is not a mathematically robust operation, but is being permitted because the beams differ by <0.01 [spectral_cube.base_class]\n",
      "All-NaN slice encountered\n"
     ]
    },
    {
     "name": "stdout",
     "output_type": "stream",
     "text": [
      "Masking spectral slab\n",
      "Computing unmasked moment0...\n",
      "\n",
      "Computing masked moment0...\n",
      "\n",
      "Computing peak intensity\n",
      "\n",
      "Saving...\n",
      "Slab written to /blue/adamginsburg/d.jeff/SgrB2DSreorg/field10/C2H5OH/DSiii//dec2024_3_try-close-to-FWZI/spectralslabs/km_s/C2H5OH~14.1.14.1-13.1.13.1_slab.fits.\n",
      "Masked slab written to /blue/adamginsburg/d.jeff/SgrB2DSreorg/field10/C2H5OH/DSiii//dec2024_3_try-close-to-FWZI/spectralslabs/km_s/C2H5OH~14.1.14.1-13.1.13.1_maskedslab.fits.\n",
      "\n",
      "Creating moment0 error Primary HDU\n",
      "Wrapping moment0 error Primary HDU in HDUList\n",
      "Writing moment0 error to /blue/adamginsburg/d.jeff/SgrB2DSreorg/field10/C2H5OH/DSiii//dec2024_3_try-close-to-FWZI/mom0/C2H5OH~14.1.14.1-13.1.13.1_error.fits\n",
      "Saving moment1 to /blue/adamginsburg/d.jeff/SgrB2DSreorg/field10/C2H5OH/DSiii//dec2024_3_try-close-to-FWZI/mom1/C2H5OH~14.1.14.1-13.1.13.1.fits\n",
      "\n",
      "Saving moment 2s to /blue/adamginsburg/d.jeff/SgrB2DSreorg/field10/C2H5OH/DSiii//dec2024_3_try-close-to-FWZI/mom2/C2H5OH~14.1.14.1-13.1.13.1_var.fits and /blue/adamginsburg/d.jeff/SgrB2DSreorg/field10/C2H5OH/DSiii//dec2024_3_try-close-to-FWZI/mom2/C2H5OH~14.1.14.1-13.1.13.1_fwhm.fits\n",
      "\n",
      "Saving peak intensity to /blue/adamginsburg/d.jeff/SgrB2DSreorg/field10/C2H5OH/DSiii//dec2024_3_try-close-to-FWZI/mom0/C2H5OH~14.1.14.1-13.1.13.1_peakint.fits\n",
      "14(1,14)(1)-13(1,13)(1) calculations complete.\n",
      "\n",
      "\n",
      "Start 16(5,12)(2)-16(4,13)(2) moment0 procedure\n",
      "Make spectral slab between 232.76455508401463 GHz and 232.77169985207692 GHz\n",
      "Slicing quantum numbers\n",
      "Commence moment0 procedure\n",
      "\n",
      "Create 16(5,12)(2)-16(4,13)(2) spatial-velocity mask\n"
     ]
    },
    {
     "name": "stderr",
     "output_type": "stream",
     "text": [
      "Do not use the average beam for convolution! Use the smallest common beam from `Beams.common_beam()`.\n",
      "WARNING: BeamAverageWarning: Arithmetic beam averaging is being performed.  This is not a mathematically robust operation, but is being permitted because the beams differ by <0.01 [spectral_cube.base_class]\n",
      "invalid value encountered in divide\n",
      "Do not use the average beam for convolution! Use the smallest common beam from `Beams.common_beam()`.\n",
      "WARNING: BeamAverageWarning: Arithmetic beam averaging is being performed.  This is not a mathematically robust operation, but is being permitted because the beams differ by <0.01 [spectral_cube.base_class]\n",
      "WARNING: VarianceWarning: Note that the second moment returned will be a variance map. To get a linewidth map, use the SpectralCube.linewidth_fwhm() or SpectralCube.linewidth_sigma() methods instead. [spectral_cube.spectral_cube]\n",
      "invalid value encountered in divide\n",
      "invalid value encountered in divide\n",
      "Do not use the average beam for convolution! Use the smallest common beam from `Beams.common_beam()`.\n",
      "WARNING: BeamAverageWarning: Arithmetic beam averaging is being performed.  This is not a mathematically robust operation, but is being permitted because the beams differ by <0.01 [spectral_cube.base_class]\n",
      "WARNING: SliceWarning: Slice (None, slice(None, None, None), slice(None, None, None)) cannot be used on this 2-dimensional array's WCS.  If this is intentional, you  should use this <class 'spectral_cube.lower_dimensional_structures.Projection'>'s ``array``  or ``quantity`` attribute. [spectral_cube.lower_dimensional_structures]\n",
      "Do not use the average beam for convolution! Use the smallest common beam from `Beams.common_beam()`.\n",
      "WARNING: BeamAverageWarning: Arithmetic beam averaging is being performed.  This is not a mathematically robust operation, but is being permitted because the beams differ by <0.01 [spectral_cube.base_class]\n",
      "Do not use the average beam for convolution! Use the smallest common beam from `Beams.common_beam()`.\n",
      "WARNING: BeamAverageWarning: Arithmetic beam averaging is being performed.  This is not a mathematically robust operation, but is being permitted because the beams differ by <0.01 [spectral_cube.base_class]\n",
      "WARNING: PossiblySlowWarning: This function (<function BaseSpectralCube.max at 0x145ee7a987c0>) requires loading the entire cube into memory and may therefore be slow. [spectral_cube.utils]\n",
      "Do not use the average beam for convolution! Use the smallest common beam from `Beams.common_beam()`.\n",
      "WARNING: BeamAverageWarning: Arithmetic beam averaging is being performed.  This is not a mathematically robust operation, but is being permitted because the beams differ by <0.01 [spectral_cube.base_class]\n",
      "All-NaN slice encountered\n"
     ]
    },
    {
     "name": "stdout",
     "output_type": "stream",
     "text": [
      "Masking spectral slab\n",
      "Computing unmasked moment0...\n",
      "\n",
      "Computing masked moment0...\n",
      "\n",
      "Computing peak intensity\n",
      "\n",
      "Saving...\n",
      "Slab written to /blue/adamginsburg/d.jeff/SgrB2DSreorg/field10/C2H5OH/DSiii//dec2024_3_try-close-to-FWZI/spectralslabs/km_s/C2H5OH~16.5.12.2-16.4.13.2_slab.fits.\n",
      "Masked slab written to /blue/adamginsburg/d.jeff/SgrB2DSreorg/field10/C2H5OH/DSiii//dec2024_3_try-close-to-FWZI/spectralslabs/km_s/C2H5OH~16.5.12.2-16.4.13.2_maskedslab.fits.\n",
      "\n",
      "Creating moment0 error Primary HDU\n",
      "Wrapping moment0 error Primary HDU in HDUList\n",
      "Writing moment0 error to /blue/adamginsburg/d.jeff/SgrB2DSreorg/field10/C2H5OH/DSiii//dec2024_3_try-close-to-FWZI/mom0/C2H5OH~16.5.12.2-16.4.13.2_error.fits\n",
      "Saving moment1 to /blue/adamginsburg/d.jeff/SgrB2DSreorg/field10/C2H5OH/DSiii//dec2024_3_try-close-to-FWZI/mom1/C2H5OH~16.5.12.2-16.4.13.2.fits\n",
      "\n",
      "Saving moment 2s to /blue/adamginsburg/d.jeff/SgrB2DSreorg/field10/C2H5OH/DSiii//dec2024_3_try-close-to-FWZI/mom2/C2H5OH~16.5.12.2-16.4.13.2_var.fits and /blue/adamginsburg/d.jeff/SgrB2DSreorg/field10/C2H5OH/DSiii//dec2024_3_try-close-to-FWZI/mom2/C2H5OH~16.5.12.2-16.4.13.2_fwhm.fits\n",
      "\n",
      "Saving peak intensity to /blue/adamginsburg/d.jeff/SgrB2DSreorg/field10/C2H5OH/DSiii//dec2024_3_try-close-to-FWZI/mom0/C2H5OH~16.5.12.2-16.4.13.2_peakint.fits\n",
      "16(5,12)(2)-16(4,13)(2) calculations complete.\n",
      "\n",
      "\n",
      "Start 14(5,9)(2)-14(4,10)(2) moment0 procedure\n",
      "Make spectral slab between 232.8841956100895 GHz and 232.8913440505486 GHz\n",
      "Slicing quantum numbers\n",
      "Commence moment0 procedure\n",
      "\n",
      "Create 14(5,9)(2)-14(4,10)(2) spatial-velocity mask\n"
     ]
    },
    {
     "name": "stderr",
     "output_type": "stream",
     "text": [
      "Do not use the average beam for convolution! Use the smallest common beam from `Beams.common_beam()`.\n",
      "WARNING: BeamAverageWarning: Arithmetic beam averaging is being performed.  This is not a mathematically robust operation, but is being permitted because the beams differ by <0.01 [spectral_cube.base_class]\n",
      "invalid value encountered in divide\n",
      "Do not use the average beam for convolution! Use the smallest common beam from `Beams.common_beam()`.\n",
      "WARNING: BeamAverageWarning: Arithmetic beam averaging is being performed.  This is not a mathematically robust operation, but is being permitted because the beams differ by <0.01 [spectral_cube.base_class]\n",
      "WARNING: VarianceWarning: Note that the second moment returned will be a variance map. To get a linewidth map, use the SpectralCube.linewidth_fwhm() or SpectralCube.linewidth_sigma() methods instead. [spectral_cube.spectral_cube]\n",
      "invalid value encountered in divide\n",
      "invalid value encountered in divide\n",
      "Do not use the average beam for convolution! Use the smallest common beam from `Beams.common_beam()`.\n",
      "WARNING: BeamAverageWarning: Arithmetic beam averaging is being performed.  This is not a mathematically robust operation, but is being permitted because the beams differ by <0.01 [spectral_cube.base_class]\n",
      "WARNING: SliceWarning: Slice (None, slice(None, None, None), slice(None, None, None)) cannot be used on this 2-dimensional array's WCS.  If this is intentional, you  should use this <class 'spectral_cube.lower_dimensional_structures.Projection'>'s ``array``  or ``quantity`` attribute. [spectral_cube.lower_dimensional_structures]\n",
      "Do not use the average beam for convolution! Use the smallest common beam from `Beams.common_beam()`.\n",
      "WARNING: BeamAverageWarning: Arithmetic beam averaging is being performed.  This is not a mathematically robust operation, but is being permitted because the beams differ by <0.01 [spectral_cube.base_class]\n",
      "Do not use the average beam for convolution! Use the smallest common beam from `Beams.common_beam()`.\n",
      "WARNING: BeamAverageWarning: Arithmetic beam averaging is being performed.  This is not a mathematically robust operation, but is being permitted because the beams differ by <0.01 [spectral_cube.base_class]\n",
      "WARNING: PossiblySlowWarning: This function (<function BaseSpectralCube.max at 0x145ee7a987c0>) requires loading the entire cube into memory and may therefore be slow. [spectral_cube.utils]\n",
      "Do not use the average beam for convolution! Use the smallest common beam from `Beams.common_beam()`.\n",
      "WARNING: BeamAverageWarning: Arithmetic beam averaging is being performed.  This is not a mathematically robust operation, but is being permitted because the beams differ by <0.01 [spectral_cube.base_class]\n",
      "All-NaN slice encountered\n"
     ]
    },
    {
     "name": "stdout",
     "output_type": "stream",
     "text": [
      "Masking spectral slab\n",
      "Computing unmasked moment0...\n",
      "\n",
      "Computing masked moment0...\n",
      "\n",
      "Computing peak intensity\n",
      "\n",
      "Saving...\n",
      "Slab written to /blue/adamginsburg/d.jeff/SgrB2DSreorg/field10/C2H5OH/DSiii//dec2024_3_try-close-to-FWZI/spectralslabs/km_s/C2H5OH~14.5.9.2-14.4.10.2_slab.fits.\n",
      "Masked slab written to /blue/adamginsburg/d.jeff/SgrB2DSreorg/field10/C2H5OH/DSiii//dec2024_3_try-close-to-FWZI/spectralslabs/km_s/C2H5OH~14.5.9.2-14.4.10.2_maskedslab.fits.\n",
      "\n",
      "Creating moment0 error Primary HDU\n",
      "Wrapping moment0 error Primary HDU in HDUList\n",
      "Writing moment0 error to /blue/adamginsburg/d.jeff/SgrB2DSreorg/field10/C2H5OH/DSiii//dec2024_3_try-close-to-FWZI/mom0/C2H5OH~14.5.9.2-14.4.10.2_error.fits\n",
      "Saving moment1 to /blue/adamginsburg/d.jeff/SgrB2DSreorg/field10/C2H5OH/DSiii//dec2024_3_try-close-to-FWZI/mom1/C2H5OH~14.5.9.2-14.4.10.2.fits\n",
      "\n",
      "Saving moment 2s to /blue/adamginsburg/d.jeff/SgrB2DSreorg/field10/C2H5OH/DSiii//dec2024_3_try-close-to-FWZI/mom2/C2H5OH~14.5.9.2-14.4.10.2_var.fits and /blue/adamginsburg/d.jeff/SgrB2DSreorg/field10/C2H5OH/DSiii//dec2024_3_try-close-to-FWZI/mom2/C2H5OH~14.5.9.2-14.4.10.2_fwhm.fits\n",
      "\n",
      "Saving peak intensity to /blue/adamginsburg/d.jeff/SgrB2DSreorg/field10/C2H5OH/DSiii//dec2024_3_try-close-to-FWZI/mom0/C2H5OH~14.5.9.2-14.4.10.2_peakint.fits\n",
      "14(5,9)(2)-14(4,10)(2) calculations complete.\n",
      "\n",
      "Skipping excluded line: 13(5,8)(2)-13(4,9)(2)\n",
      "\n",
      "Start 13(5,9)(2)-13(4,10)(2) moment0 procedure\n",
      "Make spectral slab between 233.90670677208976 GHz and 233.91388659879277 GHz\n",
      "Slicing quantum numbers\n",
      "Commence moment0 procedure\n",
      "\n",
      "Create 13(5,9)(2)-13(4,10)(2) spatial-velocity mask\n"
     ]
    },
    {
     "name": "stderr",
     "output_type": "stream",
     "text": [
      "Do not use the average beam for convolution! Use the smallest common beam from `Beams.common_beam()`.\n",
      "WARNING: BeamAverageWarning: Arithmetic beam averaging is being performed.  This is not a mathematically robust operation, but is being permitted because the beams differ by <0.01 [spectral_cube.base_class]\n",
      "invalid value encountered in divide\n",
      "Do not use the average beam for convolution! Use the smallest common beam from `Beams.common_beam()`.\n",
      "WARNING: BeamAverageWarning: Arithmetic beam averaging is being performed.  This is not a mathematically robust operation, but is being permitted because the beams differ by <0.01 [spectral_cube.base_class]\n",
      "WARNING: VarianceWarning: Note that the second moment returned will be a variance map. To get a linewidth map, use the SpectralCube.linewidth_fwhm() or SpectralCube.linewidth_sigma() methods instead. [spectral_cube.spectral_cube]\n",
      "invalid value encountered in divide\n",
      "invalid value encountered in divide\n",
      "Do not use the average beam for convolution! Use the smallest common beam from `Beams.common_beam()`.\n",
      "WARNING: BeamAverageWarning: Arithmetic beam averaging is being performed.  This is not a mathematically robust operation, but is being permitted because the beams differ by <0.01 [spectral_cube.base_class]\n",
      "WARNING: SliceWarning: Slice (None, slice(None, None, None), slice(None, None, None)) cannot be used on this 2-dimensional array's WCS.  If this is intentional, you  should use this <class 'spectral_cube.lower_dimensional_structures.Projection'>'s ``array``  or ``quantity`` attribute. [spectral_cube.lower_dimensional_structures]\n",
      "Do not use the average beam for convolution! Use the smallest common beam from `Beams.common_beam()`.\n",
      "WARNING: BeamAverageWarning: Arithmetic beam averaging is being performed.  This is not a mathematically robust operation, but is being permitted because the beams differ by <0.01 [spectral_cube.base_class]\n",
      "Do not use the average beam for convolution! Use the smallest common beam from `Beams.common_beam()`.\n",
      "WARNING: BeamAverageWarning: Arithmetic beam averaging is being performed.  This is not a mathematically robust operation, but is being permitted because the beams differ by <0.01 [spectral_cube.base_class]\n",
      "WARNING: PossiblySlowWarning: This function (<function BaseSpectralCube.max at 0x145ee7a987c0>) requires loading the entire cube into memory and may therefore be slow. [spectral_cube.utils]\n",
      "Do not use the average beam for convolution! Use the smallest common beam from `Beams.common_beam()`.\n",
      "WARNING: BeamAverageWarning: Arithmetic beam averaging is being performed.  This is not a mathematically robust operation, but is being permitted because the beams differ by <0.01 [spectral_cube.base_class]\n",
      "All-NaN slice encountered\n"
     ]
    },
    {
     "name": "stdout",
     "output_type": "stream",
     "text": [
      "Masking spectral slab\n",
      "Computing unmasked moment0...\n",
      "\n",
      "Computing masked moment0...\n",
      "\n",
      "Computing peak intensity\n",
      "\n",
      "Saving...\n",
      "Slab written to /blue/adamginsburg/d.jeff/SgrB2DSreorg/field10/C2H5OH/DSiii//dec2024_3_try-close-to-FWZI/spectralslabs/km_s/C2H5OH~13.5.9.2-13.4.10.2_slab.fits.\n",
      "Masked slab written to /blue/adamginsburg/d.jeff/SgrB2DSreorg/field10/C2H5OH/DSiii//dec2024_3_try-close-to-FWZI/spectralslabs/km_s/C2H5OH~13.5.9.2-13.4.10.2_maskedslab.fits.\n",
      "\n",
      "Creating moment0 error Primary HDU\n",
      "Wrapping moment0 error Primary HDU in HDUList\n",
      "Writing moment0 error to /blue/adamginsburg/d.jeff/SgrB2DSreorg/field10/C2H5OH/DSiii//dec2024_3_try-close-to-FWZI/mom0/C2H5OH~13.5.9.2-13.4.10.2_error.fits\n",
      "Saving moment1 to /blue/adamginsburg/d.jeff/SgrB2DSreorg/field10/C2H5OH/DSiii//dec2024_3_try-close-to-FWZI/mom1/C2H5OH~13.5.9.2-13.4.10.2.fits\n",
      "\n",
      "Saving moment 2s to /blue/adamginsburg/d.jeff/SgrB2DSreorg/field10/C2H5OH/DSiii//dec2024_3_try-close-to-FWZI/mom2/C2H5OH~13.5.9.2-13.4.10.2_var.fits and /blue/adamginsburg/d.jeff/SgrB2DSreorg/field10/C2H5OH/DSiii//dec2024_3_try-close-to-FWZI/mom2/C2H5OH~13.5.9.2-13.4.10.2_fwhm.fits\n",
      "\n",
      "Saving peak intensity to /blue/adamginsburg/d.jeff/SgrB2DSreorg/field10/C2H5OH/DSiii//dec2024_3_try-close-to-FWZI/mom0/C2H5OH~13.5.9.2-13.4.10.2_peakint.fits\n",
      "13(5,9)(2)-13(4,10)(2) calculations complete.\n",
      "\n",
      "\n",
      "Start 12(5,7)(2)-12(4,8)(2) moment0 procedure\n",
      "Make spectral slab between 234.00660545608216 GHz and 234.013788349201 GHz\n",
      "Slicing quantum numbers\n",
      "Commence moment0 procedure\n",
      "\n",
      "Create 12(5,7)(2)-12(4,8)(2) spatial-velocity mask\n"
     ]
    },
    {
     "name": "stderr",
     "output_type": "stream",
     "text": [
      "Do not use the average beam for convolution! Use the smallest common beam from `Beams.common_beam()`.\n",
      "WARNING: BeamAverageWarning: Arithmetic beam averaging is being performed.  This is not a mathematically robust operation, but is being permitted because the beams differ by <0.01 [spectral_cube.base_class]\n",
      "invalid value encountered in divide\n",
      "Do not use the average beam for convolution! Use the smallest common beam from `Beams.common_beam()`.\n",
      "WARNING: BeamAverageWarning: Arithmetic beam averaging is being performed.  This is not a mathematically robust operation, but is being permitted because the beams differ by <0.01 [spectral_cube.base_class]\n",
      "WARNING: VarianceWarning: Note that the second moment returned will be a variance map. To get a linewidth map, use the SpectralCube.linewidth_fwhm() or SpectralCube.linewidth_sigma() methods instead. [spectral_cube.spectral_cube]\n",
      "invalid value encountered in divide\n",
      "invalid value encountered in divide\n",
      "Do not use the average beam for convolution! Use the smallest common beam from `Beams.common_beam()`.\n",
      "WARNING: BeamAverageWarning: Arithmetic beam averaging is being performed.  This is not a mathematically robust operation, but is being permitted because the beams differ by <0.01 [spectral_cube.base_class]\n",
      "WARNING: SliceWarning: Slice (None, slice(None, None, None), slice(None, None, None)) cannot be used on this 2-dimensional array's WCS.  If this is intentional, you  should use this <class 'spectral_cube.lower_dimensional_structures.Projection'>'s ``array``  or ``quantity`` attribute. [spectral_cube.lower_dimensional_structures]\n",
      "Do not use the average beam for convolution! Use the smallest common beam from `Beams.common_beam()`.\n",
      "WARNING: BeamAverageWarning: Arithmetic beam averaging is being performed.  This is not a mathematically robust operation, but is being permitted because the beams differ by <0.01 [spectral_cube.base_class]\n",
      "Do not use the average beam for convolution! Use the smallest common beam from `Beams.common_beam()`.\n",
      "WARNING: BeamAverageWarning: Arithmetic beam averaging is being performed.  This is not a mathematically robust operation, but is being permitted because the beams differ by <0.01 [spectral_cube.base_class]\n",
      "WARNING: PossiblySlowWarning: This function (<function BaseSpectralCube.max at 0x145ee7a987c0>) requires loading the entire cube into memory and may therefore be slow. [spectral_cube.utils]\n",
      "Do not use the average beam for convolution! Use the smallest common beam from `Beams.common_beam()`.\n",
      "WARNING: BeamAverageWarning: Arithmetic beam averaging is being performed.  This is not a mathematically robust operation, but is being permitted because the beams differ by <0.01 [spectral_cube.base_class]\n",
      "All-NaN slice encountered\n"
     ]
    },
    {
     "name": "stdout",
     "output_type": "stream",
     "text": [
      "Masking spectral slab\n",
      "Computing unmasked moment0...\n",
      "\n",
      "Computing masked moment0...\n",
      "\n",
      "Computing peak intensity\n",
      "\n",
      "Saving...\n",
      "Slab written to /blue/adamginsburg/d.jeff/SgrB2DSreorg/field10/C2H5OH/DSiii//dec2024_3_try-close-to-FWZI/spectralslabs/km_s/C2H5OH~12.5.7.2-12.4.8.2_slab.fits.\n",
      "Masked slab written to /blue/adamginsburg/d.jeff/SgrB2DSreorg/field10/C2H5OH/DSiii//dec2024_3_try-close-to-FWZI/spectralslabs/km_s/C2H5OH~12.5.7.2-12.4.8.2_maskedslab.fits.\n",
      "\n",
      "Creating moment0 error Primary HDU\n",
      "Wrapping moment0 error Primary HDU in HDUList\n",
      "Writing moment0 error to /blue/adamginsburg/d.jeff/SgrB2DSreorg/field10/C2H5OH/DSiii//dec2024_3_try-close-to-FWZI/mom0/C2H5OH~12.5.7.2-12.4.8.2_error.fits\n",
      "Saving moment1 to /blue/adamginsburg/d.jeff/SgrB2DSreorg/field10/C2H5OH/DSiii//dec2024_3_try-close-to-FWZI/mom1/C2H5OH~12.5.7.2-12.4.8.2.fits\n",
      "\n",
      "Saving moment 2s to /blue/adamginsburg/d.jeff/SgrB2DSreorg/field10/C2H5OH/DSiii//dec2024_3_try-close-to-FWZI/mom2/C2H5OH~12.5.7.2-12.4.8.2_var.fits and /blue/adamginsburg/d.jeff/SgrB2DSreorg/field10/C2H5OH/DSiii//dec2024_3_try-close-to-FWZI/mom2/C2H5OH~12.5.7.2-12.4.8.2_fwhm.fits\n",
      "\n",
      "Saving peak intensity to /blue/adamginsburg/d.jeff/SgrB2DSreorg/field10/C2H5OH/DSiii//dec2024_3_try-close-to-FWZI/mom0/C2H5OH~12.5.7.2-12.4.8.2_peakint.fits\n",
      "12(5,7)(2)-12(4,8)(2) calculations complete.\n",
      "\n",
      "lines looped.\n",
      "\n",
      "Finished loop for spw3\n",
      "\n",
      "Begin fitting procedure\n",
      "Compute N_uppers\n",
      "Transition: 21(5,16)(2)-21(4,17)(2)\n",
      "Transition: 16(5,11)(2)-16(4,12)(2)\n",
      "Transition: 14(0,14)(2)-13(1,13)(2)\n",
      "Transition: 14(1,14)(0)-13(1,13)(0)\n",
      "Transition: 18(5,14)(2)-18(4,15)(2)\n",
      "Transition: 23(5,19)(2)-23(4,20)(2)\n",
      "Transition: 17(5,13)(2)-17(4,14)(2)\n",
      "Transition: 14(0,14)(0)-13(0,13)(0)\n",
      "Transition: 14(1,14)(1)-13(1,13)(1)\n",
      "Transition: 16(5,12)(2)-16(4,13)(2)\n",
      "Transition: 14(5,9)(2)-14(4,10)(2)\n",
      "Transition: 13(5,9)(2)-13(4,10)(2)\n",
      "Transition: 12(5,7)(2)-12(4,8)(2)\n",
      "Nupper calcs complete\n",
      "\n",
      "Setting up and executing model fit\n",
      "Starting rotational  C2H5OH  diagram loops\n",
      "Starting row 0 of 50\n"
     ]
    },
    {
     "name": "stderr",
     "output_type": "stream",
     "text": [
      "overflow encountered in scalar power\n",
      "Mean of empty slice.\n",
      "invalid value encountered in scalar divide\n"
     ]
    },
    {
     "name": "stdout",
     "output_type": "stream",
     "text": [
      "Starting row 1 of 50\n"
     ]
    },
    {
     "name": "stderr",
     "output_type": "stream",
     "text": [
      "divide by zero encountered in scalar divide\n",
      "divide by zero encountered in scalar divide\n"
     ]
    },
    {
     "name": "stdout",
     "output_type": "stream",
     "text": [
      "Starting row 2 of 50\n",
      "Starting row 3 of 50\n",
      "Starting row 4 of 50\n",
      "Starting row 5 of 50\n",
      "Starting row 6 of 50\n",
      "Starting row 7 of 50\n",
      "Starting row 8 of 50\n",
      "Starting row 9 of 50\n",
      "Starting row 10 of 50\n",
      "Starting row 11 of 50\n",
      "Starting row 12 of 50\n",
      "Starting row 13 of 50\n",
      "Starting row 14 of 50\n",
      "Starting row 15 of 50\n",
      "Starting row 16 of 50\n",
      "Starting row 17 of 50\n",
      "Starting row 18 of 50\n",
      "Starting row 19 of 50\n",
      "Starting row 20 of 50\n",
      "Diagram saved to /blue/adamginsburg/d.jeff/SgrB2DSreorg/field10/C2H5OH/DSiii//dec2024_3_try-close-to-FWZI/pixelwiserotationaldiagrams/rotdiag_pixel_20-20.png\n",
      "Diagram saved to /blue/adamginsburg/d.jeff/SgrB2DSreorg/field10/C2H5OH/DSiii//dec2024_3_try-close-to-FWZI/pixelwiserotationaldiagrams/rotdiag_pixel_20-21.png\n",
      "Diagram saved to /blue/adamginsburg/d.jeff/SgrB2DSreorg/field10/C2H5OH/DSiii//dec2024_3_try-close-to-FWZI/pixelwiserotationaldiagrams/rotdiag_pixel_20-22.png\n",
      "Diagram saved to /blue/adamginsburg/d.jeff/SgrB2DSreorg/field10/C2H5OH/DSiii//dec2024_3_try-close-to-FWZI/pixelwiserotationaldiagrams/rotdiag_pixel_20-23.png\n",
      "Diagram saved to /blue/adamginsburg/d.jeff/SgrB2DSreorg/field10/C2H5OH/DSiii//dec2024_3_try-close-to-FWZI/pixelwiserotationaldiagrams/rotdiag_pixel_20-24.png\n",
      "Diagram saved to /blue/adamginsburg/d.jeff/SgrB2DSreorg/field10/C2H5OH/DSiii//dec2024_3_try-close-to-FWZI/pixelwiserotationaldiagrams/rotdiag_pixel_20-25.png\n",
      "Diagram saved to /blue/adamginsburg/d.jeff/SgrB2DSreorg/field10/C2H5OH/DSiii//dec2024_3_try-close-to-FWZI/pixelwiserotationaldiagrams/rotdiag_pixel_20-26.png\n",
      "Diagram saved to /blue/adamginsburg/d.jeff/SgrB2DSreorg/field10/C2H5OH/DSiii//dec2024_3_try-close-to-FWZI/pixelwiserotationaldiagrams/rotdiag_pixel_20-27.png\n",
      "Diagram saved to /blue/adamginsburg/d.jeff/SgrB2DSreorg/field10/C2H5OH/DSiii//dec2024_3_try-close-to-FWZI/pixelwiserotationaldiagrams/rotdiag_pixel_20-28.png\n",
      "Diagram saved to /blue/adamginsburg/d.jeff/SgrB2DSreorg/field10/C2H5OH/DSiii//dec2024_3_try-close-to-FWZI/pixelwiserotationaldiagrams/rotdiag_pixel_20-29.png\n",
      "Diagram saved to /blue/adamginsburg/d.jeff/SgrB2DSreorg/field10/C2H5OH/DSiii//dec2024_3_try-close-to-FWZI/pixelwiserotationaldiagrams/rotdiag_pixel_20-30.png\n",
      "Diagram saved to /blue/adamginsburg/d.jeff/SgrB2DSreorg/field10/C2H5OH/DSiii//dec2024_3_try-close-to-FWZI/pixelwiserotationaldiagrams/rotdiag_pixel_20-31.png\n",
      "Diagram saved to /blue/adamginsburg/d.jeff/SgrB2DSreorg/field10/C2H5OH/DSiii//dec2024_3_try-close-to-FWZI/pixelwiserotationaldiagrams/rotdiag_pixel_20-32.png\n",
      "Starting row 21 of 50\n",
      "Diagram saved to /blue/adamginsburg/d.jeff/SgrB2DSreorg/field10/C2H5OH/DSiii//dec2024_3_try-close-to-FWZI/pixelwiserotationaldiagrams/rotdiag_pixel_21-20.png\n",
      "Diagram saved to /blue/adamginsburg/d.jeff/SgrB2DSreorg/field10/C2H5OH/DSiii//dec2024_3_try-close-to-FWZI/pixelwiserotationaldiagrams/rotdiag_pixel_21-21.png\n",
      "Diagram saved to /blue/adamginsburg/d.jeff/SgrB2DSreorg/field10/C2H5OH/DSiii//dec2024_3_try-close-to-FWZI/pixelwiserotationaldiagrams/rotdiag_pixel_21-22.png\n",
      "Diagram saved to /blue/adamginsburg/d.jeff/SgrB2DSreorg/field10/C2H5OH/DSiii//dec2024_3_try-close-to-FWZI/pixelwiserotationaldiagrams/rotdiag_pixel_21-23.png\n",
      "Diagram saved to /blue/adamginsburg/d.jeff/SgrB2DSreorg/field10/C2H5OH/DSiii//dec2024_3_try-close-to-FWZI/pixelwiserotationaldiagrams/rotdiag_pixel_21-24.png\n",
      "Diagram saved to /blue/adamginsburg/d.jeff/SgrB2DSreorg/field10/C2H5OH/DSiii//dec2024_3_try-close-to-FWZI/pixelwiserotationaldiagrams/rotdiag_pixel_21-25.png\n",
      "Diagram saved to /blue/adamginsburg/d.jeff/SgrB2DSreorg/field10/C2H5OH/DSiii//dec2024_3_try-close-to-FWZI/pixelwiserotationaldiagrams/rotdiag_pixel_21-26.png\n",
      "Diagram saved to /blue/adamginsburg/d.jeff/SgrB2DSreorg/field10/C2H5OH/DSiii//dec2024_3_try-close-to-FWZI/pixelwiserotationaldiagrams/rotdiag_pixel_21-27.png\n",
      "Diagram saved to /blue/adamginsburg/d.jeff/SgrB2DSreorg/field10/C2H5OH/DSiii//dec2024_3_try-close-to-FWZI/pixelwiserotationaldiagrams/rotdiag_pixel_21-28.png\n",
      "Diagram saved to /blue/adamginsburg/d.jeff/SgrB2DSreorg/field10/C2H5OH/DSiii//dec2024_3_try-close-to-FWZI/pixelwiserotationaldiagrams/rotdiag_pixel_21-29.png\n",
      "Diagram saved to /blue/adamginsburg/d.jeff/SgrB2DSreorg/field10/C2H5OH/DSiii//dec2024_3_try-close-to-FWZI/pixelwiserotationaldiagrams/rotdiag_pixel_21-30.png\n",
      "Diagram saved to /blue/adamginsburg/d.jeff/SgrB2DSreorg/field10/C2H5OH/DSiii//dec2024_3_try-close-to-FWZI/pixelwiserotationaldiagrams/rotdiag_pixel_21-31.png\n",
      "Diagram saved to /blue/adamginsburg/d.jeff/SgrB2DSreorg/field10/C2H5OH/DSiii//dec2024_3_try-close-to-FWZI/pixelwiserotationaldiagrams/rotdiag_pixel_21-32.png\n",
      "Starting row 22 of 50\n",
      "Diagram saved to /blue/adamginsburg/d.jeff/SgrB2DSreorg/field10/C2H5OH/DSiii//dec2024_3_try-close-to-FWZI/pixelwiserotationaldiagrams/rotdiag_pixel_22-20.png\n",
      "Diagram saved to /blue/adamginsburg/d.jeff/SgrB2DSreorg/field10/C2H5OH/DSiii//dec2024_3_try-close-to-FWZI/pixelwiserotationaldiagrams/rotdiag_pixel_22-21.png\n",
      "Diagram saved to /blue/adamginsburg/d.jeff/SgrB2DSreorg/field10/C2H5OH/DSiii//dec2024_3_try-close-to-FWZI/pixelwiserotationaldiagrams/rotdiag_pixel_22-22.png\n",
      "Diagram saved to /blue/adamginsburg/d.jeff/SgrB2DSreorg/field10/C2H5OH/DSiii//dec2024_3_try-close-to-FWZI/pixelwiserotationaldiagrams/rotdiag_pixel_22-23.png\n",
      "Diagram saved to /blue/adamginsburg/d.jeff/SgrB2DSreorg/field10/C2H5OH/DSiii//dec2024_3_try-close-to-FWZI/pixelwiserotationaldiagrams/rotdiag_pixel_22-24.png\n",
      "Diagram saved to /blue/adamginsburg/d.jeff/SgrB2DSreorg/field10/C2H5OH/DSiii//dec2024_3_try-close-to-FWZI/pixelwiserotationaldiagrams/rotdiag_pixel_22-25.png\n",
      "Diagram saved to /blue/adamginsburg/d.jeff/SgrB2DSreorg/field10/C2H5OH/DSiii//dec2024_3_try-close-to-FWZI/pixelwiserotationaldiagrams/rotdiag_pixel_22-26.png\n",
      "Diagram saved to /blue/adamginsburg/d.jeff/SgrB2DSreorg/field10/C2H5OH/DSiii//dec2024_3_try-close-to-FWZI/pixelwiserotationaldiagrams/rotdiag_pixel_22-27.png\n",
      "Diagram saved to /blue/adamginsburg/d.jeff/SgrB2DSreorg/field10/C2H5OH/DSiii//dec2024_3_try-close-to-FWZI/pixelwiserotationaldiagrams/rotdiag_pixel_22-28.png\n",
      "Diagram saved to /blue/adamginsburg/d.jeff/SgrB2DSreorg/field10/C2H5OH/DSiii//dec2024_3_try-close-to-FWZI/pixelwiserotationaldiagrams/rotdiag_pixel_22-29.png\n",
      "Diagram saved to /blue/adamginsburg/d.jeff/SgrB2DSreorg/field10/C2H5OH/DSiii//dec2024_3_try-close-to-FWZI/pixelwiserotationaldiagrams/rotdiag_pixel_22-30.png\n",
      "Diagram saved to /blue/adamginsburg/d.jeff/SgrB2DSreorg/field10/C2H5OH/DSiii//dec2024_3_try-close-to-FWZI/pixelwiserotationaldiagrams/rotdiag_pixel_22-31.png\n",
      "Diagram saved to /blue/adamginsburg/d.jeff/SgrB2DSreorg/field10/C2H5OH/DSiii//dec2024_3_try-close-to-FWZI/pixelwiserotationaldiagrams/rotdiag_pixel_22-32.png\n",
      "Starting row 23 of 50\n",
      "Diagram saved to /blue/adamginsburg/d.jeff/SgrB2DSreorg/field10/C2H5OH/DSiii//dec2024_3_try-close-to-FWZI/pixelwiserotationaldiagrams/rotdiag_pixel_23-20.png\n",
      "Diagram saved to /blue/adamginsburg/d.jeff/SgrB2DSreorg/field10/C2H5OH/DSiii//dec2024_3_try-close-to-FWZI/pixelwiserotationaldiagrams/rotdiag_pixel_23-21.png\n",
      "Diagram saved to /blue/adamginsburg/d.jeff/SgrB2DSreorg/field10/C2H5OH/DSiii//dec2024_3_try-close-to-FWZI/pixelwiserotationaldiagrams/rotdiag_pixel_23-22.png\n",
      "Diagram saved to /blue/adamginsburg/d.jeff/SgrB2DSreorg/field10/C2H5OH/DSiii//dec2024_3_try-close-to-FWZI/pixelwiserotationaldiagrams/rotdiag_pixel_23-23.png\n",
      "Diagram saved to /blue/adamginsburg/d.jeff/SgrB2DSreorg/field10/C2H5OH/DSiii//dec2024_3_try-close-to-FWZI/pixelwiserotationaldiagrams/rotdiag_pixel_23-24.png\n",
      "Diagram saved to /blue/adamginsburg/d.jeff/SgrB2DSreorg/field10/C2H5OH/DSiii//dec2024_3_try-close-to-FWZI/pixelwiserotationaldiagrams/rotdiag_pixel_23-25.png\n",
      "Diagram saved to /blue/adamginsburg/d.jeff/SgrB2DSreorg/field10/C2H5OH/DSiii//dec2024_3_try-close-to-FWZI/pixelwiserotationaldiagrams/rotdiag_pixel_23-26.png\n",
      "Diagram saved to /blue/adamginsburg/d.jeff/SgrB2DSreorg/field10/C2H5OH/DSiii//dec2024_3_try-close-to-FWZI/pixelwiserotationaldiagrams/rotdiag_pixel_23-27.png\n",
      "Diagram saved to /blue/adamginsburg/d.jeff/SgrB2DSreorg/field10/C2H5OH/DSiii//dec2024_3_try-close-to-FWZI/pixelwiserotationaldiagrams/rotdiag_pixel_23-28.png\n",
      "Diagram saved to /blue/adamginsburg/d.jeff/SgrB2DSreorg/field10/C2H5OH/DSiii//dec2024_3_try-close-to-FWZI/pixelwiserotationaldiagrams/rotdiag_pixel_23-29.png\n",
      "Diagram saved to /blue/adamginsburg/d.jeff/SgrB2DSreorg/field10/C2H5OH/DSiii//dec2024_3_try-close-to-FWZI/pixelwiserotationaldiagrams/rotdiag_pixel_23-30.png\n",
      "Diagram saved to /blue/adamginsburg/d.jeff/SgrB2DSreorg/field10/C2H5OH/DSiii//dec2024_3_try-close-to-FWZI/pixelwiserotationaldiagrams/rotdiag_pixel_23-31.png\n",
      "Diagram saved to /blue/adamginsburg/d.jeff/SgrB2DSreorg/field10/C2H5OH/DSiii//dec2024_3_try-close-to-FWZI/pixelwiserotationaldiagrams/rotdiag_pixel_23-32.png\n",
      "Starting row 24 of 50\n",
      "Diagram saved to /blue/adamginsburg/d.jeff/SgrB2DSreorg/field10/C2H5OH/DSiii//dec2024_3_try-close-to-FWZI/pixelwiserotationaldiagrams/rotdiag_pixel_24-20.png\n",
      "Diagram saved to /blue/adamginsburg/d.jeff/SgrB2DSreorg/field10/C2H5OH/DSiii//dec2024_3_try-close-to-FWZI/pixelwiserotationaldiagrams/rotdiag_pixel_24-21.png\n",
      "Diagram saved to /blue/adamginsburg/d.jeff/SgrB2DSreorg/field10/C2H5OH/DSiii//dec2024_3_try-close-to-FWZI/pixelwiserotationaldiagrams/rotdiag_pixel_24-22.png\n",
      "Diagram saved to /blue/adamginsburg/d.jeff/SgrB2DSreorg/field10/C2H5OH/DSiii//dec2024_3_try-close-to-FWZI/pixelwiserotationaldiagrams/rotdiag_pixel_24-23.png\n",
      "Diagram saved to /blue/adamginsburg/d.jeff/SgrB2DSreorg/field10/C2H5OH/DSiii//dec2024_3_try-close-to-FWZI/pixelwiserotationaldiagrams/rotdiag_pixel_24-24.png\n",
      "Diagram saved to /blue/adamginsburg/d.jeff/SgrB2DSreorg/field10/C2H5OH/DSiii//dec2024_3_try-close-to-FWZI/pixelwiserotationaldiagrams/rotdiag_pixel_24-25.png\n",
      "Diagram saved to /blue/adamginsburg/d.jeff/SgrB2DSreorg/field10/C2H5OH/DSiii//dec2024_3_try-close-to-FWZI/pixelwiserotationaldiagrams/rotdiag_pixel_24-26.png\n",
      "Diagram saved to /blue/adamginsburg/d.jeff/SgrB2DSreorg/field10/C2H5OH/DSiii//dec2024_3_try-close-to-FWZI/pixelwiserotationaldiagrams/rotdiag_pixel_24-27.png\n",
      "Diagram saved to /blue/adamginsburg/d.jeff/SgrB2DSreorg/field10/C2H5OH/DSiii//dec2024_3_try-close-to-FWZI/pixelwiserotationaldiagrams/rotdiag_pixel_24-28.png\n",
      "Diagram saved to /blue/adamginsburg/d.jeff/SgrB2DSreorg/field10/C2H5OH/DSiii//dec2024_3_try-close-to-FWZI/pixelwiserotationaldiagrams/rotdiag_pixel_24-29.png\n",
      "Diagram saved to /blue/adamginsburg/d.jeff/SgrB2DSreorg/field10/C2H5OH/DSiii//dec2024_3_try-close-to-FWZI/pixelwiserotationaldiagrams/rotdiag_pixel_24-30.png\n",
      "Diagram saved to /blue/adamginsburg/d.jeff/SgrB2DSreorg/field10/C2H5OH/DSiii//dec2024_3_try-close-to-FWZI/pixelwiserotationaldiagrams/rotdiag_pixel_24-31.png\n",
      "Diagram saved to /blue/adamginsburg/d.jeff/SgrB2DSreorg/field10/C2H5OH/DSiii//dec2024_3_try-close-to-FWZI/pixelwiserotationaldiagrams/rotdiag_pixel_24-32.png\n",
      "Starting row 25 of 50\n",
      "Diagram saved to /blue/adamginsburg/d.jeff/SgrB2DSreorg/field10/C2H5OH/DSiii//dec2024_3_try-close-to-FWZI/pixelwiserotationaldiagrams/rotdiag_pixel_25-20.png\n",
      "Diagram saved to /blue/adamginsburg/d.jeff/SgrB2DSreorg/field10/C2H5OH/DSiii//dec2024_3_try-close-to-FWZI/pixelwiserotationaldiagrams/rotdiag_pixel_25-21.png\n",
      "Diagram saved to /blue/adamginsburg/d.jeff/SgrB2DSreorg/field10/C2H5OH/DSiii//dec2024_3_try-close-to-FWZI/pixelwiserotationaldiagrams/rotdiag_pixel_25-22.png\n",
      "Diagram saved to /blue/adamginsburg/d.jeff/SgrB2DSreorg/field10/C2H5OH/DSiii//dec2024_3_try-close-to-FWZI/pixelwiserotationaldiagrams/rotdiag_pixel_25-23.png\n",
      "Diagram saved to /blue/adamginsburg/d.jeff/SgrB2DSreorg/field10/C2H5OH/DSiii//dec2024_3_try-close-to-FWZI/pixelwiserotationaldiagrams/rotdiag_pixel_25-24.png\n",
      "Diagram saved to /blue/adamginsburg/d.jeff/SgrB2DSreorg/field10/C2H5OH/DSiii//dec2024_3_try-close-to-FWZI/pixelwiserotationaldiagrams/rotdiag_pixel_25-25.png\n",
      "Diagram saved to /blue/adamginsburg/d.jeff/SgrB2DSreorg/field10/C2H5OH/DSiii//dec2024_3_try-close-to-FWZI/pixelwiserotationaldiagrams/rotdiag_pixel_25-26.png\n",
      "Diagram saved to /blue/adamginsburg/d.jeff/SgrB2DSreorg/field10/C2H5OH/DSiii//dec2024_3_try-close-to-FWZI/pixelwiserotationaldiagrams/rotdiag_pixel_25-27.png\n",
      "Diagram saved to /blue/adamginsburg/d.jeff/SgrB2DSreorg/field10/C2H5OH/DSiii//dec2024_3_try-close-to-FWZI/pixelwiserotationaldiagrams/rotdiag_pixel_25-28.png\n",
      "Diagram saved to /blue/adamginsburg/d.jeff/SgrB2DSreorg/field10/C2H5OH/DSiii//dec2024_3_try-close-to-FWZI/pixelwiserotationaldiagrams/rotdiag_pixel_25-29.png\n",
      "Diagram saved to /blue/adamginsburg/d.jeff/SgrB2DSreorg/field10/C2H5OH/DSiii//dec2024_3_try-close-to-FWZI/pixelwiserotationaldiagrams/rotdiag_pixel_25-30.png\n",
      "Diagram saved to /blue/adamginsburg/d.jeff/SgrB2DSreorg/field10/C2H5OH/DSiii//dec2024_3_try-close-to-FWZI/pixelwiserotationaldiagrams/rotdiag_pixel_25-31.png\n",
      "Diagram saved to /blue/adamginsburg/d.jeff/SgrB2DSreorg/field10/C2H5OH/DSiii//dec2024_3_try-close-to-FWZI/pixelwiserotationaldiagrams/rotdiag_pixel_25-32.png\n",
      "Starting row 26 of 50\n",
      "Diagram saved to /blue/adamginsburg/d.jeff/SgrB2DSreorg/field10/C2H5OH/DSiii//dec2024_3_try-close-to-FWZI/pixelwiserotationaldiagrams/rotdiag_pixel_26-20.png\n",
      "Diagram saved to /blue/adamginsburg/d.jeff/SgrB2DSreorg/field10/C2H5OH/DSiii//dec2024_3_try-close-to-FWZI/pixelwiserotationaldiagrams/rotdiag_pixel_26-21.png\n",
      "Diagram saved to /blue/adamginsburg/d.jeff/SgrB2DSreorg/field10/C2H5OH/DSiii//dec2024_3_try-close-to-FWZI/pixelwiserotationaldiagrams/rotdiag_pixel_26-22.png\n",
      "Diagram saved to /blue/adamginsburg/d.jeff/SgrB2DSreorg/field10/C2H5OH/DSiii//dec2024_3_try-close-to-FWZI/pixelwiserotationaldiagrams/rotdiag_pixel_26-23.png\n",
      "Diagram saved to /blue/adamginsburg/d.jeff/SgrB2DSreorg/field10/C2H5OH/DSiii//dec2024_3_try-close-to-FWZI/pixelwiserotationaldiagrams/rotdiag_pixel_26-24.png\n",
      "Diagram saved to /blue/adamginsburg/d.jeff/SgrB2DSreorg/field10/C2H5OH/DSiii//dec2024_3_try-close-to-FWZI/pixelwiserotationaldiagrams/rotdiag_pixel_26-25.png\n",
      "Diagram saved to /blue/adamginsburg/d.jeff/SgrB2DSreorg/field10/C2H5OH/DSiii//dec2024_3_try-close-to-FWZI/pixelwiserotationaldiagrams/rotdiag_pixel_26-26.png\n",
      "Diagram saved to /blue/adamginsburg/d.jeff/SgrB2DSreorg/field10/C2H5OH/DSiii//dec2024_3_try-close-to-FWZI/pixelwiserotationaldiagrams/rotdiag_pixel_26-27.png\n",
      "Diagram saved to /blue/adamginsburg/d.jeff/SgrB2DSreorg/field10/C2H5OH/DSiii//dec2024_3_try-close-to-FWZI/pixelwiserotationaldiagrams/rotdiag_pixel_26-28.png\n",
      "Diagram saved to /blue/adamginsburg/d.jeff/SgrB2DSreorg/field10/C2H5OH/DSiii//dec2024_3_try-close-to-FWZI/pixelwiserotationaldiagrams/rotdiag_pixel_26-29.png\n",
      "Diagram saved to /blue/adamginsburg/d.jeff/SgrB2DSreorg/field10/C2H5OH/DSiii//dec2024_3_try-close-to-FWZI/pixelwiserotationaldiagrams/rotdiag_pixel_26-30.png\n",
      "Diagram saved to /blue/adamginsburg/d.jeff/SgrB2DSreorg/field10/C2H5OH/DSiii//dec2024_3_try-close-to-FWZI/pixelwiserotationaldiagrams/rotdiag_pixel_26-31.png\n",
      "Diagram saved to /blue/adamginsburg/d.jeff/SgrB2DSreorg/field10/C2H5OH/DSiii//dec2024_3_try-close-to-FWZI/pixelwiserotationaldiagrams/rotdiag_pixel_26-32.png\n",
      "Starting row 27 of 50\n",
      "Diagram saved to /blue/adamginsburg/d.jeff/SgrB2DSreorg/field10/C2H5OH/DSiii//dec2024_3_try-close-to-FWZI/pixelwiserotationaldiagrams/rotdiag_pixel_27-20.png\n",
      "Diagram saved to /blue/adamginsburg/d.jeff/SgrB2DSreorg/field10/C2H5OH/DSiii//dec2024_3_try-close-to-FWZI/pixelwiserotationaldiagrams/rotdiag_pixel_27-21.png\n",
      "Diagram saved to /blue/adamginsburg/d.jeff/SgrB2DSreorg/field10/C2H5OH/DSiii//dec2024_3_try-close-to-FWZI/pixelwiserotationaldiagrams/rotdiag_pixel_27-22.png\n",
      "Diagram saved to /blue/adamginsburg/d.jeff/SgrB2DSreorg/field10/C2H5OH/DSiii//dec2024_3_try-close-to-FWZI/pixelwiserotationaldiagrams/rotdiag_pixel_27-23.png\n",
      "Diagram saved to /blue/adamginsburg/d.jeff/SgrB2DSreorg/field10/C2H5OH/DSiii//dec2024_3_try-close-to-FWZI/pixelwiserotationaldiagrams/rotdiag_pixel_27-24.png\n",
      "Diagram saved to /blue/adamginsburg/d.jeff/SgrB2DSreorg/field10/C2H5OH/DSiii//dec2024_3_try-close-to-FWZI/pixelwiserotationaldiagrams/rotdiag_pixel_27-25.png\n",
      "Diagram saved to /blue/adamginsburg/d.jeff/SgrB2DSreorg/field10/C2H5OH/DSiii//dec2024_3_try-close-to-FWZI/pixelwiserotationaldiagrams/rotdiag_pixel_27-26.png\n",
      "Diagram saved to /blue/adamginsburg/d.jeff/SgrB2DSreorg/field10/C2H5OH/DSiii//dec2024_3_try-close-to-FWZI/pixelwiserotationaldiagrams/rotdiag_pixel_27-27.png\n",
      "Diagram saved to /blue/adamginsburg/d.jeff/SgrB2DSreorg/field10/C2H5OH/DSiii//dec2024_3_try-close-to-FWZI/pixelwiserotationaldiagrams/rotdiag_pixel_27-28.png\n",
      "Diagram saved to /blue/adamginsburg/d.jeff/SgrB2DSreorg/field10/C2H5OH/DSiii//dec2024_3_try-close-to-FWZI/pixelwiserotationaldiagrams/rotdiag_pixel_27-29.png\n",
      "Diagram saved to /blue/adamginsburg/d.jeff/SgrB2DSreorg/field10/C2H5OH/DSiii//dec2024_3_try-close-to-FWZI/pixelwiserotationaldiagrams/rotdiag_pixel_27-30.png\n",
      "Diagram saved to /blue/adamginsburg/d.jeff/SgrB2DSreorg/field10/C2H5OH/DSiii//dec2024_3_try-close-to-FWZI/pixelwiserotationaldiagrams/rotdiag_pixel_27-31.png\n",
      "Diagram saved to /blue/adamginsburg/d.jeff/SgrB2DSreorg/field10/C2H5OH/DSiii//dec2024_3_try-close-to-FWZI/pixelwiserotationaldiagrams/rotdiag_pixel_27-32.png\n",
      "Starting row 28 of 50\n",
      "Diagram saved to /blue/adamginsburg/d.jeff/SgrB2DSreorg/field10/C2H5OH/DSiii//dec2024_3_try-close-to-FWZI/pixelwiserotationaldiagrams/rotdiag_pixel_28-20.png\n",
      "Diagram saved to /blue/adamginsburg/d.jeff/SgrB2DSreorg/field10/C2H5OH/DSiii//dec2024_3_try-close-to-FWZI/pixelwiserotationaldiagrams/rotdiag_pixel_28-21.png\n",
      "Diagram saved to /blue/adamginsburg/d.jeff/SgrB2DSreorg/field10/C2H5OH/DSiii//dec2024_3_try-close-to-FWZI/pixelwiserotationaldiagrams/rotdiag_pixel_28-22.png\n",
      "Diagram saved to /blue/adamginsburg/d.jeff/SgrB2DSreorg/field10/C2H5OH/DSiii//dec2024_3_try-close-to-FWZI/pixelwiserotationaldiagrams/rotdiag_pixel_28-23.png\n",
      "Diagram saved to /blue/adamginsburg/d.jeff/SgrB2DSreorg/field10/C2H5OH/DSiii//dec2024_3_try-close-to-FWZI/pixelwiserotationaldiagrams/rotdiag_pixel_28-24.png\n",
      "Diagram saved to /blue/adamginsburg/d.jeff/SgrB2DSreorg/field10/C2H5OH/DSiii//dec2024_3_try-close-to-FWZI/pixelwiserotationaldiagrams/rotdiag_pixel_28-25.png\n",
      "Diagram saved to /blue/adamginsburg/d.jeff/SgrB2DSreorg/field10/C2H5OH/DSiii//dec2024_3_try-close-to-FWZI/pixelwiserotationaldiagrams/rotdiag_pixel_28-26.png\n",
      "Diagram saved to /blue/adamginsburg/d.jeff/SgrB2DSreorg/field10/C2H5OH/DSiii//dec2024_3_try-close-to-FWZI/pixelwiserotationaldiagrams/rotdiag_pixel_28-27.png\n",
      "Diagram saved to /blue/adamginsburg/d.jeff/SgrB2DSreorg/field10/C2H5OH/DSiii//dec2024_3_try-close-to-FWZI/pixelwiserotationaldiagrams/rotdiag_pixel_28-28.png\n",
      "Diagram saved to /blue/adamginsburg/d.jeff/SgrB2DSreorg/field10/C2H5OH/DSiii//dec2024_3_try-close-to-FWZI/pixelwiserotationaldiagrams/rotdiag_pixel_28-29.png\n",
      "Diagram saved to /blue/adamginsburg/d.jeff/SgrB2DSreorg/field10/C2H5OH/DSiii//dec2024_3_try-close-to-FWZI/pixelwiserotationaldiagrams/rotdiag_pixel_28-30.png\n",
      "Diagram saved to /blue/adamginsburg/d.jeff/SgrB2DSreorg/field10/C2H5OH/DSiii//dec2024_3_try-close-to-FWZI/pixelwiserotationaldiagrams/rotdiag_pixel_28-31.png\n",
      "Diagram saved to /blue/adamginsburg/d.jeff/SgrB2DSreorg/field10/C2H5OH/DSiii//dec2024_3_try-close-to-FWZI/pixelwiserotationaldiagrams/rotdiag_pixel_28-32.png\n",
      "Starting row 29 of 50\n",
      "Diagram saved to /blue/adamginsburg/d.jeff/SgrB2DSreorg/field10/C2H5OH/DSiii//dec2024_3_try-close-to-FWZI/pixelwiserotationaldiagrams/rotdiag_pixel_29-20.png\n",
      "Diagram saved to /blue/adamginsburg/d.jeff/SgrB2DSreorg/field10/C2H5OH/DSiii//dec2024_3_try-close-to-FWZI/pixelwiserotationaldiagrams/rotdiag_pixel_29-21.png\n",
      "Diagram saved to /blue/adamginsburg/d.jeff/SgrB2DSreorg/field10/C2H5OH/DSiii//dec2024_3_try-close-to-FWZI/pixelwiserotationaldiagrams/rotdiag_pixel_29-22.png\n",
      "Diagram saved to /blue/adamginsburg/d.jeff/SgrB2DSreorg/field10/C2H5OH/DSiii//dec2024_3_try-close-to-FWZI/pixelwiserotationaldiagrams/rotdiag_pixel_29-23.png\n",
      "Diagram saved to /blue/adamginsburg/d.jeff/SgrB2DSreorg/field10/C2H5OH/DSiii//dec2024_3_try-close-to-FWZI/pixelwiserotationaldiagrams/rotdiag_pixel_29-24.png\n",
      "Diagram saved to /blue/adamginsburg/d.jeff/SgrB2DSreorg/field10/C2H5OH/DSiii//dec2024_3_try-close-to-FWZI/pixelwiserotationaldiagrams/rotdiag_pixel_29-25.png\n",
      "Diagram saved to /blue/adamginsburg/d.jeff/SgrB2DSreorg/field10/C2H5OH/DSiii//dec2024_3_try-close-to-FWZI/pixelwiserotationaldiagrams/rotdiag_pixel_29-26.png\n",
      "Diagram saved to /blue/adamginsburg/d.jeff/SgrB2DSreorg/field10/C2H5OH/DSiii//dec2024_3_try-close-to-FWZI/pixelwiserotationaldiagrams/rotdiag_pixel_29-27.png\n",
      "Diagram saved to /blue/adamginsburg/d.jeff/SgrB2DSreorg/field10/C2H5OH/DSiii//dec2024_3_try-close-to-FWZI/pixelwiserotationaldiagrams/rotdiag_pixel_29-28.png\n",
      "Diagram saved to /blue/adamginsburg/d.jeff/SgrB2DSreorg/field10/C2H5OH/DSiii//dec2024_3_try-close-to-FWZI/pixelwiserotationaldiagrams/rotdiag_pixel_29-29.png\n",
      "Diagram saved to /blue/adamginsburg/d.jeff/SgrB2DSreorg/field10/C2H5OH/DSiii//dec2024_3_try-close-to-FWZI/pixelwiserotationaldiagrams/rotdiag_pixel_29-30.png\n",
      "Diagram saved to /blue/adamginsburg/d.jeff/SgrB2DSreorg/field10/C2H5OH/DSiii//dec2024_3_try-close-to-FWZI/pixelwiserotationaldiagrams/rotdiag_pixel_29-31.png\n",
      "Diagram saved to /blue/adamginsburg/d.jeff/SgrB2DSreorg/field10/C2H5OH/DSiii//dec2024_3_try-close-to-FWZI/pixelwiserotationaldiagrams/rotdiag_pixel_29-32.png\n",
      "Starting row 30 of 50\n",
      "Diagram saved to /blue/adamginsburg/d.jeff/SgrB2DSreorg/field10/C2H5OH/DSiii//dec2024_3_try-close-to-FWZI/pixelwiserotationaldiagrams/rotdiag_pixel_30-20.png\n",
      "Diagram saved to /blue/adamginsburg/d.jeff/SgrB2DSreorg/field10/C2H5OH/DSiii//dec2024_3_try-close-to-FWZI/pixelwiserotationaldiagrams/rotdiag_pixel_30-21.png\n",
      "Diagram saved to /blue/adamginsburg/d.jeff/SgrB2DSreorg/field10/C2H5OH/DSiii//dec2024_3_try-close-to-FWZI/pixelwiserotationaldiagrams/rotdiag_pixel_30-22.png\n",
      "Diagram saved to /blue/adamginsburg/d.jeff/SgrB2DSreorg/field10/C2H5OH/DSiii//dec2024_3_try-close-to-FWZI/pixelwiserotationaldiagrams/rotdiag_pixel_30-23.png\n",
      "Diagram saved to /blue/adamginsburg/d.jeff/SgrB2DSreorg/field10/C2H5OH/DSiii//dec2024_3_try-close-to-FWZI/pixelwiserotationaldiagrams/rotdiag_pixel_30-24.png\n",
      "Diagram saved to /blue/adamginsburg/d.jeff/SgrB2DSreorg/field10/C2H5OH/DSiii//dec2024_3_try-close-to-FWZI/pixelwiserotationaldiagrams/rotdiag_pixel_30-25.png\n",
      "Diagram saved to /blue/adamginsburg/d.jeff/SgrB2DSreorg/field10/C2H5OH/DSiii//dec2024_3_try-close-to-FWZI/pixelwiserotationaldiagrams/rotdiag_pixel_30-26.png\n",
      "Diagram saved to /blue/adamginsburg/d.jeff/SgrB2DSreorg/field10/C2H5OH/DSiii//dec2024_3_try-close-to-FWZI/pixelwiserotationaldiagrams/rotdiag_pixel_30-27.png\n",
      "Diagram saved to /blue/adamginsburg/d.jeff/SgrB2DSreorg/field10/C2H5OH/DSiii//dec2024_3_try-close-to-FWZI/pixelwiserotationaldiagrams/rotdiag_pixel_30-28.png\n",
      "Diagram saved to /blue/adamginsburg/d.jeff/SgrB2DSreorg/field10/C2H5OH/DSiii//dec2024_3_try-close-to-FWZI/pixelwiserotationaldiagrams/rotdiag_pixel_30-29.png\n",
      "Diagram saved to /blue/adamginsburg/d.jeff/SgrB2DSreorg/field10/C2H5OH/DSiii//dec2024_3_try-close-to-FWZI/pixelwiserotationaldiagrams/rotdiag_pixel_30-30.png\n",
      "Diagram saved to /blue/adamginsburg/d.jeff/SgrB2DSreorg/field10/C2H5OH/DSiii//dec2024_3_try-close-to-FWZI/pixelwiserotationaldiagrams/rotdiag_pixel_30-31.png\n",
      "Diagram saved to /blue/adamginsburg/d.jeff/SgrB2DSreorg/field10/C2H5OH/DSiii//dec2024_3_try-close-to-FWZI/pixelwiserotationaldiagrams/rotdiag_pixel_30-32.png\n"
     ]
    },
    {
     "name": "stderr",
     "output_type": "stream",
     "text": [
      "invalid value encountered in subtract\n"
     ]
    },
    {
     "name": "stdout",
     "output_type": "stream",
     "text": [
      "Starting row 31 of 50\n",
      "Diagram saved to /blue/adamginsburg/d.jeff/SgrB2DSreorg/field10/C2H5OH/DSiii//dec2024_3_try-close-to-FWZI/pixelwiserotationaldiagrams/rotdiag_pixel_31-20.png\n",
      "Diagram saved to /blue/adamginsburg/d.jeff/SgrB2DSreorg/field10/C2H5OH/DSiii//dec2024_3_try-close-to-FWZI/pixelwiserotationaldiagrams/rotdiag_pixel_31-21.png\n",
      "Diagram saved to /blue/adamginsburg/d.jeff/SgrB2DSreorg/field10/C2H5OH/DSiii//dec2024_3_try-close-to-FWZI/pixelwiserotationaldiagrams/rotdiag_pixel_31-22.png\n",
      "Diagram saved to /blue/adamginsburg/d.jeff/SgrB2DSreorg/field10/C2H5OH/DSiii//dec2024_3_try-close-to-FWZI/pixelwiserotationaldiagrams/rotdiag_pixel_31-23.png\n",
      "Diagram saved to /blue/adamginsburg/d.jeff/SgrB2DSreorg/field10/C2H5OH/DSiii//dec2024_3_try-close-to-FWZI/pixelwiserotationaldiagrams/rotdiag_pixel_31-24.png\n",
      "Diagram saved to /blue/adamginsburg/d.jeff/SgrB2DSreorg/field10/C2H5OH/DSiii//dec2024_3_try-close-to-FWZI/pixelwiserotationaldiagrams/rotdiag_pixel_31-25.png\n",
      "Diagram saved to /blue/adamginsburg/d.jeff/SgrB2DSreorg/field10/C2H5OH/DSiii//dec2024_3_try-close-to-FWZI/pixelwiserotationaldiagrams/rotdiag_pixel_31-26.png\n",
      "Diagram saved to /blue/adamginsburg/d.jeff/SgrB2DSreorg/field10/C2H5OH/DSiii//dec2024_3_try-close-to-FWZI/pixelwiserotationaldiagrams/rotdiag_pixel_31-27.png\n",
      "Diagram saved to /blue/adamginsburg/d.jeff/SgrB2DSreorg/field10/C2H5OH/DSiii//dec2024_3_try-close-to-FWZI/pixelwiserotationaldiagrams/rotdiag_pixel_31-28.png\n",
      "Diagram saved to /blue/adamginsburg/d.jeff/SgrB2DSreorg/field10/C2H5OH/DSiii//dec2024_3_try-close-to-FWZI/pixelwiserotationaldiagrams/rotdiag_pixel_31-29.png\n",
      "Diagram saved to /blue/adamginsburg/d.jeff/SgrB2DSreorg/field10/C2H5OH/DSiii//dec2024_3_try-close-to-FWZI/pixelwiserotationaldiagrams/rotdiag_pixel_31-30.png\n",
      "Diagram saved to /blue/adamginsburg/d.jeff/SgrB2DSreorg/field10/C2H5OH/DSiii//dec2024_3_try-close-to-FWZI/pixelwiserotationaldiagrams/rotdiag_pixel_31-31.png\n",
      "Diagram saved to /blue/adamginsburg/d.jeff/SgrB2DSreorg/field10/C2H5OH/DSiii//dec2024_3_try-close-to-FWZI/pixelwiserotationaldiagrams/rotdiag_pixel_31-32.png\n",
      "Starting row 32 of 50\n",
      "Diagram saved to /blue/adamginsburg/d.jeff/SgrB2DSreorg/field10/C2H5OH/DSiii//dec2024_3_try-close-to-FWZI/pixelwiserotationaldiagrams/rotdiag_pixel_32-20.png\n",
      "Diagram saved to /blue/adamginsburg/d.jeff/SgrB2DSreorg/field10/C2H5OH/DSiii//dec2024_3_try-close-to-FWZI/pixelwiserotationaldiagrams/rotdiag_pixel_32-21.png\n",
      "Diagram saved to /blue/adamginsburg/d.jeff/SgrB2DSreorg/field10/C2H5OH/DSiii//dec2024_3_try-close-to-FWZI/pixelwiserotationaldiagrams/rotdiag_pixel_32-22.png\n",
      "Diagram saved to /blue/adamginsburg/d.jeff/SgrB2DSreorg/field10/C2H5OH/DSiii//dec2024_3_try-close-to-FWZI/pixelwiserotationaldiagrams/rotdiag_pixel_32-23.png\n",
      "Diagram saved to /blue/adamginsburg/d.jeff/SgrB2DSreorg/field10/C2H5OH/DSiii//dec2024_3_try-close-to-FWZI/pixelwiserotationaldiagrams/rotdiag_pixel_32-24.png\n",
      "Diagram saved to /blue/adamginsburg/d.jeff/SgrB2DSreorg/field10/C2H5OH/DSiii//dec2024_3_try-close-to-FWZI/pixelwiserotationaldiagrams/rotdiag_pixel_32-25.png\n",
      "Diagram saved to /blue/adamginsburg/d.jeff/SgrB2DSreorg/field10/C2H5OH/DSiii//dec2024_3_try-close-to-FWZI/pixelwiserotationaldiagrams/rotdiag_pixel_32-26.png\n",
      "Diagram saved to /blue/adamginsburg/d.jeff/SgrB2DSreorg/field10/C2H5OH/DSiii//dec2024_3_try-close-to-FWZI/pixelwiserotationaldiagrams/rotdiag_pixel_32-27.png\n",
      "Diagram saved to /blue/adamginsburg/d.jeff/SgrB2DSreorg/field10/C2H5OH/DSiii//dec2024_3_try-close-to-FWZI/pixelwiserotationaldiagrams/rotdiag_pixel_32-28.png\n"
     ]
    },
    {
     "name": "stderr",
     "output_type": "stream",
     "text": [
      "overflow encountered in scalar multiply\n"
     ]
    },
    {
     "name": "stdout",
     "output_type": "stream",
     "text": [
      "Diagram saved to /blue/adamginsburg/d.jeff/SgrB2DSreorg/field10/C2H5OH/DSiii//dec2024_3_try-close-to-FWZI/pixelwiserotationaldiagrams/rotdiag_pixel_32-29.png\n",
      "Diagram saved to /blue/adamginsburg/d.jeff/SgrB2DSreorg/field10/C2H5OH/DSiii//dec2024_3_try-close-to-FWZI/pixelwiserotationaldiagrams/rotdiag_pixel_32-30.png\n",
      "Diagram saved to /blue/adamginsburg/d.jeff/SgrB2DSreorg/field10/C2H5OH/DSiii//dec2024_3_try-close-to-FWZI/pixelwiserotationaldiagrams/rotdiag_pixel_32-31.png\n",
      "Diagram saved to /blue/adamginsburg/d.jeff/SgrB2DSreorg/field10/C2H5OH/DSiii//dec2024_3_try-close-to-FWZI/pixelwiserotationaldiagrams/rotdiag_pixel_32-32.png\n",
      "Starting row 33 of 50\n",
      "Starting row 34 of 50\n",
      "Starting row 35 of 50\n",
      "Starting row 36 of 50\n",
      "Starting row 37 of 50\n",
      "Starting row 38 of 50\n",
      "Starting row 39 of 50\n",
      "Starting row 40 of 50\n",
      "Starting row 41 of 50\n",
      "Starting row 42 of 50\n",
      "Starting row 43 of 50\n",
      "Starting row 44 of 50\n",
      "Starting row 45 of 50\n",
      "Starting row 46 of 50\n",
      "Starting row 47 of 50\n",
      "Starting row 48 of 50\n",
      "Starting row 49 of 50\n",
      "Saving raw temperature map at /blue/adamginsburg/d.jeff/SgrB2DSreorg/field10/C2H5OH/DSiii//dec2024_3_try-close-to-FWZI/texmap_allspw_withnans_weighted.fits\n",
      "\n",
      "Saving raw ntot map at /blue/adamginsburg/d.jeff/SgrB2DSreorg/field10/C2H5OH/DSiii//dec2024_3_try-close-to-FWZI/ntotmap_allspw_withnans_weighted_useintercept.fits\n",
      "\n",
      "Saving temperature error map at /blue/adamginsburg/d.jeff/SgrB2DSreorg/field10/C2H5OH/DSiii//dec2024_3_try-close-to-FWZI/texmap_error_allspw_withnans_weighted.fits\n",
      "\n",
      "Saving 3sigma temperature map at /blue/adamginsburg/d.jeff/SgrB2DSreorg/field10/C2H5OH/DSiii//dec2024_3_try-close-to-FWZI/texmap_3sigma_allspw_withnans_weighted.fits\n",
      "Saving 3sigma temperature map at /blue/adamginsburg/d.jeff/SgrB2DSreorg/field10/C2H5OH/DSiii//dec2024_3_try-close-to-FWZI/texmap_snr_allspw_weighted.fits\n",
      "\n",
      "Saving number of 3sigma detected CH3OH lines map at /blue/adamginsburg/d.jeff/SgrB2DSreorg/field10/C2H5OH/DSiii//dec2024_3_try-close-to-FWZI/ch3ohdetections_{snr}sigma_allspw_withnans_weighted.fits\n",
      "\n",
      "Saving ntoterr map at /blue/adamginsburg/d.jeff/SgrB2DSreorg/field10/C2H5OH/DSiii//dec2024_3_try-close-to-FWZI/ntoterrmap_allspw_withnans_weighted_useintercept.fits\n",
      "\n",
      "Saving sigmaclip ntot map at /blue/adamginsburg/d.jeff/SgrB2DSreorg/field10/C2H5OH/DSiii//dec2024_3_try-close-to-FWZI/ntotmap_allspw_withnans_weighted_useintercept_3sigma.fits\n",
      "\n",
      "Saving ntot snr map at /blue/adamginsburg/d.jeff/SgrB2DSreorg/field10/C2H5OH/DSiii//dec2024_3_try-close-to-FWZI/ntotmap_snr_allspw_withnans_weighted_useintercept.fits\n",
      "\n",
      "Saving table of used lines\n",
      "\n",
      "Begin plotting procedure.\n",
      "\n"
     ]
    },
    {
     "name": "stderr",
     "output_type": "stream",
     "text": [
      "The get_cmap function was deprecated in Matplotlib 3.7 and will be removed two minor releases later. Use ``matplotlib.colormaps[name]`` or ``matplotlib.colormaps.get_cmap(obj)`` instead.\n"
     ]
    },
    {
     "name": "stdout",
     "output_type": "stream",
     "text": [
      "Scalebar source: DSiii\n"
     ]
    },
    {
     "data": {
      "image/png": "[encoded data removed]",
      "text/plain": [
       "<Figure size 1920x1440 with 2 Axes>"
      ]
     },
     "metadata": {},
     "output_type": "display_data"
    },
    {
     "name": "stdout",
     "output_type": "stream",
     "text": [
      "Cube-->core-->Texmap complete.\n"
     ]
    }
   ],
   "source": [
    "run c2h5oh_cubecoretexmap.py"
   ]
  },
  {
   "cell_type": "code",
   "execution_count": 3,
   "id": "60ff9fe6-98ca-43d1-b89a-e3350d985527",
   "metadata": {},
   "outputs": [
    {
     "data": {
      "text/latex": [
       "$4.1324704 \\; \\mathrm{\\frac{km}{s}}$"
      ],
      "text/plain": [
       "<Quantity 4.13247039 km / s>"
      ]
     },
     "execution_count": 3,
     "metadata": {},
     "output_type": "execute_result"
    }
   ],
   "source": [
    "representativelws"
   ]
  },
  {
   "cell_type": "code",
   "execution_count": 5,
   "id": "fba2cc21-74a8-4d32-b8ae-6dce895d1c46",
   "metadata": {},
   "outputs": [
    {
     "data": {
      "text/plain": [
       "6.309573444801943e+17"
      ]
     },
     "execution_count": 5,
     "metadata": {},
     "output_type": "execute_result"
    }
   ],
   "source": [
    "10**17.8"
   ]
  },
  {
   "cell_type": "markdown",
   "id": "7336c2a2-d501-4116-af05-bb16cae2640a",
   "metadata": {},
   "source": []
  },
  {
   "cell_type": "code",
   "execution_count": 36,
   "id": "efc17aab-471e-4dcf-9f98-76293cd87d43",
   "metadata": {},
   "outputs": [
    {
     "data": {
      "image/png": "[encoded data removed]",
      "text/plain": [
       "<Figure size 640x480 with 2 Axes>"
      ]
     },
     "metadata": {},
     "output_type": "display_data"
    }
   ],
   "source": [
    "plt.imshow((nupper_gmaps[transition]/error_nupper_gmaps[transition]),origin='lower',vmax=5)\n",
    "plt.colorbar()\n",
    "plt.show()"
   ]
  },
  {
   "cell_type": "code",
   "execution_count": 9,
   "id": "82d39b2b-36a9-4803-94b2-1d22248b4d60",
   "metadata": {},
   "outputs": [
    {
     "data": {
      "text/latex": [
       "$\\mathrm{\\frac{1}{cm^{2}}}$"
      ],
      "text/plain": [
       "Unit(\"1 / cm2\")"
      ]
     },
     "execution_count": 9,
     "metadata": {},
     "output_type": "execute_result"
    }
   ],
   "source": [
    "tempnupper,temperror_nupper=N_u(transition['RestFrequency'],transition['Aij'],mastermom0s[current_qns],\n",
    "                                        mastermom0errors[current_qns]) \n",
    "tempnupper.unit"
   ]
  },
  {
   "cell_type": "code",
   "execution_count": 41,
   "id": "3ef4556a-e270-4524-8d7a-3f71ee279a44",
   "metadata": {},
   "outputs": [
    {
     "name": "stdout",
     "output_type": "stream",
     "text": [
      "odict_values([<Column name='col0' dtype='bytes23' length=1>\n",
      "13(0,13)(1)-12(1,12)(1), <Column name='col1' dtype='bytes23' length=1>\n",
      "21(5,16)(2)-21(4,17)(2), <Column name='col2' dtype='bytes23' length=1>\n",
      "13(2,11)(0)-12(2,10)(0), <Column name='col3' dtype='bytes23' length=1>\n",
      "16(5,11)(2)-16(4,12)(2), <Column name='col4' dtype='bytes23' length=1>\n",
      "14(0,14)(2)-13(1,13)(2), <Column name='col5' dtype='bytes23' length=1>\n",
      "21(5,17)(2)-21(4,18)(2), <Column name='col6' dtype='bytes23' length=1>\n",
      "20(5,16)(2)-20(4,17)(2), <Column name='col7' dtype='bytes23' length=1>\n",
      "14(1,14)(0)-13(1,13)(0), <Column name='col8' dtype='bytes23' length=1>\n",
      "19(5,15)(2)-19(4,16)(2), <Column name='col9' dtype='bytes23' length=1>\n",
      "22(5,18)(2)-22(4,19)(2), <Column name='col10' dtype='bytes23' length=1>\n",
      "18(5,14)(2)-18(4,15)(2), <Column name='col11' dtype='bytes23' length=1>\n",
      "23(5,19)(2)-23(4,20)(2), <Column name='col12' dtype='bytes23' length=1>\n",
      "17(5,13)(2)-17(4,14)(2), <Column name='col13' dtype='bytes23' length=1>\n",
      "14(0,14)(0)-13(0,13)(0), <Column name='col14' dtype='bytes23' length=1>\n",
      "14(1,14)(1)-13(1,13)(1), <Column name='col15' dtype='bytes23' length=1>\n",
      "16(5,12)(2)-16(4,13)(2), <Column name='col16' dtype='bytes23' length=1>\n",
      "13(5,8)(2)-13(4,9)(2), <Column name='col17' dtype='bytes23' length=1>\n",
      "13(5,9)(2)-13(4,10)(2), <Column name='col18' dtype='bytes23' length=1>\n",
      "12(5,7)(2)-12(4,8)(2)])\n"
     ]
    },
    {
     "ename": "AttributeError",
     "evalue": "'function' object has no attribute 'replace'",
     "output_type": "error",
     "traceback": [
      "\u001b[0;31m---------------------------------------------------------------------------\u001b[0m",
      "\u001b[0;31mAttributeError\u001b[0m                            Traceback (most recent call last)",
      "Cell \u001b[0;32mIn[41], line 3\u001b[0m\n\u001b[1;32m      1\u001b[0m a\u001b[38;5;241m=\u001b[39mQTable(safelines[\u001b[38;5;124m'\u001b[39m\u001b[38;5;124mQNs\u001b[39m\u001b[38;5;124m'\u001b[39m])\n\u001b[1;32m      2\u001b[0m \u001b[38;5;28mprint\u001b[39m(a\u001b[38;5;241m.\u001b[39mvalues())\n\u001b[0;32m----> 3\u001b[0m b\u001b[38;5;241m=\u001b[39m\u001b[43ma\u001b[49m\u001b[38;5;241;43m.\u001b[39;49m\u001b[43mvalues\u001b[49m\u001b[38;5;241;43m.\u001b[39;49m\u001b[43mreplace\u001b[49m(\u001b[38;5;124m'\u001b[39m\u001b[38;5;124m(\u001b[39m\u001b[38;5;124m'\u001b[39m,\u001b[38;5;124m'\u001b[39m\u001b[38;5;124m.\u001b[39m\u001b[38;5;124m'\u001b[39m)\n\u001b[1;32m      4\u001b[0m b\u001b[38;5;241m=\u001b[39mb\u001b[38;5;241m.\u001b[39mreplace(\u001b[38;5;124m'\u001b[39m\u001b[38;5;124m,\u001b[39m\u001b[38;5;124m'\u001b[39m,\u001b[38;5;124m'\u001b[39m\u001b[38;5;124m.\u001b[39m\u001b[38;5;124m'\u001b[39m)\n\u001b[1;32m      5\u001b[0m b\u001b[38;5;241m=\u001b[39mb\u001b[38;5;241m.\u001b[39mreplace(\u001b[38;5;124m'\u001b[39m\u001b[38;5;124m)\u001b[39m\u001b[38;5;124m'\u001b[39m,\u001b[38;5;124m'\u001b[39m\u001b[38;5;124m'\u001b[39m)\n",
      "\u001b[0;31mAttributeError\u001b[0m: 'function' object has no attribute 'replace'"
     ]
    }
   ],
   "source": [
    "a=QTable(safelines['QNs'])\n",
    "print(a.values())\n",
    "b=a.values.replace('(','.')\n",
    "b=b.replace(',','.')\n",
    "b=b.replace(')','')\n",
    "b"
   ]
  },
  {
   "cell_type": "code",
   "execution_count": 17,
   "id": "fc4365cf-f24e-4903-b387-fed230ada739",
   "metadata": {},
   "outputs": [
    {
     "name": "stdout",
     "output_type": "stream",
     "text": [
      "          QNs             RestFrequency    ...    ModelNupper    \n",
      "                               GHz         ...      1 / cm2      \n",
      "----------------------- ------------------ ... ------------------\n",
      "13(0,13)(1)-12(1,12)(1) 217.26230230000002 ... 197199733147527.25\n"
     ]
    },
    {
     "data": {
      "text/plain": [
       "\"\\nlines_in_spw=np.where(safelines['ReferenceFrequency']<=max(cube.spectral_axis) and safelines['ReferenceFrequency']>=max(cube.spectral_axis))[0]\\nlines_in_spw\\n\""
      ]
     },
     "execution_count": 17,
     "metadata": {},
     "output_type": "execute_result"
    }
   ],
   "source": [
    "linesbelowmax=safelines['ReferenceFrequency']<=max(cube.spectral_axis)\n",
    "linesabovemin=safelines['ReferenceFrequency']>=min(cube.spectral_axis)\n",
    "lines_in_spw=linesbelowmax*linesabovemin\n",
    "print(safelines[lines_in_spw])\n",
    "'''\n",
    "lines_in_spw=np.where(safelines['ReferenceFrequency']<=max(cube.spectral_axis) and safelines['ReferenceFrequency']>=max(cube.spectral_axis))[0]\n",
    "lines_in_spw\n",
    "'''"
   ]
  },
  {
   "cell_type": "code",
   "execution_count": 10,
   "id": "0870e0c1-2ef5-475f-938f-e0e8532f45b5",
   "metadata": {},
   "outputs": [
    {
     "data": {
      "text/latex": [
       "$2.1829227 \\times 10^{11} \\; \\mathrm{Hz}$"
      ],
      "text/plain": [
       "<Quantity 2.18292273e+11 Hz>"
      ]
     },
     "execution_count": 10,
     "metadata": {},
     "output_type": "execute_result"
    }
   ],
   "source": []
  },
  {
   "cell_type": "code",
   "execution_count": 30,
   "id": "b9274f27-d1d0-4e1b-ab8f-9f45db8ac304",
   "metadata": {},
   "outputs": [
    {
     "data": {
      "text/latex": [
       "$1.6617584 \\times 10^{13} \\; \\mathrm{\\frac{1}{cm^{2}}}$"
      ],
      "text/plain": [
       "<Quantity 1.66175845e+13 1 / cm2>"
      ]
     },
     "execution_count": 30,
     "metadata": {},
     "output_type": "execute_result"
    }
   ],
   "source": [
    "key='5_1&4-4_2&3'\n",
    "lte_molecule.nupper_of_kkms(intensities[key][24,24],216.945521*u.GHz,1.2135844400315345e-05*u.Hz)/44#intensities[key][24,24]"
   ]
  },
  {
   "cell_type": "code",
   "execution_count": 9,
   "id": "b0de75d1-5ba4-4466-a794-c3da97167899",
   "metadata": {},
   "outputs": [
    {
     "data": {
      "text/latex": [
       "$97.002782 \\; \\mathrm{\\frac{K\\,km}{s}}$"
      ],
      "text/plain": [
       "<Quantity 97.00278228 K km / s>"
      ]
     },
     "execution_count": 9,
     "metadata": {},
     "output_type": "execute_result"
    }
   ],
   "source": [
    "intensities[key][24,24]"
   ]
  },
  {
   "cell_type": "code",
   "execution_count": 29,
   "id": "fbdb11dc-55e7-42da-80f9-da115f4e9b90",
   "metadata": {},
   "outputs": [
    {
     "data": {
      "text/plain": [
       "15848931924611.11"
      ]
     },
     "execution_count": 29,
     "metadata": {},
     "output_type": "execute_result"
    }
   ],
   "source": [
    "10**13.2"
   ]
  },
  {
   "cell_type": "code",
   "execution_count": 24,
   "id": "fb3847cc-1b8d-46b2-9929-e6dd7416888e",
   "metadata": {},
   "outputs": [
    {
     "name": "stderr",
     "output_type": "stream",
     "text": [
      "Do not use the average beam for convolution! Use the smallest common beam from `Beams.common_beam()`.\n",
      "Arithmetic beam averaging is being performed.  This is not a mathematically robust operation, but is being permitted because the beams differ by <0.01\n"
     ]
    },
    {
     "data": {
      "text/latex": [
       "$113.82307 \\; \\mathrm{\\frac{K\\,km}{s}}$"
      ],
      "text/plain": [
       "<Quantity 113.82306796 K km / s>"
      ]
     },
     "execution_count": 24,
     "metadata": {},
     "output_type": "execute_result"
    }
   ],
   "source": [
    "maskedslab54=sc.read('/blue/adamginsburg/d.jeff/SgrB2DSreorg/field10/CH3OH/DSiii/sep2024_1_testingnewch3ohprediction/spectralslabs/km_s/CH3OH~5_1&4-4_2&3_maskedslab.fits')\n",
    "withoutcontinuum_moment054=maskedslab54.moment0()+(reprojcont_K*(4*u.km/u.s))#maskedslab54.linewidth_fwhm()\n",
    "withoutcontinuum_moment054[24,24]"
   ]
  },
  {
   "cell_type": "code",
   "execution_count": 23,
   "id": "0facdf49-254b-4b8c-a13a-e8a8602ef493",
   "metadata": {},
   "outputs": [
    {
     "data": {
      "text/latex": [
       "$4.0596837 \\; \\mathrm{\\frac{km}{s}}$"
      ],
      "text/plain": [
       "<Quantity 4.05968367 km / s>"
      ]
     },
     "execution_count": 23,
     "metadata": {},
     "output_type": "execute_result"
    }
   ],
   "source": [
    "linewidth"
   ]
  },
  {
   "cell_type": "code",
   "execution_count": 2,
   "id": "893fb2a0-b6bf-43ee-ada7-6f14fc42f644",
   "metadata": {},
   "outputs": [],
   "source": [
    "from astropy.nddata import Cutout2D"
   ]
  },
  {
   "cell_type": "code",
   "execution_count": 7,
   "id": "578a8003-56ec-45c0-a261-da34eebb8c53",
   "metadata": {},
   "outputs": [],
   "source": [
    "fiducialfwhm=velocitytofreq(4*u.km/u.s,225*u.GHz)"
   ]
  },
  {
   "cell_type": "code",
   "execution_count": 14,
   "id": "066a67c3-bb5e-43b5-86cd-205c30091b82",
   "metadata": {},
   "outputs": [],
   "source": [
    "potentialdoublets=[]\n",
    "for line in eukqns:\n",
    "    freq=line['Reference Frequency']*u.MHz\n",
    "    for testline in eukqns:\n",
    "        testfreq=testline['Reference Frequency']*u.MHz\n",
    "        if freq == testfreq:\n",
    "            continue\n",
    "        if (freq+fiducialfwhm) > testfreq and (freq-fiducialfwhm) < testfreq:\n",
    "            potentialdoublets.append([line,testline])"
   ]
  },
  {
   "cell_type": "code",
   "execution_count": 15,
   "id": "f023c756-f771-48d2-a906-dbae065d0f6a",
   "metadata": {},
   "outputs": [
    {
     "data": {
      "text/plain": [
       "[[<Row index=8>\n",
       "        Eupper                 QNs           Reference Frequency Degeneracy\n",
       "       float64                str23                float64         int64   \n",
       "  ------------------ ----------------------- ------------------- ----------\n",
       "  225.95122187481488 21(5,17)(2)-21(4,18)(2)  231515.86216536476         43,\n",
       "  <Row index=9>\n",
       "        Eupper                 QNs           Reference Frequency Degeneracy\n",
       "       float64                str23                float64         int64   \n",
       "  ------------------ ----------------------- ------------------- ----------\n",
       "  208.21222307878986 20(5,16)(2)-20(4,17)(2)   231518.2154312791         41],\n",
       " [<Row index=9>\n",
       "        Eupper                 QNs           Reference Frequency Degeneracy\n",
       "       float64                str23                float64         int64   \n",
       "  ------------------ ----------------------- ------------------- ----------\n",
       "  208.21222307878986 20(5,16)(2)-20(4,17)(2)   231518.2154312791         41,\n",
       "  <Row index=8>\n",
       "        Eupper                 QNs           Reference Frequency Degeneracy\n",
       "       float64                str23                float64         int64   \n",
       "  ------------------ ----------------------- ------------------- ----------\n",
       "  225.95122187481488 21(5,17)(2)-21(4,18)(2)  231515.86216536476         43]]"
      ]
     },
     "execution_count": 15,
     "metadata": {},
     "output_type": "execute_result"
    }
   ],
   "source": [
    "potentialdoublets"
   ]
  },
  {
   "cell_type": "code",
   "execution_count": 18,
   "id": "61fa2242-e8cb-4ce8-b9d3-84900ce18f83",
   "metadata": {},
   "outputs": [
    {
     "name": "stdout",
     "output_type": "stream",
     "text": [
      "      Eupper      \n",
      "------------------\n",
      " 85.52671483307333\n",
      " 96.92436398510782\n",
      "107.86621480892468\n",
      "107.86681703330214\n",
      " 119.6545972300443\n",
      "119.65582045282288\n",
      "132.29025612351714\n",
      "132.29268070871308\n",
      "135.37352053614035\n",
      "135.54154448503328\n",
      "               ...\n",
      "175.29099616228942\n",
      " 191.3257219747236\n",
      "208.21222307878986\n",
      "225.95122187481488\n",
      "226.01385361044416\n",
      "244.54327170144978\n",
      " 263.0191647545652\n",
      " 263.9880929132633\n",
      "284.28576452901626\n",
      "409.96515378513914\n",
      "Length = 27 rows\n"
     ]
    }
   ],
   "source": [
    "print(eukqns['Eupper'])"
   ]
  },
  {
   "cell_type": "code",
   "execution_count": null,
   "id": "941524ea-1ead-4d09-9701-1dfb827b8424",
   "metadata": {},
   "outputs": [],
   "source": []
  }
 ],
 "metadata": {
  "kernelspec": {
   "display_name": "Python 3 (ipykernel)",
   "language": "python",
   "name": "python3"
  },
  "language_info": {
   "codemirror_mode": {
    "name": "ipython",
    "version": 3
   },
   "file_extension": ".py",
   "mimetype": "text/x-python",
   "name": "python",
   "nbconvert_exporter": "python",
   "pygments_lexer": "ipython3",
   "version": "3.12.4"
  }
 },
 "nbformat": 4,
 "nbformat_minor": 5
}
