{
 "cells": [
  {
   "cell_type": "code",
   "execution_count": 1,
   "id": "6b0a6806-92d6-4bfd-9588-0a2133f3d900",
   "metadata": {},
   "outputs": [],
   "source": [
    "from utilities import *\n",
    "from astropy.io import fits\n",
    "\n",
    "c2h5oh_sourcelocs={'DSi':'/oct2024_1_removesDS2exclusions/','DSii':'/oct2024_1_removeproblemlines/',\n",
    "                   'DSiii':'/nov2024_1_firstrun_removesDS2exclusions/',\n",
    "                   'DSiv':'/nov2024_1_firstrun_removesDS2exclusions/','DSVI':'/nov2024_2_removes560Kline/'}"
   ]
  },
  {
   "cell_type": "code",
   "execution_count": 2,
   "id": "f328d10d-5ebd-4a68-9122-2221879dd7ef",
   "metadata": {},
   "outputs": [
    {
     "data": {
      "text/plain": [
       "{'SgrB2S': '/sep2023-5removelasttorsionalline/',\n",
       " 'DSi': '/sep2023-5addvt2linesbackin/',\n",
       " 'DSii': '/sep2023-2widerrefslab/',\n",
       " 'DSiii': '/sep2023-3vt2doublet/',\n",
       " 'DSiv': '/sep2023-4nextinline/',\n",
       " 'DSv': '/sep2023phi_nu&doublet/',\n",
       " 'DSVI': '/sep2023-2removenewvt1line/',\n",
       " 'DSVII': '/sep2023phi_nu&doublet/',\n",
       " 'DSVIII': '/sep2023phi_nu&doublet/',\n",
       " 'DSIX': '/sep2023phi_nu&doublet/'}"
      ]
     },
     "execution_count": 2,
     "metadata": {},
     "output_type": "execute_result"
    }
   ],
   "source": [
    "ch3oh_sourcedict"
   ]
  },
  {
   "cell_type": "code",
   "execution_count": 3,
   "id": "cbcf479c-e8df-48cf-a122-39a8e39589d6",
   "metadata": {},
   "outputs": [
    {
     "data": {
      "text/latex": [
       "$52.267611 \\; \\mathrm{\\frac{km}{s}}$"
      ],
      "text/plain": [
       "<Quantity 52.26761118 km / s>"
      ]
     },
     "execution_count": 3,
     "metadata": {},
     "output_type": "execute_result"
    }
   ],
   "source": [
    "((230.9913834-230.951118)/230.951118)*c.to('km s-1')"
   ]
  },
  {
   "cell_type": "code",
   "execution_count": null,
   "id": "7c35a574-d079-40a1-9659-cbfa3e7aa465",
   "metadata": {},
   "outputs": [],
   "source": []
  }
 ],
 "metadata": {
  "kernelspec": {
   "display_name": "py312",
   "language": "python",
   "name": "py312"
  },
  "language_info": {
   "codemirror_mode": {
    "name": "ipython",
    "version": 3
   },
   "file_extension": ".py",
   "mimetype": "text/x-python",
   "name": "python",
   "nbconvert_exporter": "python",
   "pygments_lexer": "ipython3",
   "version": "3.12.4"
  }
 },
 "nbformat": 4,
 "nbformat_minor": 5
}
