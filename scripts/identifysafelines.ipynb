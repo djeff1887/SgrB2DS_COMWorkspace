{
 "cells": [
  {
   "cell_type": "code",
   "execution_count": 1,
   "id": "ecaaedac-7819-4b6f-89d1-46a17ce9d2df",
   "metadata": {},
   "outputs": [],
   "source": [
    "from utilities import *\n",
    "from astropy.io import fits\n",
    "from astropy.table import QTable\n",
    "import glob\n",
    "import radio_beam\n",
    "import sys\n",
    "\n",
    "source='DSi'\n",
    "fnum=fields[source]\n",
    "\n",
    "linemodelhome='/blue/adamginsburg/d.jeff/SgrB2DS_COMAnalysis/linemodels/'\n",
    "linemodelversion='firstrelease'\n",
    "linemodelpath=linemodelhome+f'{linemodelversion}/{source}/'\n",
    "\n",
    "targetmolecule='C2H5OH'\n",
    "targetmoleculepath=linemodelpath+f'{targetmolecule}.fits'\n",
    "targetmoltable=QTable.read(targetmoleculepath)\n",
    "\n",
    "othermoleculepaths=glob.glob(linemodelpath+'*.fits')\n",
    "othermoleculepaths.remove(targetmoleculepath)\n",
    "\n",
    "ch3ohpath=ch3oh_sourcedict[source]\n",
    "targetpix=pixdict[source]\n",
    "origsourcepath=f'/blue/adamginsburg/d.jeff/SgrB2DSreorg/field{fnum}/CH3OH/{source}{ch3ohpath}'\n",
    "contpath=origsourcepath+'reprojectedcontinuum.fits'\n",
    "\n",
    "fwhmpath=glob.glob(origsourcepath+'*fwhm*')[0]\n",
    "fwhmmap=fits.getdata(fwhmpath)*u.km/u.s\n",
    "fwhm_at_pix=fwhmmap[targetpix[0],targetpix[1]]\n",
    "\n",
    "reprojcontfits=fits.open(contpath)\n",
    "reprojcont=reprojcontfits[0].data*u.Jy\n",
    "reprojcontrestfreq=225*u.GHz#manual addition 11/9/2022, wiggle room w/i GHz\n",
    "cntmbeam=radio_beam.Beam.from_fits_header(reprojcontfits[0].header)\n",
    "reprojcont_K=reprojcont.to('K',cntmbeam.jtok_equiv(reprojcontrestfreq))\n",
    "continuumlevel=reprojcont_K[targetpix[0],targetpix[1]]"
   ]
  },
  {
   "cell_type": "code",
   "execution_count": 10,
   "id": "de3ec2d2-0ab5-4c92-822b-fd91cfe53a8c",
   "metadata": {},
   "outputs": [
    {
     "name": "stdout",
     "output_type": "stream",
     "text": [
      "C2H5OH's 13(1,13)(1)-12(0,12)(1) @ 217.4561097355343 GHz likely contaminated by 3 CH2CHCN lines\n",
      "C2H5OH's 30(3,27)(2)-30(2,28)(2) @ 219.13286692031934 GHz likely contaminated by 1 HC3Nv7_1 lines\n",
      "C2H5OH's 15(5,10)(2)-15(4,11)(2) @ 232.03257142542915 GHz likely contaminated by 1 13CH3CN lines\n",
      "C2H5OH's 14(5,9)(2)-14(4,10)(2) @ 232.8850927302058 GHz likely contaminated by 1 CH3OH lines\n",
      "C2H5OH's 24(5,20)(2)-24(4,21)(2) @ 233.16505671692227 GHz likely contaminated by 3 CH3CH2CN lines\n",
      "C2H5OH's 15(5,11)(2)-15(4,12)(2) @ 233.1720148192362 GHz likely contaminated by 2 CH3OCHO lines\n",
      "C2H5OH's 14(5,10)(2)-14(4,11)(2) @ 233.55799583377697 GHz likely contaminated by 2 CH3COCH3 lines\n"
     ]
    }
   ],
   "source": [
    "safelines=[]\n",
    "minimumcontaminantthreshold=0.1#If contaminant lines have more than this times the target line's flux, the target line is considered contaminated and removed\n",
    "firstline=True\n",
    "for targetline in targetmoltable:\n",
    "    flux=targetline['ModelBrightness']\n",
    "    reffreq=targetline['ReferenceFrequency']\n",
    "    qn=targetline['QNs']\n",
    "    if flux <= continuumlevel:\n",
    "        continue\n",
    "    else:\n",
    "        possiblecontaminants={}\n",
    "        for tablepath in othermoleculepaths:\n",
    "            othermolecule=tablepath.replace(f'{linemodelpath}','')\n",
    "            othermolecule=othermolecule.replace('.fits','')\n",
    "            \n",
    "            othermoltable=QTable.read(tablepath)\n",
    "            fwhm_Hz=velocitytofreq(fwhm_at_pix,reffreq)\n",
    "            diff=np.abs(othermoltable['ReferenceFrequency']-reffreq)\n",
    "            findcontam=np.where(diff<=fwhm_Hz)[0]\n",
    "            if len(findcontam) > 0:\n",
    "                candidate_contaminant_lines=othermoltable[findcontam]\n",
    "                numcontaminants=len(candidate_contaminant_lines)\n",
    "                if numcontaminants > 1:\n",
    "                    contaminantflux=np.sum(candidate_contaminant_lines['ModelBrightness'])\n",
    "                elif numcontaminants == 1:\n",
    "                    contaminantflux=candidate_contaminant_lines['ModelBrightness']\n",
    "                if contaminantflux >= (flux*minimumcontaminantthreshold):\n",
    "                    print(f'{targetmolecule}\\'s {qn} @ {reffreq} likely contaminated by {numcontaminants} {othermolecule} lines')\n",
    "                    possiblecontaminants.update({othermolecule:candidate_contaminant_lines})\n",
    "        if len(possiblecontaminants) == 0:\n",
    "            if firstline:\n",
    "                safelines=QTable(targetline)\n",
    "                firstline=False\n",
    "            else:\n",
    "                safelines.add_row(targetline)"
   ]
  },
  {
   "cell_type": "code",
   "execution_count": 4,
   "id": "3f78ec3c-0d84-4ce8-ad50-582cc783a48d",
   "metadata": {},
   "outputs": [
    {
     "name": "stdout",
     "output_type": "stream",
     "text": [
      "C2H5OH has no doublets\n"
     ]
    },
    {
     "name": "stderr",
     "output_type": "stream",
     "text": [
      "Calling nonzero on 0d arrays is deprecated, as it behaves surprisingly. Use `atleast_1d(cond).nonzero()` if the old behavior was intended. If the context of this warning is of the form `arr[nonzero(cond)]`, just use `arr[cond]`.\n"
     ]
    }
   ],
   "source": [
    "doublets=[]\n",
    "for targetline in safelines:\n",
    "    flux=targetline['ModelBrightness']\n",
    "    reffreq=targetline['ReferenceFrequency']\n",
    "    qn=targetline['QNs']\n",
    "    fwhm_Hz=velocitytofreq(fwhm_at_pix,reffreq)\n",
    "    diff=np.abs(targetline['ReferenceFrequency']-reffreq)\n",
    "    findcontam=np.where(diff<=fwhm_Hz)[0]\n",
    "    if len(findcontam) > 1:\n",
    "        print(f'{qn} has {len(findcontam)} companion lines')\n",
    "        doublets.append(safelines[findcontam])\n",
    "if len(doublets) == 0:\n",
    "    print(f'{targetmolecule} has no doublets')"
   ]
  },
  {
   "cell_type": "code",
   "execution_count": 13,
   "id": "10047cfc-236a-49a4-87ea-77c99071e606",
   "metadata": {},
   "outputs": [],
   "source": [
    "safelinepathbase=linemodelpath+'safelines/'\n",
    "safelinepath=safelinepathbase+f'{targetmolecule}.fits'\n",
    "if not os.path.exists(safelinepath):\n",
    "    os.mkdir(safelinepathbase)\n",
    "safelines.write(safelinepath)"
   ]
  },
  {
   "cell_type": "code",
   "execution_count": 47,
   "id": "51aa0e3a-db5d-4722-b9e8-331692826e98",
   "metadata": {},
   "outputs": [
    {
     "data": {
      "text/html": [
       "<div><i>QTable length=79</i>\n",
       "<table id=\"table22552111192240\" class=\"table-striped table-bordered table-condensed\">\n",
       "<thead><tr><th>QNs</th><th>RestFrequency</th><th>ReferenceFrequency</th><th>Eupper</th><th>Degeneracy</th><th>Aij</th><th>ModelBrightness</th><th>ModelNupper</th></tr></thead>\n",
       "<thead><tr><th></th><th>GHz</th><th>GHz</th><th>K</th><th></th><th>Hz</th><th>K</th><th>1 / cm2</th></tr></thead>\n",
       "<thead><tr><th>bytes17</th><th>float64</th><th>float64</th><th>float64</th><th>int64</th><th>float64</th><th>float64</th><th>float64</th></tr></thead>\n",
       "<tr><td>.222.0-.1.0</td><td>216.9367119</td><td>216.8962607473706</td><td>133.9354946499209</td><td>47</td><td>0.0008281647198900014</td><td>9.383164727233385</td><td>6545472842166.473</td></tr>\n",
       "<tr><td>23.2.0-22.2.0</td><td>216.9367136</td><td>216.8962624470536</td><td>133.93549473150804</td><td>45</td><td>0.0008281367794532486</td><td>8.991088431623592</td><td>6266942080860.867</td></tr>\n",
       "<tr><td>23.222.0-22.221.0</td><td>216.9367182</td><td>216.89626704619587</td><td>133.93549495227322</td><td>49</td><td>0.0008296950827092735</td><td>9.791976497494547</td><td>6824003593076.821</td></tr>\n",
       "<tr><td>.222.1-.1.1</td><td>217.49757380000003</td><td>217.45701806613067</td><td>462.6187608395254</td><td>47</td><td>0.0008345190509189161</td><td>2.5312697306003953</td><td>1736119551982.6829</td></tr>\n",
       "<tr><td>23.2.1-22.2.1</td><td>217.4975756</td><td>217.45701986579502</td><td>462.6189048035995</td><td>45</td><td>0.0008344912966901088</td><td>2.4240152402384516</td><td>1662241158007.0735</td></tr>\n",
       "<tr><td>23.222.1-22.221.1</td><td>217.4975803</td><td>217.45702456491864</td><td>462.6189050291639</td><td>49</td><td>0.0008362540900265289</td><td>2.643848396283523</td><td>1809995925959.2317</td></tr>\n",
       "<tr><td>.717.0-.716.0</td><td>218.3985275</td><td>218.35780376959696</td><td>231.53328525314117</td><td>47</td><td>0.0007729823468457445</td><td>5.870401138018595</td><td>4413658825833.371</td></tr>\n",
       "<tr><td>.716.0-.715.0</td><td>218.39852770000002</td><td>218.35780396955968</td><td>231.53328526273964</td><td>47</td><td>0.0007729823475659071</td><td>5.870401132589456</td><td>4413658825662.317</td></tr>\n",
       "<tr><td>23.717.0-22.716.0</td><td>218.3985606</td><td>218.35783686342495</td><td>231.53328684169063</td><td>45</td><td>0.0007727784218650436</td><td>5.622051778646505</td><td>4225843529544.1143</td></tr>\n",
       "<tr><td>...</td><td>...</td><td>...</td><td>...</td><td>...</td><td>...</td><td>...</td><td>...</td></tr>\n",
       "<tr><td>25.025.0-24.024.0</td><td>230.73855910000003</td><td>230.6955343828376</td><td>145.5397769990809</td><td>53</td><td>0.0010065664367730803</td><td>10.815811239126266</td><td>7043205954194.779</td></tr>\n",
       "<tr><td>24.123.1-23.122.1</td><td>231.1011626</td><td>231.05807026989464</td><td>470.1124386745188</td><td>51</td><td>0.0010092168014626255</td><td>2.8529807303389103</td><td>1827727446487.499</td></tr>\n",
       "<tr><td>25.025.1-24.024.1</td><td>231.1457034</td><td>231.1026027645844</td><td>474.3182506987808</td><td>53</td><td>0.0010116946491986617</td><td>2.9205589729224983</td><td>1867420147332.697</td></tr>\n",
       "<tr><td>24.222.0-23.1.0</td><td>231.9523269</td><td>231.90907585735258</td><td>146.84300229825328</td><td>47</td><td>0.0010144793281757396</td><td>9.54177603100744</td><td>6213082353572.716</td></tr>\n",
       "<tr><td>.222.0-.221.0</td><td>231.9523284</td><td>231.90907735707287</td><td>146.8428584925542</td><td>49</td><td>0.0010147166216243155</td><td>9.941636790326516</td><td>6477472597800.487</td></tr>\n",
       "<tr><td>24.222.0-23.221.0</td><td>231.95233059999998</td><td>231.90907955666265</td><td>146.84300247582527</td><td>51</td><td>0.0010164145908849204</td><td>10.355542880028331</td><td>6741855315000.442</td></tr>\n",
       "<tr><td>24.222.1-23.1.1</td><td>232.7927114</td><td>232.74930365486836</td><td>475.6648570452196</td><td>47</td><td>0.0010256586875280384</td><td>2.576510996714786</td><td>1647034481737.1375</td></tr>\n",
       "<tr><td>.222.1-.221.1</td><td>232.7927128</td><td>232.7493050546073</td><td>475.66471323472126</td><td>49</td><td>0.0010256624007428565</td><td>2.6855502123136183</td><td>1717122052495.696</td></tr>\n",
       "<tr><td>24.222.1-23.221.1</td><td>232.7927152</td><td>232.74930745415978</td><td>475.66485722759086</td><td>51</td><td>0.0010273786869134177</td><td>2.7991764054079</td><td>1787207627802.995</td></tr>\n",
       "</table></div>"
      ],
      "text/plain": [
       "<QTable length=79>\n",
       "       QNs          RestFrequency    ...  ModelBrightness      ModelNupper    \n",
       "                         GHz         ...         K               1 / cm2      \n",
       "     bytes17           float64       ...      float64            float64      \n",
       "----------------- ------------------ ... ------------------ ------------------\n",
       "      .222.0-.1.0        216.9367119 ...  9.383164727233385  6545472842166.473\n",
       "    23.2.0-22.2.0        216.9367136 ...  8.991088431623592  6266942080860.867\n",
       "23.222.0-22.221.0        216.9367182 ...  9.791976497494547  6824003593076.821\n",
       "      .222.1-.1.1 217.49757380000003 ... 2.5312697306003953 1736119551982.6829\n",
       "    23.2.1-22.2.1        217.4975756 ... 2.4240152402384516 1662241158007.0735\n",
       "23.222.1-22.221.1        217.4975803 ...  2.643848396283523 1809995925959.2317\n",
       "    .717.0-.716.0        218.3985275 ...  5.870401138018595  4413658825833.371\n",
       "    .716.0-.715.0 218.39852770000002 ...  5.870401132589456  4413658825662.317\n",
       "23.717.0-22.716.0        218.3985606 ...  5.622051778646505 4225843529544.1143\n",
       "              ...                ... ...                ...                ...\n",
       "25.025.0-24.024.0 230.73855910000003 ... 10.815811239126266  7043205954194.779\n",
       "24.123.1-23.122.1        231.1011626 ... 2.8529807303389103  1827727446487.499\n",
       "25.025.1-24.024.1        231.1457034 ... 2.9205589729224983  1867420147332.697\n",
       "  24.222.0-23.1.0        231.9523269 ...   9.54177603100744  6213082353572.716\n",
       "    .222.0-.221.0        231.9523284 ...  9.941636790326516  6477472597800.487\n",
       "24.222.0-23.221.0 231.95233059999998 ... 10.355542880028331  6741855315000.442\n",
       "  24.222.1-23.1.1        232.7927114 ...  2.576510996714786 1647034481737.1375\n",
       "    .222.1-.221.1        232.7927128 ... 2.6855502123136183  1717122052495.696\n",
       "24.222.1-23.221.1        232.7927152 ...    2.7991764054079  1787207627802.995"
      ]
     },
     "execution_count": 47,
     "metadata": {},
     "output_type": "execute_result"
    }
   ],
   "source": [
    "othermoltable"
   ]
  },
  {
   "cell_type": "code",
   "execution_count": 48,
   "id": "605079a4-839d-4b41-a966-aa6bb7ba015c",
   "metadata": {},
   "outputs": [
    {
     "data": {
      "text/latex": [
       "$217.45611 \\; \\mathrm{GHz}$"
      ],
      "text/plain": [
       "<Quantity 217.45610974 GHz>"
      ]
     },
     "execution_count": 48,
     "metadata": {},
     "output_type": "execute_result"
    }
   ],
   "source": [
    "reffreq"
   ]
  },
  {
   "cell_type": "code",
   "execution_count": 43,
   "id": "18b30eca-d77d-432c-b4dd-c86494ef6bc9",
   "metadata": {},
   "outputs": [
    {
     "data": {
      "text/plain": [
       "MaskedNDArray(True)"
      ]
     },
     "execution_count": 43,
     "metadata": {},
     "output_type": "execute_result"
    }
   ],
   "source": []
  },
  {
   "cell_type": "code",
   "execution_count": null,
   "id": "894197f7-0ace-4344-bc86-ceb2ff52f03c",
   "metadata": {},
   "outputs": [],
   "source": []
  }
 ],
 "metadata": {
  "kernelspec": {
   "display_name": "py312",
   "language": "python",
   "name": "py312"
  },
  "language_info": {
   "codemirror_mode": {
    "name": "ipython",
    "version": 3
   },
   "file_extension": ".py",
   "mimetype": "text/x-python",
   "name": "python",
   "nbconvert_exporter": "python",
   "pygments_lexer": "ipython3",
   "version": "3.12.4"
  }
 },
 "nbformat": 4,
 "nbformat_minor": 5
}
