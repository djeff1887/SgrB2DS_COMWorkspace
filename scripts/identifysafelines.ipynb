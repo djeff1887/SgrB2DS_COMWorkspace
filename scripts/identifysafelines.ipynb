{
 "cells": [
  {
   "cell_type": "code",
   "execution_count": 1,
   "id": "ecaaedac-7819-4b6f-89d1-46a17ce9d2df",
   "metadata": {},
   "outputs": [],
   "source": [
    "from utilities import *\n",
    "from astropy.io import fits\n",
    "from astropy.table import QTable\n",
    "import glob\n",
    "import radio_beam\n",
    "import sys\n",
    "\n",
    "source='DSiv'\n",
    "fnum=fields[source]\n",
    "\n",
    "linemodelhome='/blue/adamginsburg/d.jeff/SgrB2DS_COMAnalysis/linemodels/'\n",
    "linemodelversion='firstrelease'\n",
    "linemodelpath=linemodelhome+f'{linemodelversion}/{source}/'\n",
    "\n",
    "targetmolecule='C2H5OH'\n",
    "targetmoleculepath=linemodelpath+f'{targetmolecule}.fits'\n",
    "targetmoltable=QTable.read(targetmoleculepath)\n",
    "\n",
    "othermoleculepaths=glob.glob(linemodelpath+'*.fits')\n",
    "othermoleculepaths.remove(targetmoleculepath)\n",
    "\n",
    "ch3ohpath=ch3oh_sourcedict[source]\n",
    "targetpix=pixdict[source]\n",
    "origsourcepath=f'/blue/adamginsburg/d.jeff/SgrB2DSreorg/field{fnum}/CH3OH/{source}{ch3ohpath}'\n",
    "contpath=origsourcepath+'reprojectedcontinuum.fits'\n",
    "\n",
    "fwhmpath=glob.glob(origsourcepath+'*fwhm*')[0]\n",
    "fwhmmap=fits.getdata(fwhmpath)*u.km/u.s\n",
    "fwhm_at_pix=fwhmmap[targetpix[0],targetpix[1]]\n",
    "\n",
    "reprojcontfits=fits.open(contpath)\n",
    "reprojcont=reprojcontfits[0].data*u.Jy\n",
    "reprojcontrestfreq=225*u.GHz#manual addition 11/9/2022, wiggle room w/i GHz\n",
    "cntmbeam=radio_beam.Beam.from_fits_header(reprojcontfits[0].header)\n",
    "reprojcont_K=reprojcont.to('K',cntmbeam.jtok_equiv(reprojcontrestfreq))\n",
    "continuumlevel=reprojcont_K[targetpix[0],targetpix[1]]"
   ]
  },
  {
   "cell_type": "code",
   "execution_count": 2,
   "id": "de3ec2d2-0ab5-4c92-822b-fd91cfe53a8c",
   "metadata": {},
   "outputs": [
    {
     "name": "stdout",
     "output_type": "stream",
     "text": [
      "C2H5OH's 13(0,13)(1)-12(1,12)(1) @ 217.22271295402936 GHz likely contaminated by 2 CH3OCHO lines\n",
      "C2H5OH's 13(1,13)(1)-12(0,12)(1) @ 217.45703324860926 GHz likely contaminated by 3 CH2CHCN lines\n",
      "C2H5OH's 30(3,27)(2)-30(2,28)(2) @ 219.13379755440454 GHz likely contaminated by 1 HC3Nv7_1 lines\n",
      "C2H5OH's 19(5,15)(2)-19(4,16)(2) @ 231.69539437409216 GHz likely contaminated by 1 CH3OCHO lines\n",
      "C2H5OH's 22(5,18)(2)-22(4,19)(2) @ 231.7478202193596 GHz likely contaminated by 1 CH3NCO,vb=0 lines\n",
      "C2H5OH's 22(5,18)(2)-22(4,19)(2) @ 231.7478202193596 GHz likely contaminated by 4 CH3OCH3 lines\n",
      "C2H5OH's 15(5,10)(2)-15(4,11)(2) @ 232.0335568431936 GHz likely contaminated by 1 13CH3CN lines\n",
      "C2H5OH's 14(1,14)(1)-13(1,13)(1) @ 232.5541846575604 GHz likely contaminated by 1 CH3OCHO lines\n",
      "C2H5OH's 16(5,12)(2)-16(4,13)(2) @ 232.76644027347945 GHz likely contaminated by 1 CH3CHO lines\n",
      "C2H5OH's 24(5,20)(2)-24(4,21)(2) @ 233.16604694423188 GHz likely contaminated by 4 CH3CH2CN lines\n",
      "C2H5OH's 24(5,20)(2)-24(4,21)(2) @ 233.16604694423188 GHz likely contaminated by 2 CH3OCHO lines\n",
      "C2H5OH's 15(5,11)(2)-15(4,12)(2) @ 233.17300507609613 GHz likely contaminated by 2 CH3OCHO lines\n",
      "C2H5OH's 14(5,10)(2)-14(4,11)(2) @ 233.55898772985742 GHz likely contaminated by 2 CH3OCHO lines\n",
      "C2H5OH's 14(5,10)(2)-14(4,11)(2) @ 233.55898772985742 GHz likely contaminated by 2 CH3COCH3 lines\n",
      "C2H5OH's 12(5,7)(2)-12(4,8)(2) @ 234.00850070506945 GHz likely contaminated by 1 CH3OCHO lines\n"
     ]
    }
   ],
   "source": [
    "safelines=[]\n",
    "minimumcontaminantthreshold=0.1#If contaminant lines have more than this times the target line's flux, the target line is considered contaminated and removed\n",
    "firstline=True\n",
    "for targetline in targetmoltable:\n",
    "    flux=targetline['ModelBrightness']\n",
    "    reffreq=targetline['ReferenceFrequency']\n",
    "    qn=targetline['QNs']\n",
    "    if flux <= continuumlevel:\n",
    "        continue\n",
    "    else:\n",
    "        possiblecontaminants={}\n",
    "        for tablepath in othermoleculepaths:\n",
    "            othermolecule=tablepath.replace(f'{linemodelpath}','')\n",
    "            othermolecule=othermolecule.replace('.fits','')\n",
    "            \n",
    "            othermoltable=QTable.read(tablepath)\n",
    "            fwhm_Hz=velocitytofreq(fwhm_at_pix,reffreq)\n",
    "            diff=np.abs(othermoltable['ReferenceFrequency']-reffreq)\n",
    "            findcontam=np.where(diff<=fwhm_Hz)[0]\n",
    "            if len(findcontam) > 0:\n",
    "                candidate_contaminant_lines=othermoltable[findcontam]\n",
    "                numcontaminants=len(candidate_contaminant_lines)\n",
    "                if numcontaminants > 1:\n",
    "                    contaminantflux=np.sum(candidate_contaminant_lines['ModelBrightness'])\n",
    "                elif numcontaminants == 1:\n",
    "                    contaminantflux=candidate_contaminant_lines['ModelBrightness']\n",
    "                if contaminantflux >= (flux*minimumcontaminantthreshold):\n",
    "                    print(f'{targetmolecule}\\'s {qn} @ {reffreq} likely contaminated by {numcontaminants} {othermolecule} lines')\n",
    "                    possiblecontaminants.update({othermolecule:candidate_contaminant_lines})\n",
    "        if len(possiblecontaminants) == 0:\n",
    "            if firstline:\n",
    "                safelines=QTable(targetline)\n",
    "                firstline=False\n",
    "            else:\n",
    "                safelines.add_row(targetline)"
   ]
  },
  {
   "cell_type": "code",
   "execution_count": 3,
   "id": "3f78ec3c-0d84-4ce8-ad50-582cc783a48d",
   "metadata": {},
   "outputs": [
    {
     "name": "stdout",
     "output_type": "stream",
     "text": [
      "C2H5OH has no doublets\n"
     ]
    },
    {
     "name": "stderr",
     "output_type": "stream",
     "text": [
      "Calling nonzero on 0d arrays is deprecated, as it behaves surprisingly. Use `atleast_1d(cond).nonzero()` if the old behavior was intended. If the context of this warning is of the form `arr[nonzero(cond)]`, just use `arr[cond]`.\n"
     ]
    }
   ],
   "source": [
    "doublets=[]\n",
    "for targetline in safelines:\n",
    "    flux=targetline['ModelBrightness']\n",
    "    reffreq=targetline['ReferenceFrequency']\n",
    "    qn=targetline['QNs']\n",
    "    fwhm_Hz=velocitytofreq(fwhm_at_pix,reffreq)\n",
    "    diff=np.abs(targetline['ReferenceFrequency']-reffreq)\n",
    "    findcontam=np.where(diff<=fwhm_Hz)[0]\n",
    "    if len(findcontam) > 1:\n",
    "        print(f'{qn} has {len(findcontam)} companion lines')\n",
    "        doublets.append(safelines[findcontam])\n",
    "if len(doublets) == 0:\n",
    "    print(f'{targetmolecule} has no doublets')"
   ]
  },
  {
   "cell_type": "code",
   "execution_count": 4,
   "id": "15977b7e-3045-439e-b717-e6653fdc49b7",
   "metadata": {},
   "outputs": [
    {
     "data": {
      "text/latex": [
       "$4.9083508 \\; \\mathrm{MHz}$"
      ],
      "text/plain": [
       "<Quantity 4.90835077 MHz>"
      ]
     },
     "execution_count": 4,
     "metadata": {},
     "output_type": "execute_result"
    }
   ],
   "source": [
    "fwhm_Hz"
   ]
  },
  {
   "cell_type": "code",
   "execution_count": 5,
   "id": "10047cfc-236a-49a4-87ea-77c99071e606",
   "metadata": {},
   "outputs": [],
   "source": [
    "safelinepathbase=linemodelpath+'safelines/'\n",
    "safelinepath=safelinepathbase+f'{targetmolecule}.fits'\n",
    "if not os.path.exists(safelinepath):\n",
    "    os.mkdir(safelinepathbase)\n",
    "safelines.write(safelinepath)"
   ]
  },
  {
   "cell_type": "code",
   "execution_count": 6,
   "id": "51aa0e3a-db5d-4722-b9e8-331692826e98",
   "metadata": {},
   "outputs": [
    {
     "data": {
      "text/html": [
       "<div><i>QTable length=16</i>\n",
       "<table id=\"table23140298882224\" class=\"table-striped table-bordered table-condensed\">\n",
       "<thead><tr><th>QNs</th><th>RestFrequency</th><th>ReferenceFrequency</th><th>Eupper</th><th>Degeneracy</th><th>Aij</th><th>ModelBrightness</th><th>ModelNupper</th></tr></thead>\n",
       "<thead><tr><th></th><th>GHz</th><th>GHz</th><th>K</th><th></th><th>Hz</th><th>K</th><th>1 / cm2</th></tr></thead>\n",
       "<thead><tr><th>bytes25</th><th>float64</th><th>float64</th><th>float64</th><th>int64</th><th>float64</th><th>float64</th><th>float64</th></tr></thead>\n",
       "<tr><td>21(5,16)(2)-21(4,17)(2)</td><td>218.5545074</td><td>218.51468258955057</td><td>226.01385361044416</td><td>43</td><td>7.18477867162649e-05</td><td>24.487710620483377</td><td>303410550089506.9</td></tr>\n",
       "<tr><td>35(4,31)(2)-35(3,32)(2)</td><td>218.9432887</td><td>218.90339304616344</td><td>559.6887547607863</td><td>71</td><td>7.382877809861699e-05</td><td>18.07170580526624</td><td>216819483177813.22</td></tr>\n",
       "<tr><td>13(2,11)(0)-12(2,10)(0)</td><td>230.6725581</td><td>230.63052514899155</td><td>138.6199773674354</td><td>27</td><td>0.00010602668351003007</td><td>25.33782430604667</td><td>237240956068412.0</td></tr>\n",
       "<tr><td>16(5,11)(2)-16(4,12)(2)</td><td>230.9537832</td><td>230.91169900440076</td><td>145.77872777262775</td><td>33</td><td>7.765111093374898e-05</td><td>22.312749757235842</td><td>284797679681723.7</td></tr>\n",
       "<tr><td>14(0,14)(2)-13(1,13)(2)</td><td>230.9913834</td><td>230.9492923529253</td><td>85.52671483307333</td><td>29</td><td>0.00011962150933731016</td><td>34.54872178079723</td><td>291137534987727.8</td></tr>\n",
       "<tr><td>41(5,36)(2)-41(4,37)(2)</td><td>230.9966489</td><td>230.95455689345053</td><td>767.3782930658575</td><td>83</td><td>9.578999680115902e-05</td><td>14.687355768419451</td><td>150496397648614.94</td></tr>\n",
       "<tr><td>21(5,17)(2)-21(4,18)(2)</td><td>231.5585678</td><td>231.51637340108192</td><td>225.95122187481488</td><td>43</td><td>8.357364920231331e-05</td><td>25.35111441741706</td><td>303458250410051.2</td></tr>\n",
       "<tr><td>20(5,16)(2)-20(4,17)(2)</td><td>231.5609215</td><td>231.51872667219277</td><td>208.21222307878986</td><td>41</td><td>8.265677678007207e-05</td><td>25.006365380615577</td><td>302517667473578.6</td></tr>\n",
       "<tr><td>14(1,14)(0)-13(1,13)(0)</td><td>231.6687419</td><td>231.62652742525418</td><td>141.90345196927348</td><td>29</td><td>0.00011080795735279709</td><td>27.87110501527655</td><td>252722988407588.78</td></tr>\n",
       "<tr><td>18(5,14)(2)-18(4,15)(2)</td><td>232.0346421</td><td>231.99236095124095</td><td>175.29099616228942</td><td>37</td><td>8.103511314514348e-05</td><td>23.965267552573742</td><td>296520270750086.8</td></tr>\n",
       "<tr><td>23(5,19)(2)-23(4,20)(2)</td><td>232.3185139</td><td>232.2761810243708</td><td>263.9880929132633</td><td>47</td><td>8.586187695243426e-05</td><td>25.69507483603625</td><td>301485387517888.44</td></tr>\n",
       "<tr><td>17(5,13)(2)-17(4,14)(2)</td><td>232.404841</td><td>232.36249239392245</td><td>160.10750968577526</td><td>35</td><td>8.022430742000472e-05</td><td>23.2625534496799</td><td>291387867417196.9</td></tr>\n",
       "<tr><td>14(0,14)(0)-13(0,13)(0)</td><td>232.491318</td><td>232.44895363615942</td><td>141.78595883844022</td><td>29</td><td>0.00011210149596845895</td><td>28.000741596317766</td><td>252797527362555.5</td></tr>\n",
       "<tr><td>14(5,9)(2)-14(4,10)(2)</td><td>232.92852580000002</td><td>232.886081768538</td><td>119.65582045282288</td><td>29</td><td>7.653770014383663e-05</td><td>20.341879202886318</td><td>267236499982417.0</td></tr>\n",
       "<tr><td>13(5,8)(2)-13(4,9)(2)</td><td>233.5710518</td><td>233.52849068801441</td><td>107.86681703330214</td><td>27</td><td>7.535588780793605e-05</td><td>19.13183016535305</td><td>256278481738126.28</td></tr>\n",
       "<tr><td>13(5,9)(2)-13(4,10)(2)</td><td>233.9512316</td><td>233.90860121198506</td><td>107.86621480892468</td><td>27</td><td>7.570234791786502e-05</td><td>19.156807627239864</td><td>256278869114240.53</td></tr>\n",
       "</table></div>"
      ],
      "text/plain": [
       "<QTable length=16>\n",
       "          QNs             RestFrequency    ...    ModelNupper    \n",
       "                               GHz         ...      1 / cm2      \n",
       "        bytes25              float64       ...      float64      \n",
       "----------------------- ------------------ ... ------------------\n",
       "21(5,16)(2)-21(4,17)(2)        218.5545074 ...  303410550089506.9\n",
       "35(4,31)(2)-35(3,32)(2)        218.9432887 ... 216819483177813.22\n",
       "13(2,11)(0)-12(2,10)(0)        230.6725581 ...  237240956068412.0\n",
       "16(5,11)(2)-16(4,12)(2)        230.9537832 ...  284797679681723.7\n",
       "14(0,14)(2)-13(1,13)(2)        230.9913834 ...  291137534987727.8\n",
       "41(5,36)(2)-41(4,37)(2)        230.9966489 ... 150496397648614.94\n",
       "21(5,17)(2)-21(4,18)(2)        231.5585678 ...  303458250410051.2\n",
       "20(5,16)(2)-20(4,17)(2)        231.5609215 ...  302517667473578.6\n",
       "14(1,14)(0)-13(1,13)(0)        231.6687419 ... 252722988407588.78\n",
       "18(5,14)(2)-18(4,15)(2)        232.0346421 ...  296520270750086.8\n",
       "23(5,19)(2)-23(4,20)(2)        232.3185139 ... 301485387517888.44\n",
       "17(5,13)(2)-17(4,14)(2)         232.404841 ...  291387867417196.9\n",
       "14(0,14)(0)-13(0,13)(0)         232.491318 ...  252797527362555.5\n",
       " 14(5,9)(2)-14(4,10)(2) 232.92852580000002 ...  267236499982417.0\n",
       "  13(5,8)(2)-13(4,9)(2)        233.5710518 ... 256278481738126.28\n",
       " 13(5,9)(2)-13(4,10)(2)        233.9512316 ... 256278869114240.53"
      ]
     },
     "execution_count": 6,
     "metadata": {},
     "output_type": "execute_result"
    }
   ],
   "source": [
    "safelines"
   ]
  },
  {
   "cell_type": "code",
   "execution_count": 48,
   "id": "605079a4-839d-4b41-a966-aa6bb7ba015c",
   "metadata": {},
   "outputs": [
    {
     "data": {
      "text/latex": [
       "$217.45611 \\; \\mathrm{GHz}$"
      ],
      "text/plain": [
       "<Quantity 217.45610974 GHz>"
      ]
     },
     "execution_count": 48,
     "metadata": {},
     "output_type": "execute_result"
    }
   ],
   "source": [
    "reffreq"
   ]
  },
  {
   "cell_type": "code",
   "execution_count": 43,
   "id": "18b30eca-d77d-432c-b4dd-c86494ef6bc9",
   "metadata": {},
   "outputs": [
    {
     "data": {
      "text/plain": [
       "MaskedNDArray(True)"
      ]
     },
     "execution_count": 43,
     "metadata": {},
     "output_type": "execute_result"
    }
   ],
   "source": []
  },
  {
   "cell_type": "code",
   "execution_count": null,
   "id": "894197f7-0ace-4344-bc86-ceb2ff52f03c",
   "metadata": {},
   "outputs": [],
   "source": []
  }
 ],
 "metadata": {
  "kernelspec": {
   "display_name": "py312",
   "language": "python",
   "name": "py312"
  },
  "language_info": {
   "codemirror_mode": {
    "name": "ipython",
    "version": 3
   },
   "file_extension": ".py",
   "mimetype": "text/x-python",
   "name": "python",
   "nbconvert_exporter": "python",
   "pygments_lexer": "ipython3",
   "version": "3.12.4"
  }
 },
 "nbformat": 4,
 "nbformat_minor": 5
}
