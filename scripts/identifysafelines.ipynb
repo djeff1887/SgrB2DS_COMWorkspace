{
 "cells": [
  {
   "cell_type": "code",
   "execution_count": 9,
   "id": "ecaaedac-7819-4b6f-89d1-46a17ce9d2df",
   "metadata": {},
   "outputs": [],
   "source": [
    "from utilities import *\n",
    "from astropy.io import fits\n",
    "from astropy.table import QTable,vstack\n",
    "import glob\n",
    "import radio_beam\n",
    "import sys\n",
    "\n",
    "source='DSVII'\n",
    "fnum=fields[source]\n",
    "\n",
    "linemodelhome='/blue/adamginsburg/d.jeff/SgrB2DS_COMAnalysis/linemodels/'\n",
    "linemodelversion='firstrelease'\n",
    "linemodelpath=linemodelhome+f'{linemodelversion}/{source}/'\n",
    "\n",
    "targetmolecule='C2H5OH'\n",
    "targetmoleculepath=linemodelpath+f'{targetmolecule}.fits'\n",
    "targetmoltable=QTable.read(targetmoleculepath)\n",
    "\n",
    "othermoleculepaths=glob.glob(linemodelpath+'*.fits')\n",
    "othermoleculepaths.remove(targetmoleculepath)\n",
    "\n",
    "ch3ohpath=ch3oh_sourcedict[source]\n",
    "targetpix=pixdict[source]\n",
    "origsourcepath=f'/blue/adamginsburg/d.jeff/SgrB2DSreorg/field{fnum}/CH3OH/{source}{ch3ohpath}'\n",
    "contpath=origsourcepath+'reprojectedcontinuum.fits'\n",
    "\n",
    "fwhmpath=glob.glob(origsourcepath+'*fwhm*')[0]\n",
    "fwhmmap=fits.getdata(fwhmpath)*u.km/u.s\n",
    "fwhm_at_pix=fwhmmap[targetpix[0],targetpix[1]]\n",
    "\n",
    "reprojcontfits=fits.open(contpath)\n",
    "reprojcont=reprojcontfits[0].data*u.Jy\n",
    "reprojcontrestfreq=225*u.GHz#manual addition 11/9/2022, wiggle room w/i GHz\n",
    "cntmbeam=radio_beam.Beam.from_fits_header(reprojcontfits[0].header)\n",
    "reprojcont_K=reprojcont.to('K',cntmbeam.jtok_equiv(reprojcontrestfreq))\n",
    "continuumlevel=reprojcont_K[targetpix[0],targetpix[1]]"
   ]
  },
  {
   "cell_type": "code",
   "execution_count": 10,
   "id": "de3ec2d2-0ab5-4c92-822b-fd91cfe53a8c",
   "metadata": {},
   "outputs": [
    {
     "name": "stdout",
     "output_type": "stream",
     "text": [
      "C2H5OH's 13(1,13)(1)-12(0,12)(1) @ 217.46241302023512 GHz likely contaminated by 3 CH2CHCN lines\n",
      "C2H5OH's 22(5,18)(2)-22(4,19)(2) @ 231.7535535374728 GHz likely contaminated by 1 CH3NCO lines\n",
      "C2H5OH's 22(5,18)(2)-22(4,19)(2) @ 231.7535535374728 GHz likely contaminated by 1 CH3OCH3 lines\n",
      "C2H5OH's 15(5,10)(2)-15(4,11)(2) @ 232.0392972302793 GHz likely contaminated by 1 13CH3CN lines\n",
      "C2H5OH's 24(5,20)(2)-24(4,21)(2) @ 233.1718153485218 GHz likely contaminated by 3 CH3CH2CN lines\n",
      "C2H5OH's 24(5,20)(2)-24(4,21)(2) @ 233.1718153485218 GHz likely contaminated by 1 CH3OCHO lines\n",
      "C2H5OH's 14(5,10)(2)-14(4,11)(2) @ 233.56476585529387 GHz likely contaminated by 2 CH3COCH3 lines\n"
     ]
    }
   ],
   "source": [
    "safelines=[]\n",
    "minimumcontaminantthreshold=0.1#If contaminant lines have more than this times the target line's flux, the target line is considered contaminated and removed\n",
    "firstline=True\n",
    "for targetline in targetmoltable:\n",
    "    flux=targetline['ModelBrightness']\n",
    "    reffreq=targetline['ReferenceFrequency']\n",
    "    qn=targetline['QNs']\n",
    "    if flux <= continuumlevel:\n",
    "        continue\n",
    "    else:\n",
    "        possiblecontaminants={}\n",
    "        for tablepath in othermoleculepaths:\n",
    "            othermolecule=tablepath.replace(f'{linemodelpath}','')\n",
    "            othermolecule=othermolecule.replace('.fits','')\n",
    "            \n",
    "            othermoltable=QTable.read(tablepath)\n",
    "            fwhm_Hz=velocitytofreq(fwhm_at_pix,reffreq)\n",
    "            diff=np.abs(othermoltable['ReferenceFrequency']-reffreq)\n",
    "            findcontam=np.where(diff<=fwhm_Hz)[0]\n",
    "            if len(findcontam) > 0:\n",
    "                candidate_contaminant_lines=othermoltable[findcontam]\n",
    "                numcontaminants=len(candidate_contaminant_lines)\n",
    "                if numcontaminants > 1:\n",
    "                    contaminantflux=np.sum(candidate_contaminant_lines['ModelBrightness'])\n",
    "                elif numcontaminants == 1:\n",
    "                    contaminantflux=candidate_contaminant_lines['ModelBrightness']\n",
    "                if contaminantflux >= (flux*minimumcontaminantthreshold):\n",
    "                    print(f'{targetmolecule}\\'s {qn} @ {reffreq} likely contaminated by {numcontaminants} {othermolecule} lines')\n",
    "                    possiblecontaminants.update({othermolecule:candidate_contaminant_lines})\n",
    "        if len(possiblecontaminants) == 0:\n",
    "            if firstline:\n",
    "                safelines=QTable(targetline)\n",
    "                firstline=False\n",
    "            else:\n",
    "                safelines.add_row(targetline)"
   ]
  },
  {
   "cell_type": "code",
   "execution_count": 12,
   "id": "3f78ec3c-0d84-4ce8-ad50-582cc783a48d",
   "metadata": {},
   "outputs": [
    {
     "name": "stdout",
     "output_type": "stream",
     "text": [
      "13(0,13)(1)-12(1,12)(1): [0]\n",
      "21(5,16)(2)-21(4,17)(2): [1]\n",
      "13(2,11)(0)-12(2,10)(0): [2]\n",
      "16(5,11)(2)-16(4,12)(2): [3]\n",
      "14(0,14)(2)-13(1,13)(2): [4]\n",
      "21(5,17)(2)-21(4,18)(2): [5 6]\n",
      "21(5,17)(2)-21(4,18)(2) has 1 companion lines\n",
      "20(5,16)(2)-20(4,17)(2): [5 6]\n",
      "20(5,16)(2)-20(4,17)(2) has 1 companion lines\n",
      "14(1,14)(0)-13(1,13)(0): [7]\n",
      "19(5,15)(2)-19(4,16)(2): [8]\n",
      "18(5,14)(2)-18(4,15)(2): [9]\n",
      "23(5,19)(2)-23(4,20)(2): [10]\n",
      "17(5,13)(2)-17(4,14)(2): [11]\n",
      "14(0,14)(0)-13(0,13)(0): [12]\n",
      "14(1,14)(1)-13(1,13)(1): [13]\n",
      "16(5,12)(2)-16(4,13)(2): [14]\n",
      "14(5,9)(2)-14(4,10)(2): [15]\n",
      "15(5,11)(2)-15(4,12)(2): [16]\n",
      "13(5,8)(2)-13(4,9)(2): [17]\n",
      "13(5,9)(2)-13(4,10)(2): [18]\n",
      "12(5,7)(2)-12(4,8)(2): [19]\n"
     ]
    }
   ],
   "source": [
    "#safelines=QTable()\n",
    "safelinepathbase=linemodelpath+'safelines/'\n",
    "for targetline in safelines:\n",
    "    doublets=QTable()\n",
    "    flux=targetline['ModelBrightness']\n",
    "    reffreq=targetline['ReferenceFrequency']\n",
    "    qn=targetline['QNs']\n",
    "    fwhm_Hz=velocitytofreq(fwhm_at_pix,reffreq)\n",
    "    diff=np.abs(safelines['ReferenceFrequency']-reffreq)\n",
    "    findcontam=np.where(diff<=fwhm_Hz)[0]\n",
    "    print(f'{targetline['QNs']}: {findcontam}')\n",
    "    if len(findcontam) > 1:\n",
    "        print(f'{qn} has {len(findcontam)-1} companion lines')\n",
    "        if len(doublets) == 0:\n",
    "            doublets=vstack([doublets,QTable(safelines[findcontam])])\n",
    "        elif qn not in doublets['QNs']:\n",
    "            doublets=vstack([doublets,QTable(safelines[findcontam])])\n",
    "    #safelines=vstack([safelines,QTable(targetline)])\n",
    "\n",
    "    doubletdirectory=safelinepathbase+'doublets'\n",
    "    if os.path.exists(doubletdirectory) == False and len(doublets) > 0:\n",
    "        os.mkdir(doubletdirectory)\n",
    "        doubletspath=doubletdirectory+f'/{qn}.fits'\n",
    "        doublets.write(doubletspath)\n",
    "    elif len(doublets) > 0:\n",
    "        doubletspath=doubletdirectory+f'/{qn}.fits'\n",
    "        doublets.write(doubletspath,overwrite=True)\n",
    "if os.path.exists(doubletdirectory) == False:\n",
    "    print(f'{targetmolecule} has no doublets')"
   ]
  },
  {
   "cell_type": "code",
   "execution_count": 19,
   "id": "da1d54a2-f831-43ea-a80d-e11038797ca8",
   "metadata": {},
   "outputs": [
    {
     "data": {
      "text/html": [
       "<div><i>QTable length=18</i>\n",
       "<table id=\"table22845425310256\" class=\"table-striped table-bordered table-condensed\">\n",
       "<thead><tr><th>QNs</th><th>RestFrequency</th><th>ReferenceFrequency</th><th>Eupper</th><th>Degeneracy</th><th>Aij</th><th>ModelBrightness</th><th>ModelNupper</th></tr></thead>\n",
       "<thead><tr><th></th><th>GHz</th><th>GHz</th><th>K</th><th></th><th>Hz</th><th>K</th><th>1 / cm2</th></tr></thead>\n",
       "<thead><tr><th>bytes24</th><th>float64</th><th>float64</th><th>float64</th><th>int64</th><th>float64</th><th>float64</th><th>float64</th></tr></thead>\n",
       "<tr><td>13(0,13)(1)-12(1,12)(1)</td><td>217.26230230000002</td><td>217.22685062104068</td><td>135.54154448503328</td><td>27</td><td>6.272140276018215e-05</td><td>12.714280617349196</td><td>106946490947998.53</td></tr>\n",
       "<tr><td>21(5,16)(2)-21(4,17)(2)</td><td>218.5545074</td><td>218.51884486605172</td><td>226.01385361044416</td><td>43</td><td>7.18477867162649e-05</td><td>15.047162319634566</td><td>112459870588564.12</td></tr>\n",
       "<tr><td>13(2,11)(0)-12(2,10)(0)</td><td>230.6725581</td><td>230.63491820855123</td><td>138.6199773674354</td><td>27</td><td>0.00010602668351003007</td><td>18.529146136816323</td><td>105446581329916.16</td></tr>\n",
       "<tr><td>16(5,11)(2)-16(4,12)(2)</td><td>230.9537832</td><td>230.91609741977138</td><td>145.77872777262775</td><td>33</td><td>7.765111093374898e-05</td><td>16.109188998807404</td><td>124714879149827.9</td></tr>\n",
       "<tr><td>14(0,14)(2)-13(1,13)(2)</td><td>230.9913834</td><td>230.95369148437555</td><td>85.52671483307333</td><td>29</td><td>0.00011962150933731016</td><td>27.88302512897736</td><td>144497225766071.06</td></tr>\n",
       "<tr><td>21(5,17)(2)-21(4,18)(2)</td><td>231.5585678</td><td>231.52078333431487</td><td>225.95122187481488</td><td>43</td><td>8.357364920231331e-05</td><td>15.577934735046808</td><td>112492191730495.92</td></tr>\n",
       "<tr><td>20(5,16)(2)-20(4,17)(2)</td><td>231.5609215</td><td>231.52313665025093</td><td>208.21222307878986</td><td>41</td><td>8.265677678007207e-05</td><td>15.92196659063019</td><td>116354777484665.55</td></tr>\n",
       "<tr><td>14(1,14)(0)-13(1,13)(0)</td><td>231.6687419</td><td>231.63093945670542</td><td>141.90345196927348</td><td>29</td><td>0.00011080795735279709</td><td>20.22481228384486</td><td>111564016120728.23</td></tr>\n",
       "<tr><td>18(5,14)(2)-18(4,15)(2)</td><td>232.0346421</td><td>231.996779951104</td><td>175.29099616228942</td><td>37</td><td>8.103511314514348e-05</td><td>16.301211587852393</td><td>122123822265509.69</td></tr>\n",
       "<tr><td>23(5,19)(2)-23(4,20)(2)</td><td>232.3185139</td><td>232.28060543045007</td><td>263.9880929132633</td><td>47</td><td>8.586187695243426e-05</td><td>14.630730867924482</td><td>103266659910913.64</td></tr>\n",
       "<tr><td>17(5,13)(2)-17(4,14)(2)</td><td>232.404841</td><td>232.36691844406414</td><td>160.10750968577526</td><td>35</td><td>8.022430742000472e-05</td><td>16.314558937113237</td><td>123857148413552.42</td></tr>\n",
       "<tr><td>14(0,14)(0)-13(0,13)(0)</td><td>232.491318</td><td>232.45338133321837</td><td>141.78595883844022</td><td>29</td><td>0.00011210149596845895</td><td>20.32237650708452</td><td>111624173089982.38</td></tr>\n",
       "<tr><td>14(1,14)(1)-13(1,13)(1)</td><td>232.5965682</td><td>232.55861435906408</td><td>146.53638394875688</td><td>29</td><td>8.072001561517091e-05</td><td>14.516614284327256</td><td>109217601498122.61</td></tr>\n",
       "<tr><td>16(5,12)(2)-16(4,13)(2)</td><td>232.8088625</td><td>232.77087401803666</td><td>145.7742370404007</td><td>33</td><td>7.933243057115109e-05</td><td>16.19388105973974</td><td>124717448789171.66</td></tr>\n",
       "<tr><td>14(5,9)(2)-14(4,10)(2)</td><td>232.92852580000002</td><td>232.89051779203123</td><td>119.65582045282288</td><td>29</td><td>7.653770014383663e-05</td><td>15.48909698973584</td><td>123553316752521.47</td></tr>\n",
       "<tr><td>13(5,8)(2)-13(4,9)(2)</td><td>233.5710518</td><td>233.53293894813868</td><td>107.86681703330214</td><td>27</td><td>7.535588780793605e-05</td><td>14.926112191802485</td><td>121425737830216.94</td></tr>\n",
       "<tr><td>13(5,9)(2)-13(4,10)(2)</td><td>233.9512316</td><td>233.91305671246997</td><td>107.86621480892468</td><td>27</td><td>7.570234791786502e-05</td><td>14.945408950660964</td><td>121426073337499.53</td></tr>\n",
       "<tr><td>12(5,7)(2)-12(4,8)(2)</td><td>234.0511493</td><td>234.01295810844397</td><td>96.92436398510782</td><td>25</td><td>7.376920498857385e-05</td><td>14.193774560085094</td><td>118219944069034.42</td></tr>\n",
       "</table></div>"
      ],
      "text/plain": [
       "<QTable length=18>\n",
       "          QNs             RestFrequency    ...    ModelNupper    \n",
       "                               GHz         ...      1 / cm2      \n",
       "        bytes24              float64       ...      float64      \n",
       "----------------------- ------------------ ... ------------------\n",
       "13(0,13)(1)-12(1,12)(1) 217.26230230000002 ... 106946490947998.53\n",
       "21(5,16)(2)-21(4,17)(2)        218.5545074 ... 112459870588564.12\n",
       "13(2,11)(0)-12(2,10)(0)        230.6725581 ... 105446581329916.16\n",
       "16(5,11)(2)-16(4,12)(2)        230.9537832 ...  124714879149827.9\n",
       "14(0,14)(2)-13(1,13)(2)        230.9913834 ... 144497225766071.06\n",
       "21(5,17)(2)-21(4,18)(2)        231.5585678 ... 112492191730495.92\n",
       "20(5,16)(2)-20(4,17)(2)        231.5609215 ... 116354777484665.55\n",
       "14(1,14)(0)-13(1,13)(0)        231.6687419 ... 111564016120728.23\n",
       "18(5,14)(2)-18(4,15)(2)        232.0346421 ... 122123822265509.69\n",
       "23(5,19)(2)-23(4,20)(2)        232.3185139 ... 103266659910913.64\n",
       "17(5,13)(2)-17(4,14)(2)         232.404841 ... 123857148413552.42\n",
       "14(0,14)(0)-13(0,13)(0)         232.491318 ... 111624173089982.38\n",
       "14(1,14)(1)-13(1,13)(1)        232.5965682 ... 109217601498122.61\n",
       "16(5,12)(2)-16(4,13)(2)        232.8088625 ... 124717448789171.66\n",
       " 14(5,9)(2)-14(4,10)(2) 232.92852580000002 ... 123553316752521.47\n",
       "  13(5,8)(2)-13(4,9)(2)        233.5710518 ... 121425737830216.94\n",
       " 13(5,9)(2)-13(4,10)(2)        233.9512316 ... 121426073337499.53\n",
       "  12(5,7)(2)-12(4,8)(2)        234.0511493 ... 118219944069034.42"
      ]
     },
     "execution_count": 19,
     "metadata": {},
     "output_type": "execute_result"
    }
   ],
   "source": [
    "safelines"
   ]
  },
  {
   "cell_type": "code",
   "execution_count": 7,
   "id": "1701f7b2-a4e7-4a21-9db5-76874aaa2d0a",
   "metadata": {},
   "outputs": [
    {
     "data": {
      "text/html": [
       "<div><i>QTable length=2</i>\n",
       "<table id=\"table22475840057184\" class=\"table-striped table-bordered table-condensed\">\n",
       "<thead><tr><th>QNs</th><th>RestFrequency</th><th>ReferenceFrequency</th><th>Eupper</th><th>Degeneracy</th><th>Aij</th><th>ModelBrightness</th><th>ModelNupper</th></tr></thead>\n",
       "<thead><tr><th></th><th>GHz</th><th>GHz</th><th>K</th><th></th><th>Hz</th><th>K</th><th>1 / cm2</th></tr></thead>\n",
       "<thead><tr><th>bytes24</th><th>float64</th><th>float64</th><th>float64</th><th>int64</th><th>float64</th><th>float64</th><th>float64</th></tr></thead>\n",
       "<tr><td>21(5,17)(2)-21(4,18)(2)</td><td>231.5585678</td><td>231.52078333431487</td><td>225.95122187481488</td><td>43</td><td>8.357364920231331e-05</td><td>15.577934735046808</td><td>112492191730495.92</td></tr>\n",
       "<tr><td>20(5,16)(2)-20(4,17)(2)</td><td>231.5609215</td><td>231.52313665025093</td><td>208.21222307878986</td><td>41</td><td>8.265677678007207e-05</td><td>15.92196659063019</td><td>116354777484665.55</td></tr>\n",
       "</table></div>"
      ],
      "text/plain": [
       "<QTable length=2>\n",
       "          QNs           RestFrequency ...  ModelBrightness      ModelNupper    \n",
       "                             GHz      ...         K               1 / cm2      \n",
       "        bytes24            float64    ...      float64            float64      \n",
       "----------------------- ------------- ... ------------------ ------------------\n",
       "21(5,17)(2)-21(4,18)(2)   231.5585678 ... 15.577934735046808 112492191730495.92\n",
       "20(5,16)(2)-20(4,17)(2)   231.5609215 ...  15.92196659063019 116354777484665.55"
      ]
     },
     "execution_count": 7,
     "metadata": {},
     "output_type": "execute_result"
    }
   ],
   "source": [
    "doublets"
   ]
  },
  {
   "cell_type": "code",
   "execution_count": 4,
   "id": "15977b7e-3045-439e-b717-e6653fdc49b7",
   "metadata": {},
   "outputs": [
    {
     "data": {
      "text/latex": [
       "$3.1412864 \\; \\mathrm{MHz}$"
      ],
      "text/plain": [
       "<Quantity 3.14128644 MHz>"
      ]
     },
     "execution_count": 4,
     "metadata": {},
     "output_type": "execute_result"
    }
   ],
   "source": [
    "fwhm_Hz"
   ]
  },
  {
   "cell_type": "code",
   "execution_count": 13,
   "id": "10047cfc-236a-49a4-87ea-77c99071e606",
   "metadata": {},
   "outputs": [],
   "source": [
    "safelinepath=safelinepathbase+f'{targetmolecule}.fits'\n",
    "if not os.path.exists(safelinepath):\n",
    "    os.mkdir(safelinepathbase)\n",
    "safelines.write(safelinepath)#,overwrite=True)"
   ]
  },
  {
   "cell_type": "code",
   "execution_count": 14,
   "id": "51aa0e3a-db5d-4722-b9e8-331692826e98",
   "metadata": {},
   "outputs": [
    {
     "data": {
      "text/html": [
       "<div><i>QTable length=20</i>\n",
       "<table id=\"table22983698299504\" class=\"table-striped table-bordered table-condensed\">\n",
       "<thead><tr><th>QNs</th><th>RestFrequency</th><th>ReferenceFrequency</th><th>Eupper</th><th>Degeneracy</th><th>Aij</th><th>ModelBrightness</th><th>ModelNupper</th></tr></thead>\n",
       "<thead><tr><th></th><th>GHz</th><th>GHz</th><th>K</th><th></th><th>Hz</th><th>K</th><th>1 / cm2</th></tr></thead>\n",
       "<thead><tr><th>bytes24</th><th>float64</th><th>float64</th><th>float64</th><th>int64</th><th>float64</th><th>float64</th><th>float64</th></tr></thead>\n",
       "<tr><td>13(0,13)(1)-12(1,12)(1)</td><td>217.26230230000002</td><td>217.22808692869543</td><td>135.54154448503328</td><td>27</td><td>6.272140276018215e-05</td><td>12.714210465445003</td><td>106946490947998.53</td></tr>\n",
       "<tr><td>21(5,16)(2)-21(4,17)(2)</td><td>218.5545074</td><td>218.52008852685998</td><td>226.01385361044416</td><td>43</td><td>7.18477867162649e-05</td><td>15.047079787784515</td><td>112459870588564.12</td></tr>\n",
       "<tr><td>13(2,11)(0)-12(2,10)(0)</td><td>230.6725581</td><td>230.63623082581753</td><td>138.6199773674354</td><td>27</td><td>0.00010602668351003007</td><td>18.52904542476179</td><td>105446581329916.16</td></tr>\n",
       "<tr><td>16(5,11)(2)-16(4,12)(2)</td><td>230.9537832</td><td>230.91741163731874</td><td>145.77872777262775</td><td>33</td><td>7.765111093374898e-05</td><td>16.1091008872317</td><td>124714879149827.9</td></tr>\n",
       "<tr><td>14(0,14)(2)-13(1,13)(2)</td><td>230.9913834</td><td>230.9550059158828</td><td>85.52671483307333</td><td>29</td><td>0.00011962150933731016</td><td>27.88287735035063</td><td>144497225766071.06</td></tr>\n",
       "<tr><td>21(5,17)(2)-21(4,18)(2)</td><td>231.5585678</td><td>231.52210099332368</td><td>225.95122187481488</td><td>43</td><td>8.357364920231331e-05</td><td>15.57784941265251</td><td>112492191730495.92</td></tr>\n",
       "<tr><td>20(5,16)(2)-20(4,17)(2)</td><td>231.5609215</td><td>231.52445432265318</td><td>208.21222307878986</td><td>41</td><td>8.265677678007207e-05</td><td>15.921879461215342</td><td>116354777484665.55</td></tr>\n",
       "<tr><td>14(1,14)(0)-13(1,13)(0)</td><td>231.6687419</td><td>231.63225774264802</td><td>141.90345196927348</td><td>29</td><td>0.00011080795735279709</td><td>20.22470284564705</td><td>111564016120728.23</td></tr>\n",
       "<tr><td>19(5,15)(2)-19(4,16)(2)</td><td>231.7376214</td><td>231.70112639521778</td><td>191.3257219747236</td><td>39</td><td>8.184216342761818e-05</td><td>16.169232310276616</td><td>119594921383678.92</td></tr>\n",
       "<tr><td>18(5,14)(2)-18(4,15)(2)</td><td>232.0346421</td><td>231.99810031916215</td><td>175.29099616228942</td><td>37</td><td>8.103511314514348e-05</td><td>16.301122470611485</td><td>122123822265509.69</td></tr>\n",
       "<tr><td>23(5,19)(2)-23(4,20)(2)</td><td>232.3185139</td><td>232.28192741385</td><td>263.9880929132633</td><td>47</td><td>8.586187695243426e-05</td><td>14.630650538606327</td><td>103266659910913.64</td></tr>\n",
       "<tr><td>17(5,13)(2)-17(4,14)(2)</td><td>232.404841</td><td>232.36824091869914</td><td>160.10750968577526</td><td>35</td><td>8.022430742000472e-05</td><td>16.31446975011956</td><td>123857148413552.42</td></tr>\n",
       "<tr><td>14(0,14)(0)-13(0,13)(0)</td><td>232.491318</td><td>232.4547042999414</td><td>141.78595883844022</td><td>29</td><td>0.00011210149596845895</td><td>20.322266569845997</td><td>111624173089982.38</td></tr>\n",
       "<tr><td>14(1,14)(1)-13(1,13)(1)</td><td>232.5965682</td><td>232.55993792470198</td><td>146.53638394875688</td><td>29</td><td>8.072001561517091e-05</td><td>14.516534558358556</td><td>109217601498122.61</td></tr>\n",
       "<tr><td>16(5,12)(2)-16(4,13)(2)</td><td>232.8088625</td><td>232.77219879171236</td><td>145.7742370404007</td><td>33</td><td>7.933243057115109e-05</td><td>16.193792504983126</td><td>124717448789171.66</td></tr>\n",
       "<tr><td>14(5,9)(2)-14(4,10)(2)</td><td>232.92852580000002</td><td>232.89184324663802</td><td>119.65582045282288</td><td>29</td><td>7.653770014383663e-05</td><td>15.489012134974876</td><td>123553316752521.47</td></tr>\n",
       "<tr><td>15(5,11)(2)-15(4,12)(2)</td><td>233.21550140000002</td><td>233.17877365252653</td><td>132.29025612351714</td><td>31</td><td>7.83297311576416e-05</td><td>15.933463288691382</td><td>124635836651866.55</td></tr>\n",
       "<tr><td>13(5,8)(2)-13(4,9)(2)</td><td>233.5710518</td><td>233.5342680589702</td><td>107.86681703330214</td><td>27</td><td>7.535588780793605e-05</td><td>14.92603030310589</td><td>121425737830216.94</td></tr>\n",
       "<tr><td>13(5,9)(2)-13(4,10)(2)</td><td>233.9512316</td><td>233.91438798667357</td><td>107.86621480892468</td><td>27</td><td>7.570234791786502e-05</td><td>14.945326960274425</td><td>121426073337499.53</td></tr>\n",
       "<tr><td>12(5,7)(2)-12(4,8)(2)</td><td>234.0511493</td><td>234.01428995121844</td><td>96.92436398510782</td><td>25</td><td>7.376920498857385e-05</td><td>14.193696543215593</td><td>118219944069034.42</td></tr>\n",
       "</table></div>"
      ],
      "text/plain": [
       "<QTable length=20>\n",
       "          QNs             RestFrequency    ...    ModelNupper    \n",
       "                               GHz         ...      1 / cm2      \n",
       "        bytes24              float64       ...      float64      \n",
       "----------------------- ------------------ ... ------------------\n",
       "13(0,13)(1)-12(1,12)(1) 217.26230230000002 ... 106946490947998.53\n",
       "21(5,16)(2)-21(4,17)(2)        218.5545074 ... 112459870588564.12\n",
       "13(2,11)(0)-12(2,10)(0)        230.6725581 ... 105446581329916.16\n",
       "16(5,11)(2)-16(4,12)(2)        230.9537832 ...  124714879149827.9\n",
       "14(0,14)(2)-13(1,13)(2)        230.9913834 ... 144497225766071.06\n",
       "21(5,17)(2)-21(4,18)(2)        231.5585678 ... 112492191730495.92\n",
       "20(5,16)(2)-20(4,17)(2)        231.5609215 ... 116354777484665.55\n",
       "14(1,14)(0)-13(1,13)(0)        231.6687419 ... 111564016120728.23\n",
       "19(5,15)(2)-19(4,16)(2)        231.7376214 ... 119594921383678.92\n",
       "18(5,14)(2)-18(4,15)(2)        232.0346421 ... 122123822265509.69\n",
       "23(5,19)(2)-23(4,20)(2)        232.3185139 ... 103266659910913.64\n",
       "17(5,13)(2)-17(4,14)(2)         232.404841 ... 123857148413552.42\n",
       "14(0,14)(0)-13(0,13)(0)         232.491318 ... 111624173089982.38\n",
       "14(1,14)(1)-13(1,13)(1)        232.5965682 ... 109217601498122.61\n",
       "16(5,12)(2)-16(4,13)(2)        232.8088625 ... 124717448789171.66\n",
       " 14(5,9)(2)-14(4,10)(2) 232.92852580000002 ... 123553316752521.47\n",
       "15(5,11)(2)-15(4,12)(2) 233.21550140000002 ... 124635836651866.55\n",
       "  13(5,8)(2)-13(4,9)(2)        233.5710518 ... 121425737830216.94\n",
       " 13(5,9)(2)-13(4,10)(2)        233.9512316 ... 121426073337499.53\n",
       "  12(5,7)(2)-12(4,8)(2)        234.0511493 ... 118219944069034.42"
      ]
     },
     "execution_count": 14,
     "metadata": {},
     "output_type": "execute_result"
    }
   ],
   "source": [
    "safelines"
   ]
  },
  {
   "cell_type": "code",
   "execution_count": 8,
   "id": "605079a4-839d-4b41-a966-aa6bb7ba015c",
   "metadata": {},
   "outputs": [
    {
     "data": {
      "text/latex": [
       "$47.22768 \\; \\mathrm{\\frac{km}{s}}$"
      ],
      "text/plain": [
       "<Quantity 47.22768036 km / s>"
      ]
     },
     "execution_count": 8,
     "metadata": {},
     "output_type": "execute_result"
    }
   ],
   "source": [
    "((230.9913834-230.955)/230.955)*c.to('km s-1')"
   ]
  },
  {
   "cell_type": "code",
   "execution_count": 5,
   "id": "18b30eca-d77d-432c-b4dd-c86494ef6bc9",
   "metadata": {},
   "outputs": [
    {
     "data": {
      "text/latex": [
       "$48.676484 \\; \\mathrm{\\frac{km}{s}}$"
      ],
      "text/plain": [
       "<Quantity 48.67648374 km / s>"
      ]
     },
     "execution_count": 5,
     "metadata": {},
     "output_type": "execute_result"
    }
   ],
   "source": [
    "0.00016236727257136008*c.to('km s-1')"
   ]
  },
  {
   "cell_type": "code",
   "execution_count": null,
   "id": "894197f7-0ace-4344-bc86-ceb2ff52f03c",
   "metadata": {},
   "outputs": [],
   "source": []
  }
 ],
 "metadata": {
  "kernelspec": {
   "display_name": "py312",
   "language": "python",
   "name": "py312"
  },
  "language_info": {
   "codemirror_mode": {
    "name": "ipython",
    "version": 3
   },
   "file_extension": ".py",
   "mimetype": "text/x-python",
   "name": "python",
   "nbconvert_exporter": "python",
   "pygments_lexer": "ipython3",
   "version": "3.12.4"
  }
 },
 "nbformat": 4,
 "nbformat_minor": 5
}
